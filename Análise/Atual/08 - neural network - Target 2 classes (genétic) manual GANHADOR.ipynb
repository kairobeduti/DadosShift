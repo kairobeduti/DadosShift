{
 "cells": [
  {
   "cell_type": "code",
   "execution_count": 18,
   "metadata": {},
   "outputs": [],
   "source": [
    "import pandas as pd\n",
    "import numpy as np\n",
    "import seaborn as sns\n",
    "import matplotlib.pyplot as plt\n",
    "import random\n",
    "\n",
    "from sklearn.preprocessing import MinMaxScaler\n",
    "from sklearn.model_selection import train_test_split\n",
    "\n",
    "import warnings\n",
    "warnings.filterwarnings('ignore')\n",
    "\n",
    "from imblearn.over_sampling import SMOTE\n",
    "from collections import Counter\n",
    "\n",
    "from keras.models import Sequential\n",
    "from keras.layers import Dense\n",
    "from sklearn.model_selection import train_test_split\n",
    "from keras.optimizers import Adam\n",
    "from keras.callbacks import EarlyStopping\n",
    "import time"
   ]
  },
  {
   "cell_type": "code",
   "execution_count": 19,
   "metadata": {},
   "outputs": [],
   "source": [
    "df = pd.read_pickle('BASE PREPARADA MODELO.pkl')"
   ]
  },
  {
   "cell_type": "code",
   "execution_count": 20,
   "metadata": {},
   "outputs": [
    {
     "name": "stdout",
     "output_type": "stream",
     "text": [
      "<class 'pandas.core.frame.DataFrame'>\n",
      "Int64Index: 19984 entries, 56 to 98373\n",
      "Columns: 201 entries, target to MEPP_y_1\n",
      "dtypes: float64(13), int8(188)\n",
      "memory usage: 5.7 MB\n"
     ]
    }
   ],
   "source": [
    "df.info()"
   ]
  },
  {
   "cell_type": "code",
   "execution_count": 21,
   "metadata": {},
   "outputs": [],
   "source": [
    "ratio = 0.30"
   ]
  },
  {
   "cell_type": "code",
   "execution_count": 22,
   "metadata": {},
   "outputs": [
    {
     "name": "stdout",
     "output_type": "stream",
     "text": [
      "Distribuição das classes: Counter({0: 16883, 1: 3101})\n"
     ]
    }
   ],
   "source": [
    "############### Com balanceamento com 3 classes###############\n",
    "\n",
    "#Creating X and y:\n",
    "X = df.drop(['target'], axis=1)\n",
    "y = df['target']\n",
    "#Data split into train and test:\n",
    "#X_train, X_test, y_train, y_test = train_test_split(X, y, test_size=ratio)\n",
    "print('Distribuição das classes:', Counter(y))"
   ]
  },
  {
   "cell_type": "code",
   "execution_count": 23,
   "metadata": {},
   "outputs": [
    {
     "name": "stdout",
     "output_type": "stream",
     "text": [
      "Distribuição das classes após oversampling: Counter({0: 16883, 1: 16883})\n"
     ]
    }
   ],
   "source": [
    "############### Com balanceamento com 3 classes###############\n",
    "\n",
    "# Cria objeto SMOTE\n",
    "smote = SMOTE(random_state=42)\n",
    "\n",
    "# Realiza oversampling das classes minoritárias\n",
    "X_resampled, y_resampled = smote.fit_resample(X, y)\n",
    "\n",
    "# Verifica distribuição das classes após oversampling\n",
    "print('Distribuição das classes após oversampling:', Counter(y_resampled))\n",
    "\n",
    "#Data split into train and test:\n",
    "X_train_re, X_test_re, y_train_re, y_test_re = train_test_split(X_resampled, y_resampled, test_size=ratio)"
   ]
  },
  {
   "cell_type": "code",
   "execution_count": 24,
   "metadata": {},
   "outputs": [],
   "source": [
    "num_hidden_layers =  3\n",
    "num_neurons =  64\n",
    "learning_rate = 0.001\n",
    "batch_size = 64\n",
    "epochs = 100"
   ]
  },
  {
   "cell_type": "code",
   "execution_count": 25,
   "metadata": {},
   "outputs": [
    {
     "name": "stdout",
     "output_type": "stream",
     "text": [
      "Epoch 1/100\n",
      "370/370 [==============================] - 2s 3ms/step - loss: 0.6046 - accuracy: 0.6658 - val_loss: 0.5578 - val_accuracy: 0.7038\n",
      "Epoch 2/100\n",
      "370/370 [==============================] - 1s 3ms/step - loss: 0.5394 - accuracy: 0.7207 - val_loss: 0.5196 - val_accuracy: 0.7480\n",
      "Epoch 3/100\n",
      "370/370 [==============================] - 1s 3ms/step - loss: 0.5059 - accuracy: 0.7486 - val_loss: 0.4991 - val_accuracy: 0.7537\n",
      "Epoch 4/100\n",
      "370/370 [==============================] - 1s 3ms/step - loss: 0.4762 - accuracy: 0.7664 - val_loss: 0.4750 - val_accuracy: 0.7655\n",
      "Epoch 5/100\n",
      "370/370 [==============================] - 1s 3ms/step - loss: 0.4584 - accuracy: 0.7781 - val_loss: 0.4630 - val_accuracy: 0.7733\n",
      "Epoch 6/100\n",
      "370/370 [==============================] - 1s 3ms/step - loss: 0.4405 - accuracy: 0.7872 - val_loss: 0.4526 - val_accuracy: 0.7862\n",
      "Epoch 7/100\n",
      "370/370 [==============================] - 1s 3ms/step - loss: 0.4284 - accuracy: 0.7967 - val_loss: 0.4465 - val_accuracy: 0.7848\n",
      "Epoch 8/100\n",
      "370/370 [==============================] - 1s 3ms/step - loss: 0.4173 - accuracy: 0.8010 - val_loss: 0.4389 - val_accuracy: 0.7944\n",
      "Epoch 9/100\n",
      "370/370 [==============================] - 2s 5ms/step - loss: 0.4068 - accuracy: 0.8087 - val_loss: 0.4206 - val_accuracy: 0.8048\n",
      "Epoch 10/100\n",
      "370/370 [==============================] - 2s 4ms/step - loss: 0.3975 - accuracy: 0.8123 - val_loss: 0.4253 - val_accuracy: 0.8026\n",
      "Epoch 11/100\n",
      "370/370 [==============================] - 2s 5ms/step - loss: 0.3875 - accuracy: 0.8183 - val_loss: 0.4163 - val_accuracy: 0.8063\n",
      "Epoch 12/100\n",
      "370/370 [==============================] - 2s 5ms/step - loss: 0.3844 - accuracy: 0.8222 - val_loss: 0.4059 - val_accuracy: 0.8146\n",
      "Epoch 13/100\n",
      "370/370 [==============================] - 1s 3ms/step - loss: 0.3743 - accuracy: 0.8266 - val_loss: 0.4126 - val_accuracy: 0.8145\n",
      "Epoch 14/100\n",
      "370/370 [==============================] - 1s 3ms/step - loss: 0.3680 - accuracy: 0.8309 - val_loss: 0.3996 - val_accuracy: 0.8187\n",
      "Epoch 15/100\n",
      "370/370 [==============================] - 1s 4ms/step - loss: 0.3606 - accuracy: 0.8354 - val_loss: 0.4062 - val_accuracy: 0.8190\n",
      "Epoch 16/100\n",
      "370/370 [==============================] - 1s 4ms/step - loss: 0.3580 - accuracy: 0.8362 - val_loss: 0.3992 - val_accuracy: 0.8249\n",
      "Epoch 17/100\n",
      "370/370 [==============================] - 1s 3ms/step - loss: 0.3542 - accuracy: 0.8381 - val_loss: 0.4008 - val_accuracy: 0.8249\n",
      "Epoch 18/100\n",
      "370/370 [==============================] - 1s 3ms/step - loss: 0.3485 - accuracy: 0.8417 - val_loss: 0.3889 - val_accuracy: 0.8289\n",
      "Epoch 19/100\n",
      "370/370 [==============================] - 1s 3ms/step - loss: 0.3446 - accuracy: 0.8451 - val_loss: 0.3896 - val_accuracy: 0.8319\n",
      "Epoch 20/100\n",
      "370/370 [==============================] - 1s 3ms/step - loss: 0.3393 - accuracy: 0.8463 - val_loss: 0.3857 - val_accuracy: 0.8379\n",
      "Epoch 21/100\n",
      "370/370 [==============================] - 1s 3ms/step - loss: 0.3312 - accuracy: 0.8542 - val_loss: 0.3884 - val_accuracy: 0.8316\n",
      "Epoch 22/100\n",
      "370/370 [==============================] - 1s 3ms/step - loss: 0.3292 - accuracy: 0.8528 - val_loss: 0.4009 - val_accuracy: 0.8265\n",
      "Epoch 23/100\n",
      "370/370 [==============================] - 1s 3ms/step - loss: 0.3263 - accuracy: 0.8564 - val_loss: 0.3782 - val_accuracy: 0.8395\n",
      "Epoch 24/100\n",
      "370/370 [==============================] - 1s 3ms/step - loss: 0.3190 - accuracy: 0.8578 - val_loss: 0.3801 - val_accuracy: 0.8410\n",
      "Epoch 25/100\n",
      "370/370 [==============================] - 2s 4ms/step - loss: 0.3199 - accuracy: 0.8593 - val_loss: 0.3800 - val_accuracy: 0.8417\n",
      "Epoch 26/100\n",
      "370/370 [==============================] - 1s 3ms/step - loss: 0.3138 - accuracy: 0.8621 - val_loss: 0.3791 - val_accuracy: 0.8404\n",
      "Epoch 27/100\n",
      "370/370 [==============================] - 1s 3ms/step - loss: 0.3084 - accuracy: 0.8636 - val_loss: 0.3718 - val_accuracy: 0.8439\n",
      "Epoch 28/100\n",
      "370/370 [==============================] - 1s 3ms/step - loss: 0.3121 - accuracy: 0.8612 - val_loss: 0.3710 - val_accuracy: 0.8523\n",
      "Epoch 29/100\n",
      "370/370 [==============================] - 1s 3ms/step - loss: 0.3025 - accuracy: 0.8670 - val_loss: 0.3659 - val_accuracy: 0.8468\n",
      "Epoch 30/100\n",
      "370/370 [==============================] - 1s 3ms/step - loss: 0.2988 - accuracy: 0.8708 - val_loss: 0.3701 - val_accuracy: 0.8514\n",
      "Epoch 31/100\n",
      "370/370 [==============================] - 1s 3ms/step - loss: 0.2998 - accuracy: 0.8691 - val_loss: 0.3738 - val_accuracy: 0.8496\n",
      "Epoch 32/100\n",
      "370/370 [==============================] - 1s 3ms/step - loss: 0.2957 - accuracy: 0.8716 - val_loss: 0.3828 - val_accuracy: 0.8480\n",
      "Epoch 33/100\n",
      "370/370 [==============================] - 1s 3ms/step - loss: 0.2980 - accuracy: 0.8707 - val_loss: 0.3871 - val_accuracy: 0.8467\n",
      "Epoch 34/100\n",
      "370/370 [==============================] - 1s 3ms/step - loss: 0.2908 - accuracy: 0.8737 - val_loss: 0.3566 - val_accuracy: 0.8590\n",
      "Epoch 35/100\n",
      "370/370 [==============================] - 1s 3ms/step - loss: 0.2875 - accuracy: 0.8758 - val_loss: 0.3643 - val_accuracy: 0.8593\n",
      "Epoch 36/100\n",
      "370/370 [==============================] - 1s 3ms/step - loss: 0.2822 - accuracy: 0.8765 - val_loss: 0.3814 - val_accuracy: 0.8398\n",
      "Epoch 37/100\n",
      "370/370 [==============================] - 1s 3ms/step - loss: 0.2838 - accuracy: 0.8771 - val_loss: 0.3740 - val_accuracy: 0.8521\n",
      "Epoch 38/100\n",
      "370/370 [==============================] - 1s 3ms/step - loss: 0.2833 - accuracy: 0.8764 - val_loss: 0.3790 - val_accuracy: 0.8495\n",
      "Epoch 39/100\n",
      "370/370 [==============================] - 2s 4ms/step - loss: 0.2764 - accuracy: 0.8812 - val_loss: 0.3611 - val_accuracy: 0.8589\n",
      "Epoch 40/100\n",
      "370/370 [==============================] - 1s 4ms/step - loss: 0.2738 - accuracy: 0.8826 - val_loss: 0.3630 - val_accuracy: 0.8637\n",
      "Epoch 41/100\n",
      "370/370 [==============================] - 1s 4ms/step - loss: 0.2734 - accuracy: 0.8837 - val_loss: 0.3648 - val_accuracy: 0.8632\n",
      "Epoch 42/100\n",
      "370/370 [==============================] - 1s 3ms/step - loss: 0.2713 - accuracy: 0.8836 - val_loss: 0.3598 - val_accuracy: 0.8624\n",
      "Epoch 43/100\n",
      "370/370 [==============================] - 1s 4ms/step - loss: 0.2664 - accuracy: 0.8858 - val_loss: 0.3607 - val_accuracy: 0.8666\n",
      "Epoch 44/100\n",
      "370/370 [==============================] - 1s 3ms/step - loss: 0.2670 - accuracy: 0.8860 - val_loss: 0.3722 - val_accuracy: 0.8576\n"
     ]
    }
   ],
   "source": [
    "# Build the neural network model\n",
    "model = Sequential()\n",
    "model.add(Dense(num_neurons, input_dim=X_train_re.shape[1], activation='relu'))\n",
    "for i in range(num_hidden_layers - 1):\n",
    "    model.add(Dense(num_neurons, activation='relu'))\n",
    "model.add(Dense(1, activation='sigmoid'))\n",
    "optimizer = Adam(lr=learning_rate)\n",
    "model.compile(loss='binary_crossentropy', optimizer=optimizer, metrics=['accuracy'])\n",
    "\n",
    "# Train the model and evaluate its performance on the validation set\n",
    "early_stopping = EarlyStopping(monitor='val_loss', patience=10)\n",
    "history = model.fit(X_train_re, y_train_re, batch_size=batch_size, epochs=epochs,\n",
    "                    validation_data=(X_test_re, y_test_re), callbacks=[early_stopping])\n",
    "val_loss = np.min(history.history['val_loss'])"
   ]
  },
  {
   "cell_type": "code",
   "execution_count": 26,
   "metadata": {},
   "outputs": [
    {
     "data": {
      "image/png": "[encoded data removed]",
      "text/plain": [
       "<Figure size 432x288 with 1 Axes>"
      ]
     },
     "metadata": {
      "needs_background": "light"
     },
     "output_type": "display_data"
    }
   ],
   "source": [
    "import matplotlib.pyplot as plt\n",
    "\n",
    "# plotar as curvas de aprendizado\n",
    "plt.plot(history.history['accuracy'])\n",
    "plt.plot(history.history['val_accuracy'])\n",
    "plt.title('Curvas de Aprendizado')\n",
    "plt.ylabel('Acurácia')\n",
    "plt.xlabel('Época')\n",
    "plt.legend(['Treinamento', 'Validação'], loc='upper left')\n",
    "plt.show()\n"
   ]
  },
  {
   "cell_type": "code",
   "execution_count": 27,
   "metadata": {},
   "outputs": [
    {
     "name": "stdout",
     "output_type": "stream",
     "text": [
      "317/317 [==============================] - 0s 1ms/step\n",
      "              precision    recall  f1-score   support\n",
      "\n",
      "           0       0.88      0.83      0.85      5020\n",
      "           1       0.84      0.89      0.86      5110\n",
      "\n",
      "    accuracy                           0.86     10130\n",
      "   macro avg       0.86      0.86      0.86     10130\n",
      "weighted avg       0.86      0.86      0.86     10130\n",
      "\n"
     ]
    }
   ],
   "source": [
    "# Printing out model metric reports\n",
    "from sklearn.metrics import classification_report, confusion_matrix\n",
    "y_pred = model.predict(X_test_re)\n",
    "y_pred_classes = (y_pred > 0.5).astype(int)\n",
    "print(classification_report(y_test_re, y_pred_classes))"
   ]
  },
  {
   "cell_type": "code",
   "execution_count": 28,
   "metadata": {},
   "outputs": [
    {
     "data": {
      "image/png": "[encoded data removed]",
      "text/plain": [
       "<Figure size 432x288 with 2 Axes>"
      ]
     },
     "metadata": {
      "needs_background": "light"
     },
     "output_type": "display_data"
    }
   ],
   "source": [
    "# gerar a matriz de confusão\n",
    "#cm = confusion_matrix(y_pred_classes, y_pred_classes)\n",
    "\n",
    "cm = confusion_matrix(y_test_re, y_pred_classes)\n",
    "# Plot confusion matrix\n",
    "sns.heatmap(cm, annot=True, cmap='Blues', fmt='g')\n",
    "plt.xlabel('Predicted')\n",
    "plt.ylabel('True')\n",
    "plt.show()"
   ]
  },
  {
   "cell_type": "code",
   "execution_count": 29,
   "metadata": {},
   "outputs": [
    {
     "ename": "ValueError",
     "evalue": "Data cardinality is ambiguous:\n  x sizes: 23636\n  y sizes: 10130\nMake sure all arrays contain the same number of samples.",
     "output_type": "error",
     "traceback": [
      "\u001b[1;31m---------------------------------------------------------------------------\u001b[0m",
      "\u001b[1;31mValueError\u001b[0m                                Traceback (most recent call last)",
      "\u001b[1;32mc:\\DadosShift_New\\DadosShift\\Análise\\Atual\\08 - neural network - Target 2 classes (genétic) manual GANHADOR.ipynb Cell 12\u001b[0m line \u001b[0;36m<cell line: 3>\u001b[1;34m()\u001b[0m\n\u001b[0;32m      <a href='vscode-notebook-cell:/c%3A/DadosShift_New/DadosShift/An%C3%A1lise/Atual/08%20-%20neural%20network%20-%20Target%202%20classes%20%28gen%C3%A9tic%29%20manual%20GANHADOR.ipynb#X13sZmlsZQ%3D%3D?line=0'>1</a>\u001b[0m \u001b[39m# avaliar a rede neural nos dados de treinamento e validação\u001b[39;00m\n\u001b[0;32m      <a href='vscode-notebook-cell:/c%3A/DadosShift_New/DadosShift/An%C3%A1lise/Atual/08%20-%20neural%20network%20-%20Target%202%20classes%20%28gen%C3%A9tic%29%20manual%20GANHADOR.ipynb#X13sZmlsZQ%3D%3D?line=1'>2</a>\u001b[0m train_scores \u001b[39m=\u001b[39m model\u001b[39m.\u001b[39mevaluate(X_train_re, y_train_re, verbose\u001b[39m=\u001b[39m\u001b[39m0\u001b[39m)\n\u001b[1;32m----> <a href='vscode-notebook-cell:/c%3A/DadosShift_New/DadosShift/An%C3%A1lise/Atual/08%20-%20neural%20network%20-%20Target%202%20classes%20%28gen%C3%A9tic%29%20manual%20GANHADOR.ipynb#X13sZmlsZQ%3D%3D?line=2'>3</a>\u001b[0m val_scores \u001b[39m=\u001b[39m model\u001b[39m.\u001b[39;49mevaluate(X_train_re, y_test_re, verbose\u001b[39m=\u001b[39;49m\u001b[39m0\u001b[39;49m)\n\u001b[0;32m      <a href='vscode-notebook-cell:/c%3A/DadosShift_New/DadosShift/An%C3%A1lise/Atual/08%20-%20neural%20network%20-%20Target%202%20classes%20%28gen%C3%A9tic%29%20manual%20GANHADOR.ipynb#X13sZmlsZQ%3D%3D?line=4'>5</a>\u001b[0m \u001b[39m# imprimir as métricas de avaliação\u001b[39;00m\n\u001b[0;32m      <a href='vscode-notebook-cell:/c%3A/DadosShift_New/DadosShift/An%C3%A1lise/Atual/08%20-%20neural%20network%20-%20Target%202%20classes%20%28gen%C3%A9tic%29%20manual%20GANHADOR.ipynb#X13sZmlsZQ%3D%3D?line=5'>6</a>\u001b[0m \u001b[39mprint\u001b[39m(\u001b[39m'\u001b[39m\u001b[39mAcurácia de Treinamento: \u001b[39m\u001b[39m%.2f\u001b[39;00m\u001b[39m%%\u001b[39;00m\u001b[39m'\u001b[39m \u001b[39m%\u001b[39m (train_scores[\u001b[39m1\u001b[39m]\u001b[39m*\u001b[39m\u001b[39m100\u001b[39m))\n",
      "File \u001b[1;32mc:\\Users\\kairo\\anaconda3\\envs\\AmbienteKairo\\lib\\site-packages\\keras\\utils\\traceback_utils.py:70\u001b[0m, in \u001b[0;36mfilter_traceback.<locals>.error_handler\u001b[1;34m(*args, **kwargs)\u001b[0m\n\u001b[0;32m     67\u001b[0m     filtered_tb \u001b[39m=\u001b[39m _process_traceback_frames(e\u001b[39m.\u001b[39m__traceback__)\n\u001b[0;32m     68\u001b[0m     \u001b[39m# To get the full stack trace, call:\u001b[39;00m\n\u001b[0;32m     69\u001b[0m     \u001b[39m# `tf.debugging.disable_traceback_filtering()`\u001b[39;00m\n\u001b[1;32m---> 70\u001b[0m     \u001b[39mraise\u001b[39;00m e\u001b[39m.\u001b[39mwith_traceback(filtered_tb) \u001b[39mfrom\u001b[39;00m \u001b[39mNone\u001b[39m\n\u001b[0;32m     71\u001b[0m \u001b[39mfinally\u001b[39;00m:\n\u001b[0;32m     72\u001b[0m     \u001b[39mdel\u001b[39;00m filtered_tb\n",
      "File \u001b[1;32mc:\\Users\\kairo\\anaconda3\\envs\\AmbienteKairo\\lib\\site-packages\\keras\\engine\\data_adapter.py:1852\u001b[0m, in \u001b[0;36m_check_data_cardinality\u001b[1;34m(data)\u001b[0m\n\u001b[0;32m   1845\u001b[0m     msg \u001b[39m+\u001b[39m\u001b[39m=\u001b[39m \u001b[39m\"\u001b[39m\u001b[39m  \u001b[39m\u001b[39m{}\u001b[39;00m\u001b[39m sizes: \u001b[39m\u001b[39m{}\u001b[39;00m\u001b[39m\\n\u001b[39;00m\u001b[39m\"\u001b[39m\u001b[39m.\u001b[39mformat(\n\u001b[0;32m   1846\u001b[0m         label,\n\u001b[0;32m   1847\u001b[0m         \u001b[39m\"\u001b[39m\u001b[39m, \u001b[39m\u001b[39m\"\u001b[39m\u001b[39m.\u001b[39mjoin(\n\u001b[0;32m   1848\u001b[0m             \u001b[39mstr\u001b[39m(i\u001b[39m.\u001b[39mshape[\u001b[39m0\u001b[39m]) \u001b[39mfor\u001b[39;00m i \u001b[39min\u001b[39;00m tf\u001b[39m.\u001b[39mnest\u001b[39m.\u001b[39mflatten(single_data)\n\u001b[0;32m   1849\u001b[0m         ),\n\u001b[0;32m   1850\u001b[0m     )\n\u001b[0;32m   1851\u001b[0m msg \u001b[39m+\u001b[39m\u001b[39m=\u001b[39m \u001b[39m\"\u001b[39m\u001b[39mMake sure all arrays contain the same number of samples.\u001b[39m\u001b[39m\"\u001b[39m\n\u001b[1;32m-> 1852\u001b[0m \u001b[39mraise\u001b[39;00m \u001b[39mValueError\u001b[39;00m(msg)\n",
      "\u001b[1;31mValueError\u001b[0m: Data cardinality is ambiguous:\n  x sizes: 23636\n  y sizes: 10130\nMake sure all arrays contain the same number of samples."
     ]
    }
   ],
   "source": [
    "# # avaliar a rede neural nos dados de treinamento e validação\n",
    "# train_scores = model.evaluate(X_train_re, y_train_re, verbose=0)\n",
    "# val_scores = model.evaluate(X_train_re, y_test_re, verbose=0)\n",
    "\n",
    "# # imprimir as métricas de avaliação\n",
    "# print('Acurácia de Treinamento: %.2f%%' % (train_scores[1]*100))\n",
    "# print('Acurácia de Validação: %.2f%%' % (val_scores[1]*100))"
   ]
  }
 ],
 "metadata": {
  "kernelspec": {
   "display_name": "AmbienteKairo",
   "language": "python",
   "name": "ambientekairo"
  },
  "language_info": {
   "codemirror_mode": {
    "name": "ipython",
    "version": 3
   },
   "file_extension": ".py",
   "mimetype": "text/x-python",
   "name": "python",
   "nbconvert_exporter": "python",
   "pygments_lexer": "ipython3",
   "version": "3.9.12"
  },
  "orig_nbformat": 4
 },
 "nbformat": 4,
 "nbformat_minor": 2
}
