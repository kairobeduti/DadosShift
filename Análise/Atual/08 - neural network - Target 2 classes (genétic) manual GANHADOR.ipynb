{
 "cells": [
  {
   "cell_type": "code",
   "execution_count": 56,
   "metadata": {},
   "outputs": [],
   "source": [
    "import pandas as pd\n",
    "import numpy as np\n",
    "import seaborn as sns\n",
    "import matplotlib.pyplot as plt\n",
    "import random\n",
    "\n",
    "from sklearn.preprocessing import MinMaxScaler\n",
    "from sklearn.model_selection import train_test_split\n",
    "\n",
    "import warnings\n",
    "warnings.filterwarnings('ignore')\n",
    "\n",
    "from imblearn.over_sampling import SMOTE\n",
    "from collections import Counter\n",
    "\n",
    "from keras.models import Sequential\n",
    "from keras.layers import Dense\n",
    "from sklearn.model_selection import train_test_split\n",
    "from keras.optimizers import Adam\n",
    "from keras.callbacks import EarlyStopping\n",
    "import time"
   ]
  },
  {
   "cell_type": "code",
   "execution_count": 57,
   "metadata": {},
   "outputs": [],
   "source": [
    "df = pd.read_pickle('BASE PREPARADA MODELO.pkl')"
   ]
  },
  {
   "cell_type": "code",
   "execution_count": 58,
   "metadata": {},
   "outputs": [
    {
     "name": "stdout",
     "output_type": "stream",
     "text": [
      "<class 'pandas.core.frame.DataFrame'>\n",
      "Int64Index: 19984 entries, 56 to 98373\n",
      "Columns: 201 entries, target to MEPP_y_1\n",
      "dtypes: float64(13), int8(188)\n",
      "memory usage: 5.7 MB\n"
     ]
    }
   ],
   "source": [
    "df.info()"
   ]
  },
  {
   "cell_type": "code",
   "execution_count": 59,
   "metadata": {},
   "outputs": [],
   "source": [
    "ratio = 0.30"
   ]
  },
  {
   "cell_type": "code",
   "execution_count": 60,
   "metadata": {},
   "outputs": [
    {
     "name": "stdout",
     "output_type": "stream",
     "text": [
      "Distribuição das classes após oversampling: Counter({0: 16883, 1: 16883})\n"
     ]
    }
   ],
   "source": [
    "############### Com balanceamento com 3 classes###############\n",
    "\n",
    "# Cria objeto SMOTE\n",
    "smote = SMOTE(random_state=42)\n",
    "\n",
    "# Realiza oversampling das classes minoritárias\n",
    "X_resampled, y_resampled = smote.fit_resample(X, y)\n",
    "\n",
    "# Verifica distribuição das classes após oversampling\n",
    "print('Distribuição das classes após oversampling:', Counter(y_resampled))\n",
    "\n",
    "#Data split into train and test:\n",
    "X_train_re, X_test_re, y_train_re, y_test_re = train_test_split(X_resampled, y_resampled, test_size=ratio)"
   ]
  },
  {
   "cell_type": "code",
   "execution_count": 61,
   "metadata": {},
   "outputs": [],
   "source": [
    "num_hidden_layers =  3\n",
    "num_neurons =  64\n",
    "learning_rate = 0.001\n",
    "batch_size = 64\n",
    "epochs = 100"
   ]
  },
  {
   "cell_type": "code",
   "execution_count": 62,
   "metadata": {},
   "outputs": [
    {
     "name": "stdout",
     "output_type": "stream",
     "text": [
      "Epoch 1/100\n",
      "370/370 [==============================] - 2s 4ms/step - loss: 0.6037 - accuracy: 0.6602 - val_loss: 0.5585 - val_accuracy: 0.7021\n",
      "Epoch 2/100\n",
      "370/370 [==============================] - 1s 3ms/step - loss: 0.5361 - accuracy: 0.7242 - val_loss: 0.5208 - val_accuracy: 0.7400\n",
      "Epoch 3/100\n",
      "370/370 [==============================] - 1s 3ms/step - loss: 0.5029 - accuracy: 0.7479 - val_loss: 0.4954 - val_accuracy: 0.7550\n",
      "Epoch 4/100\n",
      "370/370 [==============================] - 1s 3ms/step - loss: 0.4794 - accuracy: 0.7626 - val_loss: 0.4829 - val_accuracy: 0.7650\n",
      "Epoch 5/100\n",
      "370/370 [==============================] - 1s 2ms/step - loss: 0.4597 - accuracy: 0.7765 - val_loss: 0.4625 - val_accuracy: 0.7797\n",
      "Epoch 6/100\n",
      "370/370 [==============================] - 1s 2ms/step - loss: 0.4448 - accuracy: 0.7836 - val_loss: 0.4527 - val_accuracy: 0.7822\n",
      "Epoch 7/100\n",
      "370/370 [==============================] - 1s 3ms/step - loss: 0.4288 - accuracy: 0.7949 - val_loss: 0.4449 - val_accuracy: 0.7889\n",
      "Epoch 8/100\n",
      "370/370 [==============================] - 1s 3ms/step - loss: 0.4193 - accuracy: 0.7988 - val_loss: 0.4405 - val_accuracy: 0.7945\n",
      "Epoch 9/100\n",
      "370/370 [==============================] - 1s 3ms/step - loss: 0.4114 - accuracy: 0.8036 - val_loss: 0.4343 - val_accuracy: 0.7977\n",
      "Epoch 10/100\n",
      "370/370 [==============================] - 1s 4ms/step - loss: 0.3999 - accuracy: 0.8122 - val_loss: 0.4177 - val_accuracy: 0.8084\n",
      "Epoch 11/100\n",
      "370/370 [==============================] - 1s 3ms/step - loss: 0.3933 - accuracy: 0.8165 - val_loss: 0.4123 - val_accuracy: 0.8083\n",
      "Epoch 12/100\n",
      "370/370 [==============================] - 1s 3ms/step - loss: 0.3850 - accuracy: 0.8224 - val_loss: 0.4155 - val_accuracy: 0.8078\n",
      "Epoch 13/100\n",
      "370/370 [==============================] - 1s 4ms/step - loss: 0.3759 - accuracy: 0.8259 - val_loss: 0.4286 - val_accuracy: 0.8041\n",
      "Epoch 14/100\n",
      "370/370 [==============================] - 1s 4ms/step - loss: 0.3678 - accuracy: 0.8312 - val_loss: 0.4023 - val_accuracy: 0.8152\n",
      "Epoch 15/100\n",
      "370/370 [==============================] - 1s 3ms/step - loss: 0.3633 - accuracy: 0.8343 - val_loss: 0.3982 - val_accuracy: 0.8168\n",
      "Epoch 16/100\n",
      "370/370 [==============================] - 1s 3ms/step - loss: 0.3567 - accuracy: 0.8364 - val_loss: 0.3972 - val_accuracy: 0.8207\n",
      "Epoch 17/100\n",
      "370/370 [==============================] - 1s 4ms/step - loss: 0.3510 - accuracy: 0.8413 - val_loss: 0.4140 - val_accuracy: 0.8214\n",
      "Epoch 18/100\n",
      "370/370 [==============================] - 1s 3ms/step - loss: 0.3476 - accuracy: 0.8413 - val_loss: 0.3884 - val_accuracy: 0.8305\n",
      "Epoch 19/100\n",
      "370/370 [==============================] - 1s 3ms/step - loss: 0.3452 - accuracy: 0.8431 - val_loss: 0.4059 - val_accuracy: 0.8168\n",
      "Epoch 20/100\n",
      "370/370 [==============================] - 1s 4ms/step - loss: 0.3345 - accuracy: 0.8486 - val_loss: 0.3825 - val_accuracy: 0.8348\n",
      "Epoch 21/100\n",
      "370/370 [==============================] - 1s 3ms/step - loss: 0.3354 - accuracy: 0.8498 - val_loss: 0.3818 - val_accuracy: 0.8341\n",
      "Epoch 22/100\n",
      "370/370 [==============================] - 1s 3ms/step - loss: 0.3284 - accuracy: 0.8543 - val_loss: 0.3826 - val_accuracy: 0.8362\n",
      "Epoch 23/100\n",
      "370/370 [==============================] - 1s 3ms/step - loss: 0.3266 - accuracy: 0.8539 - val_loss: 0.3796 - val_accuracy: 0.8339\n",
      "Epoch 24/100\n",
      "370/370 [==============================] - 1s 3ms/step - loss: 0.3210 - accuracy: 0.8578 - val_loss: 0.3671 - val_accuracy: 0.8449\n",
      "Epoch 25/100\n",
      "370/370 [==============================] - 1s 3ms/step - loss: 0.3158 - accuracy: 0.8612 - val_loss: 0.3950 - val_accuracy: 0.8295\n",
      "Epoch 26/100\n",
      "370/370 [==============================] - 1s 3ms/step - loss: 0.3092 - accuracy: 0.8627 - val_loss: 0.3696 - val_accuracy: 0.8461\n",
      "Epoch 27/100\n",
      "370/370 [==============================] - 1s 3ms/step - loss: 0.3097 - accuracy: 0.8651 - val_loss: 0.3639 - val_accuracy: 0.8447\n",
      "Epoch 28/100\n",
      "370/370 [==============================] - 1s 3ms/step - loss: 0.3036 - accuracy: 0.8668 - val_loss: 0.3790 - val_accuracy: 0.8423\n",
      "Epoch 29/100\n",
      "370/370 [==============================] - 1s 2ms/step - loss: 0.2999 - accuracy: 0.8701 - val_loss: 0.3964 - val_accuracy: 0.8372\n",
      "Epoch 30/100\n",
      "370/370 [==============================] - 1s 2ms/step - loss: 0.3004 - accuracy: 0.8691 - val_loss: 0.3596 - val_accuracy: 0.8516\n",
      "Epoch 31/100\n",
      "370/370 [==============================] - 1s 2ms/step - loss: 0.2960 - accuracy: 0.8722 - val_loss: 0.3670 - val_accuracy: 0.8482\n",
      "Epoch 32/100\n",
      "370/370 [==============================] - 1s 3ms/step - loss: 0.2922 - accuracy: 0.8747 - val_loss: 0.3526 - val_accuracy: 0.8586\n",
      "Epoch 33/100\n",
      "370/370 [==============================] - 1s 2ms/step - loss: 0.2890 - accuracy: 0.8764 - val_loss: 0.3868 - val_accuracy: 0.8484\n",
      "Epoch 34/100\n",
      "370/370 [==============================] - 1s 3ms/step - loss: 0.2868 - accuracy: 0.8757 - val_loss: 0.3704 - val_accuracy: 0.8565\n",
      "Epoch 35/100\n",
      "370/370 [==============================] - 1s 3ms/step - loss: 0.2882 - accuracy: 0.8754 - val_loss: 0.3481 - val_accuracy: 0.8626\n",
      "Epoch 36/100\n",
      "370/370 [==============================] - 1s 3ms/step - loss: 0.2802 - accuracy: 0.8793 - val_loss: 0.3704 - val_accuracy: 0.8497\n",
      "Epoch 37/100\n",
      "370/370 [==============================] - 1s 2ms/step - loss: 0.2771 - accuracy: 0.8821 - val_loss: 0.3416 - val_accuracy: 0.8654\n",
      "Epoch 38/100\n",
      "370/370 [==============================] - 1s 2ms/step - loss: 0.2741 - accuracy: 0.8816 - val_loss: 0.3659 - val_accuracy: 0.8501\n",
      "Epoch 39/100\n",
      "370/370 [==============================] - 1s 3ms/step - loss: 0.2728 - accuracy: 0.8850 - val_loss: 0.3673 - val_accuracy: 0.8477\n",
      "Epoch 40/100\n",
      "370/370 [==============================] - 1s 2ms/step - loss: 0.2715 - accuracy: 0.8842 - val_loss: 0.3448 - val_accuracy: 0.8705\n",
      "Epoch 41/100\n",
      "370/370 [==============================] - 1s 3ms/step - loss: 0.2646 - accuracy: 0.8878 - val_loss: 0.3598 - val_accuracy: 0.8661\n",
      "Epoch 42/100\n",
      "370/370 [==============================] - 1s 3ms/step - loss: 0.2669 - accuracy: 0.8855 - val_loss: 0.3477 - val_accuracy: 0.8655\n",
      "Epoch 43/100\n",
      "370/370 [==============================] - 1s 3ms/step - loss: 0.2658 - accuracy: 0.8868 - val_loss: 0.3498 - val_accuracy: 0.8657\n",
      "Epoch 44/100\n",
      "370/370 [==============================] - 1s 2ms/step - loss: 0.2572 - accuracy: 0.8894 - val_loss: 0.3443 - val_accuracy: 0.8660\n",
      "Epoch 45/100\n",
      "370/370 [==============================] - 1s 3ms/step - loss: 0.2584 - accuracy: 0.8919 - val_loss: 0.3542 - val_accuracy: 0.8671\n",
      "Epoch 46/100\n",
      "370/370 [==============================] - 1s 3ms/step - loss: 0.2544 - accuracy: 0.8929 - val_loss: 0.3492 - val_accuracy: 0.8672\n",
      "Epoch 47/100\n",
      "370/370 [==============================] - 1s 4ms/step - loss: 0.2540 - accuracy: 0.8935 - val_loss: 0.3728 - val_accuracy: 0.8652\n"
     ]
    }
   ],
   "source": [
    "# Build the neural network model\n",
    "model = Sequential()\n",
    "model.add(Dense(num_neurons, input_dim=X_train_re.shape[1], activation='relu'))\n",
    "for i in range(num_hidden_layers - 1):\n",
    "    model.add(Dense(num_neurons, activation='relu'))\n",
    "model.add(Dense(1, activation='sigmoid'))\n",
    "optimizer = Adam(lr=learning_rate)\n",
    "model.compile(loss='binary_crossentropy', optimizer=optimizer, metrics=['accuracy'])\n",
    "\n",
    "# Train the model and evaluate its performance on the validation set\n",
    "early_stopping = EarlyStopping(monitor='val_loss', patience=10)\n",
    "history = model.fit(X_train_re, y_train_re, batch_size=batch_size, epochs=epochs,\n",
    "                    validation_data=(X_test_re, y_test_re), callbacks=[early_stopping])\n",
    "val_loss = np.min(history.history['val_loss'])"
   ]
  },
  {
   "cell_type": "code",
   "execution_count": 63,
   "metadata": {},
   "outputs": [
    {
     "data": {
      "image/png": "[encoded data removed]",
      "text/plain": [
       "<Figure size 432x288 with 1 Axes>"
      ]
     },
     "metadata": {
      "needs_background": "light"
     },
     "output_type": "display_data"
    }
   ],
   "source": [
    "import matplotlib.pyplot as plt\n",
    "\n",
    "# plotar as curvas de aprendizado\n",
    "plt.plot(history.history['accuracy'])\n",
    "plt.plot(history.history['val_accuracy'])\n",
    "plt.title('Curvas de Aprendizado')\n",
    "plt.ylabel('Acurácia')\n",
    "plt.xlabel('Época')\n",
    "plt.legend(['Treinamento', 'Validação'], loc='upper left')\n",
    "plt.show()\n"
   ]
  },
  {
   "cell_type": "code",
   "execution_count": 64,
   "metadata": {},
   "outputs": [
    {
     "name": "stdout",
     "output_type": "stream",
     "text": [
      "317/317 [==============================] - 1s 2ms/step\n",
      "              precision    recall  f1-score   support\n",
      "\n",
      "           0       0.91      0.81      0.86      5107\n",
      "           1       0.83      0.92      0.87      5023\n",
      "\n",
      "    accuracy                           0.87     10130\n",
      "   macro avg       0.87      0.87      0.86     10130\n",
      "weighted avg       0.87      0.87      0.86     10130\n",
      "\n"
     ]
    }
   ],
   "source": [
    "# Printing out model metric reports\n",
    "from sklearn.metrics import classification_report, confusion_matrix\n",
    "y_pred = model.predict(X_test_re)\n",
    "y_pred_classes = (y_pred > 0.5).astype(int)\n",
    "print(classification_report(y_test_re, y_pred_classes))"
   ]
  },
  {
   "cell_type": "code",
   "execution_count": 65,
   "metadata": {},
   "outputs": [
    {
     "data": {
      "image/png": "[encoded data removed]",
      "text/plain": [
       "<Figure size 432x288 with 2 Axes>"
      ]
     },
     "metadata": {
      "needs_background": "light"
     },
     "output_type": "display_data"
    }
   ],
   "source": [
    "# gerar a matriz de confusão\n",
    "#cm = confusion_matrix(y_pred_classes, y_pred_classes)\n",
    "\n",
    "cm = confusion_matrix(y_test_re, y_pred_classes)\n",
    "# Plot confusion matrix\n",
    "sns.heatmap(cm, annot=True, cmap='Blues', fmt='g')\n",
    "plt.xlabel('Predicted')\n",
    "plt.ylabel('True')\n",
    "plt.show()"
   ]
  },
  {
   "cell_type": "code",
   "execution_count": 66,
   "metadata": {},
   "outputs": [
    {
     "ename": "ValueError",
     "evalue": "Data cardinality is ambiguous:\n  x sizes: 23636\n  y sizes: 10130\nMake sure all arrays contain the same number of samples.",
     "output_type": "error",
     "traceback": [
      "\u001b[1;31m---------------------------------------------------------------------------\u001b[0m",
      "\u001b[1;31mValueError\u001b[0m                                Traceback (most recent call last)",
      "\u001b[1;32mc:\\DadosShift_New\\DadosShift\\Análise\\Atual\\08 - neural network - Target 2 classes (genétic) manual GANHADOR.ipynb Cell 11\u001b[0m line \u001b[0;36m<cell line: 3>\u001b[1;34m()\u001b[0m\n\u001b[0;32m      <a href='vscode-notebook-cell:/c%3A/DadosShift_New/DadosShift/An%C3%A1lise/Atual/08%20-%20neural%20network%20-%20Target%202%20classes%20%28gen%C3%A9tic%29%20manual%20GANHADOR.ipynb#X30sZmlsZQ%3D%3D?line=0'>1</a>\u001b[0m \u001b[39m# avaliar a rede neural nos dados de treinamento e validação\u001b[39;00m\n\u001b[0;32m      <a href='vscode-notebook-cell:/c%3A/DadosShift_New/DadosShift/An%C3%A1lise/Atual/08%20-%20neural%20network%20-%20Target%202%20classes%20%28gen%C3%A9tic%29%20manual%20GANHADOR.ipynb#X30sZmlsZQ%3D%3D?line=1'>2</a>\u001b[0m train_scores \u001b[39m=\u001b[39m model\u001b[39m.\u001b[39mevaluate(X_train_re, y_train_re, verbose\u001b[39m=\u001b[39m\u001b[39m0\u001b[39m)\n\u001b[1;32m----> <a href='vscode-notebook-cell:/c%3A/DadosShift_New/DadosShift/An%C3%A1lise/Atual/08%20-%20neural%20network%20-%20Target%202%20classes%20%28gen%C3%A9tic%29%20manual%20GANHADOR.ipynb#X30sZmlsZQ%3D%3D?line=2'>3</a>\u001b[0m val_scores \u001b[39m=\u001b[39m model\u001b[39m.\u001b[39;49mevaluate(X_train_re, y_test_re, verbose\u001b[39m=\u001b[39;49m\u001b[39m0\u001b[39;49m)\n\u001b[0;32m      <a href='vscode-notebook-cell:/c%3A/DadosShift_New/DadosShift/An%C3%A1lise/Atual/08%20-%20neural%20network%20-%20Target%202%20classes%20%28gen%C3%A9tic%29%20manual%20GANHADOR.ipynb#X30sZmlsZQ%3D%3D?line=4'>5</a>\u001b[0m \u001b[39m# imprimir as métricas de avaliação\u001b[39;00m\n\u001b[0;32m      <a href='vscode-notebook-cell:/c%3A/DadosShift_New/DadosShift/An%C3%A1lise/Atual/08%20-%20neural%20network%20-%20Target%202%20classes%20%28gen%C3%A9tic%29%20manual%20GANHADOR.ipynb#X30sZmlsZQ%3D%3D?line=5'>6</a>\u001b[0m \u001b[39mprint\u001b[39m(\u001b[39m'\u001b[39m\u001b[39mAcurácia de Treinamento: \u001b[39m\u001b[39m%.2f\u001b[39;00m\u001b[39m%%\u001b[39;00m\u001b[39m'\u001b[39m \u001b[39m%\u001b[39m (train_scores[\u001b[39m1\u001b[39m]\u001b[39m*\u001b[39m\u001b[39m100\u001b[39m))\n",
      "File \u001b[1;32mc:\\Users\\kairo\\anaconda3\\envs\\AmbienteKairo\\lib\\site-packages\\keras\\utils\\traceback_utils.py:70\u001b[0m, in \u001b[0;36mfilter_traceback.<locals>.error_handler\u001b[1;34m(*args, **kwargs)\u001b[0m\n\u001b[0;32m     67\u001b[0m     filtered_tb \u001b[39m=\u001b[39m _process_traceback_frames(e\u001b[39m.\u001b[39m__traceback__)\n\u001b[0;32m     68\u001b[0m     \u001b[39m# To get the full stack trace, call:\u001b[39;00m\n\u001b[0;32m     69\u001b[0m     \u001b[39m# `tf.debugging.disable_traceback_filtering()`\u001b[39;00m\n\u001b[1;32m---> 70\u001b[0m     \u001b[39mraise\u001b[39;00m e\u001b[39m.\u001b[39mwith_traceback(filtered_tb) \u001b[39mfrom\u001b[39;00m \u001b[39mNone\u001b[39m\n\u001b[0;32m     71\u001b[0m \u001b[39mfinally\u001b[39;00m:\n\u001b[0;32m     72\u001b[0m     \u001b[39mdel\u001b[39;00m filtered_tb\n",
      "File \u001b[1;32mc:\\Users\\kairo\\anaconda3\\envs\\AmbienteKairo\\lib\\site-packages\\keras\\engine\\data_adapter.py:1852\u001b[0m, in \u001b[0;36m_check_data_cardinality\u001b[1;34m(data)\u001b[0m\n\u001b[0;32m   1845\u001b[0m     msg \u001b[39m+\u001b[39m\u001b[39m=\u001b[39m \u001b[39m\"\u001b[39m\u001b[39m  \u001b[39m\u001b[39m{}\u001b[39;00m\u001b[39m sizes: \u001b[39m\u001b[39m{}\u001b[39;00m\u001b[39m\\n\u001b[39;00m\u001b[39m\"\u001b[39m\u001b[39m.\u001b[39mformat(\n\u001b[0;32m   1846\u001b[0m         label,\n\u001b[0;32m   1847\u001b[0m         \u001b[39m\"\u001b[39m\u001b[39m, \u001b[39m\u001b[39m\"\u001b[39m\u001b[39m.\u001b[39mjoin(\n\u001b[0;32m   1848\u001b[0m             \u001b[39mstr\u001b[39m(i\u001b[39m.\u001b[39mshape[\u001b[39m0\u001b[39m]) \u001b[39mfor\u001b[39;00m i \u001b[39min\u001b[39;00m tf\u001b[39m.\u001b[39mnest\u001b[39m.\u001b[39mflatten(single_data)\n\u001b[0;32m   1849\u001b[0m         ),\n\u001b[0;32m   1850\u001b[0m     )\n\u001b[0;32m   1851\u001b[0m msg \u001b[39m+\u001b[39m\u001b[39m=\u001b[39m \u001b[39m\"\u001b[39m\u001b[39mMake sure all arrays contain the same number of samples.\u001b[39m\u001b[39m\"\u001b[39m\n\u001b[1;32m-> 1852\u001b[0m \u001b[39mraise\u001b[39;00m \u001b[39mValueError\u001b[39;00m(msg)\n",
      "\u001b[1;31mValueError\u001b[0m: Data cardinality is ambiguous:\n  x sizes: 23636\n  y sizes: 10130\nMake sure all arrays contain the same number of samples."
     ]
    }
   ],
   "source": [
    "# avaliar a rede neural nos dados de treinamento e validação\n",
    "train_scores = model.evaluate(X_train_re, y_train_re, verbose=0)\n",
    "val_scores = model.evaluate(X_train_re, y_test_re, verbose=0)\n",
    "\n",
    "# imprimir as métricas de avaliação\n",
    "print('Acurácia de Treinamento: %.2f%%' % (train_scores[1]*100))\n",
    "print('Acurácia de Validação: %.2f%%' % (val_scores[1]*100))"
   ]
  }
 ],
 "metadata": {
  "kernelspec": {
   "display_name": "AmbienteKairo",
   "language": "python",
   "name": "ambientekairo"
  },
  "language_info": {
   "codemirror_mode": {
    "name": "ipython",
    "version": 3
   },
   "file_extension": ".py",
   "mimetype": "text/x-python",
   "name": "python",
   "nbconvert_exporter": "python",
   "pygments_lexer": "ipython3",
   "version": "3.9.12"
  },
  "orig_nbformat": 4
 },
 "nbformat": 4,
 "nbformat_minor": 2
}
