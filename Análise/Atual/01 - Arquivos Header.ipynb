{
  "cells": [
    {
      "cell_type": "markdown",
      "metadata": {},
      "source": [
        "<h2>Importando as bibliotecas necessárias\n"
      ]
    },
    {
      "cell_type": "code",
      "execution_count": 107,
      "metadata": {
        "id": "No4xXGbDVgNO"
      },
      "outputs": [],
      "source": [
        "import requests as rq\n",
        "import pandas as pd\n",
        "\n",
        "from io import BytesIO\n",
        "import matplotlib.pyplot as plt\n",
        "plt.style.use('ggplot')\n",
        "import seaborn as sns\n",
        "import numpy as np"
      ]
    },
    {
      "cell_type": "markdown",
      "metadata": {},
      "source": [
        "<h2>Criando o dataframe das planilhas hospedadas no github"
      ]
    },
    {
      "cell_type": "code",
      "execution_count": 108,
      "metadata": {},
      "outputs": [],
      "source": [
        "url = \"https://github.com/kairobeduti/DadosShift/blob/master/Header/Api_Header.xlsx?raw=true\"\n",
        "data = rq.get(url).content\n",
        "df_header = pd.read_excel(BytesIO(data))\n",
        "df_header.drop('Unnamed: 0', axis='columns',inplace=True)"
      ]
    },
    {
      "cell_type": "code",
      "execution_count": 109,
      "metadata": {},
      "outputs": [],
      "source": [
        "url = \"https://github.com/kairobeduti/DadosShift/blob/master/Principal/Async_Api_Principal.xlsx?raw=true\"\n",
        "data = rq.get(url).content\n",
        "df = pd.read_excel(BytesIO(data))\n",
        "df.drop(['DESC_OBJ_CONTRAT','Unnamed: 0','ANEXOS','ITEMS'], axis='columns',inplace=True)"
      ]
    },
    {
      "cell_type": "code",
      "execution_count": 110,
      "metadata": {},
      "outputs": [
        {
          "data": {
            "text/html": [
              "<div>\n",
              "<style scoped>\n",
              "    .dataframe tbody tr th:only-of-type {\n",
              "        vertical-align: middle;\n",
              "    }\n",
              "\n",
              "    .dataframe tbody tr th {\n",
              "        vertical-align: top;\n",
              "    }\n",
              "\n",
              "    .dataframe thead th {\n",
              "        text-align: right;\n",
              "    }\n",
              "</style>\n",
              "<table border=\"1\" class=\"dataframe\">\n",
              "  <thead>\n",
              "    <tr style=\"text-align: right;\">\n",
              "      <th></th>\n",
              "      <th>DISPUTE_MODE</th>\n",
              "      <th>DM_DESCRICAO</th>\n",
              "      <th>DM_CARACTERISTICA</th>\n",
              "      <th>DM_DESC_CURTA</th>\n",
              "    </tr>\n",
              "  </thead>\n",
              "  <tbody>\n",
              "    <tr>\n",
              "      <th>0</th>\n",
              "      <td>1</td>\n",
              "      <td>MODO DE DISPUTA ABERTO</td>\n",
              "      <td>LEILÃO APÓS O TÉRMINO DO ENVIO DAS PROPOSTAS</td>\n",
              "      <td>LEILÃO</td>\n",
              "    </tr>\n",
              "    <tr>\n",
              "      <th>1</th>\n",
              "      <td>2</td>\n",
              "      <td>MODO DE DISPUTA FECHADO</td>\n",
              "      <td>VENCEDOR PELA MELHOR PROPOSTA</td>\n",
              "      <td>ENVELOPE</td>\n",
              "    </tr>\n",
              "    <tr>\n",
              "      <th>2</th>\n",
              "      <td>3</td>\n",
              "      <td>PREGÃO</td>\n",
              "      <td>LEILÃO APÓS O TÉRMINO DO ENVIO DAS PROPOSTAS A...</td>\n",
              "      <td>LEILÃO</td>\n",
              "    </tr>\n",
              "    <tr>\n",
              "      <th>3</th>\n",
              "      <td>4</td>\n",
              "      <td>MODO DISPUTA ABERTA DIRETA</td>\n",
              "      <td>NaN</td>\n",
              "      <td>NaN</td>\n",
              "    </tr>\n",
              "  </tbody>\n",
              "</table>\n",
              "</div>"
            ],
            "text/plain": [
              "   DISPUTE_MODE                DM_DESCRICAO  \\\n",
              "0             1      MODO DE DISPUTA ABERTO   \n",
              "1             2     MODO DE DISPUTA FECHADO   \n",
              "2             3                      PREGÃO   \n",
              "3             4  MODO DISPUTA ABERTA DIRETA   \n",
              "\n",
              "                                   DM_CARACTERISTICA DM_DESC_CURTA  \n",
              "0       LEILÃO APÓS O TÉRMINO DO ENVIO DAS PROPOSTAS        LEILÃO  \n",
              "1                      VENCEDOR PELA MELHOR PROPOSTA      ENVELOPE  \n",
              "2  LEILÃO APÓS O TÉRMINO DO ENVIO DAS PROPOSTAS A...        LEILÃO  \n",
              "3                                                NaN           NaN  "
            ]
          },
          "execution_count": 110,
          "metadata": {},
          "output_type": "execute_result"
        }
      ],
      "source": [
        "\n",
        "url = \"https://github.com/kairobeduti/DadosShift/blob/master/DISPUTE_MODE/Dispute_Mode.xlsx?raw=true\"\n",
        "data = rq.get(url).content\n",
        "df_dispute_mode = pd.read_excel(BytesIO(data))\n",
        "df_dispute_mode.set_axis(['DISPUTE_MODE','DM_DESCRICAO','DM_CARACTERISTICA','DM_DESC_CURTA'],axis=1,inplace=True)\n",
        "df_dispute_mode.head()"
      ]
    },
    {
      "cell_type": "code",
      "execution_count": 111,
      "metadata": {},
      "outputs": [
        {
          "data": {
            "text/html": [
              "<div>\n",
              "<style scoped>\n",
              "    .dataframe tbody tr th:only-of-type {\n",
              "        vertical-align: middle;\n",
              "    }\n",
              "\n",
              "    .dataframe tbody tr th {\n",
              "        vertical-align: top;\n",
              "    }\n",
              "\n",
              "    .dataframe thead th {\n",
              "        text-align: right;\n",
              "    }\n",
              "</style>\n",
              "<table border=\"1\" class=\"dataframe\">\n",
              "  <thead>\n",
              "    <tr style=\"text-align: right;\">\n",
              "      <th></th>\n",
              "      <th>SUB_STATUS</th>\n",
              "      <th>SUB_STATUS_D</th>\n",
              "    </tr>\n",
              "  </thead>\n",
              "  <tbody>\n",
              "    <tr>\n",
              "      <th>0</th>\n",
              "      <td>1</td>\n",
              "      <td>Todos</td>\n",
              "    </tr>\n",
              "    <tr>\n",
              "      <th>1</th>\n",
              "      <td>2</td>\n",
              "      <td>Homologado</td>\n",
              "    </tr>\n",
              "    <tr>\n",
              "      <th>2</th>\n",
              "      <td>3</td>\n",
              "      <td>Adjudicado</td>\n",
              "    </tr>\n",
              "    <tr>\n",
              "      <th>3</th>\n",
              "      <td>4</td>\n",
              "      <td>Cancelada</td>\n",
              "    </tr>\n",
              "  </tbody>\n",
              "</table>\n",
              "</div>"
            ],
            "text/plain": [
              "   SUB_STATUS SUB_STATUS_D\n",
              "0           1        Todos\n",
              "1           2   Homologado\n",
              "2           3   Adjudicado\n",
              "3           4    Cancelada"
            ]
          },
          "execution_count": 111,
          "metadata": {},
          "output_type": "execute_result"
        }
      ],
      "source": [
        "\n",
        "url = \"https://github.com/kairobeduti/DadosShift/blob/master/SUB_STATUS/Sub_Status.xlsx?raw=true\"\n",
        "data = rq.get(url).content\n",
        "df_sub_status = pd.read_excel(BytesIO(data))\n",
        "df_sub_status.head()"
      ]
    },
    {
      "cell_type": "code",
      "execution_count": 112,
      "metadata": {},
      "outputs": [
        {
          "data": {
            "text/html": [
              "<div>\n",
              "<style scoped>\n",
              "    .dataframe tbody tr th:only-of-type {\n",
              "        vertical-align: middle;\n",
              "    }\n",
              "\n",
              "    .dataframe tbody tr th {\n",
              "        vertical-align: top;\n",
              "    }\n",
              "\n",
              "    .dataframe thead th {\n",
              "        text-align: right;\n",
              "    }\n",
              "</style>\n",
              "<table border=\"1\" class=\"dataframe\">\n",
              "  <thead>\n",
              "    <tr style=\"text-align: right;\">\n",
              "      <th></th>\n",
              "      <th>START_DATE</th>\n",
              "      <th>START_TIME</th>\n",
              "      <th>RECURSAL_PERIOD</th>\n",
              "      <th>END_TIME</th>\n",
              "      <th>END_DATE</th>\n",
              "      <th>COMMERCIAL_PROP_OPEN_TIME</th>\n",
              "      <th>COMMERCIAL_PROP_OPEN_DATE</th>\n",
              "      <th>DIVULG_DATE</th>\n",
              "      <th>OPPORT_NUM</th>\n",
              "    </tr>\n",
              "  </thead>\n",
              "  <tbody>\n",
              "    <tr>\n",
              "      <th>0</th>\n",
              "      <td>2018-02-06</td>\n",
              "      <td>10:00:00</td>\n",
              "      <td>0000-00-00</td>\n",
              "      <td>14:00:00</td>\n",
              "      <td>2018-03-01</td>\n",
              "      <td>14:00:00</td>\n",
              "      <td>2018-03-01</td>\n",
              "      <td>[]</td>\n",
              "      <td>7001980909</td>\n",
              "    </tr>\n",
              "    <tr>\n",
              "      <th>1</th>\n",
              "      <td>2018-02-06</td>\n",
              "      <td>11:00:00</td>\n",
              "      <td>0000-00-00</td>\n",
              "      <td>08:00:00</td>\n",
              "      <td>2018-03-12</td>\n",
              "      <td>08:00:00</td>\n",
              "      <td>2018-03-12</td>\n",
              "      <td>[]</td>\n",
              "      <td>7001980938</td>\n",
              "    </tr>\n",
              "    <tr>\n",
              "      <th>2</th>\n",
              "      <td>2018-02-06</td>\n",
              "      <td>10:30:00</td>\n",
              "      <td>2018-06-19</td>\n",
              "      <td>14:00:00</td>\n",
              "      <td>2018-04-16</td>\n",
              "      <td>14:00:00</td>\n",
              "      <td>2018-04-16</td>\n",
              "      <td>[{'YPCON_DATE': '2018-06-12', 'YPCON_TIME': '1...</td>\n",
              "      <td>7001981014</td>\n",
              "    </tr>\n",
              "    <tr>\n",
              "      <th>3</th>\n",
              "      <td>2018-02-07</td>\n",
              "      <td>12:00:00</td>\n",
              "      <td>2018-06-13</td>\n",
              "      <td>14:00:00</td>\n",
              "      <td>2018-04-17</td>\n",
              "      <td>14:00:00</td>\n",
              "      <td>2018-04-17</td>\n",
              "      <td>[{'YPCON_DATE': '2018-06-06', 'YPCON_TIME': '1...</td>\n",
              "      <td>7001981474</td>\n",
              "    </tr>\n",
              "    <tr>\n",
              "      <th>4</th>\n",
              "      <td>2018-02-07</td>\n",
              "      <td>17:00:00</td>\n",
              "      <td>0000-00-00</td>\n",
              "      <td>12:00:00</td>\n",
              "      <td>2018-04-13</td>\n",
              "      <td>12:00:00</td>\n",
              "      <td>2018-04-13</td>\n",
              "      <td>[]</td>\n",
              "      <td>7001981745</td>\n",
              "    </tr>\n",
              "  </tbody>\n",
              "</table>\n",
              "</div>"
            ],
            "text/plain": [
              "   START_DATE START_TIME RECURSAL_PERIOD  END_TIME    END_DATE  \\\n",
              "0  2018-02-06   10:00:00      0000-00-00  14:00:00  2018-03-01   \n",
              "1  2018-02-06   11:00:00      0000-00-00  08:00:00  2018-03-12   \n",
              "2  2018-02-06   10:30:00      2018-06-19  14:00:00  2018-04-16   \n",
              "3  2018-02-07   12:00:00      2018-06-13  14:00:00  2018-04-17   \n",
              "4  2018-02-07   17:00:00      0000-00-00  12:00:00  2018-04-13   \n",
              "\n",
              "  COMMERCIAL_PROP_OPEN_TIME COMMERCIAL_PROP_OPEN_DATE  \\\n",
              "0                  14:00:00                2018-03-01   \n",
              "1                  08:00:00                2018-03-12   \n",
              "2                  14:00:00                2018-04-16   \n",
              "3                  14:00:00                2018-04-17   \n",
              "4                  12:00:00                2018-04-13   \n",
              "\n",
              "                                         DIVULG_DATE  OPPORT_NUM  \n",
              "0                                                 []  7001980909  \n",
              "1                                                 []  7001980938  \n",
              "2  [{'YPCON_DATE': '2018-06-12', 'YPCON_TIME': '1...  7001981014  \n",
              "3  [{'YPCON_DATE': '2018-06-06', 'YPCON_TIME': '1...  7001981474  \n",
              "4                                                 []  7001981745  "
            ]
          },
          "execution_count": 112,
          "metadata": {},
          "output_type": "execute_result"
        }
      ],
      "source": [
        "\n",
        "url = \"https://github.com/kairobeduti/DadosShift/blob/master/Hist%C3%B3rico/Historico_RELEVANT_DATES.xlsx?raw=true\"\n",
        "data = rq.get(url).content\n",
        "df_relevant_dates = pd.read_excel(BytesIO(data))\n",
        "df_relevant_dates.drop(['Unnamed: 0','PUBL_DATE'], axis='columns',inplace=True)\n",
        "df_relevant_dates.head()"
      ]
    },
    {
      "cell_type": "code",
      "execution_count": 113,
      "metadata": {},
      "outputs": [
        {
          "data": {
            "text/html": [
              "<div>\n",
              "<style scoped>\n",
              "    .dataframe tbody tr th:only-of-type {\n",
              "        vertical-align: middle;\n",
              "    }\n",
              "\n",
              "    .dataframe tbody tr th {\n",
              "        vertical-align: top;\n",
              "    }\n",
              "\n",
              "    .dataframe thead th {\n",
              "        text-align: right;\n",
              "    }\n",
              "</style>\n",
              "<table border=\"1\" class=\"dataframe\">\n",
              "  <thead>\n",
              "    <tr style=\"text-align: right;\">\n",
              "      <th></th>\n",
              "      <th>OPPORT_TYPE</th>\n",
              "      <th>OPPORT_TYPE_DESC</th>\n",
              "      <th>Julgamento</th>\n",
              "    </tr>\n",
              "  </thead>\n",
              "  <tbody>\n",
              "    <tr>\n",
              "      <th>0</th>\n",
              "      <td>AFNI</td>\n",
              "      <td>AFRETAMENTO N-INT IT</td>\n",
              "      <td>ITEM</td>\n",
              "    </tr>\n",
              "    <tr>\n",
              "      <th>1</th>\n",
              "      <td>DAII</td>\n",
              "      <td>DISPUTA ABERTA INTEGRADA ITEM</td>\n",
              "      <td>ITEM</td>\n",
              "    </tr>\n",
              "    <tr>\n",
              "      <th>2</th>\n",
              "      <td>DANI</td>\n",
              "      <td>DISPUTA ABERTA NÃO INTEGRADA ITEM</td>\n",
              "      <td>ITEM</td>\n",
              "    </tr>\n",
              "    <tr>\n",
              "      <th>3</th>\n",
              "      <td>LICI</td>\n",
              "      <td>LICITAÇÃO PÚBLICA INTEGRADA ITEM</td>\n",
              "      <td>ITEM</td>\n",
              "    </tr>\n",
              "    <tr>\n",
              "      <th>4</th>\n",
              "      <td>LNII</td>\n",
              "      <td>LICITAÇÃO PÚBLICA NÃO INTEGRADA ITEM</td>\n",
              "      <td>ITEM</td>\n",
              "    </tr>\n",
              "  </tbody>\n",
              "</table>\n",
              "</div>"
            ],
            "text/plain": [
              "  OPPORT_TYPE                      OPPORT_TYPE_DESC Julgamento\n",
              "0        AFNI                  AFRETAMENTO N-INT IT       ITEM\n",
              "1        DAII         DISPUTA ABERTA INTEGRADA ITEM       ITEM\n",
              "2        DANI     DISPUTA ABERTA NÃO INTEGRADA ITEM       ITEM\n",
              "3        LICI      LICITAÇÃO PÚBLICA INTEGRADA ITEM       ITEM\n",
              "4        LNII  LICITAÇÃO PÚBLICA NÃO INTEGRADA ITEM       ITEM"
            ]
          },
          "execution_count": 113,
          "metadata": {},
          "output_type": "execute_result"
        }
      ],
      "source": [
        "\n",
        "url = \"https://github.com/kairobeduti/DadosShift/blob/master/OPPORT_TYPE/Opport_type.xlsx?raw=true\"\n",
        "data = rq.get(url).content\n",
        "df_opport_types = pd.read_excel(BytesIO(data))\n",
        "df_opport_types.head()"
      ]
    },
    {
      "cell_type": "markdown",
      "metadata": {},
      "source": [
        "<h2>Conhecendo algumas informações dos dataframes"
      ]
    },
    {
      "cell_type": "code",
      "execution_count": 114,
      "metadata": {},
      "outputs": [
        {
          "name": "stdout",
          "output_type": "stream",
          "text": [
            "principal (9952, 29)\n",
            "header (45917, 32)\n",
            "dispute mode (4, 4)\n",
            "sub status (4, 2)\n",
            "relevant dates (9892, 9)\n",
            "opport types (19, 3)\n"
          ]
        }
      ],
      "source": [
        "print(f'principal {df.shape}')\n",
        "print(f'header {df_header.shape}')\n",
        "print(f'dispute mode {df_dispute_mode.shape}')\n",
        "print(f'sub status {df_sub_status.shape}')\n",
        "print(f'relevant dates {df_relevant_dates.shape}')\n",
        "print(f'opport types {df_opport_types.shape}')"
      ]
    },
    {
      "cell_type": "markdown",
      "metadata": {},
      "source": [
        "<h2> Juntando os dataframes"
      ]
    },
    {
      "cell_type": "code",
      "execution_count": 115,
      "metadata": {},
      "outputs": [
        {
          "data": {
            "text/plain": [
              "'### dtypes df'"
            ]
          },
          "metadata": {},
          "output_type": "display_data"
        },
        {
          "data": {
            "text/plain": [
              "OPPORT_NUM       int64\n",
              "DISPUTE_MODE     int64\n",
              "SUB_STATUS       int64\n",
              "OPPORT_TYPE     object\n",
              "dtype: object"
            ]
          },
          "metadata": {},
          "output_type": "display_data"
        },
        {
          "data": {
            "text/plain": [
              "'### dtypes df_dispute_mode'"
            ]
          },
          "metadata": {},
          "output_type": "display_data"
        },
        {
          "data": {
            "text/plain": [
              "DISPUTE_MODE          int64\n",
              "DM_DESCRICAO         object\n",
              "DM_CARACTERISTICA    object\n",
              "DM_DESC_CURTA        object\n",
              "dtype: object"
            ]
          },
          "metadata": {},
          "output_type": "display_data"
        },
        {
          "data": {
            "text/plain": [
              "'### dtypes df_sub_status'"
            ]
          },
          "metadata": {},
          "output_type": "display_data"
        },
        {
          "data": {
            "text/plain": [
              "SUB_STATUS       int64\n",
              "SUB_STATUS_D    object\n",
              "dtype: object"
            ]
          },
          "metadata": {},
          "output_type": "display_data"
        },
        {
          "data": {
            "text/plain": [
              "'### dtypes df_header'"
            ]
          },
          "metadata": {},
          "output_type": "display_data"
        },
        {
          "data": {
            "text/plain": [
              "OPPORT_NUM    int64\n",
              "dtype: object"
            ]
          },
          "metadata": {},
          "output_type": "display_data"
        },
        {
          "data": {
            "text/plain": [
              "'### dtypes df_header'"
            ]
          },
          "metadata": {},
          "output_type": "display_data"
        },
        {
          "data": {
            "text/plain": [
              "OPPORT_NUM    int64\n",
              "dtype: object"
            ]
          },
          "metadata": {},
          "output_type": "display_data"
        },
        {
          "data": {
            "text/plain": [
              "'### dtypes df_opport_types'"
            ]
          },
          "metadata": {},
          "output_type": "display_data"
        },
        {
          "data": {
            "text/plain": [
              "OPPORT_TYPE         object\n",
              "OPPORT_TYPE_DESC    object\n",
              "Julgamento          object\n",
              "dtype: object"
            ]
          },
          "metadata": {},
          "output_type": "display_data"
        }
      ],
      "source": [
        "display('### dtypes df')\n",
        "display(df[['OPPORT_NUM','DISPUTE_MODE','SUB_STATUS','OPPORT_TYPE']].dtypes)\n",
        "display('### dtypes df_dispute_mode')\n",
        "display(df_dispute_mode.dtypes)\n",
        "display('### dtypes df_sub_status')\n",
        "display(df_sub_status.dtypes)\n",
        "display('### dtypes df_header')\n",
        "display(df_header[['OPPORT_NUM']].dtypes)\n",
        "display('### dtypes df_header')\n",
        "display(df_relevant_dates[['OPPORT_NUM']].dtypes)\n",
        "display('### dtypes df_opport_types')\n",
        "display(df_opport_types.dtypes)\n"
      ]
    },
    {
      "cell_type": "code",
      "execution_count": 116,
      "metadata": {},
      "outputs": [
        {
          "name": "stdout",
          "output_type": "stream",
          "text": [
            "<class 'pandas.core.frame.DataFrame'>\n",
            "Int64Index: 45994 entries, 0 to 45993\n",
            "Data columns (total 74 columns):\n",
            " #   Column                     Non-Null Count  Dtype  \n",
            "---  ------                     --------------  -----  \n",
            " 0   OPPORT_NUM                 45994 non-null  int64  \n",
            " 1   DOU_NUM                    0 non-null      float64\n",
            " 2   LIMIT_IN_DAYS              45994 non-null  int64  \n",
            " 3   COMPANY                    45994 non-null  int64  \n",
            " 4   COMPANY_DESC               45994 non-null  object \n",
            " 5   STATUS                     31921 non-null  object \n",
            " 6   STATUS_DESC                31921 non-null  object \n",
            " 7   OPPORT_TYPE                45994 non-null  object \n",
            " 8   POSTING_DATE               45994 non-null  object \n",
            " 9   OPPORT_DESCR               45992 non-null  object \n",
            " 10  DOU_PUBL_DATE              45994 non-null  object \n",
            " 11  START_DATE_x               45994 non-null  object \n",
            " 12  START_HOUR                 45994 non-null  object \n",
            " 13  END_DATE_x                 45994 non-null  object \n",
            " 14  END_HOUR                   45994 non-null  object \n",
            " 15  OPEN_DATE                  45994 non-null  object \n",
            " 16  OPEN_HOUR                  45994 non-null  object \n",
            " 17  SUB_STATUS                 45994 non-null  int64  \n",
            " 18  DISPUTE_MODE_x             45994 non-null  int64  \n",
            " 19  IS_EQUALIZED               0 non-null      float64\n",
            " 20  HAS_PREQUALIFIED           0 non-null      float64\n",
            " 21  IS_PREQUALI                0 non-null      float64\n",
            " 22  PQ_VENDOR_LIST_DATE        45994 non-null  object \n",
            " 23  PQ_VENDOR_LIST_HOUR        45994 non-null  object \n",
            " 24  DESC_DETAIL                0 non-null      float64\n",
            " 25  REGIONS                    45994 non-null  object \n",
            " 26  AUC_START_DATE_x           45994 non-null  object \n",
            " 27  AUC_START_TIME_x           45994 non-null  object \n",
            " 28  NAT_COVERAGE               0 non-null      float64\n",
            " 29  DM_DESCRICAO               45994 non-null  object \n",
            " 30  DM_CARACTERISTICA          45994 non-null  object \n",
            " 31  DM_DESC_CURTA              45994 non-null  object \n",
            " 32  SUB_STATUS_D               45994 non-null  object \n",
            " 33  PREQUALIF_OPPORT           0 non-null      float64\n",
            " 34  P_DESCRIPTION              0 non-null      float64\n",
            " 35  HISTORY                    40262 non-null  object \n",
            " 36  HISTORY_DYN_NAME           40262 non-null  object \n",
            " 37  MESSAGES                   39794 non-null  object \n",
            " 38  CO_CODE                    45994 non-null  int64  \n",
            " 39  EMP_DESCRIPTION            45994 non-null  object \n",
            " 40  DESCRIPTION                45992 non-null  object \n",
            " 41  STAT                       45994 non-null  object \n",
            " 42  TXT30                      14073 non-null  object \n",
            " 43  START_DATE_y               45994 non-null  object \n",
            " 44  START_TIME_x               45994 non-null  object \n",
            " 45  QUOT_DEAD                  45994 non-null  object \n",
            " 46  QUOT_DEAD_TIME             45994 non-null  object \n",
            " 47  CREATED_AT_DATE            45994 non-null  object \n",
            " 48  CREATED_AT_TIME            45994 non-null  object \n",
            " 49  TZONE                      45994 non-null  object \n",
            " 50  CURRENCY                   45971 non-null  object \n",
            " 51  YPPAYCON                   0 non-null      float64\n",
            " 52  YPCON_INCO1                0 non-null      float64\n",
            " 53  YPCON_MODALITY             45963 non-null  float64\n",
            " 54  YPCON_MODALITY_NAME        45963 non-null  object \n",
            " 55  YPCON_QUOTE_REQUEST        45994 non-null  int64  \n",
            " 56  ATTACHMENTS                45994 non-null  object \n",
            " 57  DISPLAY_PROP_LANCE         40262 non-null  object \n",
            " 58  PUBL_DOU_DATE              45994 non-null  object \n",
            " 59  DISPUTE_MODE_y             45994 non-null  int64  \n",
            " 60  MEPP                       1059 non-null   object \n",
            " 61  AUC_START_DATE_y           45994 non-null  object \n",
            " 62  AUC_START_TIME_y           45994 non-null  object \n",
            " 63  YPCON_OBJ_CONT_DESC        45884 non-null  object \n",
            " 64  START_DATE                 45994 non-null  object \n",
            " 65  START_TIME_y               45994 non-null  object \n",
            " 66  RECURSAL_PERIOD            45994 non-null  object \n",
            " 67  END_TIME                   45994 non-null  object \n",
            " 68  END_DATE_y                 45994 non-null  object \n",
            " 69  COMMERCIAL_PROP_OPEN_TIME  45994 non-null  object \n",
            " 70  COMMERCIAL_PROP_OPEN_DATE  45994 non-null  object \n",
            " 71  DIVULG_DATE                45994 non-null  object \n",
            " 72  OPPORT_TYPE_DESC           45994 non-null  object \n",
            " 73  Julgamento                 45994 non-null  object \n",
            "dtypes: float64(11), int64(8), object(55)\n",
            "memory usage: 26.3+ MB\n"
          ]
        }
      ],
      "source": [
        "df = df.merge(df_dispute_mode,on='DISPUTE_MODE')\n",
        "df = df.merge(df_sub_status,on='SUB_STATUS')\n",
        "df = df.merge(df_header,on='OPPORT_NUM')\n",
        "df = df.merge(df_relevant_dates,on='OPPORT_NUM')\n",
        "df = df.merge(df_opport_types,on='OPPORT_TYPE')\n",
        "df.info()"
      ]
    },
    {
      "cell_type": "code",
      "execution_count": 117,
      "metadata": {},
      "outputs": [
        {
          "name": "stdout",
          "output_type": "stream",
          "text": [
            "<class 'pandas.core.frame.DataFrame'>\n",
            "Int64Index: 45994 entries, 0 to 45993\n",
            "Data columns (total 74 columns):\n",
            " #   Column                     Non-Null Count  Dtype  \n",
            "---  ------                     --------------  -----  \n",
            " 0   OPPORT_NUM                 45994 non-null  int64  \n",
            " 1   DOU_NUM                    0 non-null      float64\n",
            " 2   LIMIT_IN_DAYS              45994 non-null  int64  \n",
            " 3   COMPANY                    45994 non-null  int64  \n",
            " 4   COMPANY_DESC               45994 non-null  object \n",
            " 5   STATUS                     31921 non-null  object \n",
            " 6   STATUS_DESC                31921 non-null  object \n",
            " 7   OPPORT_TYPE                45994 non-null  object \n",
            " 8   POSTING_DATE               45994 non-null  object \n",
            " 9   OPPORT_DESCR               45992 non-null  object \n",
            " 10  DOU_PUBL_DATE              45994 non-null  object \n",
            " 11  START_DATE_x               45994 non-null  object \n",
            " 12  START_HOUR                 45994 non-null  object \n",
            " 13  END_DATE_x                 45994 non-null  object \n",
            " 14  END_HOUR                   45994 non-null  object \n",
            " 15  OPEN_DATE                  45994 non-null  object \n",
            " 16  OPEN_HOUR                  45994 non-null  object \n",
            " 17  SUB_STATUS                 45994 non-null  int64  \n",
            " 18  DISPUTE_MODE_x             45994 non-null  int64  \n",
            " 19  IS_EQUALIZED               0 non-null      float64\n",
            " 20  HAS_PREQUALIFIED           0 non-null      float64\n",
            " 21  IS_PREQUALI                0 non-null      float64\n",
            " 22  PQ_VENDOR_LIST_DATE        45994 non-null  object \n",
            " 23  PQ_VENDOR_LIST_HOUR        45994 non-null  object \n",
            " 24  DESC_DETAIL                0 non-null      float64\n",
            " 25  REGIONS                    45994 non-null  object \n",
            " 26  AUC_START_DATE_x           45994 non-null  object \n",
            " 27  AUC_START_TIME_x           45994 non-null  object \n",
            " 28  NAT_COVERAGE               0 non-null      float64\n",
            " 29  DM_DESCRICAO               45994 non-null  object \n",
            " 30  DM_CARACTERISTICA          45994 non-null  object \n",
            " 31  DM_DESC_CURTA              45994 non-null  object \n",
            " 32  SUB_STATUS_D               45994 non-null  object \n",
            " 33  PREQUALIF_OPPORT           0 non-null      float64\n",
            " 34  P_DESCRIPTION              0 non-null      float64\n",
            " 35  HISTORY                    40262 non-null  object \n",
            " 36  HISTORY_DYN_NAME           40262 non-null  object \n",
            " 37  MESSAGES                   39794 non-null  object \n",
            " 38  CO_CODE                    45994 non-null  int64  \n",
            " 39  EMP_DESCRIPTION            45994 non-null  object \n",
            " 40  DESCRIPTION                45992 non-null  object \n",
            " 41  STAT                       45994 non-null  object \n",
            " 42  TXT30                      14073 non-null  object \n",
            " 43  START_DATE_y               45994 non-null  object \n",
            " 44  START_TIME_x               45994 non-null  object \n",
            " 45  QUOT_DEAD                  45994 non-null  object \n",
            " 46  QUOT_DEAD_TIME             45994 non-null  object \n",
            " 47  CREATED_AT_DATE            45994 non-null  object \n",
            " 48  CREATED_AT_TIME            45994 non-null  object \n",
            " 49  TZONE                      45994 non-null  object \n",
            " 50  CURRENCY                   45971 non-null  object \n",
            " 51  YPPAYCON                   0 non-null      float64\n",
            " 52  YPCON_INCO1                0 non-null      float64\n",
            " 53  YPCON_MODALITY             45963 non-null  float64\n",
            " 54  YPCON_MODALITY_NAME        45963 non-null  object \n",
            " 55  YPCON_QUOTE_REQUEST        45994 non-null  int64  \n",
            " 56  ATTACHMENTS                45994 non-null  object \n",
            " 57  DISPLAY_PROP_LANCE         40262 non-null  object \n",
            " 58  PUBL_DOU_DATE              45994 non-null  object \n",
            " 59  DISPUTE_MODE_y             45994 non-null  int64  \n",
            " 60  MEPP                       1059 non-null   object \n",
            " 61  AUC_START_DATE_y           45994 non-null  object \n",
            " 62  AUC_START_TIME_y           45994 non-null  object \n",
            " 63  YPCON_OBJ_CONT_DESC        45884 non-null  object \n",
            " 64  START_DATE                 45994 non-null  object \n",
            " 65  START_TIME_y               45994 non-null  object \n",
            " 66  RECURSAL_PERIOD            45994 non-null  object \n",
            " 67  END_TIME                   45994 non-null  object \n",
            " 68  END_DATE_y                 45994 non-null  object \n",
            " 69  COMMERCIAL_PROP_OPEN_TIME  45994 non-null  object \n",
            " 70  COMMERCIAL_PROP_OPEN_DATE  45994 non-null  object \n",
            " 71  DIVULG_DATE                45994 non-null  object \n",
            " 72  OPPORT_TYPE_DESC           45994 non-null  object \n",
            " 73  Julgamento                 45994 non-null  object \n",
            "dtypes: float64(11), int64(8), object(55)\n",
            "memory usage: 26.3+ MB\n"
          ]
        }
      ],
      "source": [
        "df.info()"
      ]
    },
    {
      "cell_type": "markdown",
      "metadata": {},
      "source": [
        "Removendo as canceladas"
      ]
    },
    {
      "cell_type": "code",
      "execution_count": 118,
      "metadata": {},
      "outputs": [],
      "source": [
        "#df = (df[df['SUB_STATUS']!=4] & df[df['DM_CARACTERISTICA']=='VENCEDOR PELA MELHOR PROPOSTA'])\n",
        "df = df.query('SUB_STATUS != 4 & DM_CARACTERISTICA==\"VENCEDOR PELA MELHOR PROPOSTA\" & Julgamento==\"ITEM\"')"
      ]
    },
    {
      "cell_type": "markdown",
      "metadata": {},
      "source": [
        "<h2>Analisando numero de registros por oportunidade</br>\n",
        "Aparentemente está com registros duplicados baseado em alguma coluna"
      ]
    },
    {
      "cell_type": "code",
      "execution_count": 119,
      "metadata": {},
      "outputs": [
        {
          "data": {
            "text/html": [
              "<div>\n",
              "<style scoped>\n",
              "    .dataframe tbody tr th:only-of-type {\n",
              "        vertical-align: middle;\n",
              "    }\n",
              "\n",
              "    .dataframe tbody tr th {\n",
              "        vertical-align: top;\n",
              "    }\n",
              "\n",
              "    .dataframe thead th {\n",
              "        text-align: right;\n",
              "    }\n",
              "</style>\n",
              "<table border=\"1\" class=\"dataframe\">\n",
              "  <thead>\n",
              "    <tr style=\"text-align: right;\">\n",
              "      <th></th>\n",
              "      <th>OPPORT_NUM</th>\n",
              "    </tr>\n",
              "  </thead>\n",
              "  <tbody>\n",
              "    <tr>\n",
              "      <th>7002093364</th>\n",
              "      <td>31</td>\n",
              "    </tr>\n",
              "    <tr>\n",
              "      <th>7003660639</th>\n",
              "      <td>29</td>\n",
              "    </tr>\n",
              "    <tr>\n",
              "      <th>7002091174</th>\n",
              "      <td>29</td>\n",
              "    </tr>\n",
              "    <tr>\n",
              "      <th>7003593218</th>\n",
              "      <td>27</td>\n",
              "    </tr>\n",
              "    <tr>\n",
              "      <th>7002720974</th>\n",
              "      <td>26</td>\n",
              "    </tr>\n",
              "  </tbody>\n",
              "</table>\n",
              "</div>"
            ],
            "text/plain": [
              "            OPPORT_NUM\n",
              "7002093364          31\n",
              "7003660639          29\n",
              "7002091174          29\n",
              "7003593218          27\n",
              "7002720974          26"
            ]
          },
          "execution_count": 119,
          "metadata": {},
          "output_type": "execute_result"
        }
      ],
      "source": [
        "df['OPPORT_NUM'].value_counts().to_frame().sort_values('OPPORT_NUM',ascending=False).head()"
      ]
    },
    {
      "cell_type": "markdown",
      "metadata": {},
      "source": [
        "<h2>Faz um loop nas colunas para entender qual tem valores distintos e remove"
      ]
    },
    {
      "cell_type": "code",
      "execution_count": 120,
      "metadata": {},
      "outputs": [
        {
          "data": {
            "text/plain": [
              "'Colunas detectadas no arquivo que estavam impedindo que 1 oportunidade ocupasse somente 1 linha'"
            ]
          },
          "metadata": {},
          "output_type": "display_data"
        },
        {
          "data": {
            "text/plain": [
              "[]"
            ]
          },
          "metadata": {},
          "output_type": "display_data"
        }
      ],
      "source": [
        "checa=df[df['OPPORT_NUM']==7002573241]\n",
        "colunas_duplicadas = []\n",
        "\n",
        "for t in checa.columns.to_list():\n",
        "    if len(checa[t].unique()) >1:\n",
        "        colunas_duplicadas.append(t)\n",
        "df.drop(colunas_duplicadas,axis='columns',inplace=True)\n",
        "df.drop_duplicates(inplace=True)\n",
        "df.reset_index(drop=True,inplace=True)\n",
        "display('Colunas detectadas no arquivo que estavam impedindo que 1 oportunidade ocupasse somente 1 linha',colunas_duplicadas)"
      ]
    },
    {
      "cell_type": "markdown",
      "metadata": {},
      "source": [
        "<h3>EXECUTA NOVAMENTE O COMANDO"
      ]
    },
    {
      "cell_type": "code",
      "execution_count": 121,
      "metadata": {},
      "outputs": [
        {
          "data": {
            "text/html": [
              "<div>\n",
              "<style scoped>\n",
              "    .dataframe tbody tr th:only-of-type {\n",
              "        vertical-align: middle;\n",
              "    }\n",
              "\n",
              "    .dataframe tbody tr th {\n",
              "        vertical-align: top;\n",
              "    }\n",
              "\n",
              "    .dataframe thead th {\n",
              "        text-align: right;\n",
              "    }\n",
              "</style>\n",
              "<table border=\"1\" class=\"dataframe\">\n",
              "  <thead>\n",
              "    <tr style=\"text-align: right;\">\n",
              "      <th></th>\n",
              "      <th>OPPORT_NUM</th>\n",
              "    </tr>\n",
              "  </thead>\n",
              "  <tbody>\n",
              "    <tr>\n",
              "      <th>7002093364</th>\n",
              "      <td>31</td>\n",
              "    </tr>\n",
              "    <tr>\n",
              "      <th>7003660639</th>\n",
              "      <td>29</td>\n",
              "    </tr>\n",
              "    <tr>\n",
              "      <th>7002091174</th>\n",
              "      <td>29</td>\n",
              "    </tr>\n",
              "    <tr>\n",
              "      <th>7003593218</th>\n",
              "      <td>27</td>\n",
              "    </tr>\n",
              "    <tr>\n",
              "      <th>7002720974</th>\n",
              "      <td>26</td>\n",
              "    </tr>\n",
              "  </tbody>\n",
              "</table>\n",
              "</div>"
            ],
            "text/plain": [
              "            OPPORT_NUM\n",
              "7002093364          31\n",
              "7003660639          29\n",
              "7002091174          29\n",
              "7003593218          27\n",
              "7002720974          26"
            ]
          },
          "execution_count": 121,
          "metadata": {},
          "output_type": "execute_result"
        }
      ],
      "source": [
        "df['OPPORT_NUM'].value_counts().to_frame().sort_values('OPPORT_NUM',ascending=False).head()"
      ]
    },
    {
      "cell_type": "markdown",
      "metadata": {},
      "source": [
        "<h2>Dropa as colunas que estejam 100% vazias"
      ]
    },
    {
      "cell_type": "code",
      "execution_count": 122,
      "metadata": {
        "id": "zyvs8HO_v8NZ"
      },
      "outputs": [],
      "source": [
        "#dropar colunas vazias\n",
        "#how=all, dropa somente quando a coluna inteira está vazia\n",
        "df.dropna(axis='columns',how='all',inplace=True)"
      ]
    },
    {
      "cell_type": "markdown",
      "metadata": {},
      "source": [
        "<h2> Dropar as colunas que possuem somente 1 valor em todo o dataset"
      ]
    },
    {
      "cell_type": "code",
      "execution_count": 123,
      "metadata": {
        "colab": {
          "base_uri": "https://localhost:8080/"
        },
        "id": "stS7NYXjwLPR",
        "outputId": "9b09fc30-49ac-4282-853c-a2ef3d148410"
      },
      "outputs": [
        {
          "name": "stdout",
          "output_type": "stream",
          "text": [
            "['LIMIT_IN_DAYS', 'COMPANY', 'COMPANY_DESC', 'POSTING_DATE', 'OPEN_DATE', 'OPEN_HOUR', 'DISPUTE_MODE_x', 'PQ_VENDOR_LIST_DATE', 'PQ_VENDOR_LIST_HOUR', 'REGIONS', 'AUC_START_DATE_x', 'AUC_START_TIME_x', 'DM_DESCRICAO', 'DM_CARACTERISTICA', 'DM_DESC_CURTA', 'HISTORY', 'HISTORY_DYN_NAME', 'CO_CODE', 'EMP_DESCRIPTION', 'YPCON_MODALITY', 'YPCON_MODALITY_NAME', 'YPCON_QUOTE_REQUEST', 'DISPLAY_PROP_LANCE', 'DISPUTE_MODE_y', 'AUC_START_DATE_y', 'AUC_START_TIME_y', 'Julgamento']\n"
          ]
        }
      ],
      "source": [
        "#dropar colunas que tem somente 1 registro para todo o dataset\n",
        "lista_colunas = df.columns.to_list()\n",
        "lista_valor_unico_remover = []\n",
        "for row in lista_colunas:\n",
        "  if len(df[row].unique()) == 1:\n",
        "    lista_valor_unico_remover.append(row)\n",
        "print(lista_valor_unico_remover)\n",
        "df.drop(columns=lista_valor_unico_remover,inplace=True)"
      ]
    },
    {
      "cell_type": "markdown",
      "metadata": {},
      "source": [
        "<h2> checando colunas com sufixo _x e _y. Essas colunas são criadas automaticamente pelo pandas quando no merge elas tem o mesmo nome </br>\n",
        "Abaixo são verificadas essas colunas, comparados os dados de ambas e se forem realmente identicas, deixa somente uma delas"
      ]
    },
    {
      "cell_type": "code",
      "execution_count": 124,
      "metadata": {},
      "outputs": [
        {
          "name": "stdout",
          "output_type": "stream",
          "text": [
            "START_DATE    {True}\n",
            "['START_DATE_y', 'START_DATE_x']\n",
            "END_DATE    {True}\n",
            "['END_DATE_y', 'END_DATE_x']\n"
          ]
        }
      ],
      "source": [
        "lista_colunas = df.columns.to_list()\n",
        "cols_duplicadas = []\n",
        "for cols in lista_colunas:\n",
        "     if '_x' in cols or '_y' in cols:\n",
        "         cols_duplicadas.append(cols.replace('_x','').replace('_y',''))\n",
        "dict_colunas_repetidas = {}\n",
        "for  cols_dpl in set(sorted(cols_duplicadas)):\n",
        "    set_comparacao = set((df[cols_dpl+'_y'] == df[cols_dpl+'_x']).to_list())\n",
        "    if len(set_comparacao) == 1 and list(set_comparacao)[0]:\n",
        "        print(cols_dpl, '  ', set_comparacao)\n",
        "        df[cols_dpl] = df[cols_dpl+'_x']\n",
        "        print([cols_dpl+'_y',cols_dpl+'_x'])\n",
        "        df.drop([cols_dpl+'_y',cols_dpl+'_x'], axis='columns',inplace=True)"
      ]
    },
    {
      "cell_type": "code",
      "execution_count": 125,
      "metadata": {},
      "outputs": [
        {
          "name": "stdout",
          "output_type": "stream",
          "text": [
            "START_TIME_x\n",
            "START_TIME_y\n"
          ]
        }
      ],
      "source": [
        "for cols in df.columns.to_list():\n",
        "     if '_x' in cols or '_y' in cols:\n",
        "        print(cols)"
      ]
    },
    {
      "cell_type": "markdown",
      "metadata": {},
      "source": [
        "<h2> Preenche todos os registros que estejam nulos com a instrução \"SEM |Nome da coluna|\""
      ]
    },
    {
      "cell_type": "code",
      "execution_count": 126,
      "metadata": {},
      "outputs": [],
      "source": [
        "# lista_colunas = df.columns.to_list()\n",
        "# for lst_cols in lista_colunas:\n",
        "#     if df[lst_cols].value_counts().sum() != df.shape[0]:\n",
        "#         df[lst_cols].fillna('SEM '+lst_cols,inplace=True)\n",
        "\n",
        "df['MEPP'].fillna('SEM '+'MEPP',inplace=True)"
      ]
    },
    {
      "cell_type": "markdown",
      "metadata": {},
      "source": [
        "<h2> Colunas à Dropar"
      ]
    },
    {
      "cell_type": "code",
      "execution_count": 127,
      "metadata": {},
      "outputs": [],
      "source": [
        "df['DESCRIPTION'] = df['YPCON_OBJ_CONT_DESC']\n",
        "df.drop(['OPPORT_DESCR','YPCON_OBJ_CONT_DESC'],axis='columns',inplace=True)"
      ]
    },
    {
      "cell_type": "markdown",
      "metadata": {},
      "source": [
        "<h2> Combinar colunas código + descrição"
      ]
    },
    {
      "cell_type": "code",
      "execution_count": 128,
      "metadata": {},
      "outputs": [
        {
          "data": {
            "text/plain": [
              "Index(['OPPORT_NUM', 'STATUS', 'STATUS_DESC', 'OPPORT_TYPE', 'DOU_PUBL_DATE',\n",
              "       'START_HOUR', 'END_HOUR', 'SUB_STATUS', 'SUB_STATUS_D', 'MESSAGES',\n",
              "       'DESCRIPTION', 'STAT', 'TXT30', 'START_TIME_x', 'QUOT_DEAD',\n",
              "       'QUOT_DEAD_TIME', 'CREATED_AT_DATE', 'CREATED_AT_TIME', 'TZONE',\n",
              "       'CURRENCY', 'ATTACHMENTS', 'PUBL_DOU_DATE', 'MEPP', 'START_DATE',\n",
              "       'START_TIME_y', 'RECURSAL_PERIOD', 'END_TIME',\n",
              "       'COMMERCIAL_PROP_OPEN_TIME', 'COMMERCIAL_PROP_OPEN_DATE', 'DIVULG_DATE',\n",
              "       'OPPORT_TYPE_DESC', 'END_DATE'],\n",
              "      dtype='object')"
            ]
          },
          "execution_count": 128,
          "metadata": {},
          "output_type": "execute_result"
        }
      ],
      "source": [
        "df.columns"
      ]
    },
    {
      "cell_type": "markdown",
      "metadata": {},
      "source": [
        "<h3> Dispute Mode"
      ]
    },
    {
      "cell_type": "code",
      "execution_count": 129,
      "metadata": {},
      "outputs": [
        {
          "data": {
            "text/html": [
              "<div>\n",
              "<style scoped>\n",
              "    .dataframe tbody tr th:only-of-type {\n",
              "        vertical-align: middle;\n",
              "    }\n",
              "\n",
              "    .dataframe tbody tr th {\n",
              "        vertical-align: top;\n",
              "    }\n",
              "\n",
              "    .dataframe thead th {\n",
              "        text-align: right;\n",
              "    }\n",
              "</style>\n",
              "<table border=\"1\" class=\"dataframe\">\n",
              "  <thead>\n",
              "    <tr style=\"text-align: right;\">\n",
              "      <th></th>\n",
              "      <th>OPPORT_NUM</th>\n",
              "      <th>STATUS</th>\n",
              "      <th>STATUS_DESC</th>\n",
              "      <th>OPPORT_TYPE</th>\n",
              "      <th>DOU_PUBL_DATE</th>\n",
              "      <th>START_HOUR</th>\n",
              "      <th>END_HOUR</th>\n",
              "      <th>SUB_STATUS</th>\n",
              "      <th>SUB_STATUS_D</th>\n",
              "      <th>MESSAGES</th>\n",
              "      <th>...</th>\n",
              "      <th>MEPP</th>\n",
              "      <th>START_DATE</th>\n",
              "      <th>START_TIME_y</th>\n",
              "      <th>RECURSAL_PERIOD</th>\n",
              "      <th>END_TIME</th>\n",
              "      <th>COMMERCIAL_PROP_OPEN_TIME</th>\n",
              "      <th>COMMERCIAL_PROP_OPEN_DATE</th>\n",
              "      <th>DIVULG_DATE</th>\n",
              "      <th>OPPORT_TYPE_DESC</th>\n",
              "      <th>END_DATE</th>\n",
              "    </tr>\n",
              "  </thead>\n",
              "  <tbody>\n",
              "    <tr>\n",
              "      <th>0</th>\n",
              "      <td>7001983403</td>\n",
              "      <td>E0005</td>\n",
              "      <td>PATEC cancelled</td>\n",
              "      <td>LICI</td>\n",
              "      <td>2018-02-09</td>\n",
              "      <td>11:00:00</td>\n",
              "      <td>12:00:00</td>\n",
              "      <td>1</td>\n",
              "      <td>Todos</td>\n",
              "      <td>X</td>\n",
              "      <td>...</td>\n",
              "      <td>X</td>\n",
              "      <td>2018-02-09</td>\n",
              "      <td>11:00:00</td>\n",
              "      <td>2018-05-24</td>\n",
              "      <td>12:00:00</td>\n",
              "      <td>12:00:00</td>\n",
              "      <td>2018-02-23</td>\n",
              "      <td>[{'YPCON_DATE': '2018-05-25', 'YPCON_TIME': '0...</td>\n",
              "      <td>LICITAÇÃO PÚBLICA INTEGRADA ITEM</td>\n",
              "      <td>2018-02-23</td>\n",
              "    </tr>\n",
              "    <tr>\n",
              "      <th>1</th>\n",
              "      <td>7001983403</td>\n",
              "      <td>E0005</td>\n",
              "      <td>PATEC cancelled</td>\n",
              "      <td>LICI</td>\n",
              "      <td>2018-02-09</td>\n",
              "      <td>11:00:00</td>\n",
              "      <td>12:00:00</td>\n",
              "      <td>1</td>\n",
              "      <td>Todos</td>\n",
              "      <td>X</td>\n",
              "      <td>...</td>\n",
              "      <td>X</td>\n",
              "      <td>2018-02-09</td>\n",
              "      <td>11:00:00</td>\n",
              "      <td>2018-05-24</td>\n",
              "      <td>12:00:00</td>\n",
              "      <td>12:00:00</td>\n",
              "      <td>2018-02-23</td>\n",
              "      <td>[{'YPCON_DATE': '2018-05-25', 'YPCON_TIME': '0...</td>\n",
              "      <td>LICITAÇÃO PÚBLICA INTEGRADA ITEM</td>\n",
              "      <td>2018-02-23</td>\n",
              "    </tr>\n",
              "    <tr>\n",
              "      <th>2</th>\n",
              "      <td>7001983403</td>\n",
              "      <td>E0005</td>\n",
              "      <td>PATEC cancelled</td>\n",
              "      <td>LICI</td>\n",
              "      <td>2018-02-09</td>\n",
              "      <td>11:00:00</td>\n",
              "      <td>12:00:00</td>\n",
              "      <td>1</td>\n",
              "      <td>Todos</td>\n",
              "      <td>X</td>\n",
              "      <td>...</td>\n",
              "      <td>X</td>\n",
              "      <td>2018-02-09</td>\n",
              "      <td>11:00:00</td>\n",
              "      <td>2018-05-24</td>\n",
              "      <td>12:00:00</td>\n",
              "      <td>12:00:00</td>\n",
              "      <td>2018-02-23</td>\n",
              "      <td>[{'YPCON_DATE': '2018-05-25', 'YPCON_TIME': '0...</td>\n",
              "      <td>LICITAÇÃO PÚBLICA INTEGRADA ITEM</td>\n",
              "      <td>2018-02-23</td>\n",
              "    </tr>\n",
              "    <tr>\n",
              "      <th>3</th>\n",
              "      <td>7001983403</td>\n",
              "      <td>E0005</td>\n",
              "      <td>PATEC cancelled</td>\n",
              "      <td>LICI</td>\n",
              "      <td>2018-02-09</td>\n",
              "      <td>11:00:00</td>\n",
              "      <td>12:00:00</td>\n",
              "      <td>1</td>\n",
              "      <td>Todos</td>\n",
              "      <td>X</td>\n",
              "      <td>...</td>\n",
              "      <td>X</td>\n",
              "      <td>2018-02-09</td>\n",
              "      <td>11:00:00</td>\n",
              "      <td>2018-05-24</td>\n",
              "      <td>12:00:00</td>\n",
              "      <td>12:00:00</td>\n",
              "      <td>2018-02-23</td>\n",
              "      <td>[{'YPCON_DATE': '2018-05-25', 'YPCON_TIME': '0...</td>\n",
              "      <td>LICITAÇÃO PÚBLICA INTEGRADA ITEM</td>\n",
              "      <td>2018-02-23</td>\n",
              "    </tr>\n",
              "    <tr>\n",
              "      <th>4</th>\n",
              "      <td>7001983403</td>\n",
              "      <td>E0005</td>\n",
              "      <td>PATEC cancelled</td>\n",
              "      <td>LICI</td>\n",
              "      <td>2018-02-09</td>\n",
              "      <td>11:00:00</td>\n",
              "      <td>12:00:00</td>\n",
              "      <td>1</td>\n",
              "      <td>Todos</td>\n",
              "      <td>X</td>\n",
              "      <td>...</td>\n",
              "      <td>X</td>\n",
              "      <td>2018-02-09</td>\n",
              "      <td>11:00:00</td>\n",
              "      <td>2018-05-24</td>\n",
              "      <td>12:00:00</td>\n",
              "      <td>12:00:00</td>\n",
              "      <td>2018-02-23</td>\n",
              "      <td>[{'YPCON_DATE': '2018-05-25', 'YPCON_TIME': '0...</td>\n",
              "      <td>LICITAÇÃO PÚBLICA INTEGRADA ITEM</td>\n",
              "      <td>2018-02-23</td>\n",
              "    </tr>\n",
              "  </tbody>\n",
              "</table>\n",
              "<p>5 rows × 32 columns</p>\n",
              "</div>"
            ],
            "text/plain": [
              "   OPPORT_NUM STATUS      STATUS_DESC OPPORT_TYPE DOU_PUBL_DATE START_HOUR  \\\n",
              "0  7001983403  E0005  PATEC cancelled        LICI    2018-02-09   11:00:00   \n",
              "1  7001983403  E0005  PATEC cancelled        LICI    2018-02-09   11:00:00   \n",
              "2  7001983403  E0005  PATEC cancelled        LICI    2018-02-09   11:00:00   \n",
              "3  7001983403  E0005  PATEC cancelled        LICI    2018-02-09   11:00:00   \n",
              "4  7001983403  E0005  PATEC cancelled        LICI    2018-02-09   11:00:00   \n",
              "\n",
              "   END_HOUR  SUB_STATUS SUB_STATUS_D MESSAGES  ... MEPP  START_DATE  \\\n",
              "0  12:00:00           1        Todos        X  ...    X  2018-02-09   \n",
              "1  12:00:00           1        Todos        X  ...    X  2018-02-09   \n",
              "2  12:00:00           1        Todos        X  ...    X  2018-02-09   \n",
              "3  12:00:00           1        Todos        X  ...    X  2018-02-09   \n",
              "4  12:00:00           1        Todos        X  ...    X  2018-02-09   \n",
              "\n",
              "  START_TIME_y RECURSAL_PERIOD  END_TIME COMMERCIAL_PROP_OPEN_TIME  \\\n",
              "0     11:00:00      2018-05-24  12:00:00                  12:00:00   \n",
              "1     11:00:00      2018-05-24  12:00:00                  12:00:00   \n",
              "2     11:00:00      2018-05-24  12:00:00                  12:00:00   \n",
              "3     11:00:00      2018-05-24  12:00:00                  12:00:00   \n",
              "4     11:00:00      2018-05-24  12:00:00                  12:00:00   \n",
              "\n",
              "  COMMERCIAL_PROP_OPEN_DATE  \\\n",
              "0                2018-02-23   \n",
              "1                2018-02-23   \n",
              "2                2018-02-23   \n",
              "3                2018-02-23   \n",
              "4                2018-02-23   \n",
              "\n",
              "                                         DIVULG_DATE  \\\n",
              "0  [{'YPCON_DATE': '2018-05-25', 'YPCON_TIME': '0...   \n",
              "1  [{'YPCON_DATE': '2018-05-25', 'YPCON_TIME': '0...   \n",
              "2  [{'YPCON_DATE': '2018-05-25', 'YPCON_TIME': '0...   \n",
              "3  [{'YPCON_DATE': '2018-05-25', 'YPCON_TIME': '0...   \n",
              "4  [{'YPCON_DATE': '2018-05-25', 'YPCON_TIME': '0...   \n",
              "\n",
              "                   OPPORT_TYPE_DESC    END_DATE  \n",
              "0  LICITAÇÃO PÚBLICA INTEGRADA ITEM  2018-02-23  \n",
              "1  LICITAÇÃO PÚBLICA INTEGRADA ITEM  2018-02-23  \n",
              "2  LICITAÇÃO PÚBLICA INTEGRADA ITEM  2018-02-23  \n",
              "3  LICITAÇÃO PÚBLICA INTEGRADA ITEM  2018-02-23  \n",
              "4  LICITAÇÃO PÚBLICA INTEGRADA ITEM  2018-02-23  \n",
              "\n",
              "[5 rows x 32 columns]"
            ]
          },
          "execution_count": 129,
          "metadata": {},
          "output_type": "execute_result"
        }
      ],
      "source": [
        "df.head()"
      ]
    },
    {
      "cell_type": "code",
      "execution_count": 130,
      "metadata": {},
      "outputs": [],
      "source": [
        "# df['DISPUTE_MODE'] =  df['DISPUTE_MODE'].astype('str') +' - '+ df['DM_DESCRICAO']\n",
        "# df.drop(['DM_DESCRICAO'],axis='columns',inplace=True)"
      ]
    },
    {
      "cell_type": "markdown",
      "metadata": {},
      "source": [
        "<h3> SUBSTATUS - SUBSTATUS_D"
      ]
    },
    {
      "cell_type": "code",
      "execution_count": 131,
      "metadata": {},
      "outputs": [],
      "source": [
        "df['SUB_STATUS'] =  df['SUB_STATUS'].astype(\"string\") +' - '+ df['SUB_STATUS_D']\n",
        "df.drop(['SUB_STATUS_D'],axis='columns',inplace=True)"
      ]
    },
    {
      "cell_type": "markdown",
      "metadata": {},
      "source": [
        "<h3> Opport_type - Opport_type_desc - Julgamento"
      ]
    },
    {
      "cell_type": "code",
      "execution_count": 132,
      "metadata": {},
      "outputs": [],
      "source": [
        "df['OPPORT_TYPE'] =  df['OPPORT_TYPE']+' - '+ df['OPPORT_TYPE_DESC']\n",
        "#df['OPPORT_TYPE_JULGAMENTO'] = df['Julgamento']\n",
        "#df.drop(['OPPORT_TYPE_DESC','Julgamento'],axis='columns',inplace=True)\n",
        "#df.drop(['OPPORT_TYPE_DESC'],axis='columns',inplace=True)"
      ]
    },
    {
      "cell_type": "markdown",
      "metadata": {},
      "source": [
        "<h3> Status - Status_desc - TXT30 - STAT"
      ]
    },
    {
      "cell_type": "code",
      "execution_count": 133,
      "metadata": {},
      "outputs": [
        {
          "data": {
            "text/html": [
              "<div>\n",
              "<style scoped>\n",
              "    .dataframe tbody tr th:only-of-type {\n",
              "        vertical-align: middle;\n",
              "    }\n",
              "\n",
              "    .dataframe tbody tr th {\n",
              "        vertical-align: top;\n",
              "    }\n",
              "\n",
              "    .dataframe thead th {\n",
              "        text-align: right;\n",
              "    }\n",
              "</style>\n",
              "<table border=\"1\" class=\"dataframe\">\n",
              "  <thead>\n",
              "    <tr style=\"text-align: right;\">\n",
              "      <th></th>\n",
              "      <th>STATUS</th>\n",
              "      <th>STATUS_DESC</th>\n",
              "      <th>TXT30</th>\n",
              "      <th>STAT</th>\n",
              "    </tr>\n",
              "  </thead>\n",
              "  <tbody>\n",
              "    <tr>\n",
              "      <th>161</th>\n",
              "      <td>E0007</td>\n",
              "      <td>Em Habilitação - Solicit. Doc.</td>\n",
              "      <td>NaN</td>\n",
              "      <td>E0007</td>\n",
              "    </tr>\n",
              "    <tr>\n",
              "      <th>14</th>\n",
              "      <td>E0008</td>\n",
              "      <td>Habilitação Concluída</td>\n",
              "      <td>NaN</td>\n",
              "      <td>E0008</td>\n",
              "    </tr>\n",
              "    <tr>\n",
              "      <th>7497</th>\n",
              "      <td>E0008</td>\n",
              "      <td>Habilitação Concluída</td>\n",
              "      <td>NaN</td>\n",
              "      <td>E0001</td>\n",
              "    </tr>\n",
              "    <tr>\n",
              "      <th>11419</th>\n",
              "      <td>E0008</td>\n",
              "      <td>Habilitação Concluída</td>\n",
              "      <td>NaN</td>\n",
              "      <td>E0007</td>\n",
              "    </tr>\n",
              "    <tr>\n",
              "      <th>1822</th>\n",
              "      <td>E0010</td>\n",
              "      <td>Não Divulgado</td>\n",
              "      <td>NaN</td>\n",
              "      <td>E0010</td>\n",
              "    </tr>\n",
              "    <tr>\n",
              "      <th>0</th>\n",
              "      <td>E0005</td>\n",
              "      <td>PATEC cancelled</td>\n",
              "      <td>NaN</td>\n",
              "      <td>E0005</td>\n",
              "    </tr>\n",
              "    <tr>\n",
              "      <th>11951</th>\n",
              "      <td>E0004</td>\n",
              "      <td>PATEC finalized</td>\n",
              "      <td>NaN</td>\n",
              "      <td>E0004</td>\n",
              "    </tr>\n",
              "    <tr>\n",
              "      <th>11618</th>\n",
              "      <td>E0003</td>\n",
              "      <td>PATEC in process (Transferred)</td>\n",
              "      <td>NaN</td>\n",
              "      <td>E0003</td>\n",
              "    </tr>\n",
              "    <tr>\n",
              "      <th>2457</th>\n",
              "      <td>E0001</td>\n",
              "      <td>PATEC not started</td>\n",
              "      <td>NaN</td>\n",
              "      <td>E0001</td>\n",
              "    </tr>\n",
              "    <tr>\n",
              "      <th>12340</th>\n",
              "      <td>E0001</td>\n",
              "      <td>PATEC not started</td>\n",
              "      <td>NaN</td>\n",
              "      <td>E0008</td>\n",
              "    </tr>\n",
              "    <tr>\n",
              "      <th>12161</th>\n",
              "      <td>E0011</td>\n",
              "      <td>m Habilitação - Análise Doc.</td>\n",
              "      <td>NaN</td>\n",
              "      <td>E0011</td>\n",
              "    </tr>\n",
              "    <tr>\n",
              "      <th>693</th>\n",
              "      <td>NaN</td>\n",
              "      <td>NaN</td>\n",
              "      <td>Published</td>\n",
              "      <td>I1011</td>\n",
              "    </tr>\n",
              "    <tr>\n",
              "      <th>2555</th>\n",
              "      <td>NaN</td>\n",
              "      <td>NaN</td>\n",
              "      <td>Created</td>\n",
              "      <td>I1021</td>\n",
              "    </tr>\n",
              "    <tr>\n",
              "      <th>7444</th>\n",
              "      <td>NaN</td>\n",
              "      <td>NaN</td>\n",
              "      <td>Awaiting Approval</td>\n",
              "      <td>I1015</td>\n",
              "    </tr>\n",
              "  </tbody>\n",
              "</table>\n",
              "</div>"
            ],
            "text/plain": [
              "      STATUS                     STATUS_DESC              TXT30   STAT\n",
              "161    E0007  Em Habilitação - Solicit. Doc.                NaN  E0007\n",
              "14     E0008           Habilitação Concluída                NaN  E0008\n",
              "7497   E0008           Habilitação Concluída                NaN  E0001\n",
              "11419  E0008           Habilitação Concluída                NaN  E0007\n",
              "1822   E0010                   Não Divulgado                NaN  E0010\n",
              "0      E0005                 PATEC cancelled                NaN  E0005\n",
              "11951  E0004                 PATEC finalized                NaN  E0004\n",
              "11618  E0003  PATEC in process (Transferred)                NaN  E0003\n",
              "2457   E0001               PATEC not started                NaN  E0001\n",
              "12340  E0001               PATEC not started                NaN  E0008\n",
              "12161  E0011    m Habilitação - Análise Doc.                NaN  E0011\n",
              "693      NaN                             NaN          Published  I1011\n",
              "2555     NaN                             NaN            Created  I1021\n",
              "7444     NaN                             NaN  Awaiting Approval  I1015"
            ]
          },
          "execution_count": 133,
          "metadata": {},
          "output_type": "execute_result"
        }
      ],
      "source": [
        "status = df[['STATUS','STATUS_DESC','TXT30','STAT']]\n",
        "status.drop_duplicates().sort_values('STATUS_DESC')"
      ]
    },
    {
      "cell_type": "code",
      "execution_count": 134,
      "metadata": {},
      "outputs": [],
      "source": [
        "df['STATUS'] =  df['STATUS']+' - '+ df['STATUS_DESC']\n",
        "df['STAT'] =  df['STAT']+' - '+  df['TXT30']\n",
        "df.drop(['STATUS_DESC','TXT30'],axis='columns',inplace=True)\n",
        "temp = df.copy()"
      ]
    },
    {
      "cell_type": "code",
      "execution_count": 135,
      "metadata": {},
      "outputs": [],
      "source": [
        "temp['STATUS'].mask(temp['STATUS'].isna(),temp['STAT'],inplace=True)\n",
        "df['STATUS'] = temp['STATUS']\n",
        "df.drop(['STAT'],axis='columns',inplace=True)"
      ]
    },
    {
      "cell_type": "markdown",
      "metadata": {},
      "source": [
        "<h2> Checando as colunas de data para fazer o parse datetime"
      ]
    },
    {
      "cell_type": "code",
      "execution_count": 136,
      "metadata": {},
      "outputs": [],
      "source": [
        "import ast\n",
        "\n",
        "for ix,dvl in df.iterrows():\n",
        "    l_dvl = ast.literal_eval(dvl['DIVULG_DATE'])\n",
        "    if len(l_dvl) == 1:\n",
        "        dic_pbl = l_dvl[0]\n",
        "        for dct in dic_pbl:\n",
        "            df.loc[df.index[ix], 'DIVULG_DATE_'+dct] = dic_pbl[dct]\n",
        "\n",
        "df['DIVULG_DATE_YPCON_DATE'] = df['DIVULG_DATE_YPCON_DATE'].apply(lambda x: '1900-01-01' if x == '0000-00-00' else x )\n",
        "df['DIVULG_DATE_YPCON_DATE_H'] = pd.to_datetime(df['DIVULG_DATE_YPCON_DATE'] + ' ' +df['DIVULG_DATE_YPCON_TIME'])\n",
        "df.drop(columns=['DIVULG_DATE_YPCON_DATE','DIVULG_DATE','DIVULG_DATE_YPCON_TIME'],inplace=True)"
      ]
    },
    {
      "cell_type": "code",
      "execution_count": 137,
      "metadata": {
        "id": "f7Rj89T0yEwn"
      },
      "outputs": [],
      "source": [
        "#juntar start date + start hour\n",
        "df['START_DATE'] = df['START_DATE'].apply(lambda x: '1900-01-01' if x == '0000-00-00' else x )\n",
        "df['START_DATE_H'] = pd.to_datetime(df['START_DATE'] + ' ' +df['START_HOUR'])\n",
        "df.drop(columns=['START_DATE'],inplace=True)\n",
        "df.drop(columns=['START_HOUR'],inplace=True)\n",
        "df.drop(columns=['START_TIME_x'],inplace=True)\n",
        "df.drop(columns=['START_TIME_y'],inplace=True)"
      ]
    },
    {
      "cell_type": "code",
      "execution_count": 138,
      "metadata": {},
      "outputs": [],
      "source": [
        "#juntar start date + start hour\n",
        "df['QUOT_DEAD'] = df['QUOT_DEAD'].apply(lambda x: '1900-01-01' if x == '0000-00-00' else x )\n",
        "df['QUOT_DEAD_H'] = pd.to_datetime(df['QUOT_DEAD'] + ' ' +df['QUOT_DEAD_TIME'])\n",
        "df.drop(columns=['QUOT_DEAD'],inplace=True)\n",
        "df.drop(columns=['QUOT_DEAD_TIME'],inplace=True)"
      ]
    },
    {
      "cell_type": "code",
      "execution_count": 139,
      "metadata": {
        "id": "7jHg9yqbyxsn"
      },
      "outputs": [],
      "source": [
        "#juntar end date + end hour\n",
        "df['CREATED_AT_DATE'] = df['CREATED_AT_DATE'].apply(lambda x: '1900-01-01' if x == '0000-00-00' else x )\n",
        "df['CREATED_AT_DATE_H'] = pd.to_datetime(df['CREATED_AT_DATE'] + ' ' +df['CREATED_AT_TIME'])\n",
        "df.drop(columns=['CREATED_AT_DATE'],inplace=True)\n",
        "df.drop(columns=['CREATED_AT_TIME'],inplace=True)"
      ]
    },
    {
      "cell_type": "code",
      "execution_count": 140,
      "metadata": {
        "id": "-eIzNwG9zBnf"
      },
      "outputs": [],
      "source": [
        "#juntar auc date + auchour\n",
        "df['END_DATE'] = df['END_DATE'].apply(lambda x: '1900-01-01' if x == '0000-00-00' else x )\n",
        "df['END_DATE_H'] = pd.to_datetime(df['END_DATE'] + ' ' +df['END_HOUR'])\n",
        "df.drop(columns=['END_DATE'],inplace=True)\n",
        "df.drop(columns=['END_HOUR'],inplace=True)\n",
        "df.drop(columns=['END_TIME'],inplace=True)"
      ]
    },
    {
      "cell_type": "code",
      "execution_count": 141,
      "metadata": {},
      "outputs": [],
      "source": [
        "# #juntar auc date + auchour\n",
        "# df['AUC_START_DATE'] = df['AUC_START_DATE'].apply(lambda x: '1900-01-01' if x == '0000-00-00' else x )\n",
        "# df['AUC_START_DATE_H'] = pd.to_datetime(df['AUC_START_DATE'] + ' ' +df['AUC_START_TIME'])\n",
        "# df.drop(columns=['AUC_START_DATE'],inplace=True)\n",
        "# df.drop(columns=['AUC_START_TIME'],inplace=True)"
      ]
    },
    {
      "cell_type": "code",
      "execution_count": 142,
      "metadata": {},
      "outputs": [],
      "source": [
        "#juntar auc date + auchour\n",
        "df['COMMERCIAL_PROP_OPEN_DATE'] = df['COMMERCIAL_PROP_OPEN_DATE'].apply(lambda x: '1900-01-01' if x == '0000-00-00' else x )\n",
        "df['COMMERCIAL_PROP_OPEN_DATE_H'] = pd.to_datetime(df['COMMERCIAL_PROP_OPEN_DATE'] + ' ' +df['COMMERCIAL_PROP_OPEN_TIME'])\n",
        "df.drop(columns=['COMMERCIAL_PROP_OPEN_DATE'],inplace=True)\n",
        "df.drop(columns=['COMMERCIAL_PROP_OPEN_TIME'],inplace=True)"
      ]
    },
    {
      "cell_type": "code",
      "execution_count": 143,
      "metadata": {},
      "outputs": [
        {
          "name": "stdout",
          "output_type": "stream",
          "text": [
            "{False, True}\n"
          ]
        }
      ],
      "source": [
        "print(set((df['DOU_PUBL_DATE'] == df['PUBL_DOU_DATE']).to_list()))"
      ]
    },
    {
      "cell_type": "code",
      "execution_count": 144,
      "metadata": {
        "id": "IFJ2Fm8K1p3I"
      },
      "outputs": [],
      "source": [
        "#juntar auc date + auchour\n",
        "df['DOU_PUBL_DATE'] = pd.to_datetime(df['DOU_PUBL_DATE'].apply(lambda x: '1900-01-01' if x == '0000-00-00' else x ))\n",
        "df['PUBL_DOU_DATE'] = pd.to_datetime(df['PUBL_DOU_DATE'].apply(lambda x: '1900-01-01' if x == '0000-00-00' else x ))\n",
        "df['RECURSAL_PERIOD'] = pd.to_datetime(df['RECURSAL_PERIOD'].apply(lambda x: '1900-01-01' if x == '0000-00-00' else x ))"
      ]
    },
    {
      "cell_type": "code",
      "execution_count": 145,
      "metadata": {},
      "outputs": [
        {
          "data": {
            "text/plain": [
              "2021-04-06    79\n",
              "1900-01-01    77\n",
              "2019-02-22    76\n",
              "2018-06-25    62\n",
              "2018-08-21    59\n",
              "              ..\n",
              "2020-05-14     1\n",
              "2021-12-23     1\n",
              "2021-12-13     1\n",
              "2021-11-25     1\n",
              "2021-09-20     1\n",
              "Name: PUBL_DOU_DATE, Length: 885, dtype: int64"
            ]
          },
          "metadata": {},
          "output_type": "display_data"
        },
        {
          "data": {
            "text/plain": [
              "2018-11-06 13:30:00    92\n",
              "2021-02-18 14:00:00    68\n",
              "2018-09-03 15:00:00    66\n",
              "2018-07-13 18:00:00    60\n",
              "2019-04-09 18:00:00    58\n",
              "                       ..\n",
              "2019-09-30 17:00:00     1\n",
              "2019-09-25 12:00:00     1\n",
              "2020-04-17 14:00:00     1\n",
              "2021-01-18 16:00:00     1\n",
              "2020-02-04 12:00:00     1\n",
              "Name: QUOT_DEAD_H, Length: 1954, dtype: int64"
            ]
          },
          "metadata": {},
          "output_type": "display_data"
        }
      ],
      "source": [
        "display(df['PUBL_DOU_DATE'].value_counts())\n",
        "display(df['QUOT_DEAD_H'].value_counts())\n",
        "df.drop(['PUBL_DOU_DATE','QUOT_DEAD_H'],axis='columns',inplace=True)"
      ]
    },
    {
      "cell_type": "markdown",
      "metadata": {},
      "source": [
        "<h2> Criando uma lista com colunas do tipo object para usar na função de plot"
      ]
    },
    {
      "cell_type": "code",
      "execution_count": 146,
      "metadata": {},
      "outputs": [],
      "source": [
        "df_colunas_obj = df.loc[:, df.dtypes == object]\n",
        "cols_object = df_colunas_obj.describe().T\n",
        "cols_object = cols_object.reset_index()\n",
        "cols_object['dist_uniques'] = (cols_object['freq'] / cols_object['count'])*100\n",
        "cols_object = cols_object[cols_object['dist_uniques']<80]\n",
        "lista_objects = cols_object['index'].to_list()"
      ]
    },
    {
      "cell_type": "code",
      "execution_count": 147,
      "metadata": {},
      "outputs": [
        {
          "data": {
            "text/html": [
              "<div>\n",
              "<style scoped>\n",
              "    .dataframe tbody tr th:only-of-type {\n",
              "        vertical-align: middle;\n",
              "    }\n",
              "\n",
              "    .dataframe tbody tr th {\n",
              "        vertical-align: top;\n",
              "    }\n",
              "\n",
              "    .dataframe thead th {\n",
              "        text-align: right;\n",
              "    }\n",
              "</style>\n",
              "<table border=\"1\" class=\"dataframe\">\n",
              "  <thead>\n",
              "    <tr style=\"text-align: right;\">\n",
              "      <th></th>\n",
              "      <th>index</th>\n",
              "      <th>count</th>\n",
              "      <th>unique</th>\n",
              "      <th>top</th>\n",
              "      <th>freq</th>\n",
              "      <th>dist_uniques</th>\n",
              "    </tr>\n",
              "  </thead>\n",
              "  <tbody>\n",
              "    <tr>\n",
              "      <th>0</th>\n",
              "      <td>STATUS</td>\n",
              "      <td>12387</td>\n",
              "      <td>11</td>\n",
              "      <td>E0008 - Habilitação Concluída</td>\n",
              "      <td>5406</td>\n",
              "      <td>43.642528</td>\n",
              "    </tr>\n",
              "    <tr>\n",
              "      <th>3</th>\n",
              "      <td>DESCRIPTION</td>\n",
              "      <td>12347</td>\n",
              "      <td>2590</td>\n",
              "      <td>Acoplamento flexível.</td>\n",
              "      <td>46</td>\n",
              "      <td>0.37256</td>\n",
              "    </tr>\n",
              "    <tr>\n",
              "      <th>4</th>\n",
              "      <td>TZONE</td>\n",
              "      <td>12387</td>\n",
              "      <td>12</td>\n",
              "      <td>Brazil - Distrito Federal</td>\n",
              "      <td>6513</td>\n",
              "      <td>52.579317</td>\n",
              "    </tr>\n",
              "    <tr>\n",
              "      <th>6</th>\n",
              "      <td>ATTACHMENTS</td>\n",
              "      <td>12387</td>\n",
              "      <td>12363</td>\n",
              "      <td>{'DESCRIPTION': 'Informação de Solicitação de ...</td>\n",
              "      <td>18</td>\n",
              "      <td>0.145314</td>\n",
              "    </tr>\n",
              "  </tbody>\n",
              "</table>\n",
              "</div>"
            ],
            "text/plain": [
              "         index  count unique  \\\n",
              "0       STATUS  12387     11   \n",
              "3  DESCRIPTION  12347   2590   \n",
              "4        TZONE  12387     12   \n",
              "6  ATTACHMENTS  12387  12363   \n",
              "\n",
              "                                                 top  freq dist_uniques  \n",
              "0                      E0008 - Habilitação Concluída  5406    43.642528  \n",
              "3                              Acoplamento flexível.    46      0.37256  \n",
              "4                          Brazil - Distrito Federal  6513    52.579317  \n",
              "6  {'DESCRIPTION': 'Informação de Solicitação de ...    18     0.145314  "
            ]
          },
          "execution_count": 147,
          "metadata": {},
          "output_type": "execute_result"
        }
      ],
      "source": [
        "cols_object"
      ]
    },
    {
      "cell_type": "code",
      "execution_count": 148,
      "metadata": {},
      "outputs": [
        {
          "data": {
            "text/plain": [
              "['STATUS', 'DESCRIPTION', 'TZONE', 'ATTACHMENTS']"
            ]
          },
          "execution_count": 148,
          "metadata": {},
          "output_type": "execute_result"
        }
      ],
      "source": [
        "lista_objects"
      ]
    },
    {
      "cell_type": "code",
      "execution_count": 149,
      "metadata": {
        "colab": {
          "base_uri": "https://localhost:8080/",
          "height": 606
        },
        "id": "obYvtezEmgF3",
        "outputId": "6901fa2f-55a1-41b5-a55a-2e179ea142b5"
      },
      "outputs": [],
      "source": [
        "# qtdplots = len(lista_objects)\n",
        "\n",
        "# if qtdplots==1:\n",
        "#   f, ax = plt.subplots(figsize=(45,25))\n",
        "#   sns.countplot(x=lista_objects[0], data=df, order=df[lista_objects[0]].value_counts().index)\n",
        "# else:\n",
        "\n",
        "#   print(qtdplots)\n",
        "#   f, ax = plt.subplots(qtdplots,1,figsize=(15,qtdplots*10))\n",
        "#   f.subplots_adjust(hspace=1.5, wspace=0.225)\n",
        "#   for idx,plts in enumerate(lista_objects):\n",
        "#     ax[idx]=sns.countplot(ax=ax[idx],x=plts, data=df, order=df[plts].value_counts().index)\n",
        "#     ax[idx].tick_params(axis='x', rotation=80)"
      ]
    },
    {
      "cell_type": "code",
      "execution_count": 150,
      "metadata": {},
      "outputs": [],
      "source": [
        "#df.OPPORT_TYPE_JULGAMENTO.value_counts(normalize=True)"
      ]
    },
    {
      "cell_type": "markdown",
      "metadata": {},
      "source": [
        "<h2> plota alguns countplots para numéricos"
      ]
    },
    {
      "cell_type": "code",
      "execution_count": 151,
      "metadata": {
        "colab": {
          "base_uri": "https://localhost:8080/",
          "height": 623
        },
        "id": "RMHrPCPn2oVs",
        "outputId": "f68782a5-5110-4b35-e70d-d3bee22fb452"
      },
      "outputs": [],
      "source": [
        "#f, ax = plt.subplots(figsize=(10,5))\n",
        "#sns.countplot(x='YPCON_QUOTE_REQUEST', data=df, order=df['YPCON_QUOTE_REQUEST'].value_counts().index)"
      ]
    },
    {
      "cell_type": "code",
      "execution_count": 152,
      "metadata": {},
      "outputs": [],
      "source": [
        "# df_ypcon = df[['YPCON_QUOTE_REQUEST','OPPORT_TYPE_JULGAMENTO']].value_counts(normalize=True).rename('%').mul(100).reset_index().sort_values('%', ascending=False)\n",
        "\n",
        "# f, ax = plt.subplots(figsize=(15,5))\n",
        "# f.subplots_adjust(hspace=0.5, wspace=.2)\n",
        "# sns.barplot(data=df_ypcon, x='YPCON_QUOTE_REQUEST', y='%',hue='OPPORT_TYPE_JULGAMENTO')"
      ]
    },
    {
      "cell_type": "code",
      "execution_count": 153,
      "metadata": {},
      "outputs": [],
      "source": [
        "# df = df.drop('YPCON_QUOTE_REQUEST', axis=1)"
      ]
    },
    {
      "cell_type": "code",
      "execution_count": 154,
      "metadata": {},
      "outputs": [],
      "source": [
        "df['END_DATE_H_MES'] = df['END_DATE_H'].dt.to_period('M')"
      ]
    },
    {
      "cell_type": "code",
      "execution_count": 155,
      "metadata": {},
      "outputs": [],
      "source": [
        "# qtdplots = len(lista_objects)\n",
        "\n",
        "# if qtdplots==1:\n",
        "#   f, ax = plt.subplots(figsize=(45,25))\n",
        "#   sns.countplot(x=lista_objects[0], data=df, order=df[lista_objects[0]].value_counts().index)\n",
        "# else:\n",
        "#   f, ax = plt.subplots(qtdplots,1,figsize=(20,qtdplots*10)\n",
        "#   )\n",
        "#   #f.subplots_adjust(hspace=2, wspace=0.225)\n",
        "#   for idx,plts in enumerate(lista_objects):\n",
        "#     df_ano_mes = df.groupby(['END_DATE_H_MES',plts]).count()[['OPPORT_NUM']]\n",
        "#     df_ano_mes.reset_index(inplace=True)\n",
        "#     ax[idx]\n",
        "#     ax[idx]=sns.lineplot(ax=ax[idx],data=df_ano_mes,\n",
        "#                 x=df_ano_mes['END_DATE_H_MES'].astype('str'), \n",
        "#                 y=df_ano_mes['OPPORT_NUM'], \n",
        "#                 ci=None, \n",
        "#                 hue=plts)\n",
        "#     ax[idx].tick_params(axis='x', rotation=45)"
      ]
    },
    {
      "cell_type": "code",
      "execution_count": 156,
      "metadata": {},
      "outputs": [],
      "source": [
        "# df['DURACAO']= (df['END_DATE_H'].dt.date - df['START_DATE_H'].dt.date).dt.days\n",
        "# df['DURACAO'].describe().to_frame()\n",
        "# df[['OPPORT_NUM','END_DATE_H','START_DATE_H','DURACAO']].sort_values('DURACAO',ascending=False)\n",
        "# df_duracao = df[df['START_DATE_H']!='1900-01-01 00:00:00']\n",
        "# std = df_duracao['DURACAO'].describe().T.to_frame().loc['std'][0]"
      ]
    },
    {
      "cell_type": "code",
      "execution_count": 157,
      "metadata": {},
      "outputs": [],
      "source": [
        "# qtdplots = len(lista_objects)\n",
        "\n",
        "# if qtdplots==1:\n",
        "#   f, ax = plt.subplots(figsize=(45,25))\n",
        "#   sns.countplot(x=lista_objects[0], data=df, order=df[lista_objects[0]].value_counts().index)\n",
        "# else:\n",
        "#   f, ax = plt.subplots(qtdplots,1,figsize=(20,qtdplots*10))\n",
        "#   f.subplots_adjust(hspace=1, wspace=0.225)\n",
        "#   for idx,plts in enumerate(lista_objects):\n",
        "#     ax[idx]=sns.boxplot(ax=ax[idx],y='DURACAO',x=plts,data=df_duracao[df_duracao['DURACAO']<std*3])\n",
        "#     ax[idx].tick_params(axis='x', rotation=80)"
      ]
    },
    {
      "cell_type": "code",
      "execution_count": 158,
      "metadata": {},
      "outputs": [],
      "source": [
        "# qtdplots = len(lista_objects)\n",
        "\n",
        "# if qtdplots==1:\n",
        "#   f, ax = plt.subplots(figsize=(45,25))\n",
        "#   sns.countplot(x=lista_objects[0], data=df, order=df[lista_objects[0]].value_counts().index)\n",
        "# else:\n",
        "#   f, ax = plt.subplots(qtdplots,1,figsize=(20,qtdplots*10))\n",
        "#   #f.subplots_adjust(hspace=2, wspace=0.225)\n",
        "#   for idx,plts in enumerate(lista_objects):\n",
        "#     ax[idx]=sns.histplot(ax=ax[idx],x='DURACAO',hue=plts, data=df_duracao[df_duracao['DURACAO']<std*3])\n",
        "#     ax[idx].tick_params(axis='x', rotation=80)"
      ]
    },
    {
      "cell_type": "code",
      "execution_count": 159,
      "metadata": {},
      "outputs": [],
      "source": [
        "df.to_pickle('Header.pkl')\n",
        "df.to_excel('Header.xlsx')"
      ]
    }
  ],
  "metadata": {
    "colab": {
      "collapsed_sections": [],
      "name": "Análise Petronect.ipynb",
      "provenance": []
    },
    "kernelspec": {
      "display_name": "Kernel",
      "language": "python",
      "name": "kernel"
    },
    "language_info": {
      "codemirror_mode": {
        "name": "ipython",
        "version": 3
      },
      "file_extension": ".py",
      "mimetype": "text/x-python",
      "name": "python",
      "nbconvert_exporter": "python",
      "pygments_lexer": "ipython3",
      "version": "3.9.12"
    }
  },
  "nbformat": 4,
  "nbformat_minor": 0
}
