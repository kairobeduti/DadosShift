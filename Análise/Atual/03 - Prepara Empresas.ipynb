{
 "cells": [
  {
   "cell_type": "code",
   "execution_count": 1,
   "metadata": {},
   "outputs": [],
   "source": [
    "import pandas as pd\n",
    "from datetime import datetime"
   ]
  },
  {
   "cell_type": "code",
   "execution_count": 2,
   "metadata": {},
   "outputs": [],
   "source": [
    "df = pd.read_pickle('.\\99 - cnpj\\cnpjs.pkl')\n",
    "df_emp = pd.read_pickle('.\\99 - cnpj\\Empresas\\empresa.pkl')\n",
    "df_est = pd.read_pickle('.\\99 - cnpj\\Estabelecimentos\\estabelecimentos.pkl')\n",
    "df_natur_jud = pd.read_pickle(r'.\\99 - cnpj\\naturezas\\natureza_juridica.pkl')\n",
    "df_qualifics = pd.read_pickle('.\\99 - cnpj\\Qualificacoes\\qualificacoes.pkl')\n",
    "df_cnaes = pd.read_pickle('.\\99 - cnpj\\Cnaes\\cnaes.pkl')\n",
    "df_municipio = pd.read_pickle('.\\99 - cnpj\\Municipios\\municipio.pkl')\n",
    "df_socios = pd.read_pickle('.\\99 - cnpj\\Socios\\socios.pkl')\n",
    "df_motivos = pd.read_pickle(r'.\\99 - cnpj\\Motivos\\motivos.pkl')\n",
    "df_simples = pd.read_pickle(r'.\\99 - cnpj\\\\Simples\\simples.pkl')\n",
    "df_imunes_isentas = pd.read_pickle(r'.\\99 - cnpj\\Imunes e isentas\\imunes_isentas.pkl')\n",
    "df_lucro_arbitrado = pd.read_pickle(r'.\\99 - cnpj\\Lucro Arbitrado\\lucro_arbitrado.pkl')\n",
    "df_lucro_presumido = pd.read_pickle(r'.\\99 - cnpj\\Lucro Presumido\\lucro presumido.pkl')\n",
    "df_lucro_real = pd.read_pickle(r'.\\99 - cnpj\\Lucro Real\\lucro real.pkl')"
   ]
  },
  {
   "cell_type": "code",
   "execution_count": 3,
   "metadata": {},
   "outputs": [],
   "source": [
    "df = pd.merge(df,df_emp, on='cnpj_basico', how='inner')"
   ]
  },
  {
   "cell_type": "code",
   "execution_count": 4,
   "metadata": {},
   "outputs": [
    {
     "name": "stdout",
     "output_type": "stream",
     "text": [
      "<class 'datetime.date'>\n"
     ]
    }
   ],
   "source": [
    "hoje = datetime.today().date()\n",
    "print(type(hoje))"
   ]
  },
  {
   "cell_type": "code",
   "execution_count": 5,
   "metadata": {},
   "outputs": [
    {
     "data": {
      "text/plain": [
       "array(['Empresa Pequeno Porte', 'Micro Empresa', 'Demais'], dtype=object)"
      ]
     },
     "execution_count": 5,
     "metadata": {},
     "output_type": "execute_result"
    }
   ],
   "source": [
    "df['porte'] = df['porte'].astype(int)\n",
    "\n",
    "map_porte = {0: 'Não Informado',\n",
    "             1: 'Micro Empresa',\n",
    "             3: 'Empresa Pequeno Porte',\n",
    "             5: 'Demais'}\n",
    "df['porte'] = df['porte'].replace(map_porte)\n",
    "df['porte'].unique()"
   ]
  },
  {
   "cell_type": "code",
   "execution_count": 6,
   "metadata": {},
   "outputs": [],
   "source": [
    "df_qtd_estbs = df_est['cnpj_basico'].value_counts().to_frame()\n",
    "df_qtd_estbs.reset_index(inplace=True)\n",
    "df_qtd_estbs.set_axis(['cnpj_basico','quantidade_estabelecimentos_grupo'], axis='columns',inplace=True)\n",
    "df = pd.merge(df, df_qtd_estbs, on='cnpj_basico', how='inner')"
   ]
  },
  {
   "cell_type": "code",
   "execution_count": 7,
   "metadata": {},
   "outputs": [
    {
     "name": "stdout",
     "output_type": "stream",
     "text": [
      "<class 'pandas.core.frame.DataFrame'>\n",
      "Int64Index: 61 entries, 0 to 60\n",
      "Data columns (total 11 columns):\n",
      " #   Column                             Non-Null Count  Dtype \n",
      "---  ------                             --------------  ----- \n",
      " 0   cnpj                               61 non-null     object\n",
      " 1   cnpj_dv                            61 non-null     int64 \n",
      " 2   cnpj_ordem                         61 non-null     int64 \n",
      " 3   cnpj_basico                        61 non-null     int64 \n",
      " 4   razao_social                       61 non-null     object\n",
      " 5   natureza_jur                       61 non-null     int64 \n",
      " 6   quali_resp                         61 non-null     int64 \n",
      " 7   capital_social                     61 non-null     object\n",
      " 8   porte                              61 non-null     object\n",
      " 9   ente_fed_resp                      0 non-null      object\n",
      " 10  quantidade_estabelecimentos_grupo  61 non-null     int64 \n",
      "dtypes: int64(6), object(5)\n",
      "memory usage: 5.7+ KB\n"
     ]
    }
   ],
   "source": [
    "df.info()"
   ]
  },
  {
   "cell_type": "code",
   "execution_count": 8,
   "metadata": {},
   "outputs": [
    {
     "data": {
      "text/html": [
       "<div>\n",
       "<style scoped>\n",
       "    .dataframe tbody tr th:only-of-type {\n",
       "        vertical-align: middle;\n",
       "    }\n",
       "\n",
       "    .dataframe tbody tr th {\n",
       "        vertical-align: top;\n",
       "    }\n",
       "\n",
       "    .dataframe thead th {\n",
       "        text-align: right;\n",
       "    }\n",
       "</style>\n",
       "<table border=\"1\" class=\"dataframe\">\n",
       "  <thead>\n",
       "    <tr style=\"text-align: right;\">\n",
       "      <th></th>\n",
       "      <th>cnpj</th>\n",
       "      <th>cnpj_dv</th>\n",
       "      <th>cnpj_ordem</th>\n",
       "      <th>cnpj_basico</th>\n",
       "      <th>razao_social</th>\n",
       "      <th>natureza_jur</th>\n",
       "      <th>quali_resp</th>\n",
       "      <th>capital_social</th>\n",
       "      <th>porte</th>\n",
       "      <th>ente_fed_resp</th>\n",
       "      <th>...</th>\n",
       "      <th>municipio</th>\n",
       "      <th>ddd1</th>\n",
       "      <th>telefone1</th>\n",
       "      <th>ddd2</th>\n",
       "      <th>telefone2</th>\n",
       "      <th>ddd_fax</th>\n",
       "      <th>fax</th>\n",
       "      <th>correio_eletronico</th>\n",
       "      <th>situacao_especial</th>\n",
       "      <th>data_situacao_especial</th>\n",
       "    </tr>\n",
       "  </thead>\n",
       "  <tbody>\n",
       "    <tr>\n",
       "      <th>0</th>\n",
       "      <td>28289898000189</td>\n",
       "      <td>89</td>\n",
       "      <td>1</td>\n",
       "      <td>28289898</td>\n",
       "      <td>SWS MONTAGEM E MANUTENCAO INDUSTRIAL LTDA</td>\n",
       "      <td>2062</td>\n",
       "      <td>49</td>\n",
       "      <td>1500000,00</td>\n",
       "      <td>Empresa Pequeno Porte</td>\n",
       "      <td>NaN</td>\n",
       "      <td>...</td>\n",
       "      <td>3849</td>\n",
       "      <td>71.0</td>\n",
       "      <td>96278133</td>\n",
       "      <td>71.0</td>\n",
       "      <td>96900414.0</td>\n",
       "      <td>NaN</td>\n",
       "      <td>NaN</td>\n",
       "      <td>GERENCIA.ADM@SWSMONTAGEM.COM.BR</td>\n",
       "      <td>NaN</td>\n",
       "      <td>NaN</td>\n",
       "    </tr>\n",
       "  </tbody>\n",
       "</table>\n",
       "<p>1 rows × 38 columns</p>\n",
       "</div>"
      ],
      "text/plain": [
       "             cnpj  cnpj_dv  cnpj_ordem  cnpj_basico  \\\n",
       "0  28289898000189       89           1     28289898   \n",
       "\n",
       "                                razao_social  natureza_jur  quali_resp  \\\n",
       "0  SWS MONTAGEM E MANUTENCAO INDUSTRIAL LTDA          2062          49   \n",
       "\n",
       "  capital_social                  porte ente_fed_resp  ...  municipio  ddd1  \\\n",
       "0     1500000,00  Empresa Pequeno Porte           NaN  ...       3849  71.0   \n",
       "\n",
       "  telefone1  ddd2   telefone2  ddd_fax  fax               correio_eletronico  \\\n",
       "0  96278133  71.0  96900414.0      NaN  NaN  GERENCIA.ADM@SWSMONTAGEM.COM.BR   \n",
       "\n",
       "   situacao_especial  data_situacao_especial  \n",
       "0                NaN                     NaN  \n",
       "\n",
       "[1 rows x 38 columns]"
      ]
     },
     "execution_count": 8,
     "metadata": {},
     "output_type": "execute_result"
    }
   ],
   "source": [
    "df = pd.merge(df, df_est, on=['cnpj_basico','cnpj_ordem','cnpj_dv'], how='inner')\n",
    "df.head(1)"
   ]
  },
  {
   "cell_type": "code",
   "execution_count": 9,
   "metadata": {},
   "outputs": [],
   "source": [
    "df['data_inicio_atv'] = pd.to_datetime(df['data_inicio_atv'], format='%Y%m%d')\n",
    "df['idade_empresa'] = df['data_inicio_atv'].apply(lambda x: (hoje - x.date()).days // 365)\n",
    "df.drop(['data_inicio_atv'], axis='columns',inplace=True)"
   ]
  },
  {
   "cell_type": "code",
   "execution_count": 10,
   "metadata": {},
   "outputs": [
    {
     "data": {
      "text/plain": [
       "array(['Matriz', 'Filial'], dtype=object)"
      ]
     },
     "execution_count": 10,
     "metadata": {},
     "output_type": "execute_result"
    }
   ],
   "source": [
    "df['id_matriz_filial'] = df['id_matriz_filial'].astype(int)\n",
    "\n",
    "map_matriz_filial = {1: 'Matriz',\n",
    "             2: 'Filial'}\n",
    "df['id_matriz_filial'] = df['id_matriz_filial'].replace(map_matriz_filial)\n",
    "df['id_matriz_filial'].unique()"
   ]
  },
  {
   "cell_type": "code",
   "execution_count": 11,
   "metadata": {},
   "outputs": [
    {
     "data": {
      "text/plain": [
       "array(['Ativa', 'Inapta'], dtype=object)"
      ]
     },
     "execution_count": 11,
     "metadata": {},
     "output_type": "execute_result"
    }
   ],
   "source": [
    "df['sit_cadastral'] = df['sit_cadastral'].astype(int)\n",
    "\n",
    "map_sit_cad = {1: 'Nula',\n",
    "               2: 'Ativa',\n",
    "               3: 'Suspensa',\n",
    "               4: 'Inapta',\n",
    "               8: 'Baixada'}\n",
    "df['sit_cadastral'] = df['sit_cadastral'].replace(map_sit_cad)\n",
    "df['sit_cadastral'].unique()"
   ]
  },
  {
   "cell_type": "code",
   "execution_count": 12,
   "metadata": {},
   "outputs": [],
   "source": [
    "df_natur_jud.set_axis(['natureza_jur','natureza_juridica'], axis='columns', inplace=True)\n",
    "df = pd.merge(df, df_natur_jud, on='natureza_jur', how='inner')"
   ]
  },
  {
   "cell_type": "code",
   "execution_count": 13,
   "metadata": {},
   "outputs": [],
   "source": [
    "df['natureza_jur'] = df['natureza_juridica']\n",
    "df.drop(['natureza_juridica'], axis='columns', inplace=True)"
   ]
  },
  {
   "cell_type": "code",
   "execution_count": 14,
   "metadata": {},
   "outputs": [
    {
     "data": {
      "text/html": [
       "<div>\n",
       "<style scoped>\n",
       "    .dataframe tbody tr th:only-of-type {\n",
       "        vertical-align: middle;\n",
       "    }\n",
       "\n",
       "    .dataframe tbody tr th {\n",
       "        vertical-align: top;\n",
       "    }\n",
       "\n",
       "    .dataframe thead th {\n",
       "        text-align: right;\n",
       "    }\n",
       "</style>\n",
       "<table border=\"1\" class=\"dataframe\">\n",
       "  <thead>\n",
       "    <tr style=\"text-align: right;\">\n",
       "      <th></th>\n",
       "      <th>cnpj</th>\n",
       "      <th>cnpj_dv</th>\n",
       "      <th>cnpj_ordem</th>\n",
       "      <th>cnpj_basico</th>\n",
       "      <th>razao_social</th>\n",
       "      <th>natureza_jur</th>\n",
       "      <th>quali_resp</th>\n",
       "      <th>capital_social</th>\n",
       "      <th>porte</th>\n",
       "      <th>ente_fed_resp</th>\n",
       "      <th>...</th>\n",
       "      <th>ddd1</th>\n",
       "      <th>telefone1</th>\n",
       "      <th>ddd2</th>\n",
       "      <th>telefone2</th>\n",
       "      <th>ddd_fax</th>\n",
       "      <th>fax</th>\n",
       "      <th>correio_eletronico</th>\n",
       "      <th>situacao_especial</th>\n",
       "      <th>data_situacao_especial</th>\n",
       "      <th>idade_empresa</th>\n",
       "    </tr>\n",
       "  </thead>\n",
       "  <tbody>\n",
       "    <tr>\n",
       "      <th>0</th>\n",
       "      <td>28289898000189</td>\n",
       "      <td>89</td>\n",
       "      <td>1</td>\n",
       "      <td>28289898</td>\n",
       "      <td>SWS MONTAGEM E MANUTENCAO INDUSTRIAL LTDA</td>\n",
       "      <td>Sociedade Empresária Limitada</td>\n",
       "      <td>49</td>\n",
       "      <td>1500000,00</td>\n",
       "      <td>Empresa Pequeno Porte</td>\n",
       "      <td>NaN</td>\n",
       "      <td>...</td>\n",
       "      <td>71.0</td>\n",
       "      <td>96278133</td>\n",
       "      <td>71.0</td>\n",
       "      <td>96900414.0</td>\n",
       "      <td>NaN</td>\n",
       "      <td>NaN</td>\n",
       "      <td>GERENCIA.ADM@SWSMONTAGEM.COM.BR</td>\n",
       "      <td>NaN</td>\n",
       "      <td>NaN</td>\n",
       "      <td>5</td>\n",
       "    </tr>\n",
       "  </tbody>\n",
       "</table>\n",
       "<p>1 rows × 38 columns</p>\n",
       "</div>"
      ],
      "text/plain": [
       "             cnpj  cnpj_dv  cnpj_ordem  cnpj_basico  \\\n",
       "0  28289898000189       89           1     28289898   \n",
       "\n",
       "                                razao_social                   natureza_jur  \\\n",
       "0  SWS MONTAGEM E MANUTENCAO INDUSTRIAL LTDA  Sociedade Empresária Limitada   \n",
       "\n",
       "   quali_resp capital_social                  porte ente_fed_resp  ...  ddd1  \\\n",
       "0          49     1500000,00  Empresa Pequeno Porte           NaN  ...  71.0   \n",
       "\n",
       "  telefone1  ddd2   telefone2  ddd_fax  fax               correio_eletronico  \\\n",
       "0  96278133  71.0  96900414.0      NaN  NaN  GERENCIA.ADM@SWSMONTAGEM.COM.BR   \n",
       "\n",
       "   situacao_especial  data_situacao_especial idade_empresa  \n",
       "0                NaN                     NaN             5  \n",
       "\n",
       "[1 rows x 38 columns]"
      ]
     },
     "execution_count": 14,
     "metadata": {},
     "output_type": "execute_result"
    }
   ],
   "source": [
    "df.head(1)"
   ]
  },
  {
   "cell_type": "code",
   "execution_count": 15,
   "metadata": {},
   "outputs": [
    {
     "data": {
      "text/plain": [
       "(61, 39)"
      ]
     },
     "execution_count": 15,
     "metadata": {},
     "output_type": "execute_result"
    }
   ],
   "source": [
    "df_qualifics.set_axis(['quali_resp','des_qualificaccao'], axis='columns',inplace=True)\n",
    "df = pd.merge(df, df_qualifics, on=['quali_resp'], how='inner')\n",
    "df.shape"
   ]
  },
  {
   "cell_type": "code",
   "execution_count": 16,
   "metadata": {},
   "outputs": [],
   "source": [
    "df['quali_resp'] = df['des_qualificaccao']\n",
    "df.drop(['des_qualificaccao'], axis='columns', inplace=True)\n"
   ]
  },
  {
   "cell_type": "code",
   "execution_count": 17,
   "metadata": {},
   "outputs": [
    {
     "data": {
      "text/html": [
       "<div>\n",
       "<style scoped>\n",
       "    .dataframe tbody tr th:only-of-type {\n",
       "        vertical-align: middle;\n",
       "    }\n",
       "\n",
       "    .dataframe tbody tr th {\n",
       "        vertical-align: top;\n",
       "    }\n",
       "\n",
       "    .dataframe thead th {\n",
       "        text-align: right;\n",
       "    }\n",
       "</style>\n",
       "<table border=\"1\" class=\"dataframe\">\n",
       "  <thead>\n",
       "    <tr style=\"text-align: right;\">\n",
       "      <th></th>\n",
       "      <th>cod_cnae</th>\n",
       "      <th>des_cnae</th>\n",
       "    </tr>\n",
       "  </thead>\n",
       "  <tbody>\n",
       "    <tr>\n",
       "      <th>0</th>\n",
       "      <td>111301</td>\n",
       "      <td>Cultivo de arroz</td>\n",
       "    </tr>\n",
       "  </tbody>\n",
       "</table>\n",
       "</div>"
      ],
      "text/plain": [
       "   cod_cnae          des_cnae\n",
       "0    111301  Cultivo de arroz"
      ]
     },
     "execution_count": 17,
     "metadata": {},
     "output_type": "execute_result"
    }
   ],
   "source": [
    "df_cnaes.head(1)"
   ]
  },
  {
   "cell_type": "code",
   "execution_count": 18,
   "metadata": {},
   "outputs": [
    {
     "data": {
      "text/plain": [
       "(61, 39)"
      ]
     },
     "execution_count": 18,
     "metadata": {},
     "output_type": "execute_result"
    }
   ],
   "source": [
    "df_cnaes.set_axis(['cnae_fiscal_principal','des_cnae'], axis='columns', inplace=True)\n",
    "df = pd.merge(df, df_cnaes, on=['cnae_fiscal_principal'], how='inner')\n",
    "df.shape"
   ]
  },
  {
   "cell_type": "code",
   "execution_count": 19,
   "metadata": {},
   "outputs": [],
   "source": [
    "df['cnae_fiscal_principal'] = df['des_cnae']\n",
    "df.drop(['des_cnae'], axis='columns', inplace=True)"
   ]
  },
  {
   "cell_type": "code",
   "execution_count": 20,
   "metadata": {},
   "outputs": [
    {
     "data": {
      "text/html": [
       "<div>\n",
       "<style scoped>\n",
       "    .dataframe tbody tr th:only-of-type {\n",
       "        vertical-align: middle;\n",
       "    }\n",
       "\n",
       "    .dataframe tbody tr th {\n",
       "        vertical-align: top;\n",
       "    }\n",
       "\n",
       "    .dataframe thead th {\n",
       "        text-align: right;\n",
       "    }\n",
       "</style>\n",
       "<table border=\"1\" class=\"dataframe\">\n",
       "  <thead>\n",
       "    <tr style=\"text-align: right;\">\n",
       "      <th></th>\n",
       "      <th>municipio</th>\n",
       "      <th>des_municipio</th>\n",
       "    </tr>\n",
       "  </thead>\n",
       "  <tbody>\n",
       "    <tr>\n",
       "      <th>0</th>\n",
       "      <td>1</td>\n",
       "      <td>GUAJARA-MIRIM</td>\n",
       "    </tr>\n",
       "    <tr>\n",
       "      <th>1</th>\n",
       "      <td>2</td>\n",
       "      <td>ALTO ALEGRE DOS PARECIS</td>\n",
       "    </tr>\n",
       "    <tr>\n",
       "      <th>2</th>\n",
       "      <td>3</td>\n",
       "      <td>PORTO VELHO</td>\n",
       "    </tr>\n",
       "    <tr>\n",
       "      <th>3</th>\n",
       "      <td>4</td>\n",
       "      <td>BURITIS</td>\n",
       "    </tr>\n",
       "    <tr>\n",
       "      <th>4</th>\n",
       "      <td>5</td>\n",
       "      <td>JI-PARANA</td>\n",
       "    </tr>\n",
       "    <tr>\n",
       "      <th>...</th>\n",
       "      <td>...</td>\n",
       "      <td>...</td>\n",
       "    </tr>\n",
       "    <tr>\n",
       "      <th>5566</th>\n",
       "      <td>9989</td>\n",
       "      <td>SERRA ALTA</td>\n",
       "    </tr>\n",
       "    <tr>\n",
       "      <th>5567</th>\n",
       "      <td>9991</td>\n",
       "      <td>TUNAPOLIS</td>\n",
       "    </tr>\n",
       "    <tr>\n",
       "      <th>5568</th>\n",
       "      <td>9993</td>\n",
       "      <td>GUARINOS</td>\n",
       "    </tr>\n",
       "    <tr>\n",
       "      <th>5569</th>\n",
       "      <td>9995</td>\n",
       "      <td>RIO QUENTE</td>\n",
       "    </tr>\n",
       "    <tr>\n",
       "      <th>5570</th>\n",
       "      <td>9997</td>\n",
       "      <td>CORONEL SAPUCAIA</td>\n",
       "    </tr>\n",
       "  </tbody>\n",
       "</table>\n",
       "<p>5571 rows × 2 columns</p>\n",
       "</div>"
      ],
      "text/plain": [
       "      municipio            des_municipio\n",
       "0             1            GUAJARA-MIRIM\n",
       "1             2  ALTO ALEGRE DOS PARECIS\n",
       "2             3              PORTO VELHO\n",
       "3             4                  BURITIS\n",
       "4             5                JI-PARANA\n",
       "...         ...                      ...\n",
       "5566       9989               SERRA ALTA\n",
       "5567       9991                TUNAPOLIS\n",
       "5568       9993                 GUARINOS\n",
       "5569       9995               RIO QUENTE\n",
       "5570       9997         CORONEL SAPUCAIA\n",
       "\n",
       "[5571 rows x 2 columns]"
      ]
     },
     "execution_count": 20,
     "metadata": {},
     "output_type": "execute_result"
    }
   ],
   "source": [
    "df_municipio.set_axis(['municipio','des_municipio'], axis='columns', inplace=True)\n",
    "df_municipio"
   ]
  },
  {
   "cell_type": "code",
   "execution_count": 21,
   "metadata": {},
   "outputs": [
    {
     "data": {
      "text/plain": [
       "(61, 39)"
      ]
     },
     "execution_count": 21,
     "metadata": {},
     "output_type": "execute_result"
    }
   ],
   "source": [
    "df = pd.merge(df, df_municipio, on='municipio', how='inner')\n",
    "df.shape"
   ]
  },
  {
   "cell_type": "code",
   "execution_count": 22,
   "metadata": {},
   "outputs": [],
   "source": [
    "df['municipio'] = df['des_municipio']\n",
    "df.drop(['des_municipio'], axis='columns',inplace=True)"
   ]
  },
  {
   "cell_type": "code",
   "execution_count": 23,
   "metadata": {},
   "outputs": [
    {
     "data": {
      "text/html": [
       "<div>\n",
       "<style scoped>\n",
       "    .dataframe tbody tr th:only-of-type {\n",
       "        vertical-align: middle;\n",
       "    }\n",
       "\n",
       "    .dataframe tbody tr th {\n",
       "        vertical-align: top;\n",
       "    }\n",
       "\n",
       "    .dataframe thead th {\n",
       "        text-align: right;\n",
       "    }\n",
       "</style>\n",
       "<table border=\"1\" class=\"dataframe\">\n",
       "  <thead>\n",
       "    <tr style=\"text-align: right;\">\n",
       "      <th></th>\n",
       "      <th>cnpj_basico</th>\n",
       "      <th>id_socio</th>\n",
       "      <th>nome_razao_socio</th>\n",
       "      <th>cpf_cnpj_socio</th>\n",
       "      <th>qualifica_socio</th>\n",
       "      <th>data_entrada_sociedade</th>\n",
       "      <th>pais</th>\n",
       "      <th>representante_legal</th>\n",
       "      <th>nome_representante</th>\n",
       "      <th>qualifica_representante</th>\n",
       "      <th>faixa_etaria</th>\n",
       "    </tr>\n",
       "  </thead>\n",
       "  <tbody>\n",
       "    <tr>\n",
       "      <th>0</th>\n",
       "      <td>3049514</td>\n",
       "      <td>2</td>\n",
       "      <td>CLEITON NUNES DA HORA</td>\n",
       "      <td>***333177**</td>\n",
       "      <td>49</td>\n",
       "      <td>20080404</td>\n",
       "      <td>NaN</td>\n",
       "      <td>***000000**</td>\n",
       "      <td>NaN</td>\n",
       "      <td>0</td>\n",
       "      <td>4</td>\n",
       "    </tr>\n",
       "  </tbody>\n",
       "</table>\n",
       "</div>"
      ],
      "text/plain": [
       "   cnpj_basico  id_socio       nome_razao_socio cpf_cnpj_socio  \\\n",
       "0      3049514         2  CLEITON NUNES DA HORA    ***333177**   \n",
       "\n",
       "   qualifica_socio  data_entrada_sociedade  pais representante_legal  \\\n",
       "0               49                20080404   NaN         ***000000**   \n",
       "\n",
       "  nome_representante  qualifica_representante  faixa_etaria  \n",
       "0                NaN                        0             4  "
      ]
     },
     "execution_count": 23,
     "metadata": {},
     "output_type": "execute_result"
    }
   ],
   "source": [
    "df_socios.head(1)"
   ]
  },
  {
   "cell_type": "code",
   "execution_count": 24,
   "metadata": {},
   "outputs": [],
   "source": [
    "df_qtd_socios = df_socios['cnpj_basico'].value_counts().to_frame()\n",
    "df_qtd_socios.reset_index(inplace=True)\n",
    "df_qtd_socios.set_axis(['cnpj_basico','quantidade_socios_grupo'], axis='columns',inplace=True)\n",
    "df = pd.merge(df, df_qtd_socios, on='cnpj_basico', how='left')"
   ]
  },
  {
   "cell_type": "code",
   "execution_count": 25,
   "metadata": {},
   "outputs": [
    {
     "data": {
      "text/plain": [
       "(61, 39)"
      ]
     },
     "execution_count": 25,
     "metadata": {},
     "output_type": "execute_result"
    }
   ],
   "source": [
    "df.shape"
   ]
  },
  {
   "cell_type": "code",
   "execution_count": 26,
   "metadata": {},
   "outputs": [],
   "source": [
    "from numpy import double\n",
    "\n",
    "df['capital_social'] = df['capital_social'].apply(lambda x: x.replace(',','.'))\n",
    "df['capital_social'] = df['capital_social'].astype(double)"
   ]
  },
  {
   "cell_type": "code",
   "execution_count": 27,
   "metadata": {},
   "outputs": [
    {
     "data": {
      "text/plain": [
       "array(['Pessoa Física', 'Pessoa Jurídica'], dtype=object)"
      ]
     },
     "execution_count": 27,
     "metadata": {},
     "output_type": "execute_result"
    }
   ],
   "source": [
    "df_socios['id_socio'] = df_socios['id_socio'].astype(int)\n",
    "\n",
    "map_id_estrangeiro = {1: 'Pessoa Jurídica',\n",
    "               2: 'Pessoa Física',\n",
    "               3: 'Estrangeiro'}\n",
    "df_socios['id_socio'] = df_socios['id_socio'].replace(map_id_estrangeiro)\n",
    "df_socios['id_socio'].unique()"
   ]
  },
  {
   "cell_type": "code",
   "execution_count": 28,
   "metadata": {},
   "outputs": [
    {
     "data": {
      "text/plain": [
       "array([31, 61, 51,  0, 71, 41, 81, 21])"
      ]
     },
     "execution_count": 28,
     "metadata": {},
     "output_type": "execute_result"
    }
   ],
   "source": [
    "df_socios['faixa_etaria'] = df_socios['faixa_etaria'].astype(int)\n",
    "\n",
    "map_faixa_etaria_de = {1: 0,\n",
    "                       2: 13,\n",
    "                       3: 21,\n",
    "                       4: 31,\n",
    "                       5: 41,\n",
    "                       6: 51,\n",
    "                       7: 61,\n",
    "                       8: 71,\n",
    "                       9: 81}\n",
    "df_socios['faixa_etaria_de'] = df_socios['faixa_etaria'].replace(map_faixa_etaria_de)\n",
    "df_socios['faixa_etaria_de'].unique()"
   ]
  },
  {
   "cell_type": "code",
   "execution_count": 29,
   "metadata": {},
   "outputs": [
    {
     "data": {
      "text/plain": [
       "array([40, 70, 60,  0, 80, 50, 90, 30])"
      ]
     },
     "execution_count": 29,
     "metadata": {},
     "output_type": "execute_result"
    }
   ],
   "source": [
    "map_faixa_etaria_ate = {1: 12,\n",
    "                       2: 20,\n",
    "                       3: 30,\n",
    "                       4: 40,\n",
    "                       5: 50,\n",
    "                       6: 60,\n",
    "                       7: 70,\n",
    "                       8: 80,\n",
    "                       9: 90}\n",
    "df_socios['faixa_etaria_ate'] = df_socios['faixa_etaria'].replace(map_faixa_etaria_ate)\n",
    "df_socios['faixa_etaria_ate'].unique()"
   ]
  },
  {
   "cell_type": "code",
   "execution_count": 30,
   "metadata": {},
   "outputs": [],
   "source": [
    "df_socios['media_faixa']  = (df_socios['faixa_etaria_ate']+df_socios['faixa_etaria_de'])/2"
   ]
  },
  {
   "cell_type": "code",
   "execution_count": 31,
   "metadata": {},
   "outputs": [],
   "source": [
    "df_socios_pf = df_socios.query(\"id_socio=='Pessoa Física'\")\n",
    "df_socios_med_idade = df_socios_pf.groupby('cnpj_basico')['media_faixa'].mean().to_frame().reset_index()\n",
    "df_socios_med_idade.set_axis(['cnpj_basico','media_idade_socios_pf'], axis='columns',inplace=True)\n",
    "df = pd.merge(df, df_socios_med_idade, on='cnpj_basico', how='left')"
   ]
  },
  {
   "cell_type": "code",
   "execution_count": 32,
   "metadata": {},
   "outputs": [
    {
     "data": {
      "text/plain": [
       "<AxesSubplot:>"
      ]
     },
     "execution_count": 32,
     "metadata": {},
     "output_type": "execute_result"
    },
    {
     "data": {
      "image/png": "[encoded data removed]",
      "text/plain": [
       "<Figure size 432x288 with 1 Axes>"
      ]
     },
     "metadata": {
      "needs_background": "light"
     },
     "output_type": "display_data"
    }
   ],
   "source": [
    "df.media_idade_socios_pf.hist()"
   ]
  },
  {
   "cell_type": "code",
   "execution_count": 33,
   "metadata": {},
   "outputs": [
    {
     "data": {
      "text/html": [
       "<div>\n",
       "<style scoped>\n",
       "    .dataframe tbody tr th:only-of-type {\n",
       "        vertical-align: middle;\n",
       "    }\n",
       "\n",
       "    .dataframe tbody tr th {\n",
       "        vertical-align: top;\n",
       "    }\n",
       "\n",
       "    .dataframe thead th {\n",
       "        text-align: right;\n",
       "    }\n",
       "</style>\n",
       "<table border=\"1\" class=\"dataframe\">\n",
       "  <thead>\n",
       "    <tr style=\"text-align: right;\">\n",
       "      <th></th>\n",
       "      <th>cnpj_basico</th>\n",
       "      <th>opcao_simples</th>\n",
       "      <th>data_opcao_simples</th>\n",
       "      <th>data_exclusao_simples</th>\n",
       "      <th>opcao_mei</th>\n",
       "      <th>data_opcao_mei</th>\n",
       "      <th>data_exclusao_mei</th>\n",
       "    </tr>\n",
       "  </thead>\n",
       "  <tbody>\n",
       "    <tr>\n",
       "      <th>405054</th>\n",
       "      <td>2172808</td>\n",
       "      <td>S</td>\n",
       "      <td>20070701</td>\n",
       "      <td>0</td>\n",
       "      <td>N</td>\n",
       "      <td>0</td>\n",
       "      <td>0</td>\n",
       "    </tr>\n",
       "  </tbody>\n",
       "</table>\n",
       "</div>"
      ],
      "text/plain": [
       "        cnpj_basico opcao_simples  data_opcao_simples  data_exclusao_simples  \\\n",
       "405054      2172808             S            20070701                      0   \n",
       "\n",
       "       opcao_mei  data_opcao_mei  data_exclusao_mei  \n",
       "405054         N               0                  0  "
      ]
     },
     "execution_count": 33,
     "metadata": {},
     "output_type": "execute_result"
    }
   ],
   "source": [
    "df_simples.head(1)"
   ]
  },
  {
   "cell_type": "code",
   "execution_count": 34,
   "metadata": {},
   "outputs": [
    {
     "data": {
      "text/html": [
       "<div>\n",
       "<style scoped>\n",
       "    .dataframe tbody tr th:only-of-type {\n",
       "        vertical-align: middle;\n",
       "    }\n",
       "\n",
       "    .dataframe tbody tr th {\n",
       "        vertical-align: top;\n",
       "    }\n",
       "\n",
       "    .dataframe thead th {\n",
       "        text-align: right;\n",
       "    }\n",
       "</style>\n",
       "<table border=\"1\" class=\"dataframe\">\n",
       "  <thead>\n",
       "    <tr style=\"text-align: right;\">\n",
       "      <th></th>\n",
       "      <th>cnpj_basico</th>\n",
       "      <th>qtd_linhas</th>\n",
       "    </tr>\n",
       "  </thead>\n",
       "  <tbody>\n",
       "  </tbody>\n",
       "</table>\n",
       "</div>"
      ],
      "text/plain": [
       "Empty DataFrame\n",
       "Columns: [cnpj_basico, qtd_linhas]\n",
       "Index: []"
      ]
     },
     "execution_count": 34,
     "metadata": {},
     "output_type": "execute_result"
    }
   ],
   "source": [
    "df_xk_simples = df_simples.groupby('cnpj_basico')['cnpj_basico'].count().to_frame()\n",
    "df_xk_simples.set_axis(['qtd_linhas'], axis='columns',inplace=True)\n",
    "df_xk_simples.reset_index(inplace=True)\n",
    "df_xk_simples.query('qtd_linhas > 1')"
   ]
  },
  {
   "cell_type": "code",
   "execution_count": 35,
   "metadata": {},
   "outputs": [
    {
     "data": {
      "text/plain": [
       "(24, 7)"
      ]
     },
     "execution_count": 35,
     "metadata": {},
     "output_type": "execute_result"
    }
   ],
   "source": [
    "df_simples.shape"
   ]
  },
  {
   "cell_type": "code",
   "execution_count": 36,
   "metadata": {},
   "outputs": [
    {
     "data": {
      "text/plain": [
       "(61, 41)"
      ]
     },
     "execution_count": 36,
     "metadata": {},
     "output_type": "execute_result"
    }
   ],
   "source": [
    "df_simples = df_simples.query(\"opcao_simples=='S' and data_exclusao_simples==0\")\n",
    "df = pd.merge(df, df_simples[['cnpj_basico','opcao_simples']], on='cnpj_basico', how='left')\n",
    "df.shape"
   ]
  },
  {
   "cell_type": "code",
   "execution_count": 37,
   "metadata": {},
   "outputs": [],
   "source": [
    "df_motivos.head(1)\n",
    "df_motivos.set_axis(['motivo_sit_cadastral','des_sit_cadastral'], axis='columns',inplace=True)\n"
   ]
  },
  {
   "cell_type": "code",
   "execution_count": 38,
   "metadata": {},
   "outputs": [
    {
     "data": {
      "text/plain": [
       "(61, 42)"
      ]
     },
     "execution_count": 38,
     "metadata": {},
     "output_type": "execute_result"
    }
   ],
   "source": [
    "df = pd.merge(df, df_motivos, on='motivo_sit_cadastral', how='left')\n",
    "df.shape"
   ]
  },
  {
   "cell_type": "code",
   "execution_count": 39,
   "metadata": {},
   "outputs": [],
   "source": [
    "df['motivo_sit_cadastral'] = df['des_sit_cadastral']\n",
    "df.drop('des_sit_cadastral', axis='columns',inplace=True)"
   ]
  },
  {
   "cell_type": "code",
   "execution_count": 40,
   "metadata": {},
   "outputs": [],
   "source": [
    "# df_empresas_qtd_participacoes = df_outliers.groupby(['TAXNUM','OPPORT_NUM']).count()[['STATUS']]\n",
    "# df_empresas_qtd_participacoes.reset_index(inplace=True)\n",
    "# df_empresas_qtd_participacoes = df_empresas_qtd_participacoes.groupby(['TAXNUM']).count()[['OPPORT_NUM']]\n",
    "# df_empresas_qtd_participacoes.reset_index(inplace=True)"
   ]
  },
  {
   "cell_type": "code",
   "execution_count": 41,
   "metadata": {},
   "outputs": [],
   "source": [
    "df.to_pickle('Empresas.pkl')\n",
    "df.to_excel('Empresas.xlsx')"
   ]
  }
 ],
 "metadata": {
  "kernelspec": {
   "display_name": "Kernel",
   "language": "python",
   "name": "kernel"
  },
  "language_info": {
   "codemirror_mode": {
    "name": "ipython",
    "version": 3
   },
   "file_extension": ".py",
   "mimetype": "text/x-python",
   "name": "python",
   "nbconvert_exporter": "python",
   "pygments_lexer": "ipython3",
   "version": "3.9.12"
  },
  "orig_nbformat": 4
 },
 "nbformat": 4,
 "nbformat_minor": 2
}
