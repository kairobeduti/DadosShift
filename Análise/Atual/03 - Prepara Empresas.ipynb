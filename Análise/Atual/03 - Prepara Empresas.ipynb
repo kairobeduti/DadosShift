{
 "cells": [
  {
   "cell_type": "code",
   "execution_count": 93,
   "metadata": {},
   "outputs": [],
   "source": [
    "import pandas as pd\n",
    "from datetime import datetime"
   ]
  },
  {
   "cell_type": "code",
   "execution_count": 94,
   "metadata": {},
   "outputs": [],
   "source": [
    "df = pd.read_pickle('C:\\Cnpjs\\99 - cnpj\\cnpjs.pkl')\n",
    "df_emp = pd.read_pickle('C:\\Cnpjs\\99 - cnpj\\Empresas\\empresa.pkl')\n",
    "df_est = pd.read_pickle('C:\\Cnpjs\\99 - cnpj\\Estabelecimentos\\estabelecimentos.pkl')\n",
    "df_natur_jud = pd.read_pickle(r'C:\\Cnpjs\\99 - cnpj\\naturezas\\natureza_juridica.pkl')\n",
    "df_qualifics = pd.read_pickle('C:\\Cnpjs\\99 - cnpj\\Qualificacoes\\qualificacoes.pkl')\n",
    "df_cnaes = pd.read_pickle('C:\\Cnpjs\\99 - cnpj\\Cnaes\\cnaes.pkl')\n",
    "df_municipio = pd.read_pickle('C:\\Cnpjs\\99 - cnpj\\Municipios\\municipio.pkl')\n",
    "df_socios = pd.read_pickle('C:\\Cnpjs\\99 - cnpj\\Socios\\socios.pkl')\n",
    "df_motivos = pd.read_pickle(r'C:\\Cnpjs\\99 - cnpj\\Motivos\\motivos.pkl')\n",
    "df_simples = pd.read_pickle(r'C:\\Cnpjs\\99 - cnpj\\\\Simples\\simples.pkl')\n",
    "df_imunes_isentas = pd.read_pickle(r'C:\\Cnpjs\\99 - cnpj\\Imunes e isentas\\imunes_isentas.pkl')\n",
    "df_lucro_arbitrado = pd.read_pickle(r'C:\\Cnpjs\\99 - cnpj\\Lucro Arbitrado\\lucro_arbitrado.pkl')\n",
    "df_lucro_presumido = pd.read_pickle(r'C:\\Cnpjs\\99 - cnpj\\Lucro Presumido\\lucro presumido.pkl')\n",
    "df_lucro_real = pd.read_pickle(r'C:\\Cnpjs\\99 - cnpj\\Lucro Real\\lucro real.pkl')"
   ]
  },
  {
   "cell_type": "code",
   "execution_count": 95,
   "metadata": {},
   "outputs": [
    {
     "data": {
      "text/plain": [
       "(5634, 5)"
      ]
     },
     "execution_count": 95,
     "metadata": {},
     "output_type": "execute_result"
    }
   ],
   "source": [
    "df.shape"
   ]
  },
  {
   "cell_type": "code",
   "execution_count": 96,
   "metadata": {},
   "outputs": [],
   "source": [
    "df = pd.merge(df,df_emp, on='cnpj_basico', how='inner')"
   ]
  },
  {
   "cell_type": "code",
   "execution_count": 97,
   "metadata": {},
   "outputs": [
    {
     "data": {
      "text/plain": [
       "(5630, 11)"
      ]
     },
     "execution_count": 97,
     "metadata": {},
     "output_type": "execute_result"
    }
   ],
   "source": [
    "df.shape"
   ]
  },
  {
   "cell_type": "code",
   "execution_count": 98,
   "metadata": {},
   "outputs": [
    {
     "name": "stdout",
     "output_type": "stream",
     "text": [
      "<class 'datetime.date'>\n"
     ]
    }
   ],
   "source": [
    "hoje = datetime.today().date()\n",
    "print(type(hoje))"
   ]
  },
  {
   "cell_type": "code",
   "execution_count": 99,
   "metadata": {},
   "outputs": [
    {
     "data": {
      "text/plain": [
       "array(['Micro Empresa', 'Demais', 'Empresa Pequeno Porte'], dtype=object)"
      ]
     },
     "execution_count": 99,
     "metadata": {},
     "output_type": "execute_result"
    }
   ],
   "source": [
    "df['porte'] = df['porte'].astype(int)\n",
    "\n",
    "map_porte = {0: 'Não Informado',\n",
    "             1: 'Micro Empresa',\n",
    "             3: 'Empresa Pequeno Porte',\n",
    "             5: 'Demais'}\n",
    "df['porte'] = df['porte'].replace(map_porte)\n",
    "df['porte'].unique()"
   ]
  },
  {
   "cell_type": "code",
   "execution_count": 100,
   "metadata": {},
   "outputs": [],
   "source": [
    "df_qtd_estbs = df_est['cnpj_basico'].value_counts().to_frame()\n",
    "df_qtd_estbs.reset_index(inplace=True)\n",
    "df_qtd_estbs.set_axis(['cnpj_basico','quantidade_estabelecimentos_grupo'], axis='columns',inplace=True)\n",
    "df = pd.merge(df, df_qtd_estbs, on='cnpj_basico', how='inner')"
   ]
  },
  {
   "cell_type": "code",
   "execution_count": 101,
   "metadata": {},
   "outputs": [
    {
     "name": "stdout",
     "output_type": "stream",
     "text": [
      "<class 'pandas.core.frame.DataFrame'>\n",
      "Int64Index: 5630 entries, 0 to 5629\n",
      "Data columns (total 12 columns):\n",
      " #   Column                             Non-Null Count  Dtype \n",
      "---  ------                             --------------  ----- \n",
      " 0   cnpj                               5630 non-null   object\n",
      " 1   len                                5630 non-null   int64 \n",
      " 2   cnpj_basico                        5630 non-null   int64 \n",
      " 3   cnpj_dv                            5630 non-null   int64 \n",
      " 4   cnpj_ordem                         5630 non-null   int64 \n",
      " 5   razao_social                       5630 non-null   object\n",
      " 6   natureza_jur                       5630 non-null   int64 \n",
      " 7   quali_resp                         5630 non-null   int64 \n",
      " 8   capital_social                     5630 non-null   object\n",
      " 9   porte                              5630 non-null   object\n",
      " 10  ente_fed_resp                      1 non-null      object\n",
      " 11  quantidade_estabelecimentos_grupo  5630 non-null   int64 \n",
      "dtypes: int64(7), object(5)\n",
      "memory usage: 571.8+ KB\n"
     ]
    }
   ],
   "source": [
    "df.info()"
   ]
  },
  {
   "cell_type": "code",
   "execution_count": 102,
   "metadata": {},
   "outputs": [
    {
     "data": {
      "text/html": [
       "<div>\n",
       "<style scoped>\n",
       "    .dataframe tbody tr th:only-of-type {\n",
       "        vertical-align: middle;\n",
       "    }\n",
       "\n",
       "    .dataframe tbody tr th {\n",
       "        vertical-align: top;\n",
       "    }\n",
       "\n",
       "    .dataframe thead th {\n",
       "        text-align: right;\n",
       "    }\n",
       "</style>\n",
       "<table border=\"1\" class=\"dataframe\">\n",
       "  <thead>\n",
       "    <tr style=\"text-align: right;\">\n",
       "      <th></th>\n",
       "      <th>cnpj</th>\n",
       "      <th>len</th>\n",
       "      <th>cnpj_basico</th>\n",
       "      <th>cnpj_dv</th>\n",
       "      <th>cnpj_ordem</th>\n",
       "      <th>razao_social</th>\n",
       "      <th>natureza_jur</th>\n",
       "      <th>quali_resp</th>\n",
       "      <th>capital_social</th>\n",
       "      <th>porte</th>\n",
       "      <th>...</th>\n",
       "      <th>municipio</th>\n",
       "      <th>ddd1</th>\n",
       "      <th>telefone1</th>\n",
       "      <th>ddd2</th>\n",
       "      <th>telefone2</th>\n",
       "      <th>ddd_fax</th>\n",
       "      <th>fax</th>\n",
       "      <th>correio_eletronico</th>\n",
       "      <th>situacao_especial</th>\n",
       "      <th>data_situacao_especial</th>\n",
       "    </tr>\n",
       "  </thead>\n",
       "  <tbody>\n",
       "    <tr>\n",
       "      <th>0</th>\n",
       "      <td>02199488000153</td>\n",
       "      <td>14</td>\n",
       "      <td>2199488</td>\n",
       "      <td>53</td>\n",
       "      <td>1</td>\n",
       "      <td>ALLTECK SISTEMAS DE ENERGIA E INFRA-ESTRUTURA ...</td>\n",
       "      <td>2062</td>\n",
       "      <td>49</td>\n",
       "      <td>160000,00</td>\n",
       "      <td>Micro Empresa</td>\n",
       "      <td>...</td>\n",
       "      <td>6001</td>\n",
       "      <td>21.0</td>\n",
       "      <td>24476114</td>\n",
       "      <td>21.0</td>\n",
       "      <td>22245636.0</td>\n",
       "      <td>21.0</td>\n",
       "      <td>24476114</td>\n",
       "      <td>COMERCIAL@ALLTECK.COM.BR</td>\n",
       "      <td>NaN</td>\n",
       "      <td>NaN</td>\n",
       "    </tr>\n",
       "  </tbody>\n",
       "</table>\n",
       "<p>1 rows × 39 columns</p>\n",
       "</div>"
      ],
      "text/plain": [
       "             cnpj  len  cnpj_basico  cnpj_dv  cnpj_ordem  \\\n",
       "0  02199488000153   14      2199488       53           1   \n",
       "\n",
       "                                        razao_social  natureza_jur  \\\n",
       "0  ALLTECK SISTEMAS DE ENERGIA E INFRA-ESTRUTURA ...          2062   \n",
       "\n",
       "   quali_resp capital_social          porte  ... municipio  ddd1  telefone1  \\\n",
       "0          49      160000,00  Micro Empresa  ...      6001  21.0   24476114   \n",
       "\n",
       "   ddd2   telefone2  ddd_fax       fax        correio_eletronico  \\\n",
       "0  21.0  22245636.0     21.0  24476114  COMERCIAL@ALLTECK.COM.BR   \n",
       "\n",
       "   situacao_especial  data_situacao_especial  \n",
       "0                NaN                     NaN  \n",
       "\n",
       "[1 rows x 39 columns]"
      ]
     },
     "execution_count": 102,
     "metadata": {},
     "output_type": "execute_result"
    }
   ],
   "source": [
    "df = pd.merge(df, df_est, on=['cnpj_basico','cnpj_ordem','cnpj_dv'], how='inner')\n",
    "df.head(1)"
   ]
  },
  {
   "cell_type": "code",
   "execution_count": 103,
   "metadata": {},
   "outputs": [],
   "source": [
    "df['data_inicio_atv'] = pd.to_datetime(df['data_inicio_atv'], format='%Y%m%d')\n",
    "df['idade_empresa'] = df['data_inicio_atv'].apply(lambda x: (hoje - x.date()).days // 365)\n",
    "df.drop(['data_inicio_atv'], axis='columns',inplace=True)"
   ]
  },
  {
   "cell_type": "code",
   "execution_count": 104,
   "metadata": {},
   "outputs": [
    {
     "data": {
      "text/plain": [
       "array(['Matriz', 'Filial'], dtype=object)"
      ]
     },
     "execution_count": 104,
     "metadata": {},
     "output_type": "execute_result"
    }
   ],
   "source": [
    "df['id_matriz_filial'] = df['id_matriz_filial'].astype(int)\n",
    "\n",
    "map_matriz_filial = {1: 'Matriz',\n",
    "             2: 'Filial'}\n",
    "df['id_matriz_filial'] = df['id_matriz_filial'].replace(map_matriz_filial)\n",
    "df['id_matriz_filial'].unique()"
   ]
  },
  {
   "cell_type": "code",
   "execution_count": 105,
   "metadata": {},
   "outputs": [
    {
     "data": {
      "text/plain": [
       "array(['Ativa', 'Inapta', 'Baixada', 'Suspensa'], dtype=object)"
      ]
     },
     "execution_count": 105,
     "metadata": {},
     "output_type": "execute_result"
    }
   ],
   "source": [
    "df['sit_cadastral'] = df['sit_cadastral'].astype(int)\n",
    "\n",
    "map_sit_cad = {1: 'Nula',\n",
    "               2: 'Ativa',\n",
    "               3: 'Suspensa',\n",
    "               4: 'Inapta',\n",
    "               8: 'Baixada'}\n",
    "df['sit_cadastral'] = df['sit_cadastral'].replace(map_sit_cad)\n",
    "df['sit_cadastral'].unique()"
   ]
  },
  {
   "cell_type": "code",
   "execution_count": 106,
   "metadata": {},
   "outputs": [],
   "source": [
    "df_natur_jud.set_axis(['natureza_jur','natureza_juridica'], axis='columns', inplace=True)\n",
    "df = pd.merge(df, df_natur_jud, on='natureza_jur', how='inner')"
   ]
  },
  {
   "cell_type": "code",
   "execution_count": 107,
   "metadata": {},
   "outputs": [],
   "source": [
    "df['natureza_jur'] = df['natureza_juridica']\n",
    "df.drop(['natureza_juridica'], axis='columns', inplace=True)"
   ]
  },
  {
   "cell_type": "code",
   "execution_count": 108,
   "metadata": {},
   "outputs": [
    {
     "data": {
      "text/html": [
       "<div>\n",
       "<style scoped>\n",
       "    .dataframe tbody tr th:only-of-type {\n",
       "        vertical-align: middle;\n",
       "    }\n",
       "\n",
       "    .dataframe tbody tr th {\n",
       "        vertical-align: top;\n",
       "    }\n",
       "\n",
       "    .dataframe thead th {\n",
       "        text-align: right;\n",
       "    }\n",
       "</style>\n",
       "<table border=\"1\" class=\"dataframe\">\n",
       "  <thead>\n",
       "    <tr style=\"text-align: right;\">\n",
       "      <th></th>\n",
       "      <th>cnpj</th>\n",
       "      <th>len</th>\n",
       "      <th>cnpj_basico</th>\n",
       "      <th>cnpj_dv</th>\n",
       "      <th>cnpj_ordem</th>\n",
       "      <th>razao_social</th>\n",
       "      <th>natureza_jur</th>\n",
       "      <th>quali_resp</th>\n",
       "      <th>capital_social</th>\n",
       "      <th>porte</th>\n",
       "      <th>...</th>\n",
       "      <th>ddd1</th>\n",
       "      <th>telefone1</th>\n",
       "      <th>ddd2</th>\n",
       "      <th>telefone2</th>\n",
       "      <th>ddd_fax</th>\n",
       "      <th>fax</th>\n",
       "      <th>correio_eletronico</th>\n",
       "      <th>situacao_especial</th>\n",
       "      <th>data_situacao_especial</th>\n",
       "      <th>idade_empresa</th>\n",
       "    </tr>\n",
       "  </thead>\n",
       "  <tbody>\n",
       "    <tr>\n",
       "      <th>0</th>\n",
       "      <td>02199488000153</td>\n",
       "      <td>14</td>\n",
       "      <td>2199488</td>\n",
       "      <td>53</td>\n",
       "      <td>1</td>\n",
       "      <td>ALLTECK SISTEMAS DE ENERGIA E INFRA-ESTRUTURA ...</td>\n",
       "      <td>Sociedade Empresária Limitada</td>\n",
       "      <td>49</td>\n",
       "      <td>160000,00</td>\n",
       "      <td>Micro Empresa</td>\n",
       "      <td>...</td>\n",
       "      <td>21.0</td>\n",
       "      <td>24476114</td>\n",
       "      <td>21.0</td>\n",
       "      <td>22245636.0</td>\n",
       "      <td>21.0</td>\n",
       "      <td>24476114</td>\n",
       "      <td>COMERCIAL@ALLTECK.COM.BR</td>\n",
       "      <td>NaN</td>\n",
       "      <td>NaN</td>\n",
       "      <td>25</td>\n",
       "    </tr>\n",
       "  </tbody>\n",
       "</table>\n",
       "<p>1 rows × 39 columns</p>\n",
       "</div>"
      ],
      "text/plain": [
       "             cnpj  len  cnpj_basico  cnpj_dv  cnpj_ordem  \\\n",
       "0  02199488000153   14      2199488       53           1   \n",
       "\n",
       "                                        razao_social  \\\n",
       "0  ALLTECK SISTEMAS DE ENERGIA E INFRA-ESTRUTURA ...   \n",
       "\n",
       "                    natureza_jur  quali_resp capital_social          porte  \\\n",
       "0  Sociedade Empresária Limitada          49      160000,00  Micro Empresa   \n",
       "\n",
       "   ...  ddd1  telefone1  ddd2   telefone2 ddd_fax       fax  \\\n",
       "0  ...  21.0   24476114  21.0  22245636.0    21.0  24476114   \n",
       "\n",
       "         correio_eletronico situacao_especial  data_situacao_especial  \\\n",
       "0  COMERCIAL@ALLTECK.COM.BR               NaN                     NaN   \n",
       "\n",
       "   idade_empresa  \n",
       "0             25  \n",
       "\n",
       "[1 rows x 39 columns]"
      ]
     },
     "execution_count": 108,
     "metadata": {},
     "output_type": "execute_result"
    }
   ],
   "source": [
    "df.head(1)"
   ]
  },
  {
   "cell_type": "code",
   "execution_count": 109,
   "metadata": {},
   "outputs": [
    {
     "data": {
      "text/plain": [
       "(5616, 40)"
      ]
     },
     "execution_count": 109,
     "metadata": {},
     "output_type": "execute_result"
    }
   ],
   "source": [
    "df_qualifics.set_axis(['quali_resp','des_qualificaccao'], axis='columns',inplace=True)\n",
    "df = pd.merge(df, df_qualifics, on=['quali_resp'], how='inner')\n",
    "df.shape"
   ]
  },
  {
   "cell_type": "code",
   "execution_count": 110,
   "metadata": {},
   "outputs": [],
   "source": [
    "df['quali_resp'] = df['des_qualificaccao']\n",
    "df.drop(['des_qualificaccao'], axis='columns', inplace=True)\n"
   ]
  },
  {
   "cell_type": "code",
   "execution_count": 111,
   "metadata": {},
   "outputs": [
    {
     "data": {
      "text/html": [
       "<div>\n",
       "<style scoped>\n",
       "    .dataframe tbody tr th:only-of-type {\n",
       "        vertical-align: middle;\n",
       "    }\n",
       "\n",
       "    .dataframe tbody tr th {\n",
       "        vertical-align: top;\n",
       "    }\n",
       "\n",
       "    .dataframe thead th {\n",
       "        text-align: right;\n",
       "    }\n",
       "</style>\n",
       "<table border=\"1\" class=\"dataframe\">\n",
       "  <thead>\n",
       "    <tr style=\"text-align: right;\">\n",
       "      <th></th>\n",
       "      <th>cod_cnae</th>\n",
       "      <th>des_cnae</th>\n",
       "    </tr>\n",
       "  </thead>\n",
       "  <tbody>\n",
       "    <tr>\n",
       "      <th>0</th>\n",
       "      <td>111301</td>\n",
       "      <td>Cultivo de arroz</td>\n",
       "    </tr>\n",
       "  </tbody>\n",
       "</table>\n",
       "</div>"
      ],
      "text/plain": [
       "   cod_cnae          des_cnae\n",
       "0    111301  Cultivo de arroz"
      ]
     },
     "execution_count": 111,
     "metadata": {},
     "output_type": "execute_result"
    }
   ],
   "source": [
    "df_cnaes.head(1)"
   ]
  },
  {
   "cell_type": "code",
   "execution_count": 112,
   "metadata": {},
   "outputs": [
    {
     "data": {
      "text/plain": [
       "(5616, 40)"
      ]
     },
     "execution_count": 112,
     "metadata": {},
     "output_type": "execute_result"
    }
   ],
   "source": [
    "df_cnaes.set_axis(['cnae_fiscal_principal','des_cnae'], axis='columns', inplace=True)\n",
    "df = pd.merge(df, df_cnaes, on=['cnae_fiscal_principal'], how='inner')\n",
    "df.shape"
   ]
  },
  {
   "cell_type": "code",
   "execution_count": 113,
   "metadata": {},
   "outputs": [],
   "source": [
    "df['cnae_fiscal_principal'] = df['des_cnae']\n",
    "df.drop(['des_cnae'], axis='columns', inplace=True)"
   ]
  },
  {
   "cell_type": "code",
   "execution_count": 114,
   "metadata": {},
   "outputs": [
    {
     "data": {
      "text/html": [
       "<div>\n",
       "<style scoped>\n",
       "    .dataframe tbody tr th:only-of-type {\n",
       "        vertical-align: middle;\n",
       "    }\n",
       "\n",
       "    .dataframe tbody tr th {\n",
       "        vertical-align: top;\n",
       "    }\n",
       "\n",
       "    .dataframe thead th {\n",
       "        text-align: right;\n",
       "    }\n",
       "</style>\n",
       "<table border=\"1\" class=\"dataframe\">\n",
       "  <thead>\n",
       "    <tr style=\"text-align: right;\">\n",
       "      <th></th>\n",
       "      <th>municipio</th>\n",
       "      <th>des_municipio</th>\n",
       "    </tr>\n",
       "  </thead>\n",
       "  <tbody>\n",
       "    <tr>\n",
       "      <th>0</th>\n",
       "      <td>1</td>\n",
       "      <td>GUAJARA-MIRIM</td>\n",
       "    </tr>\n",
       "    <tr>\n",
       "      <th>1</th>\n",
       "      <td>2</td>\n",
       "      <td>ALTO ALEGRE DOS PARECIS</td>\n",
       "    </tr>\n",
       "    <tr>\n",
       "      <th>2</th>\n",
       "      <td>3</td>\n",
       "      <td>PORTO VELHO</td>\n",
       "    </tr>\n",
       "    <tr>\n",
       "      <th>3</th>\n",
       "      <td>4</td>\n",
       "      <td>BURITIS</td>\n",
       "    </tr>\n",
       "    <tr>\n",
       "      <th>4</th>\n",
       "      <td>5</td>\n",
       "      <td>JI-PARANA</td>\n",
       "    </tr>\n",
       "    <tr>\n",
       "      <th>...</th>\n",
       "      <td>...</td>\n",
       "      <td>...</td>\n",
       "    </tr>\n",
       "    <tr>\n",
       "      <th>5566</th>\n",
       "      <td>9989</td>\n",
       "      <td>SERRA ALTA</td>\n",
       "    </tr>\n",
       "    <tr>\n",
       "      <th>5567</th>\n",
       "      <td>9991</td>\n",
       "      <td>TUNAPOLIS</td>\n",
       "    </tr>\n",
       "    <tr>\n",
       "      <th>5568</th>\n",
       "      <td>9993</td>\n",
       "      <td>GUARINOS</td>\n",
       "    </tr>\n",
       "    <tr>\n",
       "      <th>5569</th>\n",
       "      <td>9995</td>\n",
       "      <td>RIO QUENTE</td>\n",
       "    </tr>\n",
       "    <tr>\n",
       "      <th>5570</th>\n",
       "      <td>9997</td>\n",
       "      <td>CORONEL SAPUCAIA</td>\n",
       "    </tr>\n",
       "  </tbody>\n",
       "</table>\n",
       "<p>5571 rows × 2 columns</p>\n",
       "</div>"
      ],
      "text/plain": [
       "      municipio            des_municipio\n",
       "0             1            GUAJARA-MIRIM\n",
       "1             2  ALTO ALEGRE DOS PARECIS\n",
       "2             3              PORTO VELHO\n",
       "3             4                  BURITIS\n",
       "4             5                JI-PARANA\n",
       "...         ...                      ...\n",
       "5566       9989               SERRA ALTA\n",
       "5567       9991                TUNAPOLIS\n",
       "5568       9993                 GUARINOS\n",
       "5569       9995               RIO QUENTE\n",
       "5570       9997         CORONEL SAPUCAIA\n",
       "\n",
       "[5571 rows x 2 columns]"
      ]
     },
     "execution_count": 114,
     "metadata": {},
     "output_type": "execute_result"
    }
   ],
   "source": [
    "df_municipio.set_axis(['municipio','des_municipio'], axis='columns', inplace=True)\n",
    "df_municipio"
   ]
  },
  {
   "cell_type": "code",
   "execution_count": 115,
   "metadata": {},
   "outputs": [
    {
     "data": {
      "text/plain": [
       "(5616, 40)"
      ]
     },
     "execution_count": 115,
     "metadata": {},
     "output_type": "execute_result"
    }
   ],
   "source": [
    "df = pd.merge(df, df_municipio, on='municipio', how='inner')\n",
    "df.shape"
   ]
  },
  {
   "cell_type": "code",
   "execution_count": 116,
   "metadata": {},
   "outputs": [],
   "source": [
    "df['municipio'] = df['des_municipio']\n",
    "df.drop(['des_municipio'], axis='columns',inplace=True)"
   ]
  },
  {
   "cell_type": "code",
   "execution_count": 117,
   "metadata": {},
   "outputs": [
    {
     "data": {
      "text/html": [
       "<div>\n",
       "<style scoped>\n",
       "    .dataframe tbody tr th:only-of-type {\n",
       "        vertical-align: middle;\n",
       "    }\n",
       "\n",
       "    .dataframe tbody tr th {\n",
       "        vertical-align: top;\n",
       "    }\n",
       "\n",
       "    .dataframe thead th {\n",
       "        text-align: right;\n",
       "    }\n",
       "</style>\n",
       "<table border=\"1\" class=\"dataframe\">\n",
       "  <thead>\n",
       "    <tr style=\"text-align: right;\">\n",
       "      <th></th>\n",
       "      <th>cnpj_basico</th>\n",
       "      <th>id_socio</th>\n",
       "      <th>nome_razao_socio</th>\n",
       "      <th>cpf_cnpj_socio</th>\n",
       "      <th>qualifica_socio</th>\n",
       "      <th>data_entrada_sociedade</th>\n",
       "      <th>pais</th>\n",
       "      <th>representante_legal</th>\n",
       "      <th>nome_representante</th>\n",
       "      <th>qualifica_representante</th>\n",
       "      <th>faixa_etaria</th>\n",
       "    </tr>\n",
       "  </thead>\n",
       "  <tbody>\n",
       "    <tr>\n",
       "      <th>0</th>\n",
       "      <td>5142031</td>\n",
       "      <td>2</td>\n",
       "      <td>RICARDO PANICALI</td>\n",
       "      <td>***896528**</td>\n",
       "      <td>49</td>\n",
       "      <td>20020628</td>\n",
       "      <td>NaN</td>\n",
       "      <td>***000000**</td>\n",
       "      <td>NaN</td>\n",
       "      <td>0</td>\n",
       "      <td>6</td>\n",
       "    </tr>\n",
       "  </tbody>\n",
       "</table>\n",
       "</div>"
      ],
      "text/plain": [
       "   cnpj_basico  id_socio  nome_razao_socio cpf_cnpj_socio  qualifica_socio  \\\n",
       "0      5142031         2  RICARDO PANICALI    ***896528**               49   \n",
       "\n",
       "   data_entrada_sociedade  pais representante_legal nome_representante  \\\n",
       "0                20020628   NaN         ***000000**                NaN   \n",
       "\n",
       "   qualifica_representante  faixa_etaria  \n",
       "0                        0             6  "
      ]
     },
     "execution_count": 117,
     "metadata": {},
     "output_type": "execute_result"
    }
   ],
   "source": [
    "df_socios.head(1)"
   ]
  },
  {
   "cell_type": "code",
   "execution_count": 118,
   "metadata": {},
   "outputs": [],
   "source": [
    "df_qtd_socios = df_socios['cnpj_basico'].value_counts().to_frame()\n",
    "df_qtd_socios.reset_index(inplace=True)\n",
    "df_qtd_socios.set_axis(['cnpj_basico','quantidade_socios_grupo'], axis='columns',inplace=True)\n",
    "df = pd.merge(df, df_qtd_socios, on='cnpj_basico', how='left')"
   ]
  },
  {
   "cell_type": "code",
   "execution_count": 119,
   "metadata": {},
   "outputs": [
    {
     "data": {
      "text/plain": [
       "(5616, 40)"
      ]
     },
     "execution_count": 119,
     "metadata": {},
     "output_type": "execute_result"
    }
   ],
   "source": [
    "df.shape"
   ]
  },
  {
   "cell_type": "code",
   "execution_count": 120,
   "metadata": {},
   "outputs": [],
   "source": [
    "from numpy import double\n",
    "\n",
    "df['capital_social'] = df['capital_social'].apply(lambda x: x.replace(',','.'))\n",
    "df['capital_social'] = df['capital_social'].astype(double)"
   ]
  },
  {
   "cell_type": "code",
   "execution_count": 121,
   "metadata": {},
   "outputs": [
    {
     "data": {
      "text/plain": [
       "array(['Pessoa Física', 'Pessoa Jurídica', 'Estrangeiro'], dtype=object)"
      ]
     },
     "execution_count": 121,
     "metadata": {},
     "output_type": "execute_result"
    }
   ],
   "source": [
    "df_socios['id_socio'] = df_socios['id_socio'].astype(int)\n",
    "\n",
    "map_id_estrangeiro = {1: 'Pessoa Jurídica',\n",
    "               2: 'Pessoa Física',\n",
    "               3: 'Estrangeiro'}\n",
    "df_socios['id_socio'] = df_socios['id_socio'].replace(map_id_estrangeiro)\n",
    "df_socios['id_socio'].unique()"
   ]
  },
  {
   "cell_type": "code",
   "execution_count": 122,
   "metadata": {},
   "outputs": [
    {
     "data": {
      "text/plain": [
       "array([51, 61,  0, 31, 41, 71, 81, 21, 13])"
      ]
     },
     "execution_count": 122,
     "metadata": {},
     "output_type": "execute_result"
    }
   ],
   "source": [
    "df_socios['faixa_etaria'] = df_socios['faixa_etaria'].astype(int)\n",
    "\n",
    "map_faixa_etaria_de = {1: 0,\n",
    "                       2: 13,\n",
    "                       3: 21,\n",
    "                       4: 31,\n",
    "                       5: 41,\n",
    "                       6: 51,\n",
    "                       7: 61,\n",
    "                       8: 71,\n",
    "                       9: 81}\n",
    "df_socios['faixa_etaria_de'] = df_socios['faixa_etaria'].replace(map_faixa_etaria_de)\n",
    "df_socios['faixa_etaria_de'].unique()"
   ]
  },
  {
   "cell_type": "code",
   "execution_count": 123,
   "metadata": {},
   "outputs": [
    {
     "data": {
      "text/plain": [
       "array([60, 70,  0, 40, 50, 80, 90, 30, 20, 12])"
      ]
     },
     "execution_count": 123,
     "metadata": {},
     "output_type": "execute_result"
    }
   ],
   "source": [
    "map_faixa_etaria_ate = {1: 12,\n",
    "                       2: 20,\n",
    "                       3: 30,\n",
    "                       4: 40,\n",
    "                       5: 50,\n",
    "                       6: 60,\n",
    "                       7: 70,\n",
    "                       8: 80,\n",
    "                       9: 90}\n",
    "df_socios['faixa_etaria_ate'] = df_socios['faixa_etaria'].replace(map_faixa_etaria_ate)\n",
    "df_socios['faixa_etaria_ate'].unique()"
   ]
  },
  {
   "cell_type": "code",
   "execution_count": 124,
   "metadata": {},
   "outputs": [],
   "source": [
    "df_socios['media_faixa']  = (df_socios['faixa_etaria_ate']+df_socios['faixa_etaria_de'])/2"
   ]
  },
  {
   "cell_type": "code",
   "execution_count": 125,
   "metadata": {},
   "outputs": [],
   "source": [
    "df_socios_pf = df_socios.query(\"id_socio=='Pessoa Física'\")\n",
    "df_socios_med_idade = df_socios_pf.groupby('cnpj_basico')['media_faixa'].mean().to_frame().reset_index()\n",
    "df_socios_med_idade.set_axis(['cnpj_basico','media_idade_socios_pf'], axis='columns',inplace=True)\n",
    "df = pd.merge(df, df_socios_med_idade, on='cnpj_basico', how='left')"
   ]
  },
  {
   "cell_type": "code",
   "execution_count": 126,
   "metadata": {},
   "outputs": [
    {
     "data": {
      "text/plain": [
       "<AxesSubplot:>"
      ]
     },
     "execution_count": 126,
     "metadata": {},
     "output_type": "execute_result"
    },
    {
     "data": {
      "image/png": "[encoded data removed]",
      "text/plain": [
       "<Figure size 432x288 with 1 Axes>"
      ]
     },
     "metadata": {
      "needs_background": "light"
     },
     "output_type": "display_data"
    }
   ],
   "source": [
    "df.media_idade_socios_pf.hist()"
   ]
  },
  {
   "cell_type": "code",
   "execution_count": 127,
   "metadata": {},
   "outputs": [
    {
     "data": {
      "text/html": [
       "<div>\n",
       "<style scoped>\n",
       "    .dataframe tbody tr th:only-of-type {\n",
       "        vertical-align: middle;\n",
       "    }\n",
       "\n",
       "    .dataframe tbody tr th {\n",
       "        vertical-align: top;\n",
       "    }\n",
       "\n",
       "    .dataframe thead th {\n",
       "        text-align: right;\n",
       "    }\n",
       "</style>\n",
       "<table border=\"1\" class=\"dataframe\">\n",
       "  <thead>\n",
       "    <tr style=\"text-align: right;\">\n",
       "      <th></th>\n",
       "      <th>cnpj_basico</th>\n",
       "      <th>opcao_simples</th>\n",
       "      <th>data_opcao_simples</th>\n",
       "      <th>data_exclusao_simples</th>\n",
       "      <th>opcao_mei</th>\n",
       "      <th>data_opcao_mei</th>\n",
       "      <th>data_exclusao_mei</th>\n",
       "    </tr>\n",
       "  </thead>\n",
       "  <tbody>\n",
       "    <tr>\n",
       "      <th>405054</th>\n",
       "      <td>2172808</td>\n",
       "      <td>S</td>\n",
       "      <td>20070701</td>\n",
       "      <td>0</td>\n",
       "      <td>N</td>\n",
       "      <td>0</td>\n",
       "      <td>0</td>\n",
       "    </tr>\n",
       "  </tbody>\n",
       "</table>\n",
       "</div>"
      ],
      "text/plain": [
       "        cnpj_basico opcao_simples  data_opcao_simples  data_exclusao_simples  \\\n",
       "405054      2172808             S            20070701                      0   \n",
       "\n",
       "       opcao_mei  data_opcao_mei  data_exclusao_mei  \n",
       "405054         N               0                  0  "
      ]
     },
     "execution_count": 127,
     "metadata": {},
     "output_type": "execute_result"
    }
   ],
   "source": [
    "df_simples.head(1)"
   ]
  },
  {
   "cell_type": "code",
   "execution_count": 128,
   "metadata": {},
   "outputs": [
    {
     "data": {
      "text/html": [
       "<div>\n",
       "<style scoped>\n",
       "    .dataframe tbody tr th:only-of-type {\n",
       "        vertical-align: middle;\n",
       "    }\n",
       "\n",
       "    .dataframe tbody tr th {\n",
       "        vertical-align: top;\n",
       "    }\n",
       "\n",
       "    .dataframe thead th {\n",
       "        text-align: right;\n",
       "    }\n",
       "</style>\n",
       "<table border=\"1\" class=\"dataframe\">\n",
       "  <thead>\n",
       "    <tr style=\"text-align: right;\">\n",
       "      <th></th>\n",
       "      <th>cnpj_basico</th>\n",
       "      <th>qtd_linhas</th>\n",
       "    </tr>\n",
       "  </thead>\n",
       "  <tbody>\n",
       "  </tbody>\n",
       "</table>\n",
       "</div>"
      ],
      "text/plain": [
       "Empty DataFrame\n",
       "Columns: [cnpj_basico, qtd_linhas]\n",
       "Index: []"
      ]
     },
     "execution_count": 128,
     "metadata": {},
     "output_type": "execute_result"
    }
   ],
   "source": [
    "df_xk_simples = df_simples.groupby('cnpj_basico')['cnpj_basico'].count().to_frame()\n",
    "df_xk_simples.set_axis(['qtd_linhas'], axis='columns',inplace=True)\n",
    "df_xk_simples.reset_index(inplace=True)\n",
    "df_xk_simples.query('qtd_linhas > 1')"
   ]
  },
  {
   "cell_type": "code",
   "execution_count": 129,
   "metadata": {},
   "outputs": [
    {
     "data": {
      "text/plain": [
       "(24, 7)"
      ]
     },
     "execution_count": 129,
     "metadata": {},
     "output_type": "execute_result"
    }
   ],
   "source": [
    "df_simples.shape"
   ]
  },
  {
   "cell_type": "code",
   "execution_count": 130,
   "metadata": {},
   "outputs": [
    {
     "data": {
      "text/plain": [
       "(5616, 42)"
      ]
     },
     "execution_count": 130,
     "metadata": {},
     "output_type": "execute_result"
    }
   ],
   "source": [
    "df_simples = df_simples.query(\"opcao_simples=='S' and data_exclusao_simples==0\")\n",
    "df = pd.merge(df, df_simples[['cnpj_basico','opcao_simples']], on='cnpj_basico', how='left')\n",
    "df.shape"
   ]
  },
  {
   "cell_type": "code",
   "execution_count": 131,
   "metadata": {},
   "outputs": [],
   "source": [
    "df_motivos.head(1)\n",
    "df_motivos.set_axis(['motivo_sit_cadastral','des_sit_cadastral'], axis='columns',inplace=True)\n"
   ]
  },
  {
   "cell_type": "code",
   "execution_count": 132,
   "metadata": {},
   "outputs": [
    {
     "data": {
      "text/plain": [
       "(5616, 43)"
      ]
     },
     "execution_count": 132,
     "metadata": {},
     "output_type": "execute_result"
    }
   ],
   "source": [
    "df = pd.merge(df, df_motivos, on='motivo_sit_cadastral', how='left')\n",
    "df.shape"
   ]
  },
  {
   "cell_type": "code",
   "execution_count": 133,
   "metadata": {},
   "outputs": [],
   "source": [
    "df['motivo_sit_cadastral'] = df['des_sit_cadastral']\n",
    "df.drop('des_sit_cadastral', axis='columns',inplace=True)"
   ]
  },
  {
   "cell_type": "code",
   "execution_count": 134,
   "metadata": {},
   "outputs": [],
   "source": [
    "df.to_pickle('Empresas.pkl')\n",
    "#df.to_excel('Empresas.xlsx')"
   ]
  }
 ],
 "metadata": {
  "kernelspec": {
   "display_name": "AmbienteKairo",
   "language": "python",
   "name": "ambientekairo"
  },
  "language_info": {
   "codemirror_mode": {
    "name": "ipython",
    "version": 3
   },
   "file_extension": ".py",
   "mimetype": "text/x-python",
   "name": "python",
   "nbconvert_exporter": "python",
   "pygments_lexer": "ipython3",
   "version": "3.9.12"
  },
  "orig_nbformat": 4
 },
 "nbformat": 4,
 "nbformat_minor": 2
}
