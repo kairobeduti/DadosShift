{
 "cells": [
  {
   "cell_type": "code",
   "execution_count": 454,
   "metadata": {},
   "outputs": [],
   "source": [
    "# This Python 3 environment comes with many helpful analytics libraries installed\n",
    "# It is defined by the kaggle/python docker image: https://github.com/kaggle/docker-python\n",
    "# For example, here's several helpful packages to load in \n",
    "\n",
    "import numpy as np # linear algebra\n",
    "import pandas as pd # data processing, CSV file I/O (e.g. pd.read_csv)\n",
    "import matplotlib.pyplot as plt # for data visualization\n",
    "import seaborn as sns # for statistical data visualization\n",
    "%matplotlib inline\n",
    "import warnings\n",
    "warnings.filterwarnings('ignore')"
   ]
  },
  {
   "cell_type": "code",
   "execution_count": 455,
   "metadata": {},
   "outputs": [],
   "source": [
    "df = pd.read_pickle('base_kmeans.pkl')"
   ]
  },
  {
   "cell_type": "code",
   "execution_count": 456,
   "metadata": {},
   "outputs": [],
   "source": [
    "from nltk.tokenize import word_tokenize\n",
    "from nltk.tag import pos_tag\n",
    "\n",
    "def word_tokenization_mba(sentence):\n",
    "    # tokenize the sentence into individual words\n",
    "    tokens = word_tokenize(sentence)\n",
    "    # perform part-of-speech (POS) tagging to identify the grammatical category of each word\n",
    "    pos_tags = pos_tag(tokens)\n",
    "    # use regular expressions to identify specific patterns in the sentence\n",
    "    elements = []\n",
    "    for word, pos in pos_tags:\n",
    "        if pos in ('NNP','NN','CD','JJ'):\n",
    "            elements.append(word)\n",
    "    return(elements)"
   ]
  },
  {
   "cell_type": "code",
   "execution_count": 457,
   "metadata": {},
   "outputs": [],
   "source": [
    "df['lst_tokens_desc'] = df['DESCRIPTION_UC'].apply(lambda x: word_tokenization_mba(x))\n",
    "df_dummies = pd.get_dummies(df['lst_tokens_desc'].apply(pd.Series).stack()).sum(level=0)\n",
    "df = pd.concat([df, df_dummies], axis=1)"
   ]
  },
  {
   "cell_type": "code",
   "execution_count": 458,
   "metadata": {},
   "outputs": [],
   "source": [
    "columns_to_remove = ['OPPORT_TYPE',\n",
    " 'CURRENCY',\n",
    " 'MEPP_x',\n",
    " 'OPPORT_TYPE_DESC',\n",
    " 'GROUPING_LEVEL',\n",
    " 'LOTE',\n",
    " 'TOTAL',\n",
    " 'Grupo',\n",
    " 'NewFamília',\n",
    " 'Segmento',\n",
    " 'Escopo',\n",
    " 'Tipo',\n",
    " 'CREATED_AT_DATE',\n",
    " 'CREATED_AT_TIME',\n",
    " 'DELIV_DATE',\n",
    " 'NUMBER_INT',\n",
    " 'ATTACHMENTS',\n",
    " 'TZONE',\n",
    " 'MESSAGES',\n",
    " 'DESCRIPTION',\n",
    " 'DOU_PUBL_DATE',\n",
    " 'SUB_STATUS',\n",
    " 'OPPORT_NUM',\n",
    " 'QUANTITY_x',\n",
    " 'YPFAMITEM',\n",
    " 'ORDERED_PROD',\n",
    " 'CHARACTERISTIC',\n",
    " 'Chave',\n",
    " 'lst_tokens_desc',\n",
    " 'OUTLIER_IQR_UL',\n",
    " 'STATUS',\n",
    " 'RECURSAL_PERIOD',\n",
    " 'DIVULG_DATE_YPCON_DATE_H',\n",
    " 'START_DATE_H',\n",
    " 'CREATED_AT_DATE_H',\n",
    " 'END_DATE_H',\n",
    " 'COMMERCIAL_PROP_OPEN_DATE_H',\n",
    " 'END_DATE_H_MES',\n",
    " 'DESCRIPTION_UC',\n",
    " 'UNIT_TEXT',\n",
    " 'TAXNUM',\n",
    " 'SUPPLIER_NAME',\n",
    " 'MEPP_y',\n",
    " 'QUANTITY_y',\n",
    " 'UNIT_VALUE',\n",
    " 'target'\n",
    " ]"
   ]
  },
  {
   "cell_type": "code",
   "execution_count": 459,
   "metadata": {},
   "outputs": [],
   "source": [
    "df.drop(df[df['TOTAL_VALUE'].isna()].index,inplace=True)\n",
    "df['OUTLIER'] = ((df['TOTAL_VALUE'] > df['calc_upper_limit']) | (df['TOTAL_VALUE'] < df['calc_lower_limit']))\n"
   ]
  },
  {
   "cell_type": "code",
   "execution_count": 460,
   "metadata": {},
   "outputs": [],
   "source": [
    "from sklearn.preprocessing import RobustScaler\n",
    "\n",
    "# Create a RobustScaler object\n",
    "scaler = RobustScaler()\n",
    "\n",
    "scaled_values = scaler.fit_transform(df[['TOTAL_VALUE']])\n",
    "# Assign the scaled values back to the original dataframe\n",
    "df['TOTAL_VALUE_scaled'] = pd.Series(scaled_values.reshape(-1), index=df.index)"
   ]
  },
  {
   "cell_type": "code",
   "execution_count": 461,
   "metadata": {},
   "outputs": [],
   "source": [
    "df_orig = df.copy()\n",
    "df = df.drop(columns_to_remove, axis='columns')"
   ]
  },
  {
   "cell_type": "code",
   "execution_count": 462,
   "metadata": {},
   "outputs": [],
   "source": [
    "X = df"
   ]
  },
  {
   "cell_type": "code",
   "execution_count": 463,
   "metadata": {},
   "outputs": [],
   "source": [
    "from sklearn.preprocessing import LabelEncoder\n",
    "le = LabelEncoder()\n",
    "X['UNIT'] = le.fit_transform(X['UNIT'])"
   ]
  },
  {
   "cell_type": "code",
   "execution_count": 464,
   "metadata": {},
   "outputs": [
    {
     "name": "stdout",
     "output_type": "stream",
     "text": [
      "<class 'pandas.core.frame.DataFrame'>\n",
      "Int64Index: 14578 entries, 81965 to 96919\n",
      "Data columns (total 49 columns):\n",
      " #   Column              Non-Null Count  Dtype  \n",
      "---  ------              --------------  -----  \n",
      " 0   UNIT                14578 non-null  int32  \n",
      " 1   TOTAL_VALUE         14578 non-null  float64\n",
      " 2   calc_upper_limit    14463 non-null  float64\n",
      " 3   calc_lower_limit    14463 non-null  float64\n",
      " 4   171                 14578 non-null  uint8  \n",
      " 5   A                   14578 non-null  uint8  \n",
      " 6   AR                  14578 non-null  uint8  \n",
      " 7   ASME                14578 non-null  uint8  \n",
      " 8   BAGNOLO             14578 non-null  uint8  \n",
      " 9   BHT                 14578 non-null  uint8  \n",
      " 10  BREMBANA            14578 non-null  uint8  \n",
      " 11  BROWN               14578 non-null  uint8  \n",
      " 12  C70600              14578 non-null  uint8  \n",
      " 13  CASCO               14578 non-null  uint8  \n",
      " 14  CBC                 14578 non-null  uint8  \n",
      " 15  CHEMICA             14578 non-null  uint8  \n",
      " 16  COBRASMA            14578 non-null  uint8  \n",
      " 17  COEMSA              14578 non-null  uint8  \n",
      " 18  CONJ                14578 non-null  uint8  \n",
      " 19  DE                  14578 non-null  uint8  \n",
      " 20  DO                  14578 non-null  uint8  \n",
      " 21  E                   14578 non-null  uint8  \n",
      " 22  FEIXE_TUBULAR       14578 non-null  uint8  \n",
      " 23  FIN                 14578 non-null  uint8  \n",
      " 24  FIXO                14578 non-null  uint8  \n",
      " 25  GEA                 14578 non-null  uint8  \n",
      " 26  ISHIKAW             14578 non-null  uint8  \n",
      " 27  JARAGUA             14578 non-null  uint8  \n",
      " 28  MYCOM               14578 non-null  uint8  \n",
      " 29  NORDEQ              14578 non-null  uint8  \n",
      " 30  P                   14578 non-null  uint8  \n",
      " 31  P-22535             14578 non-null  uint8  \n",
      " 32  P-68707             14578 non-null  uint8  \n",
      " 33  P-98502B            14578 non-null  uint8  \n",
      " 34  P/AQUECEDOR         14578 non-null  uint8  \n",
      " 35  P/CONDENSADO        14578 non-null  uint8  \n",
      " 36  P/CONDENSADOR       14578 non-null  uint8  \n",
      " 37  P/FEIXE             14578 non-null  uint8  \n",
      " 38  P/PERMUTADOR        14578 non-null  uint8  \n",
      " 39  P/REFERVEDOR        14578 non-null  uint8  \n",
      " 40  P/RESFRIADOR        14578 non-null  uint8  \n",
      " 41  RESFRIADOR          14578 non-null  uint8  \n",
      " 42  RPBC                14578 non-null  uint8  \n",
      " 43  SB                  14578 non-null  uint8  \n",
      " 44  U                   14578 non-null  uint8  \n",
      " 45  UNS                 14578 non-null  uint8  \n",
      " 46  WORSHAN             14578 non-null  uint8  \n",
      " 47  OUTLIER             14578 non-null  bool   \n",
      " 48  TOTAL_VALUE_scaled  14578 non-null  float64\n",
      "dtypes: bool(1), float64(4), int32(1), uint8(43)\n",
      "memory usage: 1.2 MB\n"
     ]
    }
   ],
   "source": [
    "X.info()"
   ]
  },
  {
   "cell_type": "code",
   "execution_count": 465,
   "metadata": {},
   "outputs": [
    {
     "data": {
      "text/plain": [
       "array([1, 0])"
      ]
     },
     "execution_count": 465,
     "metadata": {},
     "output_type": "execute_result"
    }
   ],
   "source": [
    "X['UNIT'].unique()"
   ]
  },
  {
   "cell_type": "code",
   "execution_count": 466,
   "metadata": {},
   "outputs": [
    {
     "ename": "ValueError",
     "evalue": "Input X contains NaN.\nPCA does not accept missing values encoded as NaN natively. For supervised learning, you might want to consider sklearn.ensemble.HistGradientBoostingClassifier and Regressor which accept missing values encoded as NaNs natively. Alternatively, it is possible to preprocess the data, for instance by using an imputer transformer in a pipeline or drop samples with missing values. See https://scikit-learn.org/stable/modules/impute.html You can find a list of all estimators that handle NaN values at the following page: https://scikit-learn.org/stable/modules/impute.html#estimators-that-handle-nan-values",
     "output_type": "error",
     "traceback": [
      "\u001b[1;31m---------------------------------------------------------------------------\u001b[0m",
      "\u001b[1;31mValueError\u001b[0m                                Traceback (most recent call last)",
      "\u001b[1;32mc:\\DadosShift\\Análise\\Atual\\05 - Kmeans tokens descrição.ipynb Cell 13\u001b[0m in \u001b[0;36m<cell line: 11>\u001b[1;34m()\u001b[0m\n\u001b[0;32m      <a href='vscode-notebook-cell:/c%3A/DadosShift/An%C3%A1lise/Atual/05%20-%20Kmeans%20tokens%20descri%C3%A7%C3%A3o.ipynb#X12sZmlsZQ%3D%3D?line=8'>9</a>\u001b[0m \u001b[39mfrom\u001b[39;00m \u001b[39msklearn\u001b[39;00m\u001b[39m.\u001b[39;00m\u001b[39mdecomposition\u001b[39;00m \u001b[39mimport\u001b[39;00m PCA\n\u001b[0;32m     <a href='vscode-notebook-cell:/c%3A/DadosShift/An%C3%A1lise/Atual/05%20-%20Kmeans%20tokens%20descri%C3%A7%C3%A3o.ipynb#X12sZmlsZQ%3D%3D?line=9'>10</a>\u001b[0m pca \u001b[39m=\u001b[39m PCA(\u001b[39m2\u001b[39m)\n\u001b[1;32m---> <a href='vscode-notebook-cell:/c%3A/DadosShift/An%C3%A1lise/Atual/05%20-%20Kmeans%20tokens%20descri%C3%A7%C3%A3o.ipynb#X12sZmlsZQ%3D%3D?line=10'>11</a>\u001b[0m X \u001b[39m=\u001b[39m pca\u001b[39m.\u001b[39;49mfit_transform(X)\n",
      "File \u001b[1;32mc:\\Users\\kairo\\anaconda3\\envs\\AmbienteKairo\\lib\\site-packages\\sklearn\\utils\\_set_output.py:140\u001b[0m, in \u001b[0;36m_wrap_method_output.<locals>.wrapped\u001b[1;34m(self, X, *args, **kwargs)\u001b[0m\n\u001b[0;32m    138\u001b[0m \u001b[39m@wraps\u001b[39m(f)\n\u001b[0;32m    139\u001b[0m \u001b[39mdef\u001b[39;00m \u001b[39mwrapped\u001b[39m(\u001b[39mself\u001b[39m, X, \u001b[39m*\u001b[39margs, \u001b[39m*\u001b[39m\u001b[39m*\u001b[39mkwargs):\n\u001b[1;32m--> 140\u001b[0m     data_to_wrap \u001b[39m=\u001b[39m f(\u001b[39mself\u001b[39m, X, \u001b[39m*\u001b[39margs, \u001b[39m*\u001b[39m\u001b[39m*\u001b[39mkwargs)\n\u001b[0;32m    141\u001b[0m     \u001b[39mif\u001b[39;00m \u001b[39misinstance\u001b[39m(data_to_wrap, \u001b[39mtuple\u001b[39m):\n\u001b[0;32m    142\u001b[0m         \u001b[39m# only wrap the first output for cross decomposition\u001b[39;00m\n\u001b[0;32m    143\u001b[0m         \u001b[39mreturn\u001b[39;00m (\n\u001b[0;32m    144\u001b[0m             _wrap_data_with_container(method, data_to_wrap[\u001b[39m0\u001b[39m], X, \u001b[39mself\u001b[39m),\n\u001b[0;32m    145\u001b[0m             \u001b[39m*\u001b[39mdata_to_wrap[\u001b[39m1\u001b[39m:],\n\u001b[0;32m    146\u001b[0m         )\n",
      "File \u001b[1;32mc:\\Users\\kairo\\anaconda3\\envs\\AmbienteKairo\\lib\\site-packages\\sklearn\\decomposition\\_pca.py:462\u001b[0m, in \u001b[0;36mPCA.fit_transform\u001b[1;34m(self, X, y)\u001b[0m\n\u001b[0;32m    439\u001b[0m \u001b[39m\"\"\"Fit the model with X and apply the dimensionality reduction on X.\u001b[39;00m\n\u001b[0;32m    440\u001b[0m \n\u001b[0;32m    441\u001b[0m \u001b[39mParameters\u001b[39;00m\n\u001b[1;32m   (...)\u001b[0m\n\u001b[0;32m    458\u001b[0m \u001b[39mC-ordered array, use 'np.ascontiguousarray'.\u001b[39;00m\n\u001b[0;32m    459\u001b[0m \u001b[39m\"\"\"\u001b[39;00m\n\u001b[0;32m    460\u001b[0m \u001b[39mself\u001b[39m\u001b[39m.\u001b[39m_validate_params()\n\u001b[1;32m--> 462\u001b[0m U, S, Vt \u001b[39m=\u001b[39m \u001b[39mself\u001b[39;49m\u001b[39m.\u001b[39;49m_fit(X)\n\u001b[0;32m    463\u001b[0m U \u001b[39m=\u001b[39m U[:, : \u001b[39mself\u001b[39m\u001b[39m.\u001b[39mn_components_]\n\u001b[0;32m    465\u001b[0m \u001b[39mif\u001b[39;00m \u001b[39mself\u001b[39m\u001b[39m.\u001b[39mwhiten:\n\u001b[0;32m    466\u001b[0m     \u001b[39m# X_new = X * V / S * sqrt(n_samples) = U * sqrt(n_samples)\u001b[39;00m\n",
      "File \u001b[1;32mc:\\Users\\kairo\\anaconda3\\envs\\AmbienteKairo\\lib\\site-packages\\sklearn\\decomposition\\_pca.py:485\u001b[0m, in \u001b[0;36mPCA._fit\u001b[1;34m(self, X)\u001b[0m\n\u001b[0;32m    479\u001b[0m \u001b[39mif\u001b[39;00m issparse(X):\n\u001b[0;32m    480\u001b[0m     \u001b[39mraise\u001b[39;00m \u001b[39mTypeError\u001b[39;00m(\n\u001b[0;32m    481\u001b[0m         \u001b[39m\"\u001b[39m\u001b[39mPCA does not support sparse input. See \u001b[39m\u001b[39m\"\u001b[39m\n\u001b[0;32m    482\u001b[0m         \u001b[39m\"\u001b[39m\u001b[39mTruncatedSVD for a possible alternative.\u001b[39m\u001b[39m\"\u001b[39m\n\u001b[0;32m    483\u001b[0m     )\n\u001b[1;32m--> 485\u001b[0m X \u001b[39m=\u001b[39m \u001b[39mself\u001b[39;49m\u001b[39m.\u001b[39;49m_validate_data(\n\u001b[0;32m    486\u001b[0m     X, dtype\u001b[39m=\u001b[39;49m[np\u001b[39m.\u001b[39;49mfloat64, np\u001b[39m.\u001b[39;49mfloat32], ensure_2d\u001b[39m=\u001b[39;49m\u001b[39mTrue\u001b[39;49;00m, copy\u001b[39m=\u001b[39;49m\u001b[39mself\u001b[39;49m\u001b[39m.\u001b[39;49mcopy\n\u001b[0;32m    487\u001b[0m )\n\u001b[0;32m    489\u001b[0m \u001b[39m# Handle n_components==None\u001b[39;00m\n\u001b[0;32m    490\u001b[0m \u001b[39mif\u001b[39;00m \u001b[39mself\u001b[39m\u001b[39m.\u001b[39mn_components \u001b[39mis\u001b[39;00m \u001b[39mNone\u001b[39;00m:\n",
      "File \u001b[1;32mc:\\Users\\kairo\\anaconda3\\envs\\AmbienteKairo\\lib\\site-packages\\sklearn\\base.py:565\u001b[0m, in \u001b[0;36mBaseEstimator._validate_data\u001b[1;34m(self, X, y, reset, validate_separately, **check_params)\u001b[0m\n\u001b[0;32m    563\u001b[0m     \u001b[39mraise\u001b[39;00m \u001b[39mValueError\u001b[39;00m(\u001b[39m\"\u001b[39m\u001b[39mValidation should be done on X, y or both.\u001b[39m\u001b[39m\"\u001b[39m)\n\u001b[0;32m    564\u001b[0m \u001b[39melif\u001b[39;00m \u001b[39mnot\u001b[39;00m no_val_X \u001b[39mand\u001b[39;00m no_val_y:\n\u001b[1;32m--> 565\u001b[0m     X \u001b[39m=\u001b[39m check_array(X, input_name\u001b[39m=\u001b[39m\u001b[39m\"\u001b[39m\u001b[39mX\u001b[39m\u001b[39m\"\u001b[39m, \u001b[39m*\u001b[39m\u001b[39m*\u001b[39mcheck_params)\n\u001b[0;32m    566\u001b[0m     out \u001b[39m=\u001b[39m X\n\u001b[0;32m    567\u001b[0m \u001b[39melif\u001b[39;00m no_val_X \u001b[39mand\u001b[39;00m \u001b[39mnot\u001b[39;00m no_val_y:\n",
      "File \u001b[1;32mc:\\Users\\kairo\\anaconda3\\envs\\AmbienteKairo\\lib\\site-packages\\sklearn\\utils\\validation.py:921\u001b[0m, in \u001b[0;36mcheck_array\u001b[1;34m(array, accept_sparse, accept_large_sparse, dtype, order, copy, force_all_finite, ensure_2d, allow_nd, ensure_min_samples, ensure_min_features, estimator, input_name)\u001b[0m\n\u001b[0;32m    915\u001b[0m         \u001b[39mraise\u001b[39;00m \u001b[39mValueError\u001b[39;00m(\n\u001b[0;32m    916\u001b[0m             \u001b[39m\"\u001b[39m\u001b[39mFound array with dim \u001b[39m\u001b[39m%d\u001b[39;00m\u001b[39m. \u001b[39m\u001b[39m%s\u001b[39;00m\u001b[39m expected <= 2.\u001b[39m\u001b[39m\"\u001b[39m\n\u001b[0;32m    917\u001b[0m             \u001b[39m%\u001b[39m (array\u001b[39m.\u001b[39mndim, estimator_name)\n\u001b[0;32m    918\u001b[0m         )\n\u001b[0;32m    920\u001b[0m     \u001b[39mif\u001b[39;00m force_all_finite:\n\u001b[1;32m--> 921\u001b[0m         _assert_all_finite(\n\u001b[0;32m    922\u001b[0m             array,\n\u001b[0;32m    923\u001b[0m             input_name\u001b[39m=\u001b[39;49minput_name,\n\u001b[0;32m    924\u001b[0m             estimator_name\u001b[39m=\u001b[39;49mestimator_name,\n\u001b[0;32m    925\u001b[0m             allow_nan\u001b[39m=\u001b[39;49mforce_all_finite \u001b[39m==\u001b[39;49m \u001b[39m\"\u001b[39;49m\u001b[39mallow-nan\u001b[39;49m\u001b[39m\"\u001b[39;49m,\n\u001b[0;32m    926\u001b[0m         )\n\u001b[0;32m    928\u001b[0m \u001b[39mif\u001b[39;00m ensure_min_samples \u001b[39m>\u001b[39m \u001b[39m0\u001b[39m:\n\u001b[0;32m    929\u001b[0m     n_samples \u001b[39m=\u001b[39m _num_samples(array)\n",
      "File \u001b[1;32mc:\\Users\\kairo\\anaconda3\\envs\\AmbienteKairo\\lib\\site-packages\\sklearn\\utils\\validation.py:161\u001b[0m, in \u001b[0;36m_assert_all_finite\u001b[1;34m(X, allow_nan, msg_dtype, estimator_name, input_name)\u001b[0m\n\u001b[0;32m    144\u001b[0m \u001b[39mif\u001b[39;00m estimator_name \u001b[39mand\u001b[39;00m input_name \u001b[39m==\u001b[39m \u001b[39m\"\u001b[39m\u001b[39mX\u001b[39m\u001b[39m\"\u001b[39m \u001b[39mand\u001b[39;00m has_nan_error:\n\u001b[0;32m    145\u001b[0m     \u001b[39m# Improve the error message on how to handle missing values in\u001b[39;00m\n\u001b[0;32m    146\u001b[0m     \u001b[39m# scikit-learn.\u001b[39;00m\n\u001b[0;32m    147\u001b[0m     msg_err \u001b[39m+\u001b[39m\u001b[39m=\u001b[39m (\n\u001b[0;32m    148\u001b[0m         \u001b[39mf\u001b[39m\u001b[39m\"\u001b[39m\u001b[39m\\n\u001b[39;00m\u001b[39m{\u001b[39;00mestimator_name\u001b[39m}\u001b[39;00m\u001b[39m does not accept missing values\u001b[39m\u001b[39m\"\u001b[39m\n\u001b[0;32m    149\u001b[0m         \u001b[39m\"\u001b[39m\u001b[39m encoded as NaN natively. For supervised learning, you might want\u001b[39m\u001b[39m\"\u001b[39m\n\u001b[1;32m   (...)\u001b[0m\n\u001b[0;32m    159\u001b[0m         \u001b[39m\"\u001b[39m\u001b[39m#estimators-that-handle-nan-values\u001b[39m\u001b[39m\"\u001b[39m\n\u001b[0;32m    160\u001b[0m     )\n\u001b[1;32m--> 161\u001b[0m \u001b[39mraise\u001b[39;00m \u001b[39mValueError\u001b[39;00m(msg_err)\n",
      "\u001b[1;31mValueError\u001b[0m: Input X contains NaN.\nPCA does not accept missing values encoded as NaN natively. For supervised learning, you might want to consider sklearn.ensemble.HistGradientBoostingClassifier and Regressor which accept missing values encoded as NaNs natively. Alternatively, it is possible to preprocess the data, for instance by using an imputer transformer in a pipeline or drop samples with missing values. See https://scikit-learn.org/stable/modules/impute.html You can find a list of all estimators that handle NaN values at the following page: https://scikit-learn.org/stable/modules/impute.html#estimators-that-handle-nan-values"
     ]
    }
   ],
   "source": [
    "cols = X.columns\n",
    "\n",
    "#from sklearn.preprocessing import MinMaxScaler\n",
    "#ms = MinMaxScaler()\n",
    "#X = ms.fit_transform(X)\n",
    "\n",
    "#OU#\n",
    "\n",
    "from sklearn.decomposition import PCA\n",
    "pca = PCA(2)\n",
    "X = pca.fit_transform(X)"
   ]
  },
  {
   "cell_type": "code",
   "execution_count": null,
   "metadata": {},
   "outputs": [],
   "source": [
    "#X = pd.DataFrame(X, columns=[cols])\n",
    "#X\n",
    "#X.shape"
   ]
  },
  {
   "cell_type": "code",
   "execution_count": null,
   "metadata": {},
   "outputs": [
    {
     "data": {
      "image/png": "[encoded data removed]",
      "text/plain": [
       "<Figure size 432x288 with 1 Axes>"
      ]
     },
     "metadata": {
      "needs_background": "light"
     },
     "output_type": "display_data"
    }
   ],
   "source": [
    "from sklearn.cluster import KMeans\n",
    "cs = []\n",
    "for i in range(1, 11):\n",
    "    kmeans = KMeans(n_clusters = i, init = 'k-means++', max_iter = 300, n_init = 10, random_state = 0)\n",
    "    kmeans.fit(X)\n",
    "    cs.append(kmeans.inertia_)\n",
    "plt.plot(range(1, 11), cs)\n",
    "plt.title('The Elbow Method')\n",
    "plt.xlabel('Number of clusters')\n",
    "plt.ylabel('CS')\n",
    "plt.show()"
   ]
  },
  {
   "cell_type": "code",
   "execution_count": null,
   "metadata": {},
   "outputs": [
    {
     "name": "stdout",
     "output_type": "stream",
     "text": [
      "For n_clusters = 2 The average silhouette_score is : 0.9697310007492566\n",
      "For n_clusters = 3 The average silhouette_score is : 0.848166960441729\n",
      "For n_clusters = 4 The average silhouette_score is : 0.7460988363225388\n",
      "For n_clusters = 5 The average silhouette_score is : 0.6996841542905948\n",
      "For n_clusters = 6 The average silhouette_score is : 0.6060779235478777\n",
      "For n_clusters = 7 The average silhouette_score is : 0.5558961618446544\n",
      "For n_clusters = 8 The average silhouette_score is : 0.5780288593262997\n",
      "For n_clusters = 9 The average silhouette_score is : 0.5779579384808077\n",
      "For n_clusters = 10 The average silhouette_score is : 0.5456957474735916\n"
     ]
    }
   ],
   "source": [
    "from sklearn.metrics import silhouette_score\n",
    "\n",
    "for n_clusters in range(2, 11):\n",
    "    kmeans = KMeans(n_clusters=n_clusters)\n",
    "    cluster_labels = kmeans.fit_predict(X)\n",
    "    silhouette_avg = silhouette_score(X, cluster_labels)\n",
    "    print(\"For n_clusters =\", n_clusters,\n",
    "          \"The average silhouette_score is :\", silhouette_avg)"
   ]
  },
  {
   "cell_type": "code",
   "execution_count": null,
   "metadata": {},
   "outputs": [
    {
     "name": "stdout",
     "output_type": "stream",
     "text": [
      "Optimal number of clusters: 10\n"
     ]
    }
   ],
   "source": [
    "import numpy as np\n",
    "from scipy import stats\n",
    "\n",
    "def gap_statistic(X, max_k):\n",
    "    \"\"\"\n",
    "    Implements the Gap Statistic method to determine the optimal number of clusters for K-means clustering.\n",
    "    \n",
    "    Args:\n",
    "        X: array-like or sparse matrix, shape (n_samples, n_features)\n",
    "            The input data.\n",
    "        max_k: int\n",
    "            The maximum number of clusters to consider.\n",
    "            \n",
    "    Returns:\n",
    "        gaps: list of gap statistics for each k value from 1 to max_k.\n",
    "    \"\"\"\n",
    "    \n",
    "    # Calculate the observed gap statistic for each k\n",
    "    gaps = []\n",
    "    for k in range(1, max_k+1):\n",
    "        # Fit KMeans model for current k\n",
    "        kmeans = KMeans(n_clusters=k)\n",
    "        kmeans.fit(X)\n",
    "        \n",
    "        # Calculate sum of within-cluster squared distances\n",
    "        Wk = kmeans.inertia_\n",
    "        \n",
    "        # Generate reference data for null distribution\n",
    "        B = 10  # Number of reference datasets to generate\n",
    "        ref_Wk = np.zeros(B)\n",
    "        for i in range(B):\n",
    "            # Generate random data with same distribution as X\n",
    "            X_sim = np.random.uniform(low=X.min(), high=X.max(), size=X.shape)\n",
    "            \n",
    "            # Fit KMeans model for current k on random data\n",
    "            kmeans_sim = KMeans(n_clusters=k)\n",
    "            kmeans_sim.fit(X_sim)\n",
    "            \n",
    "            # Calculate sum of within-cluster squared distances for simulated data\n",
    "            ref_Wk[i] = kmeans_sim.inertia_\n",
    "        \n",
    "        # Calculate expected gap statistic and its standard deviation\n",
    "        E_Wk = np.mean(ref_Wk)\n",
    "        sd_Wk = np.sqrt(np.var(ref_Wk) * (1 + 1/B))\n",
    "        \n",
    "        # Calculate gap statistic\n",
    "        gap = np.log(E_Wk) - np.log(Wk)\n",
    "        \n",
    "        # Adjust for reference distribution and add to list of gaps\n",
    "        gap_adjusted = gap - (np.log(stats.norm.cdf(sd_Wk)) / B)\n",
    "        gaps.append(gap_adjusted)\n",
    "        \n",
    "    return gaps\n",
    "\n",
    "# Call gap_statistic function to determine optimal number of clusters\n",
    "max_k = 10\n",
    "gaps = gap_statistic(X, max_k)\n",
    "\n",
    "# Find optimal number of clusters\n",
    "optimal_k = np.argmax(gaps) + 1\n",
    "print(f\"Optimal number of clusters: {optimal_k}\")"
   ]
  },
  {
   "cell_type": "code",
   "execution_count": null,
   "metadata": {},
   "outputs": [
    {
     "data": {
      "image/png": "[encoded data removed]",
      "text/plain": [
       "<Figure size 432x288 with 1 Axes>"
      ]
     },
     "metadata": {
      "needs_background": "light"
     },
     "output_type": "display_data"
    }
   ],
   "source": [
    "from sklearn.cluster import KMeans\n",
    "\n",
    "kmeans = KMeans(n_clusters=3,random_state=0)\n",
    "kmeans.fit_predict(X)\n",
    "labels = kmeans.labels_\n",
    "\n",
    "#Getting the Centroids\n",
    "centroids = kmeans.cluster_centers_\n",
    "u_labels = np.unique(labels)\n",
    " \n",
    "#plotting the results:\n",
    " \n",
    "for i in u_labels:\n",
    "    plt.scatter(X[labels == i , 0] , X[labels == i , 1] , label = i)\n",
    "plt.scatter(centroids[:,0] , centroids[:,1] , s = 80, color = 'k')\n",
    "plt.legend()\n",
    "plt.show()"
   ]
  },
  {
   "cell_type": "code",
   "execution_count": null,
   "metadata": {},
   "outputs": [
    {
     "data": {
      "image/png": "[encoded data removed]",
      "text/plain": [
       "<Figure size 432x288 with 1 Axes>"
      ]
     },
     "metadata": {
      "needs_background": "light"
     },
     "output_type": "display_data"
    }
   ],
   "source": []
  },
  {
   "cell_type": "code",
   "execution_count": null,
   "metadata": {},
   "outputs": [],
   "source": [
    "#df_orig[df_orig.TOTAL_VALUE.isna()]"
   ]
  },
  {
   "cell_type": "code",
   "execution_count": null,
   "metadata": {},
   "outputs": [],
   "source": [
    "df_orig['labels'] = labels\n",
    "df_orig.to_excel('kmeans.xlsx')"
   ]
  }
 ],
 "metadata": {
  "kernelspec": {
   "display_name": "Kernel",
   "language": "python",
   "name": "kernel"
  },
  "language_info": {
   "codemirror_mode": {
    "name": "ipython",
    "version": 3
   },
   "file_extension": ".py",
   "mimetype": "text/x-python",
   "name": "python",
   "nbconvert_exporter": "python",
   "pygments_lexer": "ipython3",
   "version": "3.9.12"
  },
  "orig_nbformat": 4
 },
 "nbformat": 4,
 "nbformat_minor": 2
}
