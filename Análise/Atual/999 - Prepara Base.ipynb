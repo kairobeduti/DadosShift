{
 "cells": [
  {
   "cell_type": "code",
   "execution_count": 1,
   "metadata": {},
   "outputs": [],
   "source": [
    "import pandas as pd\n",
    "from datetime import datetime"
   ]
  },
  {
   "cell_type": "code",
   "execution_count": 2,
   "metadata": {},
   "outputs": [
    {
     "data": {
      "text/plain": [
       "(98707, 56)"
      ]
     },
     "execution_count": 2,
     "metadata": {},
     "output_type": "execute_result"
    }
   ],
   "source": [
    "df_itens = pd.read_pickle('Itens.pkl')\n",
    "df_itens.shape"
   ]
  },
  {
   "cell_type": "code",
   "execution_count": 3,
   "metadata": {},
   "outputs": [],
   "source": [
    "df_empresas = pd.read_pickle('Empresas.pkl')"
   ]
  },
  {
   "cell_type": "code",
   "execution_count": 4,
   "metadata": {},
   "outputs": [],
   "source": [
    "df_base = pd.merge(df_empresas,df_itens, left_on=['cnpj'], right_on=['TAXNUM'], how='inner')"
   ]
  },
  {
   "cell_type": "markdown",
   "metadata": {},
   "source": [
    "<h2> Seta o target baseado em análise de amostragem das oportunidades onde: \"Awarded\", \"Enabled\" e \"Homologated\" são considerados ganhadores e os demais, perdedores"
   ]
  },
  {
   "cell_type": "code",
   "execution_count": 5,
   "metadata": {},
   "outputs": [],
   "source": [
    "dict_target_4 = {\n",
    "\n",
    "'Disqualification Technical Opinion': 0,\n",
    "'Disqualification Excessive Price': 0,\n",
    "'Disqualification Over Estimated': 0,\n",
    "'Renunciation': 0,\n",
    "'Declassification Proposal Invalid': 0,\n",
    "'Disability - Technical qualification.': 0,\n",
    "'Disability - Financial Economic Capacity.': 0,\n",
    "'Did Not Present': 0,\n",
    "'Disqualification Price unenforceable': 0,\n",
    "'Disability - Absence of Response.': 0,\n",
    "'Supplier disqualified by High GRI': 0,\n",
    "'Disqualification - Breach of notice': 0,\n",
    "'Desclassification - Current administrative sanctio': 0,\n",
    "'Disability – Acquisit. of Rights and Contraction o': 0,\n",
    "'Disqualification - Notice': 0,\n",
    "'Disability - Supplier IDF below required': 0,\n",
    "'Featured Quotation':0,\n",
    "'Accepts':0,\n",
    "'Awarded':1,\n",
    "'Enabled':1,\n",
    "'Homologated':1\n",
    "}\n",
    "\n",
    "df_base['ganhador'] = df_base['CHARACTERISTIC'].replace(dict_target_4)"
   ]
  },
  {
   "cell_type": "markdown",
   "metadata": {},
   "source": [
    "<h2> Construindo uma nova feature de valor unitário dividindo o total pela quantidade, agregando, por exemplo, valores de impostos que são imbutidos somente no valor total"
   ]
  },
  {
   "cell_type": "code",
   "execution_count": 6,
   "metadata": {},
   "outputs": [],
   "source": [
    "df_base['UNIT_VALUE_NEW'] = df_base['TOTAL_VALUE'] / df_base['QUANTITY_y']"
   ]
  },
  {
   "cell_type": "code",
   "execution_count": 7,
   "metadata": {},
   "outputs": [
    {
     "data": {
      "text/plain": [
       "<AxesSubplot:>"
      ]
     },
     "execution_count": 7,
     "metadata": {},
     "output_type": "execute_result"
    },
    {
     "data": {
      "image/png": "[encoded data removed]",
      "text/plain": [
       "<Figure size 432x288 with 1 Axes>"
      ]
     },
     "metadata": {
      "needs_background": "light"
     },
     "output_type": "display_data"
    }
   ],
   "source": [
    "df_base['UNIT_VALUE_NEW'].hist()"
   ]
  },
  {
   "cell_type": "code",
   "execution_count": 9,
   "metadata": {},
   "outputs": [
    {
     "data": {
      "text/html": [
       "<div>\n",
       "<style scoped>\n",
       "    .dataframe tbody tr th:only-of-type {\n",
       "        vertical-align: middle;\n",
       "    }\n",
       "\n",
       "    .dataframe tbody tr th {\n",
       "        vertical-align: top;\n",
       "    }\n",
       "\n",
       "    .dataframe thead th {\n",
       "        text-align: right;\n",
       "    }\n",
       "</style>\n",
       "<table border=\"1\" class=\"dataframe\">\n",
       "  <thead>\n",
       "    <tr style=\"text-align: right;\">\n",
       "      <th></th>\n",
       "      <th>count</th>\n",
       "      <th>unique</th>\n",
       "      <th>top</th>\n",
       "      <th>freq</th>\n",
       "      <th>remover</th>\n",
       "    </tr>\n",
       "  </thead>\n",
       "  <tbody>\n",
       "    <tr>\n",
       "      <th>cnpj</th>\n",
       "      <td>98536</td>\n",
       "      <td>5599</td>\n",
       "      <td>05808502000167</td>\n",
       "      <td>1830</td>\n",
       "      <td>False</td>\n",
       "    </tr>\n",
       "    <tr>\n",
       "      <th>razao_social</th>\n",
       "      <td>98536</td>\n",
       "      <td>5497</td>\n",
       "      <td>BR COMPRESSORES SERVICE LTDA</td>\n",
       "      <td>1830</td>\n",
       "      <td>False</td>\n",
       "    </tr>\n",
       "    <tr>\n",
       "      <th>natureza_jur</th>\n",
       "      <td>98536</td>\n",
       "      <td>15</td>\n",
       "      <td>Sociedade Empresária Limitada</td>\n",
       "      <td>90624</td>\n",
       "      <td>False</td>\n",
       "    </tr>\n",
       "    <tr>\n",
       "      <th>quali_resp</th>\n",
       "      <td>98536</td>\n",
       "      <td>9</td>\n",
       "      <td>Sócio-Administrador</td>\n",
       "      <td>74745</td>\n",
       "      <td>False</td>\n",
       "    </tr>\n",
       "    <tr>\n",
       "      <th>porte</th>\n",
       "      <td>98536</td>\n",
       "      <td>3</td>\n",
       "      <td>Demais</td>\n",
       "      <td>60794</td>\n",
       "      <td>False</td>\n",
       "    </tr>\n",
       "    <tr>\n",
       "      <th>...</th>\n",
       "      <td>...</td>\n",
       "      <td>...</td>\n",
       "      <td>...</td>\n",
       "      <td>...</td>\n",
       "      <td>...</td>\n",
       "    </tr>\n",
       "    <tr>\n",
       "      <th>CREATED_AT_DATE</th>\n",
       "      <td>98536</td>\n",
       "      <td>1516</td>\n",
       "      <td>2020-06-25</td>\n",
       "      <td>396</td>\n",
       "      <td>False</td>\n",
       "    </tr>\n",
       "    <tr>\n",
       "      <th>CREATED_AT_TIME</th>\n",
       "      <td>98536</td>\n",
       "      <td>30056</td>\n",
       "      <td>16:05:50</td>\n",
       "      <td>180</td>\n",
       "      <td>False</td>\n",
       "    </tr>\n",
       "    <tr>\n",
       "      <th>CHARACTERISTIC</th>\n",
       "      <td>98536</td>\n",
       "      <td>26</td>\n",
       "      <td>Featured Quotation</td>\n",
       "      <td>46069</td>\n",
       "      <td>False</td>\n",
       "    </tr>\n",
       "    <tr>\n",
       "      <th>Chave</th>\n",
       "      <td>98536</td>\n",
       "      <td>15654</td>\n",
       "      <td>7003845824--0001</td>\n",
       "      <td>86</td>\n",
       "      <td>False</td>\n",
       "    </tr>\n",
       "    <tr>\n",
       "      <th>ganhador</th>\n",
       "      <td>98536</td>\n",
       "      <td>7</td>\n",
       "      <td>0</td>\n",
       "      <td>85838</td>\n",
       "      <td>False</td>\n",
       "    </tr>\n",
       "  </tbody>\n",
       "</table>\n",
       "<p>64 rows × 5 columns</p>\n",
       "</div>"
      ],
      "text/plain": [
       "                 count unique                            top   freq  remover\n",
       "cnpj             98536   5599                 05808502000167   1830    False\n",
       "razao_social     98536   5497   BR COMPRESSORES SERVICE LTDA   1830    False\n",
       "natureza_jur     98536     15  Sociedade Empresária Limitada  90624    False\n",
       "quali_resp       98536      9            Sócio-Administrador  74745    False\n",
       "porte            98536      3                         Demais  60794    False\n",
       "...                ...    ...                            ...    ...      ...\n",
       "CREATED_AT_DATE  98536   1516                     2020-06-25    396    False\n",
       "CREATED_AT_TIME  98536  30056                       16:05:50    180    False\n",
       "CHARACTERISTIC   98536     26             Featured Quotation  46069    False\n",
       "Chave            98536  15654               7003845824--0001     86    False\n",
       "ganhador         98536      7                              0  85838    False\n",
       "\n",
       "[64 rows x 5 columns]"
      ]
     },
     "execution_count": 9,
     "metadata": {},
     "output_type": "execute_result"
    }
   ],
   "source": [
    "df_base['MEPP_y'] = df_base['MEPP_y'].apply(lambda x: '1' if x=='X' else '0')"
   ]
  },
  {
   "cell_type": "code",
   "execution_count": null,
   "metadata": {},
   "outputs": [],
   "source": [
    "columns_to_remove = [\n",
    " 'OPPORT_TYPE',\n",
    " 'CURRENCY',\n",
    " 'MEPP_x',\n",
    " 'OPPORT_TYPE_DESC',\n",
    " 'GROUPING_LEVEL',\n",
    " 'LOTE',\n",
    " 'TOTAL',\n",
    " 'Grupo',\n",
    " 'NewFamília',\n",
    " 'Segmento',\n",
    " 'Escopo',\n",
    " 'Tipo',\n",
    " 'CREATED_AT_DATE',\n",
    " 'CREATED_AT_TIME',\n",
    " 'NUMBER_INT',\n",
    " 'ATTACHMENTS',\n",
    " 'TZONE',\n",
    " 'MESSAGES',\n",
    " 'DESCRIPTION',\n",
    " 'OPPORT_NUM',\n",
    " 'QUANTITY_x',\n",
    " 'YPFAMITEM',\n",
    " 'ORDERED_PROD',\n",
    " 'CHARACTERISTIC',\n",
    " 'STATUS',\n",
    " 'SUPPLIER_NAME',\n",
    " 'DESCRIPTION_UC',\n",
    " 'UNIT',\n",
    " 'DOU_PUBL_DATE'\n",
    " ]"
   ]
  }
 ],
 "metadata": {
  "kernelspec": {
   "display_name": "AmbienteKairo",
   "language": "python",
   "name": "ambientekairo"
  },
  "language_info": {
   "codemirror_mode": {
    "name": "ipython",
    "version": 3
   },
   "file_extension": ".py",
   "mimetype": "text/x-python",
   "name": "python",
   "nbconvert_exporter": "python",
   "pygments_lexer": "ipython3",
   "version": "3.9.12"
  },
  "orig_nbformat": 4
 },
 "nbformat": 4,
 "nbformat_minor": 2
}
