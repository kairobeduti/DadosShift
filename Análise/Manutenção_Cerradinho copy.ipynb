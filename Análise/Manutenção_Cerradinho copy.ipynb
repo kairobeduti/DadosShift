{
 "cells": [
  {
   "cell_type": "code",
   "execution_count": 1,
   "metadata": {
    "colab": {
     "base_uri": "https://localhost:8080/"
    },
    "id": "utSyxqfokagp",
    "outputId": "1f75af8c-90f8-4828-f09e-16d31f22ac9a"
   },
   "outputs": [],
   "source": [
    "import pandas as pd\n",
    "pd.set_option('display.max_columns', None)  # or 1000\n",
    "pd.set_option('display.max_rows', 300)  # or 1000\n",
    "pd.set_option('display.max_colwidth', None)  # or 199\n",
    "import matplotlib.pyplot as plt\n",
    "#plt.style.use('darkgrid')\n",
    "import seaborn as sns\n",
    "import plotly.express as px"
   ]
  },
  {
   "cell_type": "code",
   "execution_count": 2,
   "metadata": {
    "colab": {
     "base_uri": "https://localhost:8080/",
     "height": 315
    },
    "id": "hUw5ilmpk7wm",
    "outputId": "ee2ab1c0-77dd-481c-fcf0-265ac3a9aa35"
   },
   "outputs": [
    {
     "data": {
      "text/html": [
       "<div>\n",
       "<style scoped>\n",
       "    .dataframe tbody tr th:only-of-type {\n",
       "        vertical-align: middle;\n",
       "    }\n",
       "\n",
       "    .dataframe tbody tr th {\n",
       "        vertical-align: top;\n",
       "    }\n",
       "\n",
       "    .dataframe thead th {\n",
       "        text-align: right;\n",
       "    }\n",
       "</style>\n",
       "<table border=\"1\" class=\"dataframe\">\n",
       "  <thead>\n",
       "    <tr style=\"text-align: right;\">\n",
       "      <th></th>\n",
       "      <th>Equipamento</th>\n",
       "      <th>Denominação do objeto técnico</th>\n",
       "      <th>TIPO EQUIPAMENTO</th>\n",
       "      <th>Ordem</th>\n",
       "      <th>Nota</th>\n",
       "      <th>Denominação do loc.instalação</th>\n",
       "      <th>Tipo de nota</th>\n",
       "      <th>Data da nota</th>\n",
       "      <th>Descrição</th>\n",
       "      <th>SISTEMA</th>\n",
       "      <th>SUBSISTEMA</th>\n",
       "      <th>Parada</th>\n",
       "      <th>Início avaria</th>\n",
       "      <th>Hora início avaria</th>\n",
       "      <th>Fim da avaria</th>\n",
       "      <th>Hora do fim avaria</th>\n",
       "      <th>Duração da parada</th>\n",
       "      <th>PERIODO</th>\n",
       "      <th>Frente</th>\n",
       "      <th>Turno 1</th>\n",
       "      <th>Turno 2</th>\n",
       "    </tr>\n",
       "  </thead>\n",
       "  <tbody>\n",
       "    <tr>\n",
       "      <th>0</th>\n",
       "      <td>300323</td>\n",
       "      <td>TRATOR PNEU JOHN DEERE 8270R</td>\n",
       "      <td>TRATOR</td>\n",
       "      <td>60677882.0</td>\n",
       "      <td>700535692</td>\n",
       "      <td>COLHEITA MECANIZADA</td>\n",
       "      <td>A2</td>\n",
       "      <td>2021-12-30</td>\n",
       "      <td>TROCAR BATERIA</td>\n",
       "      <td>ELETRICO</td>\n",
       "      <td>BATERIA</td>\n",
       "      <td>X</td>\n",
       "      <td>2021-12-30</td>\n",
       "      <td>07:30:06</td>\n",
       "      <td>2022-12-05</td>\n",
       "      <td>07:00:00</td>\n",
       "      <td>8159.50</td>\n",
       "      <td>SF 21/22</td>\n",
       "      <td>FRENTE MEC 4</td>\n",
       "      <td>A</td>\n",
       "      <td>7</td>\n",
       "    </tr>\n",
       "    <tr>\n",
       "      <th>1</th>\n",
       "      <td>300256</td>\n",
       "      <td>TRATOR PNEU VALTRA BT 210</td>\n",
       "      <td>TRATOR</td>\n",
       "      <td>60678372.0</td>\n",
       "      <td>700557661</td>\n",
       "      <td>SEM ALOCAÇÃO</td>\n",
       "      <td>A2</td>\n",
       "      <td>2022-02-15</td>\n",
       "      <td>TROCAR VALVULA 2-VIAS DANIFICADA</td>\n",
       "      <td>PNEUMATICO</td>\n",
       "      <td>VALVULA</td>\n",
       "      <td>X</td>\n",
       "      <td>2022-02-15</td>\n",
       "      <td>00:50:00</td>\n",
       "      <td>2022-12-15</td>\n",
       "      <td>15:00:00</td>\n",
       "      <td>7286.17</td>\n",
       "      <td>SF 21/22</td>\n",
       "      <td>Frente Outros</td>\n",
       "      <td>C</td>\n",
       "      <td>0</td>\n",
       "    </tr>\n",
       "  </tbody>\n",
       "</table>\n",
       "</div>"
      ],
      "text/plain": [
       "   Equipamento Denominação do objeto técnico TIPO EQUIPAMENTO       Ordem  \\\n",
       "0       300323  TRATOR PNEU JOHN DEERE 8270R           TRATOR  60677882.0   \n",
       "1       300256     TRATOR PNEU VALTRA BT 210           TRATOR  60678372.0   \n",
       "\n",
       "        Nota Denominação do loc.instalação Tipo de nota Data da nota  \\\n",
       "0  700535692           COLHEITA MECANIZADA           A2   2021-12-30   \n",
       "1  700557661                  SEM ALOCAÇÃO           A2   2022-02-15   \n",
       "\n",
       "                          Descrição     SISTEMA SUBSISTEMA Parada  \\\n",
       "0                    TROCAR BATERIA    ELETRICO    BATERIA      X   \n",
       "1  TROCAR VALVULA 2-VIAS DANIFICADA  PNEUMATICO    VALVULA      X   \n",
       "\n",
       "  Início avaria Hora início avaria Fim da avaria Hora do fim avaria  \\\n",
       "0    2021-12-30           07:30:06    2022-12-05           07:00:00   \n",
       "1    2022-02-15           00:50:00    2022-12-15           15:00:00   \n",
       "\n",
       "   Duração da parada   PERIODO         Frente Turno 1  Turno 2  \n",
       "0            8159.50  SF 21/22   FRENTE MEC 4       A        7  \n",
       "1            7286.17  SF 21/22  Frente Outros       C        0  "
      ]
     },
     "execution_count": 2,
     "metadata": {},
     "output_type": "execute_result"
    }
   ],
   "source": [
    "df = pd.read_excel('Base Dados OS BI.xlsx', sheet_name = 'D.DSILVA', parse_dates=False)\n",
    "df.head(2)"
   ]
  },
  {
   "cell_type": "markdown",
   "metadata": {
    "id": "z9MexfBe5tTA"
   },
   "source": [
    "#### Ajustando nome das colunas"
   ]
  },
  {
   "cell_type": "code",
   "execution_count": 3,
   "metadata": {},
   "outputs": [
    {
     "name": "stdout",
     "output_type": "stream",
     "text": [
      "Index(['Equipamento', 'Denominação do objeto técnico', 'TIPO EQUIPAMENTO',\n",
      "       'Ordem', 'Nota', 'Denominação do loc.instalação', 'Tipo de nota',\n",
      "       'Data da nota', 'Descrição', 'SISTEMA', 'SUBSISTEMA', 'Parada',\n",
      "       'Início avaria', 'Hora início avaria', 'Fim da avaria',\n",
      "       'Hora do fim avaria', 'Duração da parada', 'PERIODO', 'Frente',\n",
      "       'Turno 1', 'Turno 2'],\n",
      "      dtype='object')\n"
     ]
    }
   ],
   "source": [
    "print(df.columns)"
   ]
  },
  {
   "cell_type": "code",
   "execution_count": 4,
   "metadata": {
    "id": "LWb3Jy5fm8aM"
   },
   "outputs": [],
   "source": [
    "df = df.set_axis(['EQP', 'OBJ_TEC', 'TIPO_EQP',\n",
    "       'ORDEM', 'NOTA', 'LOC_INST', 'TIPO_NOTA',\n",
    "       'DATA_NOTA', 'DESC_NOTA', 'SISTEMA', 'SUBSISTEMA', 'PARADA',\n",
    "       'INICIO_AVARIA', 'H_INICIO_AVARIA', 'FIM_AVARIA',\n",
    "       'H_FIM_AVARIA', 'DURACAO_PARADA', 'PERIODO', 'FRENTE',\n",
    "       'TURNO1', 'TURNO2'], axis=1)"
   ]
  },
  {
   "cell_type": "markdown",
   "metadata": {
    "id": "4_nryyAp8lw4"
   },
   "source": [
    "### Junção dos campos que contém data e hora"
   ]
  },
  {
   "cell_type": "code",
   "execution_count": null,
   "metadata": {
    "id": "i9t5ssrCxzEE"
   },
   "outputs": [],
   "source": [
    "df['FIM_AVARIA_H'] = pd.to_datetime(df['FIM_AVARIA'].astype('str') + ' '+df['H_FIM_AVARIA'].astype('str'))\n",
    "df = df.drop(['FIM_AVARIA','H_FIM_AVARIA'], axis=1)\n",
    "df['INICIO_AVARIA_H'] = pd.to_datetime(df['INICIO_AVARIA'].astype('str') + ' '+df['H_INICIO_AVARIA'].astype('str'))\n",
    "df = df.drop(['INICIO_AVARIA','H_INICIO_AVARIA'], axis=1)"
   ]
  },
  {
   "cell_type": "markdown",
   "metadata": {
    "id": "vWHKypjz5VVn"
   },
   "source": [
    "#### Checa visualmente os valores nulos do dataframe"
   ]
  },
  {
   "cell_type": "code",
   "execution_count": 5,
   "metadata": {
    "colab": {
     "base_uri": "https://localhost:8080/",
     "height": 384
    },
    "id": "H0ZIWiu21i1Q",
    "outputId": "c45bf24a-a90e-4f0d-cc0e-c86643ff3c45",
    "tags": []
   },
   "outputs": [
    {
     "data": {
      "text/plain": [
       "Text(0.5, 1.0, 'Valores Faltantes')"
      ]
     },
     "execution_count": 5,
     "metadata": {},
     "output_type": "execute_result"
    },
    {
     "data": {
      "image/png": "[encoded data removed]",
      "text/plain": [
       "<Figure size 1200x400 with 1 Axes>"
      ]
     },
     "metadata": {},
     "output_type": "display_data"
    }
   ],
   "source": [
    "plt.figure(figsize=(12,4))\n",
    "sns.heatmap(df.isnull(),cbar=False,yticklabels=False)\n",
    "plt.title('Valores Faltantes')"
   ]
  },
  {
   "cell_type": "markdown",
   "metadata": {
    "id": "xa7E3tyb5Qzn",
    "tags": []
   },
   "source": [
    "#### Remover linhas que não tenham uma data de conclusão da ordem aberta"
   ]
  },
  {
   "cell_type": "code",
   "execution_count": 6,
   "metadata": {
    "id": "ANZ1nz7O23Tn"
   },
   "outputs": [
    {
     "name": "stdout",
     "output_type": "stream",
     "text": [
      "<class 'pandas.core.frame.DataFrame'>\n",
      "Int64Index: 6550 entries, 0 to 6598\n",
      "Data columns (total 21 columns):\n",
      " #   Column           Non-Null Count  Dtype         \n",
      "---  ------           --------------  -----         \n",
      " 0   EQP              6550 non-null   int64         \n",
      " 1   OBJ_TEC          6550 non-null   object        \n",
      " 2   TIPO_EQP         6550 non-null   object        \n",
      " 3   ORDEM            6550 non-null   float64       \n",
      " 4   NOTA             6550 non-null   int64         \n",
      " 5   LOC_INST         6550 non-null   object        \n",
      " 6   TIPO_NOTA        6550 non-null   object        \n",
      " 7   DATA_NOTA        6550 non-null   datetime64[ns]\n",
      " 8   DESC_NOTA        6550 non-null   object        \n",
      " 9   SISTEMA          6550 non-null   object        \n",
      " 10  SUBSISTEMA       6550 non-null   object        \n",
      " 11  PARADA           6550 non-null   object        \n",
      " 12  INICIO_AVARIA    6550 non-null   datetime64[ns]\n",
      " 13  H_INICIO_AVARIA  6550 non-null   object        \n",
      " 14  FIM_AVARIA       6550 non-null   datetime64[ns]\n",
      " 15  H_FIM_AVARIA     6550 non-null   object        \n",
      " 16  DURACAO_PARADA   6550 non-null   float64       \n",
      " 17  PERIODO          6550 non-null   object        \n",
      " 18  FRENTE           6550 non-null   object        \n",
      " 19  TURNO1           6550 non-null   object        \n",
      " 20  TURNO2           6550 non-null   int64         \n",
      "dtypes: datetime64[ns](3), float64(2), int64(3), object(13)\n",
      "memory usage: 1.1+ MB\n"
     ]
    }
   ],
   "source": [
    "df = df[(~df['FIM_AVARIA'].isna() & ~df['ORDEM'].isna())]\n",
    "df.info()"
   ]
  },
  {
   "cell_type": "code",
   "execution_count": 7,
   "metadata": {},
   "outputs": [
    {
     "data": {
      "text/html": [
       "<div>\n",
       "<style scoped>\n",
       "    .dataframe tbody tr th:only-of-type {\n",
       "        vertical-align: middle;\n",
       "    }\n",
       "\n",
       "    .dataframe tbody tr th {\n",
       "        vertical-align: top;\n",
       "    }\n",
       "\n",
       "    .dataframe thead th {\n",
       "        text-align: right;\n",
       "    }\n",
       "</style>\n",
       "<table border=\"1\" class=\"dataframe\">\n",
       "  <thead>\n",
       "    <tr style=\"text-align: right;\">\n",
       "      <th></th>\n",
       "      <th>index</th>\n",
       "      <th>count</th>\n",
       "      <th>unique</th>\n",
       "      <th>top</th>\n",
       "      <th>freq</th>\n",
       "    </tr>\n",
       "  </thead>\n",
       "  <tbody>\n",
       "    <tr>\n",
       "      <th>7</th>\n",
       "      <td>PARADA</td>\n",
       "      <td>6550</td>\n",
       "      <td>1</td>\n",
       "      <td>X</td>\n",
       "      <td>6550</td>\n",
       "    </tr>\n",
       "    <tr>\n",
       "      <th>1</th>\n",
       "      <td>TIPO_EQP</td>\n",
       "      <td>6550</td>\n",
       "      <td>2</td>\n",
       "      <td>COLHEDORA</td>\n",
       "      <td>3675</td>\n",
       "    </tr>\n",
       "    <tr>\n",
       "      <th>3</th>\n",
       "      <td>TIPO_NOTA</td>\n",
       "      <td>6550</td>\n",
       "      <td>2</td>\n",
       "      <td>A2</td>\n",
       "      <td>6477</td>\n",
       "    </tr>\n",
       "    <tr>\n",
       "      <th>10</th>\n",
       "      <td>PERIODO</td>\n",
       "      <td>6550</td>\n",
       "      <td>2</td>\n",
       "      <td>SF 21/22</td>\n",
       "      <td>4927</td>\n",
       "    </tr>\n",
       "    <tr>\n",
       "      <th>12</th>\n",
       "      <td>TURNO1</td>\n",
       "      <td>6550</td>\n",
       "      <td>3</td>\n",
       "      <td>A</td>\n",
       "      <td>2790</td>\n",
       "    </tr>\n",
       "    <tr>\n",
       "      <th>2</th>\n",
       "      <td>LOC_INST</td>\n",
       "      <td>6550</td>\n",
       "      <td>6</td>\n",
       "      <td>COLHEITA MECANIZADA</td>\n",
       "      <td>4776</td>\n",
       "    </tr>\n",
       "    <tr>\n",
       "      <th>11</th>\n",
       "      <td>FRENTE</td>\n",
       "      <td>6550</td>\n",
       "      <td>9</td>\n",
       "      <td>Frente Outros</td>\n",
       "      <td>1325</td>\n",
       "    </tr>\n",
       "    <tr>\n",
       "      <th>0</th>\n",
       "      <td>OBJ_TEC</td>\n",
       "      <td>6550</td>\n",
       "      <td>14</td>\n",
       "      <td>COLHEDORA CANA JD CH570 01 LINHA</td>\n",
       "      <td>3297</td>\n",
       "    </tr>\n",
       "    <tr>\n",
       "      <th>5</th>\n",
       "      <td>SISTEMA</td>\n",
       "      <td>6550</td>\n",
       "      <td>35</td>\n",
       "      <td>ELETRICO</td>\n",
       "      <td>1280</td>\n",
       "    </tr>\n",
       "    <tr>\n",
       "      <th>6</th>\n",
       "      <td>SUBSISTEMA</td>\n",
       "      <td>6550</td>\n",
       "      <td>152</td>\n",
       "      <td>MANGUEIRA</td>\n",
       "      <td>643</td>\n",
       "    </tr>\n",
       "    <tr>\n",
       "      <th>9</th>\n",
       "      <td>H_FIM_AVARIA</td>\n",
       "      <td>6550</td>\n",
       "      <td>2239</td>\n",
       "      <td>14:00:00</td>\n",
       "      <td>197</td>\n",
       "    </tr>\n",
       "    <tr>\n",
       "      <th>4</th>\n",
       "      <td>DESC_NOTA</td>\n",
       "      <td>6550</td>\n",
       "      <td>3979</td>\n",
       "      <td>AGUARDANDO MANUTENÇÃO</td>\n",
       "      <td>232</td>\n",
       "    </tr>\n",
       "    <tr>\n",
       "      <th>8</th>\n",
       "      <td>H_INICIO_AVARIA</td>\n",
       "      <td>6550</td>\n",
       "      <td>5232</td>\n",
       "      <td>22:00:00</td>\n",
       "      <td>83</td>\n",
       "    </tr>\n",
       "  </tbody>\n",
       "</table>\n",
       "</div>"
      ],
      "text/plain": [
       "              index count unique                               top  freq\n",
       "7            PARADA  6550      1                                 X  6550\n",
       "1          TIPO_EQP  6550      2                         COLHEDORA  3675\n",
       "3         TIPO_NOTA  6550      2                                A2  6477\n",
       "10          PERIODO  6550      2                          SF 21/22  4927\n",
       "12           TURNO1  6550      3                                 A  2790\n",
       "2          LOC_INST  6550      6               COLHEITA MECANIZADA  4776\n",
       "11           FRENTE  6550      9                     Frente Outros  1325\n",
       "0           OBJ_TEC  6550     14  COLHEDORA CANA JD CH570 01 LINHA  3297\n",
       "5           SISTEMA  6550     35                          ELETRICO  1280\n",
       "6        SUBSISTEMA  6550    152                         MANGUEIRA   643\n",
       "9      H_FIM_AVARIA  6550   2239                          14:00:00   197\n",
       "4         DESC_NOTA  6550   3979             AGUARDANDO MANUTENÇÃO   232\n",
       "8   H_INICIO_AVARIA  6550   5232                          22:00:00    83"
      ]
     },
     "metadata": {},
     "output_type": "display_data"
    }
   ],
   "source": [
    "df_categorical_stats  = df.describe(include=['O'],datetime_is_numeric=True).T.reset_index()\n",
    "df_categorical_stats = df_categorical_stats.sort_values('unique')\n",
    "display(df_categorical_stats)\n",
    "df = df.drop('PARADA', axis=1)"
   ]
  },
  {
   "cell_type": "markdown",
   "metadata": {},
   "source": [
    "#### Checagem categóricas"
   ]
  },
  {
   "cell_type": "code",
   "execution_count": 68,
   "metadata": {},
   "outputs": [],
   "source": [
    "df_plot_flex = df\n",
    "df_tipo_eqp = df_plot_flex[['TIPO_EQP','TIPO_NOTA']].value_counts(normalize=True).rename('%').mul(100).reset_index().sort_values('%', ascending=False)\n",
    "df_tipo_eqp_per = df_plot_flex[['TIPO_EQP','PERIODO']].value_counts(normalize=True).rename('%').mul(100).reset_index().sort_values('%', ascending=False)\n",
    "df_tipo_eqp_tur = df_plot_flex[['TIPO_EQP','TURNO1']].value_counts(normalize=True).rename('%').mul(100).reset_index().sort_values('%', ascending=False)\n",
    "df_tipo_eqp_loc = df_plot_flex[['TIPO_EQP','LOC_INST']].value_counts(normalize=True).rename('%').mul(100).reset_index().sort_values('%', ascending=False)\n",
    "df_tipo_eqp_fr = df_plot_flex[['TIPO_EQP','FRENTE']].value_counts(normalize=True).rename('%').mul(100).reset_index().sort_values('%', ascending=False)\n",
    "df_tipo_eqp_ob_tec = df_plot_flex[['TIPO_EQP','OBJ_TEC']].value_counts(normalize=True).rename('%').mul(100).reset_index().sort_values('%', ascending=False)\n",
    "\n",
    "df_tipo_nota_per = df_plot_flex[['TIPO_NOTA','PERIODO']].value_counts(normalize=True).rename('%').mul(100).reset_index().sort_values('%', ascending=False)\n",
    "df_tipo_nota_tur = df_plot_flex[['TIPO_NOTA','TURNO1']].value_counts(normalize=True).rename('%').mul(100).reset_index().sort_values('%', ascending=False)\n",
    "df_tipo_nota_loc = df_plot_flex[['TIPO_NOTA','LOC_INST']].value_counts(normalize=True).rename('%').mul(100).reset_index().sort_values('%', ascending=False)\n",
    "df_tipo_nota_frente = df_plot_flex[['TIPO_NOTA','FRENTE']].value_counts(normalize=True).rename('%').mul(100).reset_index().sort_values('%', ascending=False)\n",
    "df_tipo_nota_obtec = df_plot_flex[['TIPO_NOTA','OBJ_TEC']].value_counts(normalize=True).rename('%').mul(100).reset_index().sort_values('%', ascending=False)\n",
    "\n",
    "\n",
    "#df_tipo_nota = df_plot_flex[['TIPO_NOTA','PERIODO']].value_counts(normalize=True).rename('%').mul(100).reset_index().sort_values('%', ascending=False)\n",
    "\n",
    "##\n",
    "# df_tipo_nota = df_plot_flex['TIPO_NOTA'].value_counts(normalize=True).rename('%').mul(100).reset_index().sort_values('%', ascending=False)\n",
    "# df_tipo_periodo = df_plot_flex['PERIODO'].value_counts(normalize=True).rename('%').mul(100).reset_index().sort_values('%', ascending=False)\n",
    "# df_tipo_turno = df_plot_flex['TURNO1'].value_counts(normalize=True).rename('%').mul(100).reset_index().sort_values('%', ascending=False)\n",
    "# df_tipo_frente= df_plot_flex['FRENTE'].value_counts(normalize=True).rename('%').mul(100).reset_index().sort_values('%', ascending=False)\n",
    "# df_tipo_obj_tec= df_plot_flex['OBJ_TEC'].value_counts(normalize=True).rename('%').mul(100).reset_index().sort_values('%', ascending=False)\n",
    "# df_sistema= df_plot_flex['SISTEMA'].value_counts(normalize=True).rename('%').mul(100).reset_index().sort_values('%', ascending=False)\n",
    "# df_loc= df_plot_flex['LOC_INST'].value_counts(normalize=True).rename('%').mul(100).reset_index().sort_values('%', ascending=False)\n"
   ]
  },
  {
   "cell_type": "code",
   "execution_count": 76,
   "metadata": {},
   "outputs": [
    {
     "data": {
      "text/plain": [
       "Text(0.5, 0, 'Tipo Nota')"
      ]
     },
     "execution_count": 76,
     "metadata": {},
     "output_type": "execute_result"
    },
    {
     "data": {
      "image/png": "[encoded data removed]",
      "text/plain": [
       "<Figure size 1500x500 with 1 Axes>"
      ]
     },
     "metadata": {},
     "output_type": "display_data"
    }
   ],
   "source": [
    "f, ax = plt.subplots(figsize=(15,5))\n",
    "f.subplots_adjust(hspace=0.5, wspace=.2)\n",
    "sns.barplot(data=df_tipo_nota_obtec, x='TIPO_NOTA', y='%',hue='OBJ_TEC')\n",
    "ax.set_xlabel('Tipo Nota')\n"
   ]
  },
  {
   "cell_type": "code",
   "execution_count": 75,
   "metadata": {},
   "outputs": [
    {
     "data": {
      "text/plain": [
       "Text(0.5, 0, 'Tipo Eqp')"
      ]
     },
     "execution_count": 75,
     "metadata": {},
     "output_type": "execute_result"
    },
    {
     "data": {
      "image/png": "[encoded data removed]",
      "text/plain": [
       "<Figure size 1500x500 with 2 Axes>"
      ]
     },
     "metadata": {},
     "output_type": "display_data"
    }
   ],
   "source": [
    "f, ax = plt.subplots(1,2,figsize=(15,5))\n",
    "f.subplots_adjust(hspace=0.5, wspace=.2)\n",
    "sns.barplot(data=df_tipo_nota_loc, x='TIPO_NOTA', y='%',hue='LOC_INST', ax=ax[1])\n",
    "ax[1].set_xlabel('Tipo Nota')\n",
    "sns.barplot(data=df_tipo_nota_frente, x='TIPO_NOTA', y='%',hue='FRENTE', ax=ax[0])\n",
    "ax[0].set_xlabel('Tipo Eqp')"
   ]
  },
  {
   "cell_type": "code",
   "execution_count": 74,
   "metadata": {},
   "outputs": [
    {
     "data": {
      "text/plain": [
       "Text(0.5, 0, 'Tipo Eqp')"
      ]
     },
     "execution_count": 74,
     "metadata": {},
     "output_type": "execute_result"
    },
    {
     "data": {
      "image/png": "[encoded data removed]",
      "text/plain": [
       "<Figure size 1500x500 with 2 Axes>"
      ]
     },
     "metadata": {},
     "output_type": "display_data"
    }
   ],
   "source": [
    "f, ax = plt.subplots(1,2,figsize=(15,5))\n",
    "f.subplots_adjust(hspace=0.5, wspace=.2)\n",
    "sns.barplot(data=df_tipo_nota_per, x='TIPO_NOTA', y='%',hue='PERIODO', ax=ax[1])\n",
    "ax[1].set_xlabel('Tipo Nota')\n",
    "sns.barplot(data=df_tipo_nota_tur, x='TIPO_NOTA', y='%',hue='TURNO1', ax=ax[0])\n",
    "ax[0].set_xlabel('Tipo Eqp')"
   ]
  },
  {
   "cell_type": "code",
   "execution_count": 54,
   "metadata": {},
   "outputs": [
    {
     "data": {
      "text/plain": [
       "Text(0.5, 0, 'Tipo Eqp')"
      ]
     },
     "execution_count": 54,
     "metadata": {},
     "output_type": "execute_result"
    },
    {
     "data": {
      "image/png": "[encoded data removed]",
      "text/plain": [
       "<Figure size 1500x500 with 2 Axes>"
      ]
     },
     "metadata": {},
     "output_type": "display_data"
    }
   ],
   "source": [
    "f, ax = plt.subplots(1,2,figsize=(15,5))\n",
    "f.subplots_adjust(hspace=0.5, wspace=.2)\n",
    "sns.barplot(data=df_tipo_eqp, x='TIPO_EQP', y='%',hue='TIPO_NOTA', ax=ax[1])\n",
    "ax[1].set_xlabel('Tipo Eqp')\n",
    "sns.barplot(data=df_tipo_eqp_per, x='TIPO_EQP', y='%',hue='PERIODO', ax=ax[0])\n",
    "ax[0].set_xlabel('Tipo Eqp')"
   ]
  },
  {
   "cell_type": "code",
   "execution_count": 58,
   "metadata": {},
   "outputs": [
    {
     "data": {
      "text/plain": [
       "Text(0.5, 0, 'Tipo Eqp')"
      ]
     },
     "execution_count": 58,
     "metadata": {},
     "output_type": "execute_result"
    },
    {
     "data": {
      "image/png": "[encoded data removed]",
      "text/plain": [
       "<Figure size 1500x500 with 2 Axes>"
      ]
     },
     "metadata": {},
     "output_type": "display_data"
    }
   ],
   "source": [
    "f, ax = plt.subplots(1,2,figsize=(15,5))\n",
    "f.subplots_adjust(hspace=0.5, wspace=.2)\n",
    "sns.barplot(data=df_tipo_eqp_tur, x='TIPO_EQP', y='%',hue='TURNO1', ax=ax[1])\n",
    "ax[1].set_xlabel('Tipo Eqp')\n",
    "sns.barplot(data=df_tipo_eqp_loc, x='TIPO_EQP', y='%',hue='LOC_INST', ax=ax[0])\n",
    "ax[0].set_xlabel('Tipo Eqp')"
   ]
  },
  {
   "cell_type": "code",
   "execution_count": 73,
   "metadata": {},
   "outputs": [
    {
     "data": {
      "text/plain": [
       "Text(0.5, 0, 'Tipo Eqp')"
      ]
     },
     "execution_count": 73,
     "metadata": {},
     "output_type": "execute_result"
    },
    {
     "data": {
      "image/png": "[encoded data removed]",
      "text/plain": [
       "<Figure size 1500x500 with 1 Axes>"
      ]
     },
     "metadata": {},
     "output_type": "display_data"
    },
    {
     "data": {
      "image/png": "[encoded data removed]",
      "text/plain": [
       "<Figure size 1500x500 with 1 Axes>"
      ]
     },
     "metadata": {},
     "output_type": "display_data"
    }
   ],
   "source": [
    "f, ax = plt.subplots(figsize=(15,5))\n",
    "f.subplots_adjust(hspace=1, wspace=2)\n",
    "sns.barplot(data=df_tipo_eqp_fr, x='TIPO_EQP', y='%',hue='FRENTE')\n",
    "ax.set_xlabel('Tipo Eqp')\n",
    "\n",
    "f, ax = plt.subplots(figsize=(15,5))\n",
    "f.subplots_adjust(hspace=1, wspace=2)\n",
    "sns.barplot(data=df_tipo_eqp_ob_tec, x='TIPO_EQP', y='%',hue='OBJ_TEC')\n",
    "ax.set_xlabel('Tipo Eqp')"
   ]
  },
  {
   "cell_type": "markdown",
   "metadata": {
    "id": "4_nryyAp8lw4"
   },
   "source": [
    "### Junção dos campos que contém data e hora"
   ]
  },
  {
   "cell_type": "code",
   "execution_count": null,
   "metadata": {
    "id": "i9t5ssrCxzEE"
   },
   "outputs": [],
   "source": [
    "df['FIM_AVARIA_H'] = pd.to_datetime(df['FIM_AVARIA'].astype('str') + ' '+df['H_FIM_AVARIA'].astype('str'))\n",
    "df = df.drop(['FIM_AVARIA','H_FIM_AVARIA'], axis=1)\n",
    "df['INICIO_AVARIA_H'] = pd.to_datetime(df['INICIO_AVARIA'].astype('str') + ' '+df['H_INICIO_AVARIA'].astype('str'))\n",
    "df = df.drop(['INICIO_AVARIA','H_INICIO_AVARIA'], axis=1)"
   ]
  },
  {
   "cell_type": "code",
   "execution_count": null,
   "metadata": {},
   "outputs": [],
   "source": [
    "#df_plot_flex = df[df['LOC_INST'] == 'COLHEITA MECANIZADA']"
   ]
  },
  {
   "cell_type": "code",
   "execution_count": null,
   "metadata": {},
   "outputs": [],
   "source": [
    "\n",
    "# sns.barplot(data=df_tipo_nota, x='index', y='%',ax=ax[0,1])\n",
    "# ax[0,1].set_xlabel('Tipo Nota')\n",
    "# sns.barplot(data=df_tipo_periodo, x='index', y='%',ax=ax[0,2])\n",
    "# ax[0,2].set_xlabel('Periodo')\n",
    "\n",
    "# ## linha 2\n",
    "# sns.barplot(data=df_tipo_frente, x='index', y='%',ax=ax[1,0])\n",
    "# ax[1,0].set_xlabel('Frente')\n",
    "# ax[1,0].tick_params(axis='x', rotation=90)\n",
    "# sns.barplot(data=df_tipo_obj_tec, x='index', y='%',ax=ax[1,1])\n",
    "# ax[1,1].set_xlabel('Obj Tec')\n",
    "# ax[1,1].tick_params(axis='x', rotation=90)\n",
    "# sns.barplot(data=df_tipo_turno, x='index', y='%',ax=ax[1,2])\n",
    "# ax[1,2].set_xlabel('Turno')\n",
    "\n",
    "# f, ax = plt.subplots(figsize=(14,5))\n",
    "\n",
    "# sns.barplot(data=df_sistema, x='index', y='%')\n",
    "# ax.set_xlabel('Obj Tec')\n",
    "# ax.tick_params(axis='x', rotation=90)"
   ]
  },
  {
   "cell_type": "code",
   "execution_count": 10,
   "metadata": {},
   "outputs": [
    {
     "data": {
      "text/html": [
       "<div>\n",
       "<style scoped>\n",
       "    .dataframe tbody tr th:only-of-type {\n",
       "        vertical-align: middle;\n",
       "    }\n",
       "\n",
       "    .dataframe tbody tr th {\n",
       "        vertical-align: top;\n",
       "    }\n",
       "\n",
       "    .dataframe thead th {\n",
       "        text-align: right;\n",
       "    }\n",
       "</style>\n",
       "<table border=\"1\" class=\"dataframe\">\n",
       "  <thead>\n",
       "    <tr style=\"text-align: right;\">\n",
       "      <th></th>\n",
       "      <th>TIPO_EQP</th>\n",
       "    </tr>\n",
       "  </thead>\n",
       "  <tbody>\n",
       "    <tr>\n",
       "      <th>COLHEDORA</th>\n",
       "      <td>0.561069</td>\n",
       "    </tr>\n",
       "    <tr>\n",
       "      <th>TRATOR</th>\n",
       "      <td>0.438931</td>\n",
       "    </tr>\n",
       "  </tbody>\n",
       "</table>\n",
       "</div>"
      ],
      "text/plain": [
       "           TIPO_EQP\n",
       "COLHEDORA  0.561069\n",
       "TRATOR     0.438931"
      ]
     },
     "metadata": {},
     "output_type": "display_data"
    },
    {
     "data": {
      "text/html": [
       "<div>\n",
       "<style scoped>\n",
       "    .dataframe tbody tr th:only-of-type {\n",
       "        vertical-align: middle;\n",
       "    }\n",
       "\n",
       "    .dataframe tbody tr th {\n",
       "        vertical-align: top;\n",
       "    }\n",
       "\n",
       "    .dataframe thead th {\n",
       "        text-align: right;\n",
       "    }\n",
       "</style>\n",
       "<table border=\"1\" class=\"dataframe\">\n",
       "  <thead>\n",
       "    <tr style=\"text-align: right;\">\n",
       "      <th></th>\n",
       "      <th></th>\n",
       "      <th>0</th>\n",
       "    </tr>\n",
       "    <tr>\n",
       "      <th>TIPO_EQP</th>\n",
       "      <th>TIPO_NOTA</th>\n",
       "      <th></th>\n",
       "    </tr>\n",
       "  </thead>\n",
       "  <tbody>\n",
       "    <tr>\n",
       "      <th>COLHEDORA</th>\n",
       "      <th>A2</th>\n",
       "      <td>0.554656</td>\n",
       "    </tr>\n",
       "    <tr>\n",
       "      <th>TRATOR</th>\n",
       "      <th>A2</th>\n",
       "      <td>0.434198</td>\n",
       "    </tr>\n",
       "    <tr>\n",
       "      <th>COLHEDORA</th>\n",
       "      <th>G4</th>\n",
       "      <td>0.006412</td>\n",
       "    </tr>\n",
       "    <tr>\n",
       "      <th>TRATOR</th>\n",
       "      <th>G4</th>\n",
       "      <td>0.004733</td>\n",
       "    </tr>\n",
       "  </tbody>\n",
       "</table>\n",
       "</div>"
      ],
      "text/plain": [
       "                            0\n",
       "TIPO_EQP  TIPO_NOTA          \n",
       "COLHEDORA A2         0.554656\n",
       "TRATOR    A2         0.434198\n",
       "COLHEDORA G4         0.006412\n",
       "TRATOR    G4         0.004733"
      ]
     },
     "metadata": {},
     "output_type": "display_data"
    },
    {
     "data": {
      "text/html": [
       "<div>\n",
       "<style scoped>\n",
       "    .dataframe tbody tr th:only-of-type {\n",
       "        vertical-align: middle;\n",
       "    }\n",
       "\n",
       "    .dataframe tbody tr th {\n",
       "        vertical-align: top;\n",
       "    }\n",
       "\n",
       "    .dataframe thead th {\n",
       "        text-align: right;\n",
       "    }\n",
       "</style>\n",
       "<table border=\"1\" class=\"dataframe\">\n",
       "  <thead>\n",
       "    <tr style=\"text-align: right;\">\n",
       "      <th></th>\n",
       "      <th></th>\n",
       "      <th></th>\n",
       "      <th>0</th>\n",
       "    </tr>\n",
       "    <tr>\n",
       "      <th>TIPO_EQP</th>\n",
       "      <th>TIPO_NOTA</th>\n",
       "      <th>PERIODO</th>\n",
       "      <th></th>\n",
       "    </tr>\n",
       "  </thead>\n",
       "  <tbody>\n",
       "    <tr>\n",
       "      <th>COLHEDORA</th>\n",
       "      <th>A2</th>\n",
       "      <th>SF 21/22</th>\n",
       "      <td>0.413435</td>\n",
       "    </tr>\n",
       "    <tr>\n",
       "      <th>TRATOR</th>\n",
       "      <th>A2</th>\n",
       "      <th>SF 21/22</th>\n",
       "      <td>0.332977</td>\n",
       "    </tr>\n",
       "    <tr>\n",
       "      <th>COLHEDORA</th>\n",
       "      <th>A2</th>\n",
       "      <th>SF 22/23</th>\n",
       "      <td>0.141221</td>\n",
       "    </tr>\n",
       "    <tr>\n",
       "      <th>TRATOR</th>\n",
       "      <th>A2</th>\n",
       "      <th>SF 22/23</th>\n",
       "      <td>0.101221</td>\n",
       "    </tr>\n",
       "    <tr>\n",
       "      <th rowspan=\"2\" valign=\"top\">COLHEDORA</th>\n",
       "      <th rowspan=\"2\" valign=\"top\">G4</th>\n",
       "      <th>SF 22/23</th>\n",
       "      <td>0.003359</td>\n",
       "    </tr>\n",
       "    <tr>\n",
       "      <th>SF 21/22</th>\n",
       "      <td>0.003053</td>\n",
       "    </tr>\n",
       "    <tr>\n",
       "      <th rowspan=\"2\" valign=\"top\">TRATOR</th>\n",
       "      <th rowspan=\"2\" valign=\"top\">G4</th>\n",
       "      <th>SF 21/22</th>\n",
       "      <td>0.002748</td>\n",
       "    </tr>\n",
       "    <tr>\n",
       "      <th>SF 22/23</th>\n",
       "      <td>0.001985</td>\n",
       "    </tr>\n",
       "  </tbody>\n",
       "</table>\n",
       "</div>"
      ],
      "text/plain": [
       "                                     0\n",
       "TIPO_EQP  TIPO_NOTA PERIODO           \n",
       "COLHEDORA A2        SF 21/22  0.413435\n",
       "TRATOR    A2        SF 21/22  0.332977\n",
       "COLHEDORA A2        SF 22/23  0.141221\n",
       "TRATOR    A2        SF 22/23  0.101221\n",
       "COLHEDORA G4        SF 22/23  0.003359\n",
       "                    SF 21/22  0.003053\n",
       "TRATOR    G4        SF 21/22  0.002748\n",
       "                    SF 22/23  0.001985"
      ]
     },
     "metadata": {},
     "output_type": "display_data"
    },
    {
     "data": {
      "text/html": [
       "<div>\n",
       "<style scoped>\n",
       "    .dataframe tbody tr th:only-of-type {\n",
       "        vertical-align: middle;\n",
       "    }\n",
       "\n",
       "    .dataframe tbody tr th {\n",
       "        vertical-align: top;\n",
       "    }\n",
       "\n",
       "    .dataframe thead th {\n",
       "        text-align: right;\n",
       "    }\n",
       "</style>\n",
       "<table border=\"1\" class=\"dataframe\">\n",
       "  <thead>\n",
       "    <tr style=\"text-align: right;\">\n",
       "      <th></th>\n",
       "      <th>TURNO1</th>\n",
       "    </tr>\n",
       "  </thead>\n",
       "  <tbody>\n",
       "    <tr>\n",
       "      <th>A</th>\n",
       "      <td>0.425954</td>\n",
       "    </tr>\n",
       "    <tr>\n",
       "      <th>B</th>\n",
       "      <td>0.387176</td>\n",
       "    </tr>\n",
       "    <tr>\n",
       "      <th>C</th>\n",
       "      <td>0.186870</td>\n",
       "    </tr>\n",
       "  </tbody>\n",
       "</table>\n",
       "</div>"
      ],
      "text/plain": [
       "     TURNO1\n",
       "A  0.425954\n",
       "B  0.387176\n",
       "C  0.186870"
      ]
     },
     "metadata": {},
     "output_type": "display_data"
    },
    {
     "data": {
      "text/html": [
       "<div>\n",
       "<style scoped>\n",
       "    .dataframe tbody tr th:only-of-type {\n",
       "        vertical-align: middle;\n",
       "    }\n",
       "\n",
       "    .dataframe tbody tr th {\n",
       "        vertical-align: top;\n",
       "    }\n",
       "\n",
       "    .dataframe thead th {\n",
       "        text-align: right;\n",
       "    }\n",
       "</style>\n",
       "<table border=\"1\" class=\"dataframe\">\n",
       "  <thead>\n",
       "    <tr style=\"text-align: right;\">\n",
       "      <th></th>\n",
       "      <th>FRENTE</th>\n",
       "    </tr>\n",
       "  </thead>\n",
       "  <tbody>\n",
       "    <tr>\n",
       "      <th>Frente Outros</th>\n",
       "      <td>0.202290</td>\n",
       "    </tr>\n",
       "    <tr>\n",
       "      <th>FRENTE MEC 5</th>\n",
       "      <td>0.157405</td>\n",
       "    </tr>\n",
       "    <tr>\n",
       "      <th>FRENTE MEC 2</th>\n",
       "      <td>0.154656</td>\n",
       "    </tr>\n",
       "    <tr>\n",
       "      <th>FRENTE MEC 4</th>\n",
       "      <td>0.150534</td>\n",
       "    </tr>\n",
       "    <tr>\n",
       "      <th>FRENTE MEC 3</th>\n",
       "      <td>0.137863</td>\n",
       "    </tr>\n",
       "    <tr>\n",
       "      <th>FRENTE MEC 1</th>\n",
       "      <td>0.110076</td>\n",
       "    </tr>\n",
       "    <tr>\n",
       "      <th>FROTAS RESERVAS</th>\n",
       "      <td>0.056489</td>\n",
       "    </tr>\n",
       "    <tr>\n",
       "      <th>PLANTIO MECANIZADO</th>\n",
       "      <td>0.026260</td>\n",
       "    </tr>\n",
       "    <tr>\n",
       "      <th>PREPARO DE SOLO - PRE</th>\n",
       "      <td>0.004427</td>\n",
       "    </tr>\n",
       "  </tbody>\n",
       "</table>\n",
       "</div>"
      ],
      "text/plain": [
       "                         FRENTE\n",
       "Frente Outros          0.202290\n",
       "FRENTE MEC 5           0.157405\n",
       "FRENTE MEC 2           0.154656\n",
       "FRENTE MEC 4           0.150534\n",
       "FRENTE MEC 3           0.137863\n",
       "FRENTE MEC 1           0.110076\n",
       "FROTAS RESERVAS        0.056489\n",
       "PLANTIO MECANIZADO     0.026260\n",
       "PREPARO DE SOLO - PRE  0.004427"
      ]
     },
     "metadata": {},
     "output_type": "display_data"
    },
    {
     "data": {
      "text/html": [
       "<div>\n",
       "<style scoped>\n",
       "    .dataframe tbody tr th:only-of-type {\n",
       "        vertical-align: middle;\n",
       "    }\n",
       "\n",
       "    .dataframe tbody tr th {\n",
       "        vertical-align: top;\n",
       "    }\n",
       "\n",
       "    .dataframe thead th {\n",
       "        text-align: right;\n",
       "    }\n",
       "</style>\n",
       "<table border=\"1\" class=\"dataframe\">\n",
       "  <thead>\n",
       "    <tr style=\"text-align: right;\">\n",
       "      <th></th>\n",
       "      <th>OBJ_TEC</th>\n",
       "    </tr>\n",
       "  </thead>\n",
       "  <tbody>\n",
       "    <tr>\n",
       "      <th>COLHEDORA CANA JD CH570 01 LINHA</th>\n",
       "      <td>0.503359</td>\n",
       "    </tr>\n",
       "    <tr>\n",
       "      <th>TRATOR PNEU VALTRA BT 210</th>\n",
       "      <td>0.222595</td>\n",
       "    </tr>\n",
       "    <tr>\n",
       "      <th>TRATOR JOHN DEERE 7225J</th>\n",
       "      <td>0.099847</td>\n",
       "    </tr>\n",
       "    <tr>\n",
       "      <th>TRATOR PNEU JOHN DEERE 7230J</th>\n",
       "      <td>0.070992</td>\n",
       "    </tr>\n",
       "    <tr>\n",
       "      <th>TRATOR PNEU JOHN DEERE 8270R</th>\n",
       "      <td>0.024275</td>\n",
       "    </tr>\n",
       "    <tr>\n",
       "      <th>COLHEDORA CANA CASE A8800 01 LINHA</th>\n",
       "      <td>0.023206</td>\n",
       "    </tr>\n",
       "    <tr>\n",
       "      <th>TRATOR PNEU JOHN DEERE 7225J</th>\n",
       "      <td>0.020611</td>\n",
       "    </tr>\n",
       "    <tr>\n",
       "      <th>COLHEDORA CANA JD CH950 02 LINHAS</th>\n",
       "      <td>0.013435</td>\n",
       "    </tr>\n",
       "    <tr>\n",
       "      <th>COLHEDORA CANA CASE A8800 02 LINHAS</th>\n",
       "      <td>0.012214</td>\n",
       "    </tr>\n",
       "    <tr>\n",
       "      <th>COLHEDORA CANA JD 3520 01 LINHA</th>\n",
       "      <td>0.006260</td>\n",
       "    </tr>\n",
       "    <tr>\n",
       "      <th>COLHEDORA CANA JD CH570</th>\n",
       "      <td>0.002443</td>\n",
       "    </tr>\n",
       "    <tr>\n",
       "      <th>TRATOR PNEU VALTRA BM 110</th>\n",
       "      <td>0.000305</td>\n",
       "    </tr>\n",
       "    <tr>\n",
       "      <th>TRATOR PNEU VALTRA T230 CVT</th>\n",
       "      <td>0.000305</td>\n",
       "    </tr>\n",
       "    <tr>\n",
       "      <th>COLHEDORA CANA JD 3522</th>\n",
       "      <td>0.000153</td>\n",
       "    </tr>\n",
       "  </tbody>\n",
       "</table>\n",
       "</div>"
      ],
      "text/plain": [
       "                                      OBJ_TEC\n",
       "COLHEDORA CANA JD CH570 01 LINHA     0.503359\n",
       "TRATOR PNEU VALTRA BT 210            0.222595\n",
       "TRATOR JOHN DEERE 7225J              0.099847\n",
       "TRATOR PNEU JOHN DEERE 7230J         0.070992\n",
       "TRATOR PNEU JOHN DEERE 8270R         0.024275\n",
       "COLHEDORA CANA CASE A8800 01 LINHA   0.023206\n",
       "TRATOR PNEU JOHN DEERE 7225J         0.020611\n",
       "COLHEDORA CANA JD CH950 02 LINHAS    0.013435\n",
       "COLHEDORA CANA CASE A8800 02 LINHAS  0.012214\n",
       "COLHEDORA CANA JD 3520 01 LINHA      0.006260\n",
       "COLHEDORA CANA JD CH570              0.002443\n",
       "TRATOR PNEU VALTRA BM 110            0.000305\n",
       "TRATOR PNEU VALTRA T230 CVT          0.000305\n",
       "COLHEDORA CANA JD 3522               0.000153"
      ]
     },
     "metadata": {},
     "output_type": "display_data"
    },
    {
     "data": {
      "text/html": [
       "<div>\n",
       "<style scoped>\n",
       "    .dataframe tbody tr th:only-of-type {\n",
       "        vertical-align: middle;\n",
       "    }\n",
       "\n",
       "    .dataframe tbody tr th {\n",
       "        vertical-align: top;\n",
       "    }\n",
       "\n",
       "    .dataframe thead th {\n",
       "        text-align: right;\n",
       "    }\n",
       "</style>\n",
       "<table border=\"1\" class=\"dataframe\">\n",
       "  <thead>\n",
       "    <tr style=\"text-align: right;\">\n",
       "      <th></th>\n",
       "      <th>SISTEMA</th>\n",
       "    </tr>\n",
       "  </thead>\n",
       "  <tbody>\n",
       "    <tr>\n",
       "      <th>ELETRICO</th>\n",
       "      <td>0.195420</td>\n",
       "    </tr>\n",
       "    <tr>\n",
       "      <th>HIDRAULICA</th>\n",
       "      <td>0.185954</td>\n",
       "    </tr>\n",
       "    <tr>\n",
       "      <th>MOTOR</th>\n",
       "      <td>0.133893</td>\n",
       "    </tr>\n",
       "    <tr>\n",
       "      <th>RODAGEM</th>\n",
       "      <td>0.066565</td>\n",
       "    </tr>\n",
       "    <tr>\n",
       "      <th>ELEVADOR</th>\n",
       "      <td>0.051756</td>\n",
       "    </tr>\n",
       "    <tr>\n",
       "      <th>AGUARDANDO MANUTENÇÃO</th>\n",
       "      <td>0.042595</td>\n",
       "    </tr>\n",
       "    <tr>\n",
       "      <th>PICADOR</th>\n",
       "      <td>0.041985</td>\n",
       "    </tr>\n",
       "    <tr>\n",
       "      <th>ESTRUTURA</th>\n",
       "      <td>0.038168</td>\n",
       "    </tr>\n",
       "    <tr>\n",
       "      <th>EIXO DIANTEIRO</th>\n",
       "      <td>0.037557</td>\n",
       "    </tr>\n",
       "    <tr>\n",
       "      <th>RODANTE</th>\n",
       "      <td>0.031908</td>\n",
       "    </tr>\n",
       "  </tbody>\n",
       "</table>\n",
       "</div>"
      ],
      "text/plain": [
       "                        SISTEMA\n",
       "ELETRICO               0.195420\n",
       "HIDRAULICA             0.185954\n",
       "MOTOR                  0.133893\n",
       "RODAGEM                0.066565\n",
       "ELEVADOR               0.051756\n",
       "AGUARDANDO MANUTENÇÃO  0.042595\n",
       "PICADOR                0.041985\n",
       "ESTRUTURA              0.038168\n",
       "EIXO DIANTEIRO         0.037557\n",
       "RODANTE                0.031908"
      ]
     },
     "metadata": {},
     "output_type": "display_data"
    },
    {
     "data": {
      "text/html": [
       "<div>\n",
       "<style scoped>\n",
       "    .dataframe tbody tr th:only-of-type {\n",
       "        vertical-align: middle;\n",
       "    }\n",
       "\n",
       "    .dataframe tbody tr th {\n",
       "        vertical-align: top;\n",
       "    }\n",
       "\n",
       "    .dataframe thead th {\n",
       "        text-align: right;\n",
       "    }\n",
       "</style>\n",
       "<table border=\"1\" class=\"dataframe\">\n",
       "  <thead>\n",
       "    <tr style=\"text-align: right;\">\n",
       "      <th></th>\n",
       "      <th>SUBSISTEMA</th>\n",
       "    </tr>\n",
       "  </thead>\n",
       "  <tbody>\n",
       "    <tr>\n",
       "      <th>MANGUEIRA</th>\n",
       "      <td>0.098168</td>\n",
       "    </tr>\n",
       "    <tr>\n",
       "      <th>PNEU</th>\n",
       "      <td>0.064733</td>\n",
       "    </tr>\n",
       "    <tr>\n",
       "      <th>ALIMENTAÇÃO</th>\n",
       "      <td>0.060458</td>\n",
       "    </tr>\n",
       "    <tr>\n",
       "      <th>AR CONDICIONADO</th>\n",
       "      <td>0.049313</td>\n",
       "    </tr>\n",
       "    <tr>\n",
       "      <th>ARREFECIMENTO</th>\n",
       "      <td>0.045954</td>\n",
       "    </tr>\n",
       "    <tr>\n",
       "      <th>ESTEIRA</th>\n",
       "      <td>0.044580</td>\n",
       "    </tr>\n",
       "    <tr>\n",
       "      <th>AGUARDANDO MANUTENÇÃO</th>\n",
       "      <td>0.042595</td>\n",
       "    </tr>\n",
       "    <tr>\n",
       "      <th>TRANSMISSÃO</th>\n",
       "      <td>0.038015</td>\n",
       "    </tr>\n",
       "    <tr>\n",
       "      <th>CABINE</th>\n",
       "      <td>0.031603</td>\n",
       "    </tr>\n",
       "    <tr>\n",
       "      <th>PARTIDA</th>\n",
       "      <td>0.028550</td>\n",
       "    </tr>\n",
       "  </tbody>\n",
       "</table>\n",
       "</div>"
      ],
      "text/plain": [
       "                       SUBSISTEMA\n",
       "MANGUEIRA                0.098168\n",
       "PNEU                     0.064733\n",
       "ALIMENTAÇÃO              0.060458\n",
       "AR CONDICIONADO          0.049313\n",
       "ARREFECIMENTO            0.045954\n",
       "ESTEIRA                  0.044580\n",
       "AGUARDANDO MANUTENÇÃO    0.042595\n",
       "TRANSMISSÃO              0.038015\n",
       "CABINE                   0.031603\n",
       "PARTIDA                  0.028550"
      ]
     },
     "metadata": {},
     "output_type": "display_data"
    }
   ],
   "source": [
    "display(df['TIPO_EQP'].value_counts(normalize=True).to_frame())\n",
    "display(df[['TIPO_EQP','TIPO_NOTA']].value_counts(normalize=True).to_frame())\n",
    "display(df[['TIPO_EQP','TIPO_NOTA','PERIODO']].value_counts(normalize=True).to_frame())\n",
    "display(df['TURNO1'].value_counts(normalize=True).to_frame())\n",
    "display(df['FRENTE'].value_counts(normalize=True).to_frame())\n",
    "display(df['OBJ_TEC'].value_counts(normalize=True).to_frame())\n",
    "display(df['SISTEMA'].value_counts(normalize=True).to_frame()[:10])\n",
    "display(df['SUBSISTEMA'].value_counts(normalize=True).to_frame()[:10])"
   ]
  },
  {
   "cell_type": "code",
   "execution_count": 11,
   "metadata": {},
   "outputs": [
    {
     "data": {
      "text/html": [
       "<div>\n",
       "<style scoped>\n",
       "    .dataframe tbody tr th:only-of-type {\n",
       "        vertical-align: middle;\n",
       "    }\n",
       "\n",
       "    .dataframe tbody tr th {\n",
       "        vertical-align: top;\n",
       "    }\n",
       "\n",
       "    .dataframe thead th {\n",
       "        text-align: right;\n",
       "    }\n",
       "</style>\n",
       "<table border=\"1\" class=\"dataframe\">\n",
       "  <thead>\n",
       "    <tr style=\"text-align: right;\">\n",
       "      <th></th>\n",
       "      <th>TIPO_EQP</th>\n",
       "      <th>TIPO_NOTA</th>\n",
       "      <th>PERIODO</th>\n",
       "      <th>TURNO1</th>\n",
       "      <th>LOC_INST</th>\n",
       "      <th>%</th>\n",
       "    </tr>\n",
       "  </thead>\n",
       "  <tbody>\n",
       "    <tr>\n",
       "      <th>0</th>\n",
       "      <td>COLHEDORA</td>\n",
       "      <td>A2</td>\n",
       "      <td>SF 21/22</td>\n",
       "      <td>A</td>\n",
       "      <td>COLHEITA MECANIZADA</td>\n",
       "      <td>0.139542</td>\n",
       "    </tr>\n",
       "    <tr>\n",
       "      <th>1</th>\n",
       "      <td>COLHEDORA</td>\n",
       "      <td>A2</td>\n",
       "      <td>SF 21/22</td>\n",
       "      <td>B</td>\n",
       "      <td>COLHEITA MECANIZADA</td>\n",
       "      <td>0.134198</td>\n",
       "    </tr>\n",
       "    <tr>\n",
       "      <th>2</th>\n",
       "      <td>COLHEDORA</td>\n",
       "      <td>A2</td>\n",
       "      <td>SF 21/22</td>\n",
       "      <td>C</td>\n",
       "      <td>COLHEITA MECANIZADA</td>\n",
       "      <td>0.079084</td>\n",
       "    </tr>\n",
       "    <tr>\n",
       "      <th>3</th>\n",
       "      <td>TRATOR</td>\n",
       "      <td>A2</td>\n",
       "      <td>SF 21/22</td>\n",
       "      <td>A</td>\n",
       "      <td>COLHEITA MECANIZADA</td>\n",
       "      <td>0.072061</td>\n",
       "    </tr>\n",
       "    <tr>\n",
       "      <th>4</th>\n",
       "      <td>TRATOR</td>\n",
       "      <td>A2</td>\n",
       "      <td>SF 21/22</td>\n",
       "      <td>A</td>\n",
       "      <td>SEM ALOCAÇÃO</td>\n",
       "      <td>0.068702</td>\n",
       "    </tr>\n",
       "    <tr>\n",
       "      <th>5</th>\n",
       "      <td>TRATOR</td>\n",
       "      <td>A2</td>\n",
       "      <td>SF 21/22</td>\n",
       "      <td>B</td>\n",
       "      <td>COLHEITA MECANIZADA</td>\n",
       "      <td>0.064275</td>\n",
       "    </tr>\n",
       "    <tr>\n",
       "      <th>6</th>\n",
       "      <td>COLHEDORA</td>\n",
       "      <td>A2</td>\n",
       "      <td>SF 22/23</td>\n",
       "      <td>A</td>\n",
       "      <td>COLHEITA MECANIZADA</td>\n",
       "      <td>0.057252</td>\n",
       "    </tr>\n",
       "    <tr>\n",
       "      <th>7</th>\n",
       "      <td>TRATOR</td>\n",
       "      <td>A2</td>\n",
       "      <td>SF 21/22</td>\n",
       "      <td>B</td>\n",
       "      <td>SEM ALOCAÇÃO</td>\n",
       "      <td>0.056336</td>\n",
       "    </tr>\n",
       "    <tr>\n",
       "      <th>8</th>\n",
       "      <td>COLHEDORA</td>\n",
       "      <td>A2</td>\n",
       "      <td>SF 22/23</td>\n",
       "      <td>B</td>\n",
       "      <td>COLHEITA MECANIZADA</td>\n",
       "      <td>0.051603</td>\n",
       "    </tr>\n",
       "    <tr>\n",
       "      <th>9</th>\n",
       "      <td>COLHEDORA</td>\n",
       "      <td>A2</td>\n",
       "      <td>SF 22/23</td>\n",
       "      <td>C</td>\n",
       "      <td>COLHEITA MECANIZADA</td>\n",
       "      <td>0.029771</td>\n",
       "    </tr>\n",
       "    <tr>\n",
       "      <th>10</th>\n",
       "      <td>TRATOR</td>\n",
       "      <td>A2</td>\n",
       "      <td>SF 21/22</td>\n",
       "      <td>C</td>\n",
       "      <td>COLHEITA MECANIZADA</td>\n",
       "      <td>0.029313</td>\n",
       "    </tr>\n",
       "    <tr>\n",
       "      <th>11</th>\n",
       "      <td>TRATOR</td>\n",
       "      <td>A2</td>\n",
       "      <td>SF 22/23</td>\n",
       "      <td>A</td>\n",
       "      <td>COLHEITA MECANIZADA</td>\n",
       "      <td>0.025802</td>\n",
       "    </tr>\n",
       "    <tr>\n",
       "      <th>12</th>\n",
       "      <td>TRATOR</td>\n",
       "      <td>A2</td>\n",
       "      <td>SF 22/23</td>\n",
       "      <td>B</td>\n",
       "      <td>COLHEITA MECANIZADA</td>\n",
       "      <td>0.024122</td>\n",
       "    </tr>\n",
       "    <tr>\n",
       "      <th>13</th>\n",
       "      <td>COLHEDORA</td>\n",
       "      <td>A2</td>\n",
       "      <td>SF 21/22</td>\n",
       "      <td>A</td>\n",
       "      <td>SEM ALOCAÇÃO</td>\n",
       "      <td>0.020611</td>\n",
       "    </tr>\n",
       "    <tr>\n",
       "      <th>14</th>\n",
       "      <td>COLHEDORA</td>\n",
       "      <td>A2</td>\n",
       "      <td>SF 21/22</td>\n",
       "      <td>B</td>\n",
       "      <td>SEM ALOCAÇÃO</td>\n",
       "      <td>0.020458</td>\n",
       "    </tr>\n",
       "    <tr>\n",
       "      <th>15</th>\n",
       "      <td>TRATOR</td>\n",
       "      <td>A2</td>\n",
       "      <td>SF 21/22</td>\n",
       "      <td>C</td>\n",
       "      <td>SEM ALOCAÇÃO</td>\n",
       "      <td>0.020000</td>\n",
       "    </tr>\n",
       "    <tr>\n",
       "      <th>16</th>\n",
       "      <td>TRATOR</td>\n",
       "      <td>A2</td>\n",
       "      <td>SF 22/23</td>\n",
       "      <td>A</td>\n",
       "      <td>SEM ALOCAÇÃO</td>\n",
       "      <td>0.015115</td>\n",
       "    </tr>\n",
       "    <tr>\n",
       "      <th>17</th>\n",
       "      <td>TRATOR</td>\n",
       "      <td>A2</td>\n",
       "      <td>SF 22/23</td>\n",
       "      <td>C</td>\n",
       "      <td>COLHEITA MECANIZADA</td>\n",
       "      <td>0.013435</td>\n",
       "    </tr>\n",
       "    <tr>\n",
       "      <th>18</th>\n",
       "      <td>TRATOR</td>\n",
       "      <td>A2</td>\n",
       "      <td>SF 22/23</td>\n",
       "      <td>B</td>\n",
       "      <td>SEM ALOCAÇÃO</td>\n",
       "      <td>0.012061</td>\n",
       "    </tr>\n",
       "    <tr>\n",
       "      <th>19</th>\n",
       "      <td>TRATOR</td>\n",
       "      <td>A2</td>\n",
       "      <td>SF 21/22</td>\n",
       "      <td>B</td>\n",
       "      <td>PLANTIO E COLHEITA DO PLANTIO</td>\n",
       "      <td>0.008244</td>\n",
       "    </tr>\n",
       "    <tr>\n",
       "      <th>20</th>\n",
       "      <td>TRATOR</td>\n",
       "      <td>A2</td>\n",
       "      <td>SF 21/22</td>\n",
       "      <td>A</td>\n",
       "      <td>PLANTIO E COLHEITA DO PLANTIO</td>\n",
       "      <td>0.007634</td>\n",
       "    </tr>\n",
       "    <tr>\n",
       "      <th>21</th>\n",
       "      <td>COLHEDORA</td>\n",
       "      <td>A2</td>\n",
       "      <td>SF 21/22</td>\n",
       "      <td>B</td>\n",
       "      <td>PLANTIO E COLHEITA DO PLANTIO</td>\n",
       "      <td>0.006718</td>\n",
       "    </tr>\n",
       "    <tr>\n",
       "      <th>22</th>\n",
       "      <td>COLHEDORA</td>\n",
       "      <td>A2</td>\n",
       "      <td>SF 21/22</td>\n",
       "      <td>C</td>\n",
       "      <td>SEM ALOCAÇÃO</td>\n",
       "      <td>0.006718</td>\n",
       "    </tr>\n",
       "    <tr>\n",
       "      <th>23</th>\n",
       "      <td>COLHEDORA</td>\n",
       "      <td>A2</td>\n",
       "      <td>SF 21/22</td>\n",
       "      <td>A</td>\n",
       "      <td>PLANTIO E COLHEITA DO PLANTIO</td>\n",
       "      <td>0.004427</td>\n",
       "    </tr>\n",
       "    <tr>\n",
       "      <th>24</th>\n",
       "      <td>TRATOR</td>\n",
       "      <td>A2</td>\n",
       "      <td>SF 22/23</td>\n",
       "      <td>C</td>\n",
       "      <td>SEM ALOCAÇÃO</td>\n",
       "      <td>0.004275</td>\n",
       "    </tr>\n",
       "    <tr>\n",
       "      <th>25</th>\n",
       "      <td>TRATOR</td>\n",
       "      <td>A2</td>\n",
       "      <td>SF 22/23</td>\n",
       "      <td>A</td>\n",
       "      <td>PLANTIO E COLHEITA DO PLANTIO</td>\n",
       "      <td>0.002137</td>\n",
       "    </tr>\n",
       "    <tr>\n",
       "      <th>26</th>\n",
       "      <td>COLHEDORA</td>\n",
       "      <td>G4</td>\n",
       "      <td>SF 22/23</td>\n",
       "      <td>A</td>\n",
       "      <td>COLHEITA MECANIZADA</td>\n",
       "      <td>0.002137</td>\n",
       "    </tr>\n",
       "    <tr>\n",
       "      <th>27</th>\n",
       "      <td>TRATOR</td>\n",
       "      <td>A2</td>\n",
       "      <td>SF 21/22</td>\n",
       "      <td>B</td>\n",
       "      <td>PREPARO DE SOLO</td>\n",
       "      <td>0.001985</td>\n",
       "    </tr>\n",
       "    <tr>\n",
       "      <th>28</th>\n",
       "      <td>TRATOR</td>\n",
       "      <td>A2</td>\n",
       "      <td>SF 22/23</td>\n",
       "      <td>B</td>\n",
       "      <td>PLANTIO E COLHEITA DO PLANTIO</td>\n",
       "      <td>0.001832</td>\n",
       "    </tr>\n",
       "    <tr>\n",
       "      <th>29</th>\n",
       "      <td>COLHEDORA</td>\n",
       "      <td>G4</td>\n",
       "      <td>SF 21/22</td>\n",
       "      <td>A</td>\n",
       "      <td>COLHEITA MECANIZADA</td>\n",
       "      <td>0.001832</td>\n",
       "    </tr>\n",
       "    <tr>\n",
       "      <th>30</th>\n",
       "      <td>COLHEDORA</td>\n",
       "      <td>A2</td>\n",
       "      <td>SF 21/22</td>\n",
       "      <td>C</td>\n",
       "      <td>PLANTIO E COLHEITA DO PLANTIO</td>\n",
       "      <td>0.001679</td>\n",
       "    </tr>\n",
       "    <tr>\n",
       "      <th>31</th>\n",
       "      <td>TRATOR</td>\n",
       "      <td>A2</td>\n",
       "      <td>SF 21/22</td>\n",
       "      <td>A</td>\n",
       "      <td>PREPARO DE SOLO</td>\n",
       "      <td>0.001374</td>\n",
       "    </tr>\n",
       "    <tr>\n",
       "      <th>32</th>\n",
       "      <td>COLHEDORA</td>\n",
       "      <td>A2</td>\n",
       "      <td>SF 22/23</td>\n",
       "      <td>A</td>\n",
       "      <td>PLANTIO E COLHEITA DO PLANTIO</td>\n",
       "      <td>0.001221</td>\n",
       "    </tr>\n",
       "    <tr>\n",
       "      <th>33</th>\n",
       "      <td>TRATOR</td>\n",
       "      <td>G4</td>\n",
       "      <td>SF 21/22</td>\n",
       "      <td>A</td>\n",
       "      <td>COLHEITA MECANIZADA</td>\n",
       "      <td>0.001069</td>\n",
       "    </tr>\n",
       "    <tr>\n",
       "      <th>34</th>\n",
       "      <td>TRATOR</td>\n",
       "      <td>A2</td>\n",
       "      <td>SF 21/22</td>\n",
       "      <td>C</td>\n",
       "      <td>PLANTIO E COLHEITA DO PLANTIO</td>\n",
       "      <td>0.000916</td>\n",
       "    </tr>\n",
       "    <tr>\n",
       "      <th>35</th>\n",
       "      <td>COLHEDORA</td>\n",
       "      <td>G4</td>\n",
       "      <td>SF 22/23</td>\n",
       "      <td>B</td>\n",
       "      <td>COLHEITA MECANIZADA</td>\n",
       "      <td>0.000916</td>\n",
       "    </tr>\n",
       "    <tr>\n",
       "      <th>36</th>\n",
       "      <td>COLHEDORA</td>\n",
       "      <td>G4</td>\n",
       "      <td>SF 21/22</td>\n",
       "      <td>C</td>\n",
       "      <td>COLHEITA MECANIZADA</td>\n",
       "      <td>0.000916</td>\n",
       "    </tr>\n",
       "    <tr>\n",
       "      <th>37</th>\n",
       "      <td>TRATOR</td>\n",
       "      <td>A2</td>\n",
       "      <td>SF 22/23</td>\n",
       "      <td>A</td>\n",
       "      <td>FERTIRRIGAÇAO</td>\n",
       "      <td>0.000916</td>\n",
       "    </tr>\n",
       "    <tr>\n",
       "      <th>38</th>\n",
       "      <td>TRATOR</td>\n",
       "      <td>G4</td>\n",
       "      <td>SF 22/23</td>\n",
       "      <td>B</td>\n",
       "      <td>COLHEITA MECANIZADA</td>\n",
       "      <td>0.000916</td>\n",
       "    </tr>\n",
       "    <tr>\n",
       "      <th>39</th>\n",
       "      <td>TRATOR</td>\n",
       "      <td>A2</td>\n",
       "      <td>SF 21/22</td>\n",
       "      <td>A</td>\n",
       "      <td>TRATOS E HERBICIDA</td>\n",
       "      <td>0.000763</td>\n",
       "    </tr>\n",
       "    <tr>\n",
       "      <th>40</th>\n",
       "      <td>TRATOR</td>\n",
       "      <td>G4</td>\n",
       "      <td>SF 21/22</td>\n",
       "      <td>A</td>\n",
       "      <td>SEM ALOCAÇÃO</td>\n",
       "      <td>0.000611</td>\n",
       "    </tr>\n",
       "    <tr>\n",
       "      <th>41</th>\n",
       "      <td>TRATOR</td>\n",
       "      <td>A2</td>\n",
       "      <td>SF 22/23</td>\n",
       "      <td>B</td>\n",
       "      <td>PREPARO DE SOLO</td>\n",
       "      <td>0.000611</td>\n",
       "    </tr>\n",
       "    <tr>\n",
       "      <th>42</th>\n",
       "      <td>TRATOR</td>\n",
       "      <td>A2</td>\n",
       "      <td>SF 21/22</td>\n",
       "      <td>A</td>\n",
       "      <td>FERTIRRIGAÇAO</td>\n",
       "      <td>0.000611</td>\n",
       "    </tr>\n",
       "    <tr>\n",
       "      <th>43</th>\n",
       "      <td>TRATOR</td>\n",
       "      <td>G4</td>\n",
       "      <td>SF 21/22</td>\n",
       "      <td>B</td>\n",
       "      <td>PLANTIO E COLHEITA DO PLANTIO</td>\n",
       "      <td>0.000458</td>\n",
       "    </tr>\n",
       "    <tr>\n",
       "      <th>44</th>\n",
       "      <td>TRATOR</td>\n",
       "      <td>G4</td>\n",
       "      <td>SF 22/23</td>\n",
       "      <td>A</td>\n",
       "      <td>COLHEITA MECANIZADA</td>\n",
       "      <td>0.000458</td>\n",
       "    </tr>\n",
       "    <tr>\n",
       "      <th>45</th>\n",
       "      <td>TRATOR</td>\n",
       "      <td>G4</td>\n",
       "      <td>SF 21/22</td>\n",
       "      <td>A</td>\n",
       "      <td>PLANTIO E COLHEITA DO PLANTIO</td>\n",
       "      <td>0.000458</td>\n",
       "    </tr>\n",
       "    <tr>\n",
       "      <th>46</th>\n",
       "      <td>TRATOR</td>\n",
       "      <td>G4</td>\n",
       "      <td>SF 22/23</td>\n",
       "      <td>B</td>\n",
       "      <td>SEM ALOCAÇÃO</td>\n",
       "      <td>0.000458</td>\n",
       "    </tr>\n",
       "    <tr>\n",
       "      <th>47</th>\n",
       "      <td>TRATOR</td>\n",
       "      <td>A2</td>\n",
       "      <td>SF 22/23</td>\n",
       "      <td>A</td>\n",
       "      <td>PREPARO DE SOLO</td>\n",
       "      <td>0.000458</td>\n",
       "    </tr>\n",
       "    <tr>\n",
       "      <th>48</th>\n",
       "      <td>COLHEDORA</td>\n",
       "      <td>A2</td>\n",
       "      <td>SF 22/23</td>\n",
       "      <td>A</td>\n",
       "      <td>SEM ALOCAÇÃO</td>\n",
       "      <td>0.000458</td>\n",
       "    </tr>\n",
       "    <tr>\n",
       "      <th>49</th>\n",
       "      <td>TRATOR</td>\n",
       "      <td>A2</td>\n",
       "      <td>SF 21/22</td>\n",
       "      <td>B</td>\n",
       "      <td>TRATOS E HERBICIDA</td>\n",
       "      <td>0.000458</td>\n",
       "    </tr>\n",
       "    <tr>\n",
       "      <th>50</th>\n",
       "      <td>COLHEDORA</td>\n",
       "      <td>A2</td>\n",
       "      <td>SF 22/23</td>\n",
       "      <td>B</td>\n",
       "      <td>PLANTIO E COLHEITA DO PLANTIO</td>\n",
       "      <td>0.000458</td>\n",
       "    </tr>\n",
       "    <tr>\n",
       "      <th>51</th>\n",
       "      <td>TRATOR</td>\n",
       "      <td>A2</td>\n",
       "      <td>SF 22/23</td>\n",
       "      <td>B</td>\n",
       "      <td>FERTIRRIGAÇAO</td>\n",
       "      <td>0.000305</td>\n",
       "    </tr>\n",
       "    <tr>\n",
       "      <th>52</th>\n",
       "      <td>TRATOR</td>\n",
       "      <td>A2</td>\n",
       "      <td>SF 21/22</td>\n",
       "      <td>C</td>\n",
       "      <td>PREPARO DE SOLO</td>\n",
       "      <td>0.000305</td>\n",
       "    </tr>\n",
       "    <tr>\n",
       "      <th>53</th>\n",
       "      <td>COLHEDORA</td>\n",
       "      <td>G4</td>\n",
       "      <td>SF 21/22</td>\n",
       "      <td>B</td>\n",
       "      <td>COLHEITA MECANIZADA</td>\n",
       "      <td>0.000305</td>\n",
       "    </tr>\n",
       "    <tr>\n",
       "      <th>54</th>\n",
       "      <td>COLHEDORA</td>\n",
       "      <td>A2</td>\n",
       "      <td>SF 22/23</td>\n",
       "      <td>B</td>\n",
       "      <td>SEM ALOCAÇÃO</td>\n",
       "      <td>0.000305</td>\n",
       "    </tr>\n",
       "    <tr>\n",
       "      <th>55</th>\n",
       "      <td>TRATOR</td>\n",
       "      <td>A2</td>\n",
       "      <td>SF 22/23</td>\n",
       "      <td>A</td>\n",
       "      <td>TRATOS E HERBICIDA</td>\n",
       "      <td>0.000153</td>\n",
       "    </tr>\n",
       "    <tr>\n",
       "      <th>56</th>\n",
       "      <td>COLHEDORA</td>\n",
       "      <td>A2</td>\n",
       "      <td>SF 22/23</td>\n",
       "      <td>C</td>\n",
       "      <td>SEM ALOCAÇÃO</td>\n",
       "      <td>0.000153</td>\n",
       "    </tr>\n",
       "    <tr>\n",
       "      <th>57</th>\n",
       "      <td>COLHEDORA</td>\n",
       "      <td>G4</td>\n",
       "      <td>SF 22/23</td>\n",
       "      <td>C</td>\n",
       "      <td>COLHEITA MECANIZADA</td>\n",
       "      <td>0.000153</td>\n",
       "    </tr>\n",
       "    <tr>\n",
       "      <th>58</th>\n",
       "      <td>TRATOR</td>\n",
       "      <td>G4</td>\n",
       "      <td>SF 21/22</td>\n",
       "      <td>C</td>\n",
       "      <td>SEM ALOCAÇÃO</td>\n",
       "      <td>0.000153</td>\n",
       "    </tr>\n",
       "    <tr>\n",
       "      <th>59</th>\n",
       "      <td>COLHEDORA</td>\n",
       "      <td>G4</td>\n",
       "      <td>SF 22/23</td>\n",
       "      <td>B</td>\n",
       "      <td>PLANTIO E COLHEITA DO PLANTIO</td>\n",
       "      <td>0.000153</td>\n",
       "    </tr>\n",
       "    <tr>\n",
       "      <th>60</th>\n",
       "      <td>TRATOR</td>\n",
       "      <td>G4</td>\n",
       "      <td>SF 22/23</td>\n",
       "      <td>A</td>\n",
       "      <td>SEM ALOCAÇÃO</td>\n",
       "      <td>0.000153</td>\n",
       "    </tr>\n",
       "  </tbody>\n",
       "</table>\n",
       "</div>"
      ],
      "text/plain": [
       "     TIPO_EQP TIPO_NOTA   PERIODO TURNO1                       LOC_INST  \\\n",
       "0   COLHEDORA        A2  SF 21/22      A            COLHEITA MECANIZADA   \n",
       "1   COLHEDORA        A2  SF 21/22      B            COLHEITA MECANIZADA   \n",
       "2   COLHEDORA        A2  SF 21/22      C            COLHEITA MECANIZADA   \n",
       "3      TRATOR        A2  SF 21/22      A            COLHEITA MECANIZADA   \n",
       "4      TRATOR        A2  SF 21/22      A                   SEM ALOCAÇÃO   \n",
       "5      TRATOR        A2  SF 21/22      B            COLHEITA MECANIZADA   \n",
       "6   COLHEDORA        A2  SF 22/23      A            COLHEITA MECANIZADA   \n",
       "7      TRATOR        A2  SF 21/22      B                   SEM ALOCAÇÃO   \n",
       "8   COLHEDORA        A2  SF 22/23      B            COLHEITA MECANIZADA   \n",
       "9   COLHEDORA        A2  SF 22/23      C            COLHEITA MECANIZADA   \n",
       "10     TRATOR        A2  SF 21/22      C            COLHEITA MECANIZADA   \n",
       "11     TRATOR        A2  SF 22/23      A            COLHEITA MECANIZADA   \n",
       "12     TRATOR        A2  SF 22/23      B            COLHEITA MECANIZADA   \n",
       "13  COLHEDORA        A2  SF 21/22      A                   SEM ALOCAÇÃO   \n",
       "14  COLHEDORA        A2  SF 21/22      B                   SEM ALOCAÇÃO   \n",
       "15     TRATOR        A2  SF 21/22      C                   SEM ALOCAÇÃO   \n",
       "16     TRATOR        A2  SF 22/23      A                   SEM ALOCAÇÃO   \n",
       "17     TRATOR        A2  SF 22/23      C            COLHEITA MECANIZADA   \n",
       "18     TRATOR        A2  SF 22/23      B                   SEM ALOCAÇÃO   \n",
       "19     TRATOR        A2  SF 21/22      B  PLANTIO E COLHEITA DO PLANTIO   \n",
       "20     TRATOR        A2  SF 21/22      A  PLANTIO E COLHEITA DO PLANTIO   \n",
       "21  COLHEDORA        A2  SF 21/22      B  PLANTIO E COLHEITA DO PLANTIO   \n",
       "22  COLHEDORA        A2  SF 21/22      C                   SEM ALOCAÇÃO   \n",
       "23  COLHEDORA        A2  SF 21/22      A  PLANTIO E COLHEITA DO PLANTIO   \n",
       "24     TRATOR        A2  SF 22/23      C                   SEM ALOCAÇÃO   \n",
       "25     TRATOR        A2  SF 22/23      A  PLANTIO E COLHEITA DO PLANTIO   \n",
       "26  COLHEDORA        G4  SF 22/23      A            COLHEITA MECANIZADA   \n",
       "27     TRATOR        A2  SF 21/22      B                PREPARO DE SOLO   \n",
       "28     TRATOR        A2  SF 22/23      B  PLANTIO E COLHEITA DO PLANTIO   \n",
       "29  COLHEDORA        G4  SF 21/22      A            COLHEITA MECANIZADA   \n",
       "30  COLHEDORA        A2  SF 21/22      C  PLANTIO E COLHEITA DO PLANTIO   \n",
       "31     TRATOR        A2  SF 21/22      A                PREPARO DE SOLO   \n",
       "32  COLHEDORA        A2  SF 22/23      A  PLANTIO E COLHEITA DO PLANTIO   \n",
       "33     TRATOR        G4  SF 21/22      A            COLHEITA MECANIZADA   \n",
       "34     TRATOR        A2  SF 21/22      C  PLANTIO E COLHEITA DO PLANTIO   \n",
       "35  COLHEDORA        G4  SF 22/23      B            COLHEITA MECANIZADA   \n",
       "36  COLHEDORA        G4  SF 21/22      C            COLHEITA MECANIZADA   \n",
       "37     TRATOR        A2  SF 22/23      A                  FERTIRRIGAÇAO   \n",
       "38     TRATOR        G4  SF 22/23      B            COLHEITA MECANIZADA   \n",
       "39     TRATOR        A2  SF 21/22      A             TRATOS E HERBICIDA   \n",
       "40     TRATOR        G4  SF 21/22      A                   SEM ALOCAÇÃO   \n",
       "41     TRATOR        A2  SF 22/23      B                PREPARO DE SOLO   \n",
       "42     TRATOR        A2  SF 21/22      A                  FERTIRRIGAÇAO   \n",
       "43     TRATOR        G4  SF 21/22      B  PLANTIO E COLHEITA DO PLANTIO   \n",
       "44     TRATOR        G4  SF 22/23      A            COLHEITA MECANIZADA   \n",
       "45     TRATOR        G4  SF 21/22      A  PLANTIO E COLHEITA DO PLANTIO   \n",
       "46     TRATOR        G4  SF 22/23      B                   SEM ALOCAÇÃO   \n",
       "47     TRATOR        A2  SF 22/23      A                PREPARO DE SOLO   \n",
       "48  COLHEDORA        A2  SF 22/23      A                   SEM ALOCAÇÃO   \n",
       "49     TRATOR        A2  SF 21/22      B             TRATOS E HERBICIDA   \n",
       "50  COLHEDORA        A2  SF 22/23      B  PLANTIO E COLHEITA DO PLANTIO   \n",
       "51     TRATOR        A2  SF 22/23      B                  FERTIRRIGAÇAO   \n",
       "52     TRATOR        A2  SF 21/22      C                PREPARO DE SOLO   \n",
       "53  COLHEDORA        G4  SF 21/22      B            COLHEITA MECANIZADA   \n",
       "54  COLHEDORA        A2  SF 22/23      B                   SEM ALOCAÇÃO   \n",
       "55     TRATOR        A2  SF 22/23      A             TRATOS E HERBICIDA   \n",
       "56  COLHEDORA        A2  SF 22/23      C                   SEM ALOCAÇÃO   \n",
       "57  COLHEDORA        G4  SF 22/23      C            COLHEITA MECANIZADA   \n",
       "58     TRATOR        G4  SF 21/22      C                   SEM ALOCAÇÃO   \n",
       "59  COLHEDORA        G4  SF 22/23      B  PLANTIO E COLHEITA DO PLANTIO   \n",
       "60     TRATOR        G4  SF 22/23      A                   SEM ALOCAÇÃO   \n",
       "\n",
       "           %  \n",
       "0   0.139542  \n",
       "1   0.134198  \n",
       "2   0.079084  \n",
       "3   0.072061  \n",
       "4   0.068702  \n",
       "5   0.064275  \n",
       "6   0.057252  \n",
       "7   0.056336  \n",
       "8   0.051603  \n",
       "9   0.029771  \n",
       "10  0.029313  \n",
       "11  0.025802  \n",
       "12  0.024122  \n",
       "13  0.020611  \n",
       "14  0.020458  \n",
       "15  0.020000  \n",
       "16  0.015115  \n",
       "17  0.013435  \n",
       "18  0.012061  \n",
       "19  0.008244  \n",
       "20  0.007634  \n",
       "21  0.006718  \n",
       "22  0.006718  \n",
       "23  0.004427  \n",
       "24  0.004275  \n",
       "25  0.002137  \n",
       "26  0.002137  \n",
       "27  0.001985  \n",
       "28  0.001832  \n",
       "29  0.001832  \n",
       "30  0.001679  \n",
       "31  0.001374  \n",
       "32  0.001221  \n",
       "33  0.001069  \n",
       "34  0.000916  \n",
       "35  0.000916  \n",
       "36  0.000916  \n",
       "37  0.000916  \n",
       "38  0.000916  \n",
       "39  0.000763  \n",
       "40  0.000611  \n",
       "41  0.000611  \n",
       "42  0.000611  \n",
       "43  0.000458  \n",
       "44  0.000458  \n",
       "45  0.000458  \n",
       "46  0.000458  \n",
       "47  0.000458  \n",
       "48  0.000458  \n",
       "49  0.000458  \n",
       "50  0.000458  \n",
       "51  0.000305  \n",
       "52  0.000305  \n",
       "53  0.000305  \n",
       "54  0.000305  \n",
       "55  0.000153  \n",
       "56  0.000153  \n",
       "57  0.000153  \n",
       "58  0.000153  \n",
       "59  0.000153  \n",
       "60  0.000153  "
      ]
     },
     "execution_count": 11,
     "metadata": {},
     "output_type": "execute_result"
    }
   ],
   "source": [
    "df_per_tipoeqp_objtec_locinst = df[['TIPO_EQP','TIPO_NOTA','PERIODO','TURNO1','LOC_INST']].value_counts(normalize=True).to_frame().reset_index()\n",
    "df_per_tipoeqp_objtec_locinst = df_per_tipoeqp_objtec_locinst.set_axis(['TIPO_EQP', 'TIPO_NOTA', 'PERIODO', 'TURNO1', 'LOC_INST', '%'], axis=1)\n",
    "df_per_tipoeqp_objtec_locinst"
   ]
  },
  {
   "cell_type": "markdown",
   "metadata": {},
   "source": [
    "## Analisando a representatividade dos dados pelas categóricas"
   ]
  },
  {
   "cell_type": "code",
   "execution_count": 13,
   "metadata": {},
   "outputs": [
    {
     "name": "stderr",
     "output_type": "stream",
     "text": [
      "C:\\Users\\kairo.oliveira\\AppData\\Local\\Temp\\6\\ipykernel_1232\\4192134154.py:9: FutureWarning: The default value of numeric_only in DataFrameGroupBy.sum is deprecated. In a future version, numeric_only will default to False. Either specify numeric_only or select only columns which should be valid for the function.\n",
      "  df_per_parada_tipoeqp = df.groupby('TIPO_EQP').sum()['DURACAO_PARADA'].to_frame()\n"
     ]
    },
    {
     "data": {
      "text/html": [
       "<div>\n",
       "<style scoped>\n",
       "    .dataframe tbody tr th:only-of-type {\n",
       "        vertical-align: middle;\n",
       "    }\n",
       "\n",
       "    .dataframe tbody tr th {\n",
       "        vertical-align: top;\n",
       "    }\n",
       "\n",
       "    .dataframe thead th {\n",
       "        text-align: right;\n",
       "    }\n",
       "</style>\n",
       "<table border=\"1\" class=\"dataframe\">\n",
       "  <thead>\n",
       "    <tr style=\"text-align: right;\">\n",
       "      <th></th>\n",
       "      <th>TIPO_EQP</th>\n",
       "      <th>PERCENTUAL_DURACAO_PARADA</th>\n",
       "    </tr>\n",
       "  </thead>\n",
       "  <tbody>\n",
       "    <tr>\n",
       "      <th>0</th>\n",
       "      <td>COLHEDORA</td>\n",
       "      <td>30.860587</td>\n",
       "    </tr>\n",
       "    <tr>\n",
       "      <th>1</th>\n",
       "      <td>TRATOR</td>\n",
       "      <td>69.139413</td>\n",
       "    </tr>\n",
       "  </tbody>\n",
       "</table>\n",
       "</div>"
      ],
      "text/plain": [
       "    TIPO_EQP  PERCENTUAL_DURACAO_PARADA\n",
       "0  COLHEDORA                  30.860587\n",
       "1     TRATOR                  69.139413"
      ]
     },
     "metadata": {},
     "output_type": "display_data"
    },
    {
     "data": {
      "text/html": [
       "<div>\n",
       "<style scoped>\n",
       "    .dataframe tbody tr th:only-of-type {\n",
       "        vertical-align: middle;\n",
       "    }\n",
       "\n",
       "    .dataframe tbody tr th {\n",
       "        vertical-align: top;\n",
       "    }\n",
       "\n",
       "    .dataframe thead th {\n",
       "        text-align: right;\n",
       "    }\n",
       "</style>\n",
       "<table border=\"1\" class=\"dataframe\">\n",
       "  <thead>\n",
       "    <tr style=\"text-align: right;\">\n",
       "      <th></th>\n",
       "      <th>TIPO_EQP</th>\n",
       "      <th>PERCENTUAL_QTD_NOTAS</th>\n",
       "    </tr>\n",
       "  </thead>\n",
       "  <tbody>\n",
       "    <tr>\n",
       "      <th>0</th>\n",
       "      <td>COLHEDORA</td>\n",
       "      <td>56.10687</td>\n",
       "    </tr>\n",
       "    <tr>\n",
       "      <th>1</th>\n",
       "      <td>TRATOR</td>\n",
       "      <td>43.89313</td>\n",
       "    </tr>\n",
       "  </tbody>\n",
       "</table>\n",
       "</div>"
      ],
      "text/plain": [
       "    TIPO_EQP  PERCENTUAL_QTD_NOTAS\n",
       "0  COLHEDORA              56.10687\n",
       "1     TRATOR              43.89313"
      ]
     },
     "metadata": {},
     "output_type": "display_data"
    },
    {
     "data": {
      "text/plain": [
       "Text(0, 0.5, 'Tempo Parada')"
      ]
     },
     "execution_count": 13,
     "metadata": {},
     "output_type": "execute_result"
    },
    {
     "data": {
      "image/png": "[encoded data removed]",
      "text/plain": [
       "<Figure size 1000x750 with 4 Axes>"
      ]
     },
     "metadata": {},
     "output_type": "display_data"
    }
   ],
   "source": [
    "#https://seaborn.pydata.org/tutorial/axis_grids.html\n",
    "#https://towardsdatascience.com/how-xticks-and-xticklabels-really-work-a-walkthrough-aff80755838\n",
    "\n",
    "df_per_tipoeqp = df.groupby('TIPO_EQP').count()['NOTA'].to_frame()\n",
    "df_per_tipoeqp = df_per_tipoeqp.reset_index()\n",
    "df_per_tipoeqp = df_per_tipoeqp.set_axis(['TIPO_EQP','PERCENTUAL_QTD_NOTAS'], axis=1)\n",
    "df_per_tipoeqp['PERCENTUAL_QTD_NOTAS'] = (df_per_tipoeqp['PERCENTUAL_QTD_NOTAS'] / df['NOTA'].count())*100\n",
    "\n",
    "df_per_parada_tipoeqp = df.groupby('TIPO_EQP').sum()['DURACAO_PARADA'].to_frame()\n",
    "df_per_parada_tipoeqp = df_per_parada_tipoeqp.reset_index()\n",
    "df_per_parada_tipoeqp = df_per_parada_tipoeqp.set_axis(['TIPO_EQP','PERCENTUAL_DURACAO_PARADA'], axis=1)\n",
    "df_per_parada_tipoeqp['PERCENTUAL_DURACAO_PARADA'] = (df_per_parada_tipoeqp['PERCENTUAL_DURACAO_PARADA'] / df['DURACAO_PARADA'].sum())*100\n",
    "\n",
    "display(df_per_parada_tipoeqp)\n",
    "display(df_per_tipoeqp)\n",
    "\n",
    "f, ax = plt.subplots(2,2,figsize=(10,7.5))\n",
    "f.subplots_adjust(hspace=0.2, wspace=.4)\n",
    "f.suptitle('Quantidade de Ordens X Tempo Parada (Geral)')\n",
    "\n",
    "sns.barplot(x=df_per_tipoeqp['TIPO_EQP'], y=df_per_tipoeqp['PERCENTUAL_QTD_NOTAS'], ax = ax[0,0])\n",
    "ax[0,0].set_ylabel('% Qtd Ordens')\n",
    "ax[0,0].set_title('Quantidade de Ordens')\n",
    "\n",
    "sns.barplot(x=df_per_parada_tipoeqp['TIPO_EQP'], y=df_per_parada_tipoeqp['PERCENTUAL_DURACAO_PARADA'], ax = ax[0,1])\n",
    "ax[0,1].set_ylabel('% Tempo Parada')\n",
    "ax[0,1].set_title('Tempo de parada')\n",
    "\n",
    "sns.boxplot(x=df['TIPO_EQP'], y=df['DURACAO_PARADA'], ax = ax[1,1], showfliers = False)\n",
    "ax[1,1].set_xlabel('Tipo Equipamento')\n",
    "ax[1,1].set_ylabel('Tempo Parada')"
   ]
  },
  {
   "cell_type": "markdown",
   "metadata": {},
   "source": [
    "## Insight 1 \n",
    "Manutenções em tratores levam mais tempo que as manutenções em colhedoras para equipamentos alocados na colheita mecanizada"
   ]
  },
  {
   "cell_type": "code",
   "execution_count": 14,
   "metadata": {},
   "outputs": [
    {
     "name": "stderr",
     "output_type": "stream",
     "text": [
      "C:\\Users\\kairo.oliveira\\AppData\\Local\\Temp\\6\\ipykernel_1232\\2050287230.py:6: FutureWarning: The default value of numeric_only in DataFrameGroupBy.sum is deprecated. In a future version, numeric_only will default to False. Either specify numeric_only or select only columns which should be valid for the function.\n",
      "  df_per_parada_tipoeqp = df.groupby('TIPO_EQP').sum()['DURACAO_PARADA'].to_frame()\n"
     ]
    },
    {
     "data": {
      "text/html": [
       "<div>\n",
       "<style scoped>\n",
       "    .dataframe tbody tr th:only-of-type {\n",
       "        vertical-align: middle;\n",
       "    }\n",
       "\n",
       "    .dataframe tbody tr th {\n",
       "        vertical-align: top;\n",
       "    }\n",
       "\n",
       "    .dataframe thead th {\n",
       "        text-align: right;\n",
       "    }\n",
       "</style>\n",
       "<table border=\"1\" class=\"dataframe\">\n",
       "  <thead>\n",
       "    <tr style=\"text-align: right;\">\n",
       "      <th></th>\n",
       "      <th>TIPO_EQP</th>\n",
       "      <th>PERCENTUAL_DURACAO_PARADA</th>\n",
       "    </tr>\n",
       "  </thead>\n",
       "  <tbody>\n",
       "    <tr>\n",
       "      <th>0</th>\n",
       "      <td>COLHEDORA</td>\n",
       "      <td>30.860587</td>\n",
       "    </tr>\n",
       "    <tr>\n",
       "      <th>1</th>\n",
       "      <td>TRATOR</td>\n",
       "      <td>69.139413</td>\n",
       "    </tr>\n",
       "  </tbody>\n",
       "</table>\n",
       "</div>"
      ],
      "text/plain": [
       "    TIPO_EQP  PERCENTUAL_DURACAO_PARADA\n",
       "0  COLHEDORA                  30.860587\n",
       "1     TRATOR                  69.139413"
      ]
     },
     "metadata": {},
     "output_type": "display_data"
    },
    {
     "data": {
      "text/html": [
       "<div>\n",
       "<style scoped>\n",
       "    .dataframe tbody tr th:only-of-type {\n",
       "        vertical-align: middle;\n",
       "    }\n",
       "\n",
       "    .dataframe tbody tr th {\n",
       "        vertical-align: top;\n",
       "    }\n",
       "\n",
       "    .dataframe thead th {\n",
       "        text-align: right;\n",
       "    }\n",
       "</style>\n",
       "<table border=\"1\" class=\"dataframe\">\n",
       "  <thead>\n",
       "    <tr style=\"text-align: right;\">\n",
       "      <th></th>\n",
       "      <th>TIPO_EQP</th>\n",
       "      <th>PERCENTUAL_QTD_NOTAS</th>\n",
       "    </tr>\n",
       "  </thead>\n",
       "  <tbody>\n",
       "    <tr>\n",
       "      <th>0</th>\n",
       "      <td>COLHEDORA</td>\n",
       "      <td>56.10687</td>\n",
       "    </tr>\n",
       "    <tr>\n",
       "      <th>1</th>\n",
       "      <td>TRATOR</td>\n",
       "      <td>43.89313</td>\n",
       "    </tr>\n",
       "  </tbody>\n",
       "</table>\n",
       "</div>"
      ],
      "text/plain": [
       "    TIPO_EQP  PERCENTUAL_QTD_NOTAS\n",
       "0  COLHEDORA              56.10687\n",
       "1     TRATOR              43.89313"
      ]
     },
     "metadata": {},
     "output_type": "display_data"
    }
   ],
   "source": [
    "df_per_tipoeqp = df.groupby('TIPO_EQP').count()['NOTA'].to_frame()\n",
    "df_per_tipoeqp = df_per_tipoeqp.reset_index()\n",
    "df_per_tipoeqp = df_per_tipoeqp.set_axis(['TIPO_EQP','PERCENTUAL_QTD_NOTAS'], axis=1)\n",
    "df_per_tipoeqp['PERCENTUAL_QTD_NOTAS'] = (df_per_tipoeqp['PERCENTUAL_QTD_NOTAS'] / df['NOTA'].count())*100\n",
    "\n",
    "df_per_parada_tipoeqp = df.groupby('TIPO_EQP').sum()['DURACAO_PARADA'].to_frame()\n",
    "df_per_parada_tipoeqp = df_per_parada_tipoeqp.reset_index()\n",
    "df_per_parada_tipoeqp = df_per_parada_tipoeqp.set_axis(['TIPO_EQP','PERCENTUAL_DURACAO_PARADA'], axis=1)\n",
    "df_per_parada_tipoeqp['PERCENTUAL_DURACAO_PARADA'] = (df_per_parada_tipoeqp['PERCENTUAL_DURACAO_PARADA'] / df['DURACAO_PARADA'].sum())*100\n",
    "\n",
    "display(df_per_parada_tipoeqp)\n",
    "display(df_per_tipoeqp)"
   ]
  },
  {
   "cell_type": "markdown",
   "metadata": {
    "id": "betvJWayzXDA"
   },
   "source": [
    "### \n",
    "1.   Entender equipamentos para normalizar os que são iguais, porém, com nomenclatura diferente (OBJ_TEC)\n",
    "2.   Extrair da coluna objeto técnico a marca e modelo dos equipamentos do equipamento (OBJ_TEC)\n",
    "3.   Entender as notas e ordens que estão com informação de \"SEM ALOCAÇÃO\" (campo LOC_INST)\n",
    "4.   Ajustar a alocação do equipamento na Frente correta baseado no histórico (FRENTE) pois atualmente todo o dataset recebe a ultima frente alocada para o equipamento e não é mantido um histórico\n",
    "6.   Aprofundar no tema e entender Nota A2\n",
    "7.   Porque na safra atual temos somente notas tipo G4?\n",
    "8.   Aprofundar no tema e entender extração somente para manutenções que geram PARADAS. Para a análise todas tem que ser informadas, visão geral?"
   ]
  },
  {
   "cell_type": "markdown",
   "metadata": {},
   "source": [
    "#### Checagem de quantidade "
   ]
  },
  {
   "cell_type": "code",
   "execution_count": 15,
   "metadata": {},
   "outputs": [
    {
     "data": {
      "text/plain": [
       "<AxesSubplot: xlabel='index'>"
      ]
     },
     "execution_count": 15,
     "metadata": {},
     "output_type": "execute_result"
    },
    {
     "data": {
      "image/png": "[encoded data removed]",
      "text/plain": [
       "<Figure size 640x480 with 1 Axes>"
      ]
     },
     "metadata": {},
     "output_type": "display_data"
    }
   ],
   "source": [
    "df['OBJ_TEC'].value_counts(normalize=True).reset_index().plot(kind='bar', x='index')"
   ]
  },
  {
   "cell_type": "code",
   "execution_count": 16,
   "metadata": {
    "colab": {
     "base_uri": "https://localhost:8080/",
     "height": 238
    },
    "id": "Ok6DDfFLxeyL",
    "outputId": "9fb5ff81-b0ef-4909-af3b-d1b35685a080"
   },
   "outputs": [
    {
     "data": {
      "text/html": [
       "<div>\n",
       "<style scoped>\n",
       "    .dataframe tbody tr th:only-of-type {\n",
       "        vertical-align: middle;\n",
       "    }\n",
       "\n",
       "    .dataframe tbody tr th {\n",
       "        vertical-align: top;\n",
       "    }\n",
       "\n",
       "    .dataframe thead th {\n",
       "        text-align: right;\n",
       "    }\n",
       "</style>\n",
       "<table border=\"1\" class=\"dataframe\">\n",
       "  <thead>\n",
       "    <tr style=\"text-align: right;\">\n",
       "      <th></th>\n",
       "      <th>LOC_INST</th>\n",
       "    </tr>\n",
       "  </thead>\n",
       "  <tbody>\n",
       "    <tr>\n",
       "      <th>COLHEITA MECANIZADA</th>\n",
       "      <td>72.916031</td>\n",
       "    </tr>\n",
       "    <tr>\n",
       "      <th>SEM ALOCAÇÃO</th>\n",
       "      <td>22.656489</td>\n",
       "    </tr>\n",
       "    <tr>\n",
       "      <th>PLANTIO E COLHEITA DO PLANTIO</th>\n",
       "      <td>3.633588</td>\n",
       "    </tr>\n",
       "    <tr>\n",
       "      <th>PREPARO DE SOLO</th>\n",
       "      <td>0.473282</td>\n",
       "    </tr>\n",
       "    <tr>\n",
       "      <th>FERTIRRIGAÇAO</th>\n",
       "      <td>0.183206</td>\n",
       "    </tr>\n",
       "    <tr>\n",
       "      <th>TRATOS E HERBICIDA</th>\n",
       "      <td>0.137405</td>\n",
       "    </tr>\n",
       "  </tbody>\n",
       "</table>\n",
       "</div>"
      ],
      "text/plain": [
       "                                LOC_INST\n",
       "COLHEITA MECANIZADA            72.916031\n",
       "SEM ALOCAÇÃO                   22.656489\n",
       "PLANTIO E COLHEITA DO PLANTIO   3.633588\n",
       "PREPARO DE SOLO                 0.473282\n",
       "FERTIRRIGAÇAO                   0.183206\n",
       "TRATOS E HERBICIDA              0.137405"
      ]
     },
     "execution_count": 16,
     "metadata": {},
     "output_type": "execute_result"
    }
   ],
   "source": [
    "df_per_locinst = df['LOC_INST'].value_counts(normalize=True).to_frame()\n",
    "df_per_locinst['LOC_INST'] = df_per_locinst['LOC_INST']*100\n",
    "df_per_locinst"
   ]
  },
  {
   "cell_type": "code",
   "execution_count": 17,
   "metadata": {},
   "outputs": [
    {
     "data": {
      "text/html": [
       "<div>\n",
       "<style scoped>\n",
       "    .dataframe tbody tr th:only-of-type {\n",
       "        vertical-align: middle;\n",
       "    }\n",
       "\n",
       "    .dataframe tbody tr th {\n",
       "        vertical-align: top;\n",
       "    }\n",
       "\n",
       "    .dataframe thead th {\n",
       "        text-align: right;\n",
       "    }\n",
       "</style>\n",
       "<table border=\"1\" class=\"dataframe\">\n",
       "  <thead>\n",
       "    <tr style=\"text-align: right;\">\n",
       "      <th></th>\n",
       "      <th></th>\n",
       "      <th>0</th>\n",
       "    </tr>\n",
       "    <tr>\n",
       "      <th>FRENTE</th>\n",
       "      <th>PERIODO</th>\n",
       "      <th></th>\n",
       "    </tr>\n",
       "  </thead>\n",
       "  <tbody>\n",
       "    <tr>\n",
       "      <th>Frente Outros</th>\n",
       "      <th>SF 21/22</th>\n",
       "      <td>0.175725</td>\n",
       "    </tr>\n",
       "    <tr>\n",
       "      <th>FRENTE MEC 5</th>\n",
       "      <th>SF 21/22</th>\n",
       "      <td>0.113282</td>\n",
       "    </tr>\n",
       "    <tr>\n",
       "      <th>FRENTE MEC 4</th>\n",
       "      <th>SF 21/22</th>\n",
       "      <td>0.110687</td>\n",
       "    </tr>\n",
       "    <tr>\n",
       "      <th>FRENTE MEC 2</th>\n",
       "      <th>SF 21/22</th>\n",
       "      <td>0.106718</td>\n",
       "    </tr>\n",
       "    <tr>\n",
       "      <th>FRENTE MEC 3</th>\n",
       "      <th>SF 21/22</th>\n",
       "      <td>0.097557</td>\n",
       "    </tr>\n",
       "    <tr>\n",
       "      <th>FRENTE MEC 1</th>\n",
       "      <th>SF 21/22</th>\n",
       "      <td>0.077099</td>\n",
       "    </tr>\n",
       "    <tr>\n",
       "      <th>FRENTE MEC 2</th>\n",
       "      <th>SF 22/23</th>\n",
       "      <td>0.047939</td>\n",
       "    </tr>\n",
       "    <tr>\n",
       "      <th>FROTAS RESERVAS</th>\n",
       "      <th>SF 21/22</th>\n",
       "      <td>0.046412</td>\n",
       "    </tr>\n",
       "    <tr>\n",
       "      <th>FRENTE MEC 5</th>\n",
       "      <th>SF 22/23</th>\n",
       "      <td>0.044122</td>\n",
       "    </tr>\n",
       "    <tr>\n",
       "      <th>FRENTE MEC 3</th>\n",
       "      <th>SF 22/23</th>\n",
       "      <td>0.040305</td>\n",
       "    </tr>\n",
       "    <tr>\n",
       "      <th>FRENTE MEC 4</th>\n",
       "      <th>SF 22/23</th>\n",
       "      <td>0.039847</td>\n",
       "    </tr>\n",
       "    <tr>\n",
       "      <th>FRENTE MEC 1</th>\n",
       "      <th>SF 22/23</th>\n",
       "      <td>0.032977</td>\n",
       "    </tr>\n",
       "    <tr>\n",
       "      <th>Frente Outros</th>\n",
       "      <th>SF 22/23</th>\n",
       "      <td>0.026565</td>\n",
       "    </tr>\n",
       "    <tr>\n",
       "      <th>PLANTIO MECANIZADO</th>\n",
       "      <th>SF 21/22</th>\n",
       "      <td>0.021069</td>\n",
       "    </tr>\n",
       "    <tr>\n",
       "      <th>FROTAS RESERVAS</th>\n",
       "      <th>SF 22/23</th>\n",
       "      <td>0.010076</td>\n",
       "    </tr>\n",
       "    <tr>\n",
       "      <th>PLANTIO MECANIZADO</th>\n",
       "      <th>SF 22/23</th>\n",
       "      <td>0.005191</td>\n",
       "    </tr>\n",
       "    <tr>\n",
       "      <th rowspan=\"2\" valign=\"top\">PREPARO DE SOLO - PRE</th>\n",
       "      <th>SF 21/22</th>\n",
       "      <td>0.003664</td>\n",
       "    </tr>\n",
       "    <tr>\n",
       "      <th>SF 22/23</th>\n",
       "      <td>0.000763</td>\n",
       "    </tr>\n",
       "  </tbody>\n",
       "</table>\n",
       "</div>"
      ],
      "text/plain": [
       "                                       0\n",
       "FRENTE                PERIODO           \n",
       "Frente Outros         SF 21/22  0.175725\n",
       "FRENTE MEC 5          SF 21/22  0.113282\n",
       "FRENTE MEC 4          SF 21/22  0.110687\n",
       "FRENTE MEC 2          SF 21/22  0.106718\n",
       "FRENTE MEC 3          SF 21/22  0.097557\n",
       "FRENTE MEC 1          SF 21/22  0.077099\n",
       "FRENTE MEC 2          SF 22/23  0.047939\n",
       "FROTAS RESERVAS       SF 21/22  0.046412\n",
       "FRENTE MEC 5          SF 22/23  0.044122\n",
       "FRENTE MEC 3          SF 22/23  0.040305\n",
       "FRENTE MEC 4          SF 22/23  0.039847\n",
       "FRENTE MEC 1          SF 22/23  0.032977\n",
       "Frente Outros         SF 22/23  0.026565\n",
       "PLANTIO MECANIZADO    SF 21/22  0.021069\n",
       "FROTAS RESERVAS       SF 22/23  0.010076\n",
       "PLANTIO MECANIZADO    SF 22/23  0.005191\n",
       "PREPARO DE SOLO - PRE SF 21/22  0.003664\n",
       "                      SF 22/23  0.000763"
      ]
     },
     "execution_count": 17,
     "metadata": {},
     "output_type": "execute_result"
    }
   ],
   "source": [
    "df_per_locinst = df[['FRENTE','PERIODO']].value_counts(normalize=True).to_frame()\n",
    "df_per_locinst"
   ]
  },
  {
   "cell_type": "code",
   "execution_count": 18,
   "metadata": {
    "colab": {
     "base_uri": "https://localhost:8080/",
     "height": 833
    },
    "id": "zmlIxpng034n",
    "outputId": "fd23aba3-5366-4eb1-e6a0-cef5cd74ae7b"
   },
   "outputs": [
    {
     "name": "stderr",
     "output_type": "stream",
     "text": [
      "C:\\Users\\kairo.oliveira\\AppData\\Local\\Temp\\6\\ipykernel_1232\\1959498048.py:3: FutureWarning: DataFrame.set_axis 'inplace' keyword is deprecated and will be removed in a future version. Use `obj = obj.set_axis(..., copy=False)` instead\n",
      "  df_per_tipoeqp_objtec_locinst.set_axis(['OBJ_TEC','TIPO_EQP','LOC_INST','PER'], axis=1,inplace=True)\n"
     ]
    },
    {
     "data": {
      "text/html": [
       "<div>\n",
       "<style scoped>\n",
       "    .dataframe tbody tr th:only-of-type {\n",
       "        vertical-align: middle;\n",
       "    }\n",
       "\n",
       "    .dataframe tbody tr th {\n",
       "        vertical-align: top;\n",
       "    }\n",
       "\n",
       "    .dataframe thead th {\n",
       "        text-align: right;\n",
       "    }\n",
       "</style>\n",
       "<table border=\"1\" class=\"dataframe\">\n",
       "  <thead>\n",
       "    <tr style=\"text-align: right;\">\n",
       "      <th></th>\n",
       "      <th>OBJ_TEC</th>\n",
       "      <th>TIPO_EQP</th>\n",
       "      <th>LOC_INST</th>\n",
       "      <th>PER</th>\n",
       "    </tr>\n",
       "  </thead>\n",
       "  <tbody>\n",
       "    <tr>\n",
       "      <th>0</th>\n",
       "      <td>COLHEDORA CANA JD CH570 01 LINHA</td>\n",
       "      <td>COLHEDORA</td>\n",
       "      <td>COLHEITA MECANIZADA</td>\n",
       "      <td>48.427481</td>\n",
       "    </tr>\n",
       "    <tr>\n",
       "      <th>1</th>\n",
       "      <td>TRATOR PNEU VALTRA BT 210</td>\n",
       "      <td>TRATOR</td>\n",
       "      <td>SEM ALOCAÇÃO</td>\n",
       "      <td>13.832061</td>\n",
       "    </tr>\n",
       "    <tr>\n",
       "      <th>2</th>\n",
       "      <td>TRATOR PNEU VALTRA BT 210</td>\n",
       "      <td>TRATOR</td>\n",
       "      <td>COLHEITA MECANIZADA</td>\n",
       "      <td>8.137405</td>\n",
       "    </tr>\n",
       "    <tr>\n",
       "      <th>3</th>\n",
       "      <td>TRATOR JOHN DEERE 7225J</td>\n",
       "      <td>TRATOR</td>\n",
       "      <td>COLHEITA MECANIZADA</td>\n",
       "      <td>7.603053</td>\n",
       "    </tr>\n",
       "    <tr>\n",
       "      <th>4</th>\n",
       "      <td>TRATOR PNEU JOHN DEERE 7230J</td>\n",
       "      <td>TRATOR</td>\n",
       "      <td>COLHEITA MECANIZADA</td>\n",
       "      <td>5.419847</td>\n",
       "    </tr>\n",
       "    <tr>\n",
       "      <th>5</th>\n",
       "      <td>TRATOR JOHN DEERE 7225J</td>\n",
       "      <td>TRATOR</td>\n",
       "      <td>SEM ALOCAÇÃO</td>\n",
       "      <td>2.381679</td>\n",
       "    </tr>\n",
       "    <tr>\n",
       "      <th>6</th>\n",
       "      <td>TRATOR PNEU JOHN DEERE 8270R</td>\n",
       "      <td>TRATOR</td>\n",
       "      <td>COLHEITA MECANIZADA</td>\n",
       "      <td>1.984733</td>\n",
       "    </tr>\n",
       "    <tr>\n",
       "      <th>7</th>\n",
       "      <td>COLHEDORA CANA JD CH570 01 LINHA</td>\n",
       "      <td>COLHEDORA</td>\n",
       "      <td>SEM ALOCAÇÃO</td>\n",
       "      <td>1.877863</td>\n",
       "    </tr>\n",
       "    <tr>\n",
       "      <th>8</th>\n",
       "      <td>COLHEDORA CANA CASE A8800 01 LINHA</td>\n",
       "      <td>COLHEDORA</td>\n",
       "      <td>SEM ALOCAÇÃO</td>\n",
       "      <td>1.755725</td>\n",
       "    </tr>\n",
       "    <tr>\n",
       "      <th>9</th>\n",
       "      <td>TRATOR PNEU JOHN DEERE 7225J</td>\n",
       "      <td>TRATOR</td>\n",
       "      <td>PLANTIO E COLHEITA DO PLANTIO</td>\n",
       "      <td>1.664122</td>\n",
       "    </tr>\n",
       "    <tr>\n",
       "      <th>10</th>\n",
       "      <td>COLHEDORA CANA JD CH950 02 LINHAS</td>\n",
       "      <td>COLHEDORA</td>\n",
       "      <td>COLHEITA MECANIZADA</td>\n",
       "      <td>1.343511</td>\n",
       "    </tr>\n",
       "    <tr>\n",
       "      <th>11</th>\n",
       "      <td>COLHEDORA CANA CASE A8800 02 LINHAS</td>\n",
       "      <td>COLHEDORA</td>\n",
       "      <td>SEM ALOCAÇÃO</td>\n",
       "      <td>1.221374</td>\n",
       "    </tr>\n",
       "    <tr>\n",
       "      <th>12</th>\n",
       "      <td>TRATOR PNEU JOHN DEERE 7230J</td>\n",
       "      <td>TRATOR</td>\n",
       "      <td>SEM ALOCAÇÃO</td>\n",
       "      <td>1.175573</td>\n",
       "    </tr>\n",
       "    <tr>\n",
       "      <th>13</th>\n",
       "      <td>COLHEDORA CANA JD 3520 01 LINHA</td>\n",
       "      <td>COLHEDORA</td>\n",
       "      <td>PLANTIO E COLHEITA DO PLANTIO</td>\n",
       "      <td>0.625954</td>\n",
       "    </tr>\n",
       "    <tr>\n",
       "      <th>14</th>\n",
       "      <td>COLHEDORA CANA CASE A8800 01 LINHA</td>\n",
       "      <td>COLHEDORA</td>\n",
       "      <td>PLANTIO E COLHEITA DO PLANTIO</td>\n",
       "      <td>0.564885</td>\n",
       "    </tr>\n",
       "    <tr>\n",
       "      <th>15</th>\n",
       "      <td>TRATOR PNEU JOHN DEERE 7230J</td>\n",
       "      <td>TRATOR</td>\n",
       "      <td>PLANTIO E COLHEITA DO PLANTIO</td>\n",
       "      <td>0.503817</td>\n",
       "    </tr>\n",
       "    <tr>\n",
       "      <th>16</th>\n",
       "      <td>TRATOR PNEU JOHN DEERE 8270R</td>\n",
       "      <td>TRATOR</td>\n",
       "      <td>PREPARO DE SOLO</td>\n",
       "      <td>0.442748</td>\n",
       "    </tr>\n",
       "    <tr>\n",
       "      <th>17</th>\n",
       "      <td>TRATOR PNEU JOHN DEERE 7225J</td>\n",
       "      <td>TRATOR</td>\n",
       "      <td>SEM ALOCAÇÃO</td>\n",
       "      <td>0.396947</td>\n",
       "    </tr>\n",
       "    <tr>\n",
       "      <th>18</th>\n",
       "      <td>COLHEDORA CANA JD CH570</td>\n",
       "      <td>COLHEDORA</td>\n",
       "      <td>PLANTIO E COLHEITA DO PLANTIO</td>\n",
       "      <td>0.244275</td>\n",
       "    </tr>\n",
       "    <tr>\n",
       "      <th>19</th>\n",
       "      <td>TRATOR PNEU VALTRA BT 210</td>\n",
       "      <td>TRATOR</td>\n",
       "      <td>FERTIRRIGAÇAO</td>\n",
       "      <td>0.152672</td>\n",
       "    </tr>\n",
       "    <tr>\n",
       "      <th>20</th>\n",
       "      <td>TRATOR PNEU VALTRA BT 210</td>\n",
       "      <td>TRATOR</td>\n",
       "      <td>TRATOS E HERBICIDA</td>\n",
       "      <td>0.137405</td>\n",
       "    </tr>\n",
       "    <tr>\n",
       "      <th>21</th>\n",
       "      <td>COLHEDORA CANA JD CH570 01 LINHA</td>\n",
       "      <td>COLHEDORA</td>\n",
       "      <td>PLANTIO E COLHEITA DO PLANTIO</td>\n",
       "      <td>0.030534</td>\n",
       "    </tr>\n",
       "    <tr>\n",
       "      <th>22</th>\n",
       "      <td>TRATOR PNEU VALTRA BM 110</td>\n",
       "      <td>TRATOR</td>\n",
       "      <td>FERTIRRIGAÇAO</td>\n",
       "      <td>0.030534</td>\n",
       "    </tr>\n",
       "    <tr>\n",
       "      <th>23</th>\n",
       "      <td>TRATOR PNEU VALTRA T230 CVT</td>\n",
       "      <td>TRATOR</td>\n",
       "      <td>PREPARO DE SOLO</td>\n",
       "      <td>0.030534</td>\n",
       "    </tr>\n",
       "    <tr>\n",
       "      <th>24</th>\n",
       "      <td>COLHEDORA CANA JD 3522</td>\n",
       "      <td>COLHEDORA</td>\n",
       "      <td>SEM ALOCAÇÃO</td>\n",
       "      <td>0.015267</td>\n",
       "    </tr>\n",
       "  </tbody>\n",
       "</table>\n",
       "</div>"
      ],
      "text/plain": [
       "                                OBJ_TEC   TIPO_EQP  \\\n",
       "0      COLHEDORA CANA JD CH570 01 LINHA  COLHEDORA   \n",
       "1             TRATOR PNEU VALTRA BT 210     TRATOR   \n",
       "2             TRATOR PNEU VALTRA BT 210     TRATOR   \n",
       "3               TRATOR JOHN DEERE 7225J     TRATOR   \n",
       "4          TRATOR PNEU JOHN DEERE 7230J     TRATOR   \n",
       "5               TRATOR JOHN DEERE 7225J     TRATOR   \n",
       "6          TRATOR PNEU JOHN DEERE 8270R     TRATOR   \n",
       "7      COLHEDORA CANA JD CH570 01 LINHA  COLHEDORA   \n",
       "8    COLHEDORA CANA CASE A8800 01 LINHA  COLHEDORA   \n",
       "9          TRATOR PNEU JOHN DEERE 7225J     TRATOR   \n",
       "10    COLHEDORA CANA JD CH950 02 LINHAS  COLHEDORA   \n",
       "11  COLHEDORA CANA CASE A8800 02 LINHAS  COLHEDORA   \n",
       "12         TRATOR PNEU JOHN DEERE 7230J     TRATOR   \n",
       "13      COLHEDORA CANA JD 3520 01 LINHA  COLHEDORA   \n",
       "14   COLHEDORA CANA CASE A8800 01 LINHA  COLHEDORA   \n",
       "15         TRATOR PNEU JOHN DEERE 7230J     TRATOR   \n",
       "16         TRATOR PNEU JOHN DEERE 8270R     TRATOR   \n",
       "17         TRATOR PNEU JOHN DEERE 7225J     TRATOR   \n",
       "18              COLHEDORA CANA JD CH570  COLHEDORA   \n",
       "19            TRATOR PNEU VALTRA BT 210     TRATOR   \n",
       "20            TRATOR PNEU VALTRA BT 210     TRATOR   \n",
       "21     COLHEDORA CANA JD CH570 01 LINHA  COLHEDORA   \n",
       "22            TRATOR PNEU VALTRA BM 110     TRATOR   \n",
       "23          TRATOR PNEU VALTRA T230 CVT     TRATOR   \n",
       "24               COLHEDORA CANA JD 3522  COLHEDORA   \n",
       "\n",
       "                         LOC_INST        PER  \n",
       "0             COLHEITA MECANIZADA  48.427481  \n",
       "1                    SEM ALOCAÇÃO  13.832061  \n",
       "2             COLHEITA MECANIZADA   8.137405  \n",
       "3             COLHEITA MECANIZADA   7.603053  \n",
       "4             COLHEITA MECANIZADA   5.419847  \n",
       "5                    SEM ALOCAÇÃO   2.381679  \n",
       "6             COLHEITA MECANIZADA   1.984733  \n",
       "7                    SEM ALOCAÇÃO   1.877863  \n",
       "8                    SEM ALOCAÇÃO   1.755725  \n",
       "9   PLANTIO E COLHEITA DO PLANTIO   1.664122  \n",
       "10            COLHEITA MECANIZADA   1.343511  \n",
       "11                   SEM ALOCAÇÃO   1.221374  \n",
       "12                   SEM ALOCAÇÃO   1.175573  \n",
       "13  PLANTIO E COLHEITA DO PLANTIO   0.625954  \n",
       "14  PLANTIO E COLHEITA DO PLANTIO   0.564885  \n",
       "15  PLANTIO E COLHEITA DO PLANTIO   0.503817  \n",
       "16                PREPARO DE SOLO   0.442748  \n",
       "17                   SEM ALOCAÇÃO   0.396947  \n",
       "18  PLANTIO E COLHEITA DO PLANTIO   0.244275  \n",
       "19                  FERTIRRIGAÇAO   0.152672  \n",
       "20             TRATOS E HERBICIDA   0.137405  \n",
       "21  PLANTIO E COLHEITA DO PLANTIO   0.030534  \n",
       "22                  FERTIRRIGAÇAO   0.030534  \n",
       "23                PREPARO DE SOLO   0.030534  \n",
       "24                   SEM ALOCAÇÃO   0.015267  "
      ]
     },
     "execution_count": 18,
     "metadata": {},
     "output_type": "execute_result"
    }
   ],
   "source": [
    "df_per_tipoeqp_objtec_locinst = df[['OBJ_TEC','TIPO_EQP','LOC_INST']].value_counts(normalize=True).to_frame()\n",
    "df_per_tipoeqp_objtec_locinst.reset_index(inplace=True)\n",
    "df_per_tipoeqp_objtec_locinst.set_axis(['OBJ_TEC','TIPO_EQP','LOC_INST','PER'], axis=1,inplace=True)\n",
    "df_per_tipoeqp_objtec_locinst['PER'] = df_per_tipoeqp_objtec_locinst['PER']*100\n",
    "df_per_tipoeqp_objtec_locinst"
   ]
  },
  {
   "cell_type": "code",
   "execution_count": 19,
   "metadata": {
    "colab": {
     "base_uri": "https://localhost:8080/"
    },
    "id": "R8a4rGX0l_ye",
    "outputId": "2b76f0d2-a3fa-4262-bb7e-ef3b70f1f94b"
   },
   "outputs": [
    {
     "data": {
      "text/plain": [
       "(3260, 18)"
      ]
     },
     "execution_count": 19,
     "metadata": {},
     "output_type": "execute_result"
    }
   ],
   "source": [
    "df_colh_mec = df[ (df['TIPO_EQP'] == 'COLHEDORA')  & (df['LOC_INST'] == 'COLHEITA MECANIZADA') ]\n",
    "df_colh_mec.shape"
   ]
  },
  {
   "cell_type": "code",
   "execution_count": 20,
   "metadata": {
    "colab": {
     "base_uri": "https://localhost:8080/",
     "height": 112
    },
    "id": "rwOL4s7B1OJy",
    "outputId": "fe9b8d59-f656-449c-a665-b1ec41fe9af6"
   },
   "outputs": [
    {
     "name": "stderr",
     "output_type": "stream",
     "text": [
      "C:\\Users\\kairo.oliveira\\AppData\\Local\\Temp\\6\\ipykernel_1232\\3366092061.py:3: FutureWarning: DataFrame.set_axis 'inplace' keyword is deprecated and will be removed in a future version. Use `obj = obj.set_axis(..., copy=False)` instead\n",
      "  df_per_tipoeqp_objtec_locinst.set_axis(['OBJ_TEC','TIPO_EQP','LOC_INST','TIPO_NOTA','PER_QTD'], axis=1,inplace=True)\n"
     ]
    },
    {
     "data": {
      "text/html": [
       "<div>\n",
       "<style scoped>\n",
       "    .dataframe tbody tr th:only-of-type {\n",
       "        vertical-align: middle;\n",
       "    }\n",
       "\n",
       "    .dataframe tbody tr th {\n",
       "        vertical-align: top;\n",
       "    }\n",
       "\n",
       "    .dataframe thead th {\n",
       "        text-align: right;\n",
       "    }\n",
       "</style>\n",
       "<table border=\"1\" class=\"dataframe\">\n",
       "  <thead>\n",
       "    <tr style=\"text-align: right;\">\n",
       "      <th></th>\n",
       "      <th>OBJ_TEC</th>\n",
       "      <th>TIPO_EQP</th>\n",
       "      <th>LOC_INST</th>\n",
       "      <th>TIPO_NOTA</th>\n",
       "      <th>PER_QTD</th>\n",
       "    </tr>\n",
       "  </thead>\n",
       "  <tbody>\n",
       "    <tr>\n",
       "      <th>0</th>\n",
       "      <td>COLHEDORA CANA JD CH570 01 LINHA</td>\n",
       "      <td>COLHEDORA</td>\n",
       "      <td>COLHEITA MECANIZADA</td>\n",
       "      <td>A2</td>\n",
       "      <td>96.073620</td>\n",
       "    </tr>\n",
       "    <tr>\n",
       "      <th>1</th>\n",
       "      <td>COLHEDORA CANA JD CH950 02 LINHAS</td>\n",
       "      <td>COLHEDORA</td>\n",
       "      <td>COLHEITA MECANIZADA</td>\n",
       "      <td>A2</td>\n",
       "      <td>2.668712</td>\n",
       "    </tr>\n",
       "    <tr>\n",
       "      <th>2</th>\n",
       "      <td>COLHEDORA CANA JD CH570 01 LINHA</td>\n",
       "      <td>COLHEDORA</td>\n",
       "      <td>COLHEITA MECANIZADA</td>\n",
       "      <td>G4</td>\n",
       "      <td>1.226994</td>\n",
       "    </tr>\n",
       "    <tr>\n",
       "      <th>3</th>\n",
       "      <td>COLHEDORA CANA JD CH950 02 LINHAS</td>\n",
       "      <td>COLHEDORA</td>\n",
       "      <td>COLHEITA MECANIZADA</td>\n",
       "      <td>G4</td>\n",
       "      <td>0.030675</td>\n",
       "    </tr>\n",
       "  </tbody>\n",
       "</table>\n",
       "</div>"
      ],
      "text/plain": [
       "                             OBJ_TEC   TIPO_EQP             LOC_INST  \\\n",
       "0   COLHEDORA CANA JD CH570 01 LINHA  COLHEDORA  COLHEITA MECANIZADA   \n",
       "1  COLHEDORA CANA JD CH950 02 LINHAS  COLHEDORA  COLHEITA MECANIZADA   \n",
       "2   COLHEDORA CANA JD CH570 01 LINHA  COLHEDORA  COLHEITA MECANIZADA   \n",
       "3  COLHEDORA CANA JD CH950 02 LINHAS  COLHEDORA  COLHEITA MECANIZADA   \n",
       "\n",
       "  TIPO_NOTA    PER_QTD  \n",
       "0        A2  96.073620  \n",
       "1        A2   2.668712  \n",
       "2        G4   1.226994  \n",
       "3        G4   0.030675  "
      ]
     },
     "execution_count": 20,
     "metadata": {},
     "output_type": "execute_result"
    }
   ],
   "source": [
    "df_per_tipoeqp_objtec_locinst = df_colh_mec[['OBJ_TEC','TIPO_EQP','LOC_INST','TIPO_NOTA']].value_counts(normalize=True).to_frame()\n",
    "df_per_tipoeqp_objtec_locinst.reset_index(inplace=True)\n",
    "df_per_tipoeqp_objtec_locinst.set_axis(['OBJ_TEC','TIPO_EQP','LOC_INST','TIPO_NOTA','PER_QTD'], axis=1,inplace=True)\n",
    "df_per_tipoeqp_objtec_locinst['PER_QTD'] = df_per_tipoeqp_objtec_locinst['PER_QTD']*100\n",
    "df_per_tipoeqp_objtec_locinst"
   ]
  },
  {
   "cell_type": "markdown",
   "metadata": {
    "id": "DHVWFgLQ5EeR"
   },
   "source": [
    "## Filtrar somente colhedoras e colheita mecanizada e equipamento \"COLHEDORA CANA JD CH570 01 LINHA\" e TIPO_NOTA A2 pois detem 96% das ordens"
   ]
  },
  {
   "cell_type": "code",
   "execution_count": 21,
   "metadata": {
    "id": "c3SJVdUg1dTu"
   },
   "outputs": [],
   "source": [
    "df_colh_mec = df[(df['TIPO_EQP'] == 'COLHEDORA')  & (df['LOC_INST'] == 'COLHEITA MECANIZADA') & (df['OBJ_TEC'] == 'COLHEDORA CANA JD CH570 01 LINHA') & (df['TIPO_NOTA'] == 'A2')]"
   ]
  },
  {
   "cell_type": "markdown",
   "metadata": {
    "id": "gygLWrLc8cMH"
   },
   "source": [
    "### Remove as colunas do dataset que estão com 1 único valor"
   ]
  },
  {
   "cell_type": "code",
   "execution_count": 22,
   "metadata": {
    "colab": {
     "base_uri": "https://localhost:8080/"
    },
    "id": "HwdeOt5EpRxU",
    "outputId": "219050f6-a43d-4c2c-fe2f-946f562da0d0"
   },
   "outputs": [
    {
     "name": "stdout",
     "output_type": "stream",
     "text": [
      "Colunas removidas:  ['OBJ_TEC', 'TIPO_EQP', 'LOC_INST', 'TIPO_NOTA']\n"
     ]
    },
    {
     "name": "stderr",
     "output_type": "stream",
     "text": [
      "C:\\Users\\kairo.oliveira\\AppData\\Local\\Temp\\6\\ipykernel_1232\\817347539.py:8: SettingWithCopyWarning: \n",
      "A value is trying to be set on a copy of a slice from a DataFrame\n",
      "\n",
      "See the caveats in the documentation: https://pandas.pydata.org/pandas-docs/stable/user_guide/indexing.html#returning-a-view-versus-a-copy\n",
      "  df_colh_mec.drop(columns=lista_valor_unico_remover,inplace=True)\n"
     ]
    }
   ],
   "source": [
    "#dropar colunas que tem somente 1 registro para todo o dataset\n",
    "lista_colunas = df_colh_mec.columns.to_list()\n",
    "lista_valor_unico_remover = []\n",
    "for row in lista_colunas:\n",
    "  if len(df_colh_mec[row].unique()) == 1:\n",
    "    lista_valor_unico_remover.append(row)\n",
    "print('Colunas removidas: ',lista_valor_unico_remover)\n",
    "df_colh_mec.drop(columns=lista_valor_unico_remover,inplace=True)"
   ]
  },
  {
   "cell_type": "code",
   "execution_count": 23,
   "metadata": {},
   "outputs": [
    {
     "data": {
      "text/html": [
       "<div>\n",
       "<style scoped>\n",
       "    .dataframe tbody tr th:only-of-type {\n",
       "        vertical-align: middle;\n",
       "    }\n",
       "\n",
       "    .dataframe tbody tr th {\n",
       "        vertical-align: top;\n",
       "    }\n",
       "\n",
       "    .dataframe thead th {\n",
       "        text-align: right;\n",
       "    }\n",
       "</style>\n",
       "<table border=\"1\" class=\"dataframe\">\n",
       "  <thead>\n",
       "    <tr style=\"text-align: right;\">\n",
       "      <th></th>\n",
       "      <th>EQP</th>\n",
       "      <th>ORDEM</th>\n",
       "      <th>NOTA</th>\n",
       "      <th>DATA_NOTA</th>\n",
       "      <th>DESC_NOTA</th>\n",
       "      <th>SISTEMA</th>\n",
       "      <th>SUBSISTEMA</th>\n",
       "      <th>DURACAO_PARADA</th>\n",
       "      <th>PERIODO</th>\n",
       "      <th>FRENTE</th>\n",
       "      <th>TURNO1</th>\n",
       "      <th>TURNO2</th>\n",
       "      <th>FIM_AVARIA_H</th>\n",
       "      <th>INICIO_AVARIA_H</th>\n",
       "    </tr>\n",
       "  </thead>\n",
       "  <tbody>\n",
       "    <tr>\n",
       "      <th>2</th>\n",
       "      <td>400069</td>\n",
       "      <td>60665165.0</td>\n",
       "      <td>700487716</td>\n",
       "      <td>2021-06-30</td>\n",
       "      <td>CORTE DE BASE (BASE)</td>\n",
       "      <td>CORTE DE BASE</td>\n",
       "      <td>CORTE DE BASE</td>\n",
       "      <td>3463.89</td>\n",
       "      <td>SF 21/22</td>\n",
       "      <td>FRENTE MEC 3</td>\n",
       "      <td>A</td>\n",
       "      <td>8</td>\n",
       "      <td>2021-11-21 16:00:00</td>\n",
       "      <td>2021-06-30 08:06:31</td>\n",
       "    </tr>\n",
       "  </tbody>\n",
       "</table>\n",
       "</div>"
      ],
      "text/plain": [
       "      EQP       ORDEM       NOTA  DATA_NOTA             DESC_NOTA  \\\n",
       "2  400069  60665165.0  700487716 2021-06-30  CORTE DE BASE (BASE)   \n",
       "\n",
       "         SISTEMA     SUBSISTEMA  DURACAO_PARADA   PERIODO        FRENTE  \\\n",
       "2  CORTE DE BASE  CORTE DE BASE         3463.89  SF 21/22  FRENTE MEC 3   \n",
       "\n",
       "  TURNO1  TURNO2        FIM_AVARIA_H     INICIO_AVARIA_H  \n",
       "2      A       8 2021-11-21 16:00:00 2021-06-30 08:06:31  "
      ]
     },
     "execution_count": 23,
     "metadata": {},
     "output_type": "execute_result"
    }
   ],
   "source": [
    "df_colh_mec.head(1)"
   ]
  },
  {
   "cell_type": "code",
   "execution_count": 24,
   "metadata": {},
   "outputs": [
    {
     "name": "stderr",
     "output_type": "stream",
     "text": [
      "C:\\Users\\kairo.oliveira\\AppData\\Local\\Temp\\6\\ipykernel_1232\\3455018186.py:1: SettingWithCopyWarning: \n",
      "A value is trying to be set on a copy of a slice from a DataFrame.\n",
      "Try using .loc[row_indexer,col_indexer] = value instead\n",
      "\n",
      "See the caveats in the documentation: https://pandas.pydata.org/pandas-docs/stable/user_guide/indexing.html#returning-a-view-versus-a-copy\n",
      "  df_colh_mec['DATA_NOTA_MES'] = df['DATA_NOTA'].dt.month\n"
     ]
    },
    {
     "data": {
      "application/vnd.plotly.v1+json": {
       "config": {
        "plotlyServerURL": "https://plot.ly"
       },
       "data": [
        {
         "hovertemplate": "x=%{x}<br>y=%{y}<extra></extra>",
         "legendgroup": "",
         "line": {
          "color": "#636efa",
          "dash": "solid"
         },
         "marker": {
          "symbol": "circle"
         },
         "mode": "lines",
         "name": "",
         "orientation": "v",
         "showlegend": false,
         "type": "scatter",
         "x": [
          1,
          2,
          3,
          4,
          5,
          6,
          7,
          8,
          9,
          10,
          11,
          12
         ],
         "xaxis": "x",
         "y": [
          2,
          103,
          189,
          187,
          99,
          296,
          254,
          331,
          342,
          208,
          215,
          45
         ],
         "yaxis": "y"
        }
       ],
       "layout": {
        "height": 500,
        "legend": {
         "tracegroupgap": 0
        },
        "template": {
         "data": {
          "bar": [
           {
            "error_x": {
             "color": "#2a3f5f"
            },
            "error_y": {
             "color": "#2a3f5f"
            },
            "marker": {
             "line": {
              "color": "#E5ECF6",
              "width": 0.5
             },
             "pattern": {
              "fillmode": "overlay",
              "size": 10,
              "solidity": 0.2
             }
            },
            "type": "bar"
           }
          ],
          "barpolar": [
           {
            "marker": {
             "line": {
              "color": "#E5ECF6",
              "width": 0.5
             },
             "pattern": {
              "fillmode": "overlay",
              "size": 10,
              "solidity": 0.2
             }
            },
            "type": "barpolar"
           }
          ],
          "carpet": [
           {
            "aaxis": {
             "endlinecolor": "#2a3f5f",
             "gridcolor": "white",
             "linecolor": "white",
             "minorgridcolor": "white",
             "startlinecolor": "#2a3f5f"
            },
            "baxis": {
             "endlinecolor": "#2a3f5f",
             "gridcolor": "white",
             "linecolor": "white",
             "minorgridcolor": "white",
             "startlinecolor": "#2a3f5f"
            },
            "type": "carpet"
           }
          ],
          "choropleth": [
           {
            "colorbar": {
             "outlinewidth": 0,
             "ticks": ""
            },
            "type": "choropleth"
           }
          ],
          "contour": [
           {
            "colorbar": {
             "outlinewidth": 0,
             "ticks": ""
            },
            "colorscale": [
             [
              0,
              "#0d0887"
             ],
             [
              0.1111111111111111,
              "#46039f"
             ],
             [
              0.2222222222222222,
              "#7201a8"
             ],
             [
              0.3333333333333333,
              "#9c179e"
             ],
             [
              0.4444444444444444,
              "#bd3786"
             ],
             [
              0.5555555555555556,
              "#d8576b"
             ],
             [
              0.6666666666666666,
              "#ed7953"
             ],
             [
              0.7777777777777778,
              "#fb9f3a"
             ],
             [
              0.8888888888888888,
              "#fdca26"
             ],
             [
              1,
              "#f0f921"
             ]
            ],
            "type": "contour"
           }
          ],
          "contourcarpet": [
           {
            "colorbar": {
             "outlinewidth": 0,
             "ticks": ""
            },
            "type": "contourcarpet"
           }
          ],
          "heatmap": [
           {
            "colorbar": {
             "outlinewidth": 0,
             "ticks": ""
            },
            "colorscale": [
             [
              0,
              "#0d0887"
             ],
             [
              0.1111111111111111,
              "#46039f"
             ],
             [
              0.2222222222222222,
              "#7201a8"
             ],
             [
              0.3333333333333333,
              "#9c179e"
             ],
             [
              0.4444444444444444,
              "#bd3786"
             ],
             [
              0.5555555555555556,
              "#d8576b"
             ],
             [
              0.6666666666666666,
              "#ed7953"
             ],
             [
              0.7777777777777778,
              "#fb9f3a"
             ],
             [
              0.8888888888888888,
              "#fdca26"
             ],
             [
              1,
              "#f0f921"
             ]
            ],
            "type": "heatmap"
           }
          ],
          "heatmapgl": [
           {
            "colorbar": {
             "outlinewidth": 0,
             "ticks": ""
            },
            "colorscale": [
             [
              0,
              "#0d0887"
             ],
             [
              0.1111111111111111,
              "#46039f"
             ],
             [
              0.2222222222222222,
              "#7201a8"
             ],
             [
              0.3333333333333333,
              "#9c179e"
             ],
             [
              0.4444444444444444,
              "#bd3786"
             ],
             [
              0.5555555555555556,
              "#d8576b"
             ],
             [
              0.6666666666666666,
              "#ed7953"
             ],
             [
              0.7777777777777778,
              "#fb9f3a"
             ],
             [
              0.8888888888888888,
              "#fdca26"
             ],
             [
              1,
              "#f0f921"
             ]
            ],
            "type": "heatmapgl"
           }
          ],
          "histogram": [
           {
            "marker": {
             "pattern": {
              "fillmode": "overlay",
              "size": 10,
              "solidity": 0.2
             }
            },
            "type": "histogram"
           }
          ],
          "histogram2d": [
           {
            "colorbar": {
             "outlinewidth": 0,
             "ticks": ""
            },
            "colorscale": [
             [
              0,
              "#0d0887"
             ],
             [
              0.1111111111111111,
              "#46039f"
             ],
             [
              0.2222222222222222,
              "#7201a8"
             ],
             [
              0.3333333333333333,
              "#9c179e"
             ],
             [
              0.4444444444444444,
              "#bd3786"
             ],
             [
              0.5555555555555556,
              "#d8576b"
             ],
             [
              0.6666666666666666,
              "#ed7953"
             ],
             [
              0.7777777777777778,
              "#fb9f3a"
             ],
             [
              0.8888888888888888,
              "#fdca26"
             ],
             [
              1,
              "#f0f921"
             ]
            ],
            "type": "histogram2d"
           }
          ],
          "histogram2dcontour": [
           {
            "colorbar": {
             "outlinewidth": 0,
             "ticks": ""
            },
            "colorscale": [
             [
              0,
              "#0d0887"
             ],
             [
              0.1111111111111111,
              "#46039f"
             ],
             [
              0.2222222222222222,
              "#7201a8"
             ],
             [
              0.3333333333333333,
              "#9c179e"
             ],
             [
              0.4444444444444444,
              "#bd3786"
             ],
             [
              0.5555555555555556,
              "#d8576b"
             ],
             [
              0.6666666666666666,
              "#ed7953"
             ],
             [
              0.7777777777777778,
              "#fb9f3a"
             ],
             [
              0.8888888888888888,
              "#fdca26"
             ],
             [
              1,
              "#f0f921"
             ]
            ],
            "type": "histogram2dcontour"
           }
          ],
          "mesh3d": [
           {
            "colorbar": {
             "outlinewidth": 0,
             "ticks": ""
            },
            "type": "mesh3d"
           }
          ],
          "parcoords": [
           {
            "line": {
             "colorbar": {
              "outlinewidth": 0,
              "ticks": ""
             }
            },
            "type": "parcoords"
           }
          ],
          "pie": [
           {
            "automargin": true,
            "type": "pie"
           }
          ],
          "scatter": [
           {
            "fillpattern": {
             "fillmode": "overlay",
             "size": 10,
             "solidity": 0.2
            },
            "type": "scatter"
           }
          ],
          "scatter3d": [
           {
            "line": {
             "colorbar": {
              "outlinewidth": 0,
              "ticks": ""
             }
            },
            "marker": {
             "colorbar": {
              "outlinewidth": 0,
              "ticks": ""
             }
            },
            "type": "scatter3d"
           }
          ],
          "scattercarpet": [
           {
            "marker": {
             "colorbar": {
              "outlinewidth": 0,
              "ticks": ""
             }
            },
            "type": "scattercarpet"
           }
          ],
          "scattergeo": [
           {
            "marker": {
             "colorbar": {
              "outlinewidth": 0,
              "ticks": ""
             }
            },
            "type": "scattergeo"
           }
          ],
          "scattergl": [
           {
            "marker": {
             "colorbar": {
              "outlinewidth": 0,
              "ticks": ""
             }
            },
            "type": "scattergl"
           }
          ],
          "scattermapbox": [
           {
            "marker": {
             "colorbar": {
              "outlinewidth": 0,
              "ticks": ""
             }
            },
            "type": "scattermapbox"
           }
          ],
          "scatterpolar": [
           {
            "marker": {
             "colorbar": {
              "outlinewidth": 0,
              "ticks": ""
             }
            },
            "type": "scatterpolar"
           }
          ],
          "scatterpolargl": [
           {
            "marker": {
             "colorbar": {
              "outlinewidth": 0,
              "ticks": ""
             }
            },
            "type": "scatterpolargl"
           }
          ],
          "scatterternary": [
           {
            "marker": {
             "colorbar": {
              "outlinewidth": 0,
              "ticks": ""
             }
            },
            "type": "scatterternary"
           }
          ],
          "surface": [
           {
            "colorbar": {
             "outlinewidth": 0,
             "ticks": ""
            },
            "colorscale": [
             [
              0,
              "#0d0887"
             ],
             [
              0.1111111111111111,
              "#46039f"
             ],
             [
              0.2222222222222222,
              "#7201a8"
             ],
             [
              0.3333333333333333,
              "#9c179e"
             ],
             [
              0.4444444444444444,
              "#bd3786"
             ],
             [
              0.5555555555555556,
              "#d8576b"
             ],
             [
              0.6666666666666666,
              "#ed7953"
             ],
             [
              0.7777777777777778,
              "#fb9f3a"
             ],
             [
              0.8888888888888888,
              "#fdca26"
             ],
             [
              1,
              "#f0f921"
             ]
            ],
            "type": "surface"
           }
          ],
          "table": [
           {
            "cells": {
             "fill": {
              "color": "#EBF0F8"
             },
             "line": {
              "color": "white"
             }
            },
            "header": {
             "fill": {
              "color": "#C8D4E3"
             },
             "line": {
              "color": "white"
             }
            },
            "type": "table"
           }
          ]
         },
         "layout": {
          "annotationdefaults": {
           "arrowcolor": "#2a3f5f",
           "arrowhead": 0,
           "arrowwidth": 1
          },
          "autotypenumbers": "strict",
          "coloraxis": {
           "colorbar": {
            "outlinewidth": 0,
            "ticks": ""
           }
          },
          "colorscale": {
           "diverging": [
            [
             0,
             "#8e0152"
            ],
            [
             0.1,
             "#c51b7d"
            ],
            [
             0.2,
             "#de77ae"
            ],
            [
             0.3,
             "#f1b6da"
            ],
            [
             0.4,
             "#fde0ef"
            ],
            [
             0.5,
             "#f7f7f7"
            ],
            [
             0.6,
             "#e6f5d0"
            ],
            [
             0.7,
             "#b8e186"
            ],
            [
             0.8,
             "#7fbc41"
            ],
            [
             0.9,
             "#4d9221"
            ],
            [
             1,
             "#276419"
            ]
           ],
           "sequential": [
            [
             0,
             "#0d0887"
            ],
            [
             0.1111111111111111,
             "#46039f"
            ],
            [
             0.2222222222222222,
             "#7201a8"
            ],
            [
             0.3333333333333333,
             "#9c179e"
            ],
            [
             0.4444444444444444,
             "#bd3786"
            ],
            [
             0.5555555555555556,
             "#d8576b"
            ],
            [
             0.6666666666666666,
             "#ed7953"
            ],
            [
             0.7777777777777778,
             "#fb9f3a"
            ],
            [
             0.8888888888888888,
             "#fdca26"
            ],
            [
             1,
             "#f0f921"
            ]
           ],
           "sequentialminus": [
            [
             0,
             "#0d0887"
            ],
            [
             0.1111111111111111,
             "#46039f"
            ],
            [
             0.2222222222222222,
             "#7201a8"
            ],
            [
             0.3333333333333333,
             "#9c179e"
            ],
            [
             0.4444444444444444,
             "#bd3786"
            ],
            [
             0.5555555555555556,
             "#d8576b"
            ],
            [
             0.6666666666666666,
             "#ed7953"
            ],
            [
             0.7777777777777778,
             "#fb9f3a"
            ],
            [
             0.8888888888888888,
             "#fdca26"
            ],
            [
             1,
             "#f0f921"
            ]
           ]
          },
          "colorway": [
           "#636efa",
           "#EF553B",
           "#00cc96",
           "#ab63fa",
           "#FFA15A",
           "#19d3f3",
           "#FF6692",
           "#B6E880",
           "#FF97FF",
           "#FECB52"
          ],
          "font": {
           "color": "#2a3f5f"
          },
          "geo": {
           "bgcolor": "white",
           "lakecolor": "white",
           "landcolor": "#E5ECF6",
           "showlakes": true,
           "showland": true,
           "subunitcolor": "white"
          },
          "hoverlabel": {
           "align": "left"
          },
          "hovermode": "closest",
          "mapbox": {
           "style": "light"
          },
          "paper_bgcolor": "white",
          "plot_bgcolor": "#E5ECF6",
          "polar": {
           "angularaxis": {
            "gridcolor": "white",
            "linecolor": "white",
            "ticks": ""
           },
           "bgcolor": "#E5ECF6",
           "radialaxis": {
            "gridcolor": "white",
            "linecolor": "white",
            "ticks": ""
           }
          },
          "scene": {
           "xaxis": {
            "backgroundcolor": "#E5ECF6",
            "gridcolor": "white",
            "gridwidth": 2,
            "linecolor": "white",
            "showbackground": true,
            "ticks": "",
            "zerolinecolor": "white"
           },
           "yaxis": {
            "backgroundcolor": "#E5ECF6",
            "gridcolor": "white",
            "gridwidth": 2,
            "linecolor": "white",
            "showbackground": true,
            "ticks": "",
            "zerolinecolor": "white"
           },
           "zaxis": {
            "backgroundcolor": "#E5ECF6",
            "gridcolor": "white",
            "gridwidth": 2,
            "linecolor": "white",
            "showbackground": true,
            "ticks": "",
            "zerolinecolor": "white"
           }
          },
          "shapedefaults": {
           "line": {
            "color": "#2a3f5f"
           }
          },
          "ternary": {
           "aaxis": {
            "gridcolor": "white",
            "linecolor": "white",
            "ticks": ""
           },
           "baxis": {
            "gridcolor": "white",
            "linecolor": "white",
            "ticks": ""
           },
           "bgcolor": "#E5ECF6",
           "caxis": {
            "gridcolor": "white",
            "linecolor": "white",
            "ticks": ""
           }
          },
          "title": {
           "x": 0.05
          },
          "xaxis": {
           "automargin": true,
           "gridcolor": "white",
           "linecolor": "white",
           "ticks": "",
           "title": {
            "standoff": 15
           },
           "zerolinecolor": "white",
           "zerolinewidth": 2
          },
          "yaxis": {
           "automargin": true,
           "gridcolor": "white",
           "linecolor": "white",
           "ticks": "",
           "title": {
            "standoff": 15
           },
           "zerolinecolor": "white",
           "zerolinewidth": 2
          }
         }
        },
        "title": {
         "text": "Quantidade de Notas por data de abertura"
        },
        "width": 1200,
        "xaxis": {
         "anchor": "y",
         "domain": [
          0,
          1
         ],
         "title": {
          "text": "x"
         }
        },
        "yaxis": {
         "anchor": "x",
         "domain": [
          0,
          1
         ],
         "title": {
          "text": "y"
         }
        }
       }
      }
     },
     "metadata": {},
     "output_type": "display_data"
    }
   ],
   "source": [
    "df_colh_mec['DATA_NOTA_MES'] = df['DATA_NOTA'].dt.month\n",
    "df_ano_mes = df_colh_mec[df_colh_mec['PERIODO']=='SF 21/22']\n",
    "df_ano_mes = df_ano_mes.groupby(['DATA_NOTA_MES',\n",
    "                                 ]).count()[['NOTA']]\n",
    "df_ano_mes.reset_index(inplace=True)\n",
    "fig = px.line(width=1200,\n",
    "              height=500,\n",
    "              x=df_ano_mes['DATA_NOTA_MES'],\n",
    "              y=df_ano_mes[\"NOTA\"],\n",
    "              title='Quantidade de Notas por data de abertura'\n",
    "              )\n",
    "fig.show()"
   ]
  },
  {
   "cell_type": "code",
   "execution_count": 25,
   "metadata": {},
   "outputs": [
    {
     "data": {
      "application/vnd.plotly.v1+json": {
       "config": {
        "plotlyServerURL": "https://plot.ly"
       },
       "data": [
        {
         "hovertemplate": "color=A<br>x=%{x}<br>y=%{y}<extra></extra>",
         "legendgroup": "A",
         "line": {
          "color": "#636efa",
          "dash": "solid"
         },
         "marker": {
          "symbol": "circle"
         },
         "mode": "lines",
         "name": "A",
         "orientation": "v",
         "showlegend": true,
         "type": "scatter",
         "x": [
          1,
          2,
          3,
          4,
          5,
          6,
          7,
          8,
          9,
          10,
          11,
          12
         ],
         "xaxis": "x",
         "y": [
          2,
          40,
          66,
          70,
          31,
          122,
          95,
          130,
          154,
          75,
          91,
          23
         ],
         "yaxis": "y"
        },
        {
         "hovertemplate": "color=B<br>x=%{x}<br>y=%{y}<extra></extra>",
         "legendgroup": "B",
         "line": {
          "color": "#EF553B",
          "dash": "solid"
         },
         "marker": {
          "symbol": "circle"
         },
         "mode": "lines",
         "name": "B",
         "orientation": "v",
         "showlegend": true,
         "type": "scatter",
         "x": [
          2,
          3,
          4,
          5,
          6,
          7,
          8,
          9,
          10,
          11,
          12
         ],
         "xaxis": "x",
         "y": [
          40,
          86,
          77,
          42,
          105,
          86,
          127,
          112,
          95,
          82,
          18
         ],
         "yaxis": "y"
        },
        {
         "hovertemplate": "color=C<br>x=%{x}<br>y=%{y}<extra></extra>",
         "legendgroup": "C",
         "line": {
          "color": "#00cc96",
          "dash": "solid"
         },
         "marker": {
          "symbol": "circle"
         },
         "mode": "lines",
         "name": "C",
         "orientation": "v",
         "showlegend": true,
         "type": "scatter",
         "x": [
          2,
          3,
          4,
          5,
          6,
          7,
          8,
          9,
          10,
          11,
          12
         ],
         "xaxis": "x",
         "y": [
          23,
          37,
          40,
          26,
          69,
          73,
          74,
          76,
          38,
          42,
          4
         ],
         "yaxis": "y"
        }
       ],
       "layout": {
        "height": 500,
        "legend": {
         "title": {
          "text": "color"
         },
         "tracegroupgap": 0
        },
        "template": {
         "data": {
          "bar": [
           {
            "error_x": {
             "color": "#2a3f5f"
            },
            "error_y": {
             "color": "#2a3f5f"
            },
            "marker": {
             "line": {
              "color": "#E5ECF6",
              "width": 0.5
             },
             "pattern": {
              "fillmode": "overlay",
              "size": 10,
              "solidity": 0.2
             }
            },
            "type": "bar"
           }
          ],
          "barpolar": [
           {
            "marker": {
             "line": {
              "color": "#E5ECF6",
              "width": 0.5
             },
             "pattern": {
              "fillmode": "overlay",
              "size": 10,
              "solidity": 0.2
             }
            },
            "type": "barpolar"
           }
          ],
          "carpet": [
           {
            "aaxis": {
             "endlinecolor": "#2a3f5f",
             "gridcolor": "white",
             "linecolor": "white",
             "minorgridcolor": "white",
             "startlinecolor": "#2a3f5f"
            },
            "baxis": {
             "endlinecolor": "#2a3f5f",
             "gridcolor": "white",
             "linecolor": "white",
             "minorgridcolor": "white",
             "startlinecolor": "#2a3f5f"
            },
            "type": "carpet"
           }
          ],
          "choropleth": [
           {
            "colorbar": {
             "outlinewidth": 0,
             "ticks": ""
            },
            "type": "choropleth"
           }
          ],
          "contour": [
           {
            "colorbar": {
             "outlinewidth": 0,
             "ticks": ""
            },
            "colorscale": [
             [
              0,
              "#0d0887"
             ],
             [
              0.1111111111111111,
              "#46039f"
             ],
             [
              0.2222222222222222,
              "#7201a8"
             ],
             [
              0.3333333333333333,
              "#9c179e"
             ],
             [
              0.4444444444444444,
              "#bd3786"
             ],
             [
              0.5555555555555556,
              "#d8576b"
             ],
             [
              0.6666666666666666,
              "#ed7953"
             ],
             [
              0.7777777777777778,
              "#fb9f3a"
             ],
             [
              0.8888888888888888,
              "#fdca26"
             ],
             [
              1,
              "#f0f921"
             ]
            ],
            "type": "contour"
           }
          ],
          "contourcarpet": [
           {
            "colorbar": {
             "outlinewidth": 0,
             "ticks": ""
            },
            "type": "contourcarpet"
           }
          ],
          "heatmap": [
           {
            "colorbar": {
             "outlinewidth": 0,
             "ticks": ""
            },
            "colorscale": [
             [
              0,
              "#0d0887"
             ],
             [
              0.1111111111111111,
              "#46039f"
             ],
             [
              0.2222222222222222,
              "#7201a8"
             ],
             [
              0.3333333333333333,
              "#9c179e"
             ],
             [
              0.4444444444444444,
              "#bd3786"
             ],
             [
              0.5555555555555556,
              "#d8576b"
             ],
             [
              0.6666666666666666,
              "#ed7953"
             ],
             [
              0.7777777777777778,
              "#fb9f3a"
             ],
             [
              0.8888888888888888,
              "#fdca26"
             ],
             [
              1,
              "#f0f921"
             ]
            ],
            "type": "heatmap"
           }
          ],
          "heatmapgl": [
           {
            "colorbar": {
             "outlinewidth": 0,
             "ticks": ""
            },
            "colorscale": [
             [
              0,
              "#0d0887"
             ],
             [
              0.1111111111111111,
              "#46039f"
             ],
             [
              0.2222222222222222,
              "#7201a8"
             ],
             [
              0.3333333333333333,
              "#9c179e"
             ],
             [
              0.4444444444444444,
              "#bd3786"
             ],
             [
              0.5555555555555556,
              "#d8576b"
             ],
             [
              0.6666666666666666,
              "#ed7953"
             ],
             [
              0.7777777777777778,
              "#fb9f3a"
             ],
             [
              0.8888888888888888,
              "#fdca26"
             ],
             [
              1,
              "#f0f921"
             ]
            ],
            "type": "heatmapgl"
           }
          ],
          "histogram": [
           {
            "marker": {
             "pattern": {
              "fillmode": "overlay",
              "size": 10,
              "solidity": 0.2
             }
            },
            "type": "histogram"
           }
          ],
          "histogram2d": [
           {
            "colorbar": {
             "outlinewidth": 0,
             "ticks": ""
            },
            "colorscale": [
             [
              0,
              "#0d0887"
             ],
             [
              0.1111111111111111,
              "#46039f"
             ],
             [
              0.2222222222222222,
              "#7201a8"
             ],
             [
              0.3333333333333333,
              "#9c179e"
             ],
             [
              0.4444444444444444,
              "#bd3786"
             ],
             [
              0.5555555555555556,
              "#d8576b"
             ],
             [
              0.6666666666666666,
              "#ed7953"
             ],
             [
              0.7777777777777778,
              "#fb9f3a"
             ],
             [
              0.8888888888888888,
              "#fdca26"
             ],
             [
              1,
              "#f0f921"
             ]
            ],
            "type": "histogram2d"
           }
          ],
          "histogram2dcontour": [
           {
            "colorbar": {
             "outlinewidth": 0,
             "ticks": ""
            },
            "colorscale": [
             [
              0,
              "#0d0887"
             ],
             [
              0.1111111111111111,
              "#46039f"
             ],
             [
              0.2222222222222222,
              "#7201a8"
             ],
             [
              0.3333333333333333,
              "#9c179e"
             ],
             [
              0.4444444444444444,
              "#bd3786"
             ],
             [
              0.5555555555555556,
              "#d8576b"
             ],
             [
              0.6666666666666666,
              "#ed7953"
             ],
             [
              0.7777777777777778,
              "#fb9f3a"
             ],
             [
              0.8888888888888888,
              "#fdca26"
             ],
             [
              1,
              "#f0f921"
             ]
            ],
            "type": "histogram2dcontour"
           }
          ],
          "mesh3d": [
           {
            "colorbar": {
             "outlinewidth": 0,
             "ticks": ""
            },
            "type": "mesh3d"
           }
          ],
          "parcoords": [
           {
            "line": {
             "colorbar": {
              "outlinewidth": 0,
              "ticks": ""
             }
            },
            "type": "parcoords"
           }
          ],
          "pie": [
           {
            "automargin": true,
            "type": "pie"
           }
          ],
          "scatter": [
           {
            "fillpattern": {
             "fillmode": "overlay",
             "size": 10,
             "solidity": 0.2
            },
            "type": "scatter"
           }
          ],
          "scatter3d": [
           {
            "line": {
             "colorbar": {
              "outlinewidth": 0,
              "ticks": ""
             }
            },
            "marker": {
             "colorbar": {
              "outlinewidth": 0,
              "ticks": ""
             }
            },
            "type": "scatter3d"
           }
          ],
          "scattercarpet": [
           {
            "marker": {
             "colorbar": {
              "outlinewidth": 0,
              "ticks": ""
             }
            },
            "type": "scattercarpet"
           }
          ],
          "scattergeo": [
           {
            "marker": {
             "colorbar": {
              "outlinewidth": 0,
              "ticks": ""
             }
            },
            "type": "scattergeo"
           }
          ],
          "scattergl": [
           {
            "marker": {
             "colorbar": {
              "outlinewidth": 0,
              "ticks": ""
             }
            },
            "type": "scattergl"
           }
          ],
          "scattermapbox": [
           {
            "marker": {
             "colorbar": {
              "outlinewidth": 0,
              "ticks": ""
             }
            },
            "type": "scattermapbox"
           }
          ],
          "scatterpolar": [
           {
            "marker": {
             "colorbar": {
              "outlinewidth": 0,
              "ticks": ""
             }
            },
            "type": "scatterpolar"
           }
          ],
          "scatterpolargl": [
           {
            "marker": {
             "colorbar": {
              "outlinewidth": 0,
              "ticks": ""
             }
            },
            "type": "scatterpolargl"
           }
          ],
          "scatterternary": [
           {
            "marker": {
             "colorbar": {
              "outlinewidth": 0,
              "ticks": ""
             }
            },
            "type": "scatterternary"
           }
          ],
          "surface": [
           {
            "colorbar": {
             "outlinewidth": 0,
             "ticks": ""
            },
            "colorscale": [
             [
              0,
              "#0d0887"
             ],
             [
              0.1111111111111111,
              "#46039f"
             ],
             [
              0.2222222222222222,
              "#7201a8"
             ],
             [
              0.3333333333333333,
              "#9c179e"
             ],
             [
              0.4444444444444444,
              "#bd3786"
             ],
             [
              0.5555555555555556,
              "#d8576b"
             ],
             [
              0.6666666666666666,
              "#ed7953"
             ],
             [
              0.7777777777777778,
              "#fb9f3a"
             ],
             [
              0.8888888888888888,
              "#fdca26"
             ],
             [
              1,
              "#f0f921"
             ]
            ],
            "type": "surface"
           }
          ],
          "table": [
           {
            "cells": {
             "fill": {
              "color": "#EBF0F8"
             },
             "line": {
              "color": "white"
             }
            },
            "header": {
             "fill": {
              "color": "#C8D4E3"
             },
             "line": {
              "color": "white"
             }
            },
            "type": "table"
           }
          ]
         },
         "layout": {
          "annotationdefaults": {
           "arrowcolor": "#2a3f5f",
           "arrowhead": 0,
           "arrowwidth": 1
          },
          "autotypenumbers": "strict",
          "coloraxis": {
           "colorbar": {
            "outlinewidth": 0,
            "ticks": ""
           }
          },
          "colorscale": {
           "diverging": [
            [
             0,
             "#8e0152"
            ],
            [
             0.1,
             "#c51b7d"
            ],
            [
             0.2,
             "#de77ae"
            ],
            [
             0.3,
             "#f1b6da"
            ],
            [
             0.4,
             "#fde0ef"
            ],
            [
             0.5,
             "#f7f7f7"
            ],
            [
             0.6,
             "#e6f5d0"
            ],
            [
             0.7,
             "#b8e186"
            ],
            [
             0.8,
             "#7fbc41"
            ],
            [
             0.9,
             "#4d9221"
            ],
            [
             1,
             "#276419"
            ]
           ],
           "sequential": [
            [
             0,
             "#0d0887"
            ],
            [
             0.1111111111111111,
             "#46039f"
            ],
            [
             0.2222222222222222,
             "#7201a8"
            ],
            [
             0.3333333333333333,
             "#9c179e"
            ],
            [
             0.4444444444444444,
             "#bd3786"
            ],
            [
             0.5555555555555556,
             "#d8576b"
            ],
            [
             0.6666666666666666,
             "#ed7953"
            ],
            [
             0.7777777777777778,
             "#fb9f3a"
            ],
            [
             0.8888888888888888,
             "#fdca26"
            ],
            [
             1,
             "#f0f921"
            ]
           ],
           "sequentialminus": [
            [
             0,
             "#0d0887"
            ],
            [
             0.1111111111111111,
             "#46039f"
            ],
            [
             0.2222222222222222,
             "#7201a8"
            ],
            [
             0.3333333333333333,
             "#9c179e"
            ],
            [
             0.4444444444444444,
             "#bd3786"
            ],
            [
             0.5555555555555556,
             "#d8576b"
            ],
            [
             0.6666666666666666,
             "#ed7953"
            ],
            [
             0.7777777777777778,
             "#fb9f3a"
            ],
            [
             0.8888888888888888,
             "#fdca26"
            ],
            [
             1,
             "#f0f921"
            ]
           ]
          },
          "colorway": [
           "#636efa",
           "#EF553B",
           "#00cc96",
           "#ab63fa",
           "#FFA15A",
           "#19d3f3",
           "#FF6692",
           "#B6E880",
           "#FF97FF",
           "#FECB52"
          ],
          "font": {
           "color": "#2a3f5f"
          },
          "geo": {
           "bgcolor": "white",
           "lakecolor": "white",
           "landcolor": "#E5ECF6",
           "showlakes": true,
           "showland": true,
           "subunitcolor": "white"
          },
          "hoverlabel": {
           "align": "left"
          },
          "hovermode": "closest",
          "mapbox": {
           "style": "light"
          },
          "paper_bgcolor": "white",
          "plot_bgcolor": "#E5ECF6",
          "polar": {
           "angularaxis": {
            "gridcolor": "white",
            "linecolor": "white",
            "ticks": ""
           },
           "bgcolor": "#E5ECF6",
           "radialaxis": {
            "gridcolor": "white",
            "linecolor": "white",
            "ticks": ""
           }
          },
          "scene": {
           "xaxis": {
            "backgroundcolor": "#E5ECF6",
            "gridcolor": "white",
            "gridwidth": 2,
            "linecolor": "white",
            "showbackground": true,
            "ticks": "",
            "zerolinecolor": "white"
           },
           "yaxis": {
            "backgroundcolor": "#E5ECF6",
            "gridcolor": "white",
            "gridwidth": 2,
            "linecolor": "white",
            "showbackground": true,
            "ticks": "",
            "zerolinecolor": "white"
           },
           "zaxis": {
            "backgroundcolor": "#E5ECF6",
            "gridcolor": "white",
            "gridwidth": 2,
            "linecolor": "white",
            "showbackground": true,
            "ticks": "",
            "zerolinecolor": "white"
           }
          },
          "shapedefaults": {
           "line": {
            "color": "#2a3f5f"
           }
          },
          "ternary": {
           "aaxis": {
            "gridcolor": "white",
            "linecolor": "white",
            "ticks": ""
           },
           "baxis": {
            "gridcolor": "white",
            "linecolor": "white",
            "ticks": ""
           },
           "bgcolor": "#E5ECF6",
           "caxis": {
            "gridcolor": "white",
            "linecolor": "white",
            "ticks": ""
           }
          },
          "title": {
           "x": 0.05
          },
          "xaxis": {
           "automargin": true,
           "gridcolor": "white",
           "linecolor": "white",
           "ticks": "",
           "title": {
            "standoff": 15
           },
           "zerolinecolor": "white",
           "zerolinewidth": 2
          },
          "yaxis": {
           "automargin": true,
           "gridcolor": "white",
           "linecolor": "white",
           "ticks": "",
           "title": {
            "standoff": 15
           },
           "zerolinecolor": "white",
           "zerolinewidth": 2
          }
         }
        },
        "title": {
         "text": "Quantidade de Notas por Período E Turno"
        },
        "width": 1200,
        "xaxis": {
         "anchor": "y",
         "domain": [
          0,
          1
         ],
         "title": {
          "text": "x"
         }
        },
        "yaxis": {
         "anchor": "x",
         "domain": [
          0,
          1
         ],
         "title": {
          "text": "y"
         }
        }
       }
      }
     },
     "metadata": {},
     "output_type": "display_data"
    }
   ],
   "source": [
    "df_ano_mes = df_colh_mec[df_colh_mec['PERIODO']=='SF 21/22']\n",
    "df_ano_mes = df_ano_mes.groupby(['DATA_NOTA_MES',\n",
    "                                 'TURNO1'\n",
    "                                 ]).count()[['NOTA']]\n",
    "df_ano_mes.reset_index(inplace=True)\n",
    "fig = px.line(width=1200,\n",
    "              height=500,\n",
    "              x=df_ano_mes['DATA_NOTA_MES'],\n",
    "              color=df_ano_mes['TURNO1'],\n",
    "              y=df_ano_mes[\"NOTA\"],\n",
    "              title='Quantidade de Notas por Período E Turno')\n",
    "fig.show()"
   ]
  },
  {
   "cell_type": "code",
   "execution_count": 26,
   "metadata": {},
   "outputs": [
    {
     "data": {
      "application/vnd.plotly.v1+json": {
       "config": {
        "plotlyServerURL": "https://plot.ly"
       },
       "data": [
        {
         "hovertemplate": "color=400069<br>x=%{x}<br>y=%{y}<extra></extra>",
         "legendgroup": "400069",
         "line": {
          "color": "#636efa",
          "dash": "solid"
         },
         "marker": {
          "symbol": "circle"
         },
         "mode": "lines",
         "name": "400069",
         "orientation": "v",
         "showlegend": true,
         "type": "scatter",
         "x": [
          1,
          3,
          4,
          5,
          6,
          11,
          12
         ],
         "xaxis": "x",
         "y": [
          1,
          9,
          15,
          6,
          17,
          6,
          3
         ],
         "yaxis": "y"
        },
        {
         "hovertemplate": "color=400101<br>x=%{x}<br>y=%{y}<extra></extra>",
         "legendgroup": "400101",
         "line": {
          "color": "#EF553B",
          "dash": "solid"
         },
         "marker": {
          "symbol": "circle"
         },
         "mode": "lines",
         "name": "400101",
         "orientation": "v",
         "showlegend": true,
         "type": "scatter",
         "x": [
          1,
          2,
          3,
          4,
          5,
          6,
          7,
          8,
          9,
          10,
          11,
          12
         ],
         "xaxis": "x",
         "y": [
          1,
          3,
          12,
          12,
          4,
          14,
          9,
          22,
          19,
          7,
          10,
          2
         ],
         "yaxis": "y"
        },
        {
         "hovertemplate": "color=400067<br>x=%{x}<br>y=%{y}<extra></extra>",
         "legendgroup": "400067",
         "line": {
          "color": "#00cc96",
          "dash": "solid"
         },
         "marker": {
          "symbol": "circle"
         },
         "mode": "lines",
         "name": "400067",
         "orientation": "v",
         "showlegend": true,
         "type": "scatter",
         "x": [
          2,
          3,
          4,
          5,
          6,
          7,
          8,
          9,
          10,
          11,
          12
         ],
         "xaxis": "x",
         "y": [
          4,
          12,
          7,
          2,
          26,
          1,
          21,
          24,
          10,
          13,
          2
         ],
         "yaxis": "y"
        },
        {
         "hovertemplate": "color=400068<br>x=%{x}<br>y=%{y}<extra></extra>",
         "legendgroup": "400068",
         "line": {
          "color": "#ab63fa",
          "dash": "solid"
         },
         "marker": {
          "symbol": "circle"
         },
         "mode": "lines",
         "name": "400068",
         "orientation": "v",
         "showlegend": true,
         "type": "scatter",
         "x": [
          2,
          3,
          4,
          5,
          6,
          7,
          8,
          9,
          10,
          11,
          12
         ],
         "xaxis": "x",
         "y": [
          5,
          9,
          13,
          5,
          17,
          20,
          13,
          18,
          9,
          9,
          1
         ],
         "yaxis": "y"
        },
        {
         "hovertemplate": "color=400070<br>x=%{x}<br>y=%{y}<extra></extra>",
         "legendgroup": "400070",
         "line": {
          "color": "#FFA15A",
          "dash": "solid"
         },
         "marker": {
          "symbol": "circle"
         },
         "mode": "lines",
         "name": "400070",
         "orientation": "v",
         "showlegend": true,
         "type": "scatter",
         "x": [
          2,
          3,
          4,
          5,
          6,
          7,
          8,
          9,
          10,
          11,
          12
         ],
         "xaxis": "x",
         "y": [
          7,
          9,
          13,
          9,
          11,
          17,
          19,
          10,
          15,
          15,
          6
         ],
         "yaxis": "y"
        },
        {
         "hovertemplate": "color=400082<br>x=%{x}<br>y=%{y}<extra></extra>",
         "legendgroup": "400082",
         "line": {
          "color": "#19d3f3",
          "dash": "solid"
         },
         "marker": {
          "symbol": "circle"
         },
         "mode": "lines",
         "name": "400082",
         "orientation": "v",
         "showlegend": true,
         "type": "scatter",
         "x": [
          2,
          3,
          4,
          5,
          6,
          7,
          8,
          10,
          11
         ],
         "xaxis": "x",
         "y": [
          7,
          9,
          14,
          4,
          16,
          14,
          14,
          7,
          4
         ],
         "yaxis": "y"
        },
        {
         "hovertemplate": "color=400083<br>x=%{x}<br>y=%{y}<extra></extra>",
         "legendgroup": "400083",
         "line": {
          "color": "#FF6692",
          "dash": "solid"
         },
         "marker": {
          "symbol": "circle"
         },
         "mode": "lines",
         "name": "400083",
         "orientation": "v",
         "showlegend": true,
         "type": "scatter",
         "x": [
          2,
          3,
          4,
          5,
          6,
          7,
          8,
          9,
          10,
          11,
          12
         ],
         "xaxis": "x",
         "y": [
          7,
          10,
          11,
          8,
          17,
          10,
          15,
          29,
          17,
          16,
          5
         ],
         "yaxis": "y"
        },
        {
         "hovertemplate": "color=400084<br>x=%{x}<br>y=%{y}<extra></extra>",
         "legendgroup": "400084",
         "line": {
          "color": "#B6E880",
          "dash": "solid"
         },
         "marker": {
          "symbol": "circle"
         },
         "mode": "lines",
         "name": "400084",
         "orientation": "v",
         "showlegend": true,
         "type": "scatter",
         "x": [
          2,
          3,
          4,
          5,
          6,
          7,
          8,
          9,
          10,
          11,
          12
         ],
         "xaxis": "x",
         "y": [
          6,
          10,
          3,
          3,
          11,
          13,
          13,
          19,
          16,
          11,
          2
         ],
         "yaxis": "y"
        },
        {
         "hovertemplate": "color=400085<br>x=%{x}<br>y=%{y}<extra></extra>",
         "legendgroup": "400085",
         "line": {
          "color": "#FF97FF",
          "dash": "solid"
         },
         "marker": {
          "symbol": "circle"
         },
         "mode": "lines",
         "name": "400085",
         "orientation": "v",
         "showlegend": true,
         "type": "scatter",
         "x": [
          2,
          3,
          4,
          5,
          6,
          7,
          8,
          9,
          10,
          11
         ],
         "xaxis": "x",
         "y": [
          7,
          11,
          8,
          8,
          18,
          19,
          20,
          23,
          13,
          5
         ],
         "yaxis": "y"
        },
        {
         "hovertemplate": "color=400098<br>x=%{x}<br>y=%{y}<extra></extra>",
         "legendgroup": "400098",
         "line": {
          "color": "#FECB52",
          "dash": "solid"
         },
         "marker": {
          "symbol": "circle"
         },
         "mode": "lines",
         "name": "400098",
         "orientation": "v",
         "showlegend": true,
         "type": "scatter",
         "x": [
          2,
          3,
          4,
          5,
          6,
          7,
          8,
          9,
          10,
          11,
          12
         ],
         "xaxis": "x",
         "y": [
          6,
          8,
          9,
          5,
          12,
          17,
          11,
          18,
          11,
          24,
          2
         ],
         "yaxis": "y"
        },
        {
         "hovertemplate": "color=400099<br>x=%{x}<br>y=%{y}<extra></extra>",
         "legendgroup": "400099",
         "line": {
          "color": "#636efa",
          "dash": "solid"
         },
         "marker": {
          "symbol": "circle"
         },
         "mode": "lines",
         "name": "400099",
         "orientation": "v",
         "showlegend": true,
         "type": "scatter",
         "x": [
          2,
          3,
          4,
          5,
          6,
          7,
          8,
          9,
          10,
          11,
          12
         ],
         "xaxis": "x",
         "y": [
          4,
          11,
          10,
          6,
          10,
          6,
          23,
          11,
          15,
          15,
          2
         ],
         "yaxis": "y"
        },
        {
         "hovertemplate": "color=400100<br>x=%{x}<br>y=%{y}<extra></extra>",
         "legendgroup": "400100",
         "line": {
          "color": "#EF553B",
          "dash": "solid"
         },
         "marker": {
          "symbol": "circle"
         },
         "mode": "lines",
         "name": "400100",
         "orientation": "v",
         "showlegend": true,
         "type": "scatter",
         "x": [
          2,
          3,
          4,
          5,
          6,
          7,
          8,
          9,
          10,
          11,
          12
         ],
         "xaxis": "x",
         "y": [
          2,
          10,
          10,
          4,
          6,
          17,
          12,
          15,
          7,
          19,
          3
         ],
         "yaxis": "y"
        },
        {
         "hovertemplate": "color=400108<br>x=%{x}<br>y=%{y}<extra></extra>",
         "legendgroup": "400108",
         "line": {
          "color": "#00cc96",
          "dash": "solid"
         },
         "marker": {
          "symbol": "circle"
         },
         "mode": "lines",
         "name": "400108",
         "orientation": "v",
         "showlegend": true,
         "type": "scatter",
         "x": [
          2,
          3,
          4,
          5,
          6,
          7,
          8,
          9,
          10,
          11
         ],
         "xaxis": "x",
         "y": [
          1,
          5,
          2,
          5,
          9,
          9,
          11,
          10,
          2,
          3
         ],
         "yaxis": "y"
        },
        {
         "hovertemplate": "color=400109<br>x=%{x}<br>y=%{y}<extra></extra>",
         "legendgroup": "400109",
         "line": {
          "color": "#ab63fa",
          "dash": "solid"
         },
         "marker": {
          "symbol": "circle"
         },
         "mode": "lines",
         "name": "400109",
         "orientation": "v",
         "showlegend": true,
         "type": "scatter",
         "x": [
          2,
          3,
          4,
          5,
          6,
          7,
          8,
          9,
          10,
          11,
          12
         ],
         "xaxis": "x",
         "y": [
          3,
          5,
          2,
          1,
          14,
          11,
          11,
          17,
          11,
          3,
          1
         ],
         "yaxis": "y"
        },
        {
         "hovertemplate": "color=400110<br>x=%{x}<br>y=%{y}<extra></extra>",
         "legendgroup": "400110",
         "line": {
          "color": "#FFA15A",
          "dash": "solid"
         },
         "marker": {
          "symbol": "circle"
         },
         "mode": "lines",
         "name": "400110",
         "orientation": "v",
         "showlegend": true,
         "type": "scatter",
         "x": [
          2,
          3,
          4,
          5,
          6,
          7,
          8,
          9,
          10,
          11,
          12
         ],
         "xaxis": "x",
         "y": [
          8,
          5,
          1,
          1,
          6,
          5,
          11,
          14,
          5,
          8,
          1
         ],
         "yaxis": "y"
        },
        {
         "hovertemplate": "color=400111<br>x=%{x}<br>y=%{y}<extra></extra>",
         "legendgroup": "400111",
         "line": {
          "color": "#19d3f3",
          "dash": "solid"
         },
         "marker": {
          "symbol": "circle"
         },
         "mode": "lines",
         "name": "400111",
         "orientation": "v",
         "showlegend": true,
         "type": "scatter",
         "x": [
          2,
          3,
          4,
          5,
          6,
          7,
          8,
          9,
          10,
          11,
          12
         ],
         "xaxis": "x",
         "y": [
          4,
          5,
          5,
          3,
          10,
          7,
          6,
          11,
          10,
          11,
          2
         ],
         "yaxis": "y"
        },
        {
         "hovertemplate": "color=400112<br>x=%{x}<br>y=%{y}<extra></extra>",
         "legendgroup": "400112",
         "line": {
          "color": "#FF6692",
          "dash": "solid"
         },
         "marker": {
          "symbol": "circle"
         },
         "mode": "lines",
         "name": "400112",
         "orientation": "v",
         "showlegend": true,
         "type": "scatter",
         "x": [
          2,
          3,
          4,
          5,
          6,
          7,
          8,
          9,
          10,
          11,
          12
         ],
         "xaxis": "x",
         "y": [
          2,
          6,
          3,
          5,
          8,
          6,
          19,
          12,
          7,
          7,
          1
         ],
         "yaxis": "y"
        },
        {
         "hovertemplate": "color=400113<br>x=%{x}<br>y=%{y}<extra></extra>",
         "legendgroup": "400113",
         "line": {
          "color": "#B6E880",
          "dash": "solid"
         },
         "marker": {
          "symbol": "circle"
         },
         "mode": "lines",
         "name": "400113",
         "orientation": "v",
         "showlegend": true,
         "type": "scatter",
         "x": [
          2,
          3,
          4,
          5,
          6,
          7,
          8,
          9,
          10,
          11
         ],
         "xaxis": "x",
         "y": [
          3,
          4,
          8,
          4,
          17,
          11,
          17,
          17,
          6,
          8
         ],
         "yaxis": "y"
        },
        {
         "hovertemplate": "color=400114<br>x=%{x}<br>y=%{y}<extra></extra>",
         "legendgroup": "400114",
         "line": {
          "color": "#FF97FF",
          "dash": "solid"
         },
         "marker": {
          "symbol": "circle"
         },
         "mode": "lines",
         "name": "400114",
         "orientation": "v",
         "showlegend": true,
         "type": "scatter",
         "x": [
          2,
          3,
          4,
          5,
          6,
          7,
          8,
          9,
          10,
          11,
          12
         ],
         "xaxis": "x",
         "y": [
          3,
          4,
          5,
          1,
          13,
          16,
          18,
          16,
          10,
          8,
          2
         ],
         "yaxis": "y"
        },
        {
         "hovertemplate": "color=400115<br>x=%{x}<br>y=%{y}<extra></extra>",
         "legendgroup": "400115",
         "line": {
          "color": "#FECB52",
          "dash": "solid"
         },
         "marker": {
          "symbol": "circle"
         },
         "mode": "lines",
         "name": "400115",
         "orientation": "v",
         "showlegend": true,
         "type": "scatter",
         "x": [
          2,
          3,
          4,
          5,
          6,
          7,
          8,
          9,
          10,
          11,
          12
         ],
         "xaxis": "x",
         "y": [
          8,
          10,
          7,
          4,
          6,
          11,
          17,
          11,
          7,
          4,
          2
         ],
         "yaxis": "y"
        },
        {
         "hovertemplate": "color=400116<br>x=%{x}<br>y=%{y}<extra></extra>",
         "legendgroup": "400116",
         "line": {
          "color": "#636efa",
          "dash": "solid"
         },
         "marker": {
          "symbol": "circle"
         },
         "mode": "lines",
         "name": "400116",
         "orientation": "v",
         "showlegend": true,
         "type": "scatter",
         "x": [
          2,
          3,
          4,
          5,
          6,
          7,
          8,
          9,
          10,
          11,
          12
         ],
         "xaxis": "x",
         "y": [
          3,
          8,
          10,
          3,
          18,
          10,
          14,
          20,
          6,
          3,
          4
         ],
         "yaxis": "y"
        },
        {
         "hovertemplate": "color=400117<br>x=%{x}<br>y=%{y}<extra></extra>",
         "legendgroup": "400117",
         "line": {
          "color": "#EF553B",
          "dash": "solid"
         },
         "marker": {
          "symbol": "circle"
         },
         "mode": "lines",
         "name": "400117",
         "orientation": "v",
         "showlegend": true,
         "type": "scatter",
         "x": [
          2,
          3,
          4,
          5,
          6,
          7,
          8,
          9,
          10,
          11,
          12
         ],
         "xaxis": "x",
         "y": [
          4,
          5,
          7,
          3,
          10,
          13,
          12,
          14,
          13,
          6,
          1
         ],
         "yaxis": "y"
        },
        {
         "hovertemplate": "color=400118<br>x=%{x}<br>y=%{y}<extra></extra>",
         "legendgroup": "400118",
         "line": {
          "color": "#00cc96",
          "dash": "solid"
         },
         "marker": {
          "symbol": "circle"
         },
         "mode": "lines",
         "name": "400118",
         "orientation": "v",
         "showlegend": true,
         "type": "scatter",
         "x": [
          2,
          3,
          4,
          5,
          6,
          7,
          8,
          9,
          10,
          11,
          12
         ],
         "xaxis": "x",
         "y": [
          6,
          12,
          12,
          5,
          10,
          12,
          12,
          14,
          4,
          7,
          3
         ],
         "yaxis": "y"
        }
       ],
       "layout": {
        "height": 500,
        "legend": {
         "title": {
          "text": "color"
         },
         "tracegroupgap": 0
        },
        "template": {
         "data": {
          "bar": [
           {
            "error_x": {
             "color": "#2a3f5f"
            },
            "error_y": {
             "color": "#2a3f5f"
            },
            "marker": {
             "line": {
              "color": "#E5ECF6",
              "width": 0.5
             },
             "pattern": {
              "fillmode": "overlay",
              "size": 10,
              "solidity": 0.2
             }
            },
            "type": "bar"
           }
          ],
          "barpolar": [
           {
            "marker": {
             "line": {
              "color": "#E5ECF6",
              "width": 0.5
             },
             "pattern": {
              "fillmode": "overlay",
              "size": 10,
              "solidity": 0.2
             }
            },
            "type": "barpolar"
           }
          ],
          "carpet": [
           {
            "aaxis": {
             "endlinecolor": "#2a3f5f",
             "gridcolor": "white",
             "linecolor": "white",
             "minorgridcolor": "white",
             "startlinecolor": "#2a3f5f"
            },
            "baxis": {
             "endlinecolor": "#2a3f5f",
             "gridcolor": "white",
             "linecolor": "white",
             "minorgridcolor": "white",
             "startlinecolor": "#2a3f5f"
            },
            "type": "carpet"
           }
          ],
          "choropleth": [
           {
            "colorbar": {
             "outlinewidth": 0,
             "ticks": ""
            },
            "type": "choropleth"
           }
          ],
          "contour": [
           {
            "colorbar": {
             "outlinewidth": 0,
             "ticks": ""
            },
            "colorscale": [
             [
              0,
              "#0d0887"
             ],
             [
              0.1111111111111111,
              "#46039f"
             ],
             [
              0.2222222222222222,
              "#7201a8"
             ],
             [
              0.3333333333333333,
              "#9c179e"
             ],
             [
              0.4444444444444444,
              "#bd3786"
             ],
             [
              0.5555555555555556,
              "#d8576b"
             ],
             [
              0.6666666666666666,
              "#ed7953"
             ],
             [
              0.7777777777777778,
              "#fb9f3a"
             ],
             [
              0.8888888888888888,
              "#fdca26"
             ],
             [
              1,
              "#f0f921"
             ]
            ],
            "type": "contour"
           }
          ],
          "contourcarpet": [
           {
            "colorbar": {
             "outlinewidth": 0,
             "ticks": ""
            },
            "type": "contourcarpet"
           }
          ],
          "heatmap": [
           {
            "colorbar": {
             "outlinewidth": 0,
             "ticks": ""
            },
            "colorscale": [
             [
              0,
              "#0d0887"
             ],
             [
              0.1111111111111111,
              "#46039f"
             ],
             [
              0.2222222222222222,
              "#7201a8"
             ],
             [
              0.3333333333333333,
              "#9c179e"
             ],
             [
              0.4444444444444444,
              "#bd3786"
             ],
             [
              0.5555555555555556,
              "#d8576b"
             ],
             [
              0.6666666666666666,
              "#ed7953"
             ],
             [
              0.7777777777777778,
              "#fb9f3a"
             ],
             [
              0.8888888888888888,
              "#fdca26"
             ],
             [
              1,
              "#f0f921"
             ]
            ],
            "type": "heatmap"
           }
          ],
          "heatmapgl": [
           {
            "colorbar": {
             "outlinewidth": 0,
             "ticks": ""
            },
            "colorscale": [
             [
              0,
              "#0d0887"
             ],
             [
              0.1111111111111111,
              "#46039f"
             ],
             [
              0.2222222222222222,
              "#7201a8"
             ],
             [
              0.3333333333333333,
              "#9c179e"
             ],
             [
              0.4444444444444444,
              "#bd3786"
             ],
             [
              0.5555555555555556,
              "#d8576b"
             ],
             [
              0.6666666666666666,
              "#ed7953"
             ],
             [
              0.7777777777777778,
              "#fb9f3a"
             ],
             [
              0.8888888888888888,
              "#fdca26"
             ],
             [
              1,
              "#f0f921"
             ]
            ],
            "type": "heatmapgl"
           }
          ],
          "histogram": [
           {
            "marker": {
             "pattern": {
              "fillmode": "overlay",
              "size": 10,
              "solidity": 0.2
             }
            },
            "type": "histogram"
           }
          ],
          "histogram2d": [
           {
            "colorbar": {
             "outlinewidth": 0,
             "ticks": ""
            },
            "colorscale": [
             [
              0,
              "#0d0887"
             ],
             [
              0.1111111111111111,
              "#46039f"
             ],
             [
              0.2222222222222222,
              "#7201a8"
             ],
             [
              0.3333333333333333,
              "#9c179e"
             ],
             [
              0.4444444444444444,
              "#bd3786"
             ],
             [
              0.5555555555555556,
              "#d8576b"
             ],
             [
              0.6666666666666666,
              "#ed7953"
             ],
             [
              0.7777777777777778,
              "#fb9f3a"
             ],
             [
              0.8888888888888888,
              "#fdca26"
             ],
             [
              1,
              "#f0f921"
             ]
            ],
            "type": "histogram2d"
           }
          ],
          "histogram2dcontour": [
           {
            "colorbar": {
             "outlinewidth": 0,
             "ticks": ""
            },
            "colorscale": [
             [
              0,
              "#0d0887"
             ],
             [
              0.1111111111111111,
              "#46039f"
             ],
             [
              0.2222222222222222,
              "#7201a8"
             ],
             [
              0.3333333333333333,
              "#9c179e"
             ],
             [
              0.4444444444444444,
              "#bd3786"
             ],
             [
              0.5555555555555556,
              "#d8576b"
             ],
             [
              0.6666666666666666,
              "#ed7953"
             ],
             [
              0.7777777777777778,
              "#fb9f3a"
             ],
             [
              0.8888888888888888,
              "#fdca26"
             ],
             [
              1,
              "#f0f921"
             ]
            ],
            "type": "histogram2dcontour"
           }
          ],
          "mesh3d": [
           {
            "colorbar": {
             "outlinewidth": 0,
             "ticks": ""
            },
            "type": "mesh3d"
           }
          ],
          "parcoords": [
           {
            "line": {
             "colorbar": {
              "outlinewidth": 0,
              "ticks": ""
             }
            },
            "type": "parcoords"
           }
          ],
          "pie": [
           {
            "automargin": true,
            "type": "pie"
           }
          ],
          "scatter": [
           {
            "fillpattern": {
             "fillmode": "overlay",
             "size": 10,
             "solidity": 0.2
            },
            "type": "scatter"
           }
          ],
          "scatter3d": [
           {
            "line": {
             "colorbar": {
              "outlinewidth": 0,
              "ticks": ""
             }
            },
            "marker": {
             "colorbar": {
              "outlinewidth": 0,
              "ticks": ""
             }
            },
            "type": "scatter3d"
           }
          ],
          "scattercarpet": [
           {
            "marker": {
             "colorbar": {
              "outlinewidth": 0,
              "ticks": ""
             }
            },
            "type": "scattercarpet"
           }
          ],
          "scattergeo": [
           {
            "marker": {
             "colorbar": {
              "outlinewidth": 0,
              "ticks": ""
             }
            },
            "type": "scattergeo"
           }
          ],
          "scattergl": [
           {
            "marker": {
             "colorbar": {
              "outlinewidth": 0,
              "ticks": ""
             }
            },
            "type": "scattergl"
           }
          ],
          "scattermapbox": [
           {
            "marker": {
             "colorbar": {
              "outlinewidth": 0,
              "ticks": ""
             }
            },
            "type": "scattermapbox"
           }
          ],
          "scatterpolar": [
           {
            "marker": {
             "colorbar": {
              "outlinewidth": 0,
              "ticks": ""
             }
            },
            "type": "scatterpolar"
           }
          ],
          "scatterpolargl": [
           {
            "marker": {
             "colorbar": {
              "outlinewidth": 0,
              "ticks": ""
             }
            },
            "type": "scatterpolargl"
           }
          ],
          "scatterternary": [
           {
            "marker": {
             "colorbar": {
              "outlinewidth": 0,
              "ticks": ""
             }
            },
            "type": "scatterternary"
           }
          ],
          "surface": [
           {
            "colorbar": {
             "outlinewidth": 0,
             "ticks": ""
            },
            "colorscale": [
             [
              0,
              "#0d0887"
             ],
             [
              0.1111111111111111,
              "#46039f"
             ],
             [
              0.2222222222222222,
              "#7201a8"
             ],
             [
              0.3333333333333333,
              "#9c179e"
             ],
             [
              0.4444444444444444,
              "#bd3786"
             ],
             [
              0.5555555555555556,
              "#d8576b"
             ],
             [
              0.6666666666666666,
              "#ed7953"
             ],
             [
              0.7777777777777778,
              "#fb9f3a"
             ],
             [
              0.8888888888888888,
              "#fdca26"
             ],
             [
              1,
              "#f0f921"
             ]
            ],
            "type": "surface"
           }
          ],
          "table": [
           {
            "cells": {
             "fill": {
              "color": "#EBF0F8"
             },
             "line": {
              "color": "white"
             }
            },
            "header": {
             "fill": {
              "color": "#C8D4E3"
             },
             "line": {
              "color": "white"
             }
            },
            "type": "table"
           }
          ]
         },
         "layout": {
          "annotationdefaults": {
           "arrowcolor": "#2a3f5f",
           "arrowhead": 0,
           "arrowwidth": 1
          },
          "autotypenumbers": "strict",
          "coloraxis": {
           "colorbar": {
            "outlinewidth": 0,
            "ticks": ""
           }
          },
          "colorscale": {
           "diverging": [
            [
             0,
             "#8e0152"
            ],
            [
             0.1,
             "#c51b7d"
            ],
            [
             0.2,
             "#de77ae"
            ],
            [
             0.3,
             "#f1b6da"
            ],
            [
             0.4,
             "#fde0ef"
            ],
            [
             0.5,
             "#f7f7f7"
            ],
            [
             0.6,
             "#e6f5d0"
            ],
            [
             0.7,
             "#b8e186"
            ],
            [
             0.8,
             "#7fbc41"
            ],
            [
             0.9,
             "#4d9221"
            ],
            [
             1,
             "#276419"
            ]
           ],
           "sequential": [
            [
             0,
             "#0d0887"
            ],
            [
             0.1111111111111111,
             "#46039f"
            ],
            [
             0.2222222222222222,
             "#7201a8"
            ],
            [
             0.3333333333333333,
             "#9c179e"
            ],
            [
             0.4444444444444444,
             "#bd3786"
            ],
            [
             0.5555555555555556,
             "#d8576b"
            ],
            [
             0.6666666666666666,
             "#ed7953"
            ],
            [
             0.7777777777777778,
             "#fb9f3a"
            ],
            [
             0.8888888888888888,
             "#fdca26"
            ],
            [
             1,
             "#f0f921"
            ]
           ],
           "sequentialminus": [
            [
             0,
             "#0d0887"
            ],
            [
             0.1111111111111111,
             "#46039f"
            ],
            [
             0.2222222222222222,
             "#7201a8"
            ],
            [
             0.3333333333333333,
             "#9c179e"
            ],
            [
             0.4444444444444444,
             "#bd3786"
            ],
            [
             0.5555555555555556,
             "#d8576b"
            ],
            [
             0.6666666666666666,
             "#ed7953"
            ],
            [
             0.7777777777777778,
             "#fb9f3a"
            ],
            [
             0.8888888888888888,
             "#fdca26"
            ],
            [
             1,
             "#f0f921"
            ]
           ]
          },
          "colorway": [
           "#636efa",
           "#EF553B",
           "#00cc96",
           "#ab63fa",
           "#FFA15A",
           "#19d3f3",
           "#FF6692",
           "#B6E880",
           "#FF97FF",
           "#FECB52"
          ],
          "font": {
           "color": "#2a3f5f"
          },
          "geo": {
           "bgcolor": "white",
           "lakecolor": "white",
           "landcolor": "#E5ECF6",
           "showlakes": true,
           "showland": true,
           "subunitcolor": "white"
          },
          "hoverlabel": {
           "align": "left"
          },
          "hovermode": "closest",
          "mapbox": {
           "style": "light"
          },
          "paper_bgcolor": "white",
          "plot_bgcolor": "#E5ECF6",
          "polar": {
           "angularaxis": {
            "gridcolor": "white",
            "linecolor": "white",
            "ticks": ""
           },
           "bgcolor": "#E5ECF6",
           "radialaxis": {
            "gridcolor": "white",
            "linecolor": "white",
            "ticks": ""
           }
          },
          "scene": {
           "xaxis": {
            "backgroundcolor": "#E5ECF6",
            "gridcolor": "white",
            "gridwidth": 2,
            "linecolor": "white",
            "showbackground": true,
            "ticks": "",
            "zerolinecolor": "white"
           },
           "yaxis": {
            "backgroundcolor": "#E5ECF6",
            "gridcolor": "white",
            "gridwidth": 2,
            "linecolor": "white",
            "showbackground": true,
            "ticks": "",
            "zerolinecolor": "white"
           },
           "zaxis": {
            "backgroundcolor": "#E5ECF6",
            "gridcolor": "white",
            "gridwidth": 2,
            "linecolor": "white",
            "showbackground": true,
            "ticks": "",
            "zerolinecolor": "white"
           }
          },
          "shapedefaults": {
           "line": {
            "color": "#2a3f5f"
           }
          },
          "ternary": {
           "aaxis": {
            "gridcolor": "white",
            "linecolor": "white",
            "ticks": ""
           },
           "baxis": {
            "gridcolor": "white",
            "linecolor": "white",
            "ticks": ""
           },
           "bgcolor": "#E5ECF6",
           "caxis": {
            "gridcolor": "white",
            "linecolor": "white",
            "ticks": ""
           }
          },
          "title": {
           "x": 0.05
          },
          "xaxis": {
           "automargin": true,
           "gridcolor": "white",
           "linecolor": "white",
           "ticks": "",
           "title": {
            "standoff": 15
           },
           "zerolinecolor": "white",
           "zerolinewidth": 2
          },
          "yaxis": {
           "automargin": true,
           "gridcolor": "white",
           "linecolor": "white",
           "ticks": "",
           "title": {
            "standoff": 15
           },
           "zerolinecolor": "white",
           "zerolinewidth": 2
          }
         }
        },
        "title": {
         "text": "Quantidade de Notas por mês de abertura e Equipamento"
        },
        "width": 1200,
        "xaxis": {
         "anchor": "y",
         "domain": [
          0,
          1
         ],
         "title": {
          "text": "x"
         }
        },
        "yaxis": {
         "anchor": "x",
         "domain": [
          0,
          1
         ],
         "title": {
          "text": "y"
         }
        }
       }
      }
     },
     "metadata": {},
     "output_type": "display_data"
    }
   ],
   "source": [
    "df_ano_mes = df_colh_mec[df_colh_mec['PERIODO']=='SF 21/22']\n",
    "df_ano_mes = df_ano_mes.groupby(['DATA_NOTA_MES',\n",
    "                                 'EQP'\n",
    "                                 ]).count()[['NOTA']]\n",
    "df_ano_mes.reset_index(inplace=True)\n",
    "fig = px.line(width=1200,\n",
    "              height=500,\n",
    "              x=df_ano_mes['DATA_NOTA_MES'],\n",
    "              color=df_ano_mes['EQP'],\n",
    "              y=df_ano_mes[\"NOTA\"],\n",
    "              title='Quantidade de Notas por mês de abertura e Equipamento')\n",
    "fig.show()"
   ]
  },
  {
   "cell_type": "code",
   "execution_count": 27,
   "metadata": {},
   "outputs": [
    {
     "data": {
      "text/html": [
       "<div>\n",
       "<style scoped>\n",
       "    .dataframe tbody tr th:only-of-type {\n",
       "        vertical-align: middle;\n",
       "    }\n",
       "\n",
       "    .dataframe tbody tr th {\n",
       "        vertical-align: top;\n",
       "    }\n",
       "\n",
       "    .dataframe thead th {\n",
       "        text-align: right;\n",
       "    }\n",
       "</style>\n",
       "<table border=\"1\" class=\"dataframe\">\n",
       "  <thead>\n",
       "    <tr style=\"text-align: right;\">\n",
       "      <th>DATA_NOTA_MES</th>\n",
       "      <th>EQP</th>\n",
       "      <th>1</th>\n",
       "      <th>2</th>\n",
       "      <th>3</th>\n",
       "      <th>4</th>\n",
       "      <th>5</th>\n",
       "      <th>6</th>\n",
       "      <th>7</th>\n",
       "      <th>8</th>\n",
       "      <th>9</th>\n",
       "      <th>10</th>\n",
       "      <th>11</th>\n",
       "      <th>12</th>\n",
       "      <th>All</th>\n",
       "    </tr>\n",
       "  </thead>\n",
       "  <tbody>\n",
       "    <tr>\n",
       "      <th>0</th>\n",
       "      <td>400067</td>\n",
       "      <td>0</td>\n",
       "      <td>4</td>\n",
       "      <td>12</td>\n",
       "      <td>7</td>\n",
       "      <td>2</td>\n",
       "      <td>26</td>\n",
       "      <td>1</td>\n",
       "      <td>21</td>\n",
       "      <td>24</td>\n",
       "      <td>10</td>\n",
       "      <td>13</td>\n",
       "      <td>2</td>\n",
       "      <td>122</td>\n",
       "    </tr>\n",
       "    <tr>\n",
       "      <th>1</th>\n",
       "      <td>400068</td>\n",
       "      <td>0</td>\n",
       "      <td>5</td>\n",
       "      <td>9</td>\n",
       "      <td>13</td>\n",
       "      <td>5</td>\n",
       "      <td>17</td>\n",
       "      <td>20</td>\n",
       "      <td>13</td>\n",
       "      <td>18</td>\n",
       "      <td>9</td>\n",
       "      <td>9</td>\n",
       "      <td>1</td>\n",
       "      <td>119</td>\n",
       "    </tr>\n",
       "    <tr>\n",
       "      <th>2</th>\n",
       "      <td>400069</td>\n",
       "      <td>1</td>\n",
       "      <td>0</td>\n",
       "      <td>9</td>\n",
       "      <td>15</td>\n",
       "      <td>6</td>\n",
       "      <td>17</td>\n",
       "      <td>0</td>\n",
       "      <td>0</td>\n",
       "      <td>0</td>\n",
       "      <td>0</td>\n",
       "      <td>6</td>\n",
       "      <td>3</td>\n",
       "      <td>57</td>\n",
       "    </tr>\n",
       "    <tr>\n",
       "      <th>3</th>\n",
       "      <td>400070</td>\n",
       "      <td>0</td>\n",
       "      <td>7</td>\n",
       "      <td>9</td>\n",
       "      <td>13</td>\n",
       "      <td>9</td>\n",
       "      <td>11</td>\n",
       "      <td>17</td>\n",
       "      <td>19</td>\n",
       "      <td>10</td>\n",
       "      <td>15</td>\n",
       "      <td>15</td>\n",
       "      <td>6</td>\n",
       "      <td>131</td>\n",
       "    </tr>\n",
       "    <tr>\n",
       "      <th>4</th>\n",
       "      <td>400082</td>\n",
       "      <td>0</td>\n",
       "      <td>7</td>\n",
       "      <td>9</td>\n",
       "      <td>14</td>\n",
       "      <td>4</td>\n",
       "      <td>16</td>\n",
       "      <td>14</td>\n",
       "      <td>14</td>\n",
       "      <td>0</td>\n",
       "      <td>7</td>\n",
       "      <td>4</td>\n",
       "      <td>0</td>\n",
       "      <td>89</td>\n",
       "    </tr>\n",
       "    <tr>\n",
       "      <th>5</th>\n",
       "      <td>400083</td>\n",
       "      <td>0</td>\n",
       "      <td>7</td>\n",
       "      <td>10</td>\n",
       "      <td>11</td>\n",
       "      <td>8</td>\n",
       "      <td>17</td>\n",
       "      <td>10</td>\n",
       "      <td>15</td>\n",
       "      <td>29</td>\n",
       "      <td>17</td>\n",
       "      <td>16</td>\n",
       "      <td>5</td>\n",
       "      <td>145</td>\n",
       "    </tr>\n",
       "    <tr>\n",
       "      <th>6</th>\n",
       "      <td>400084</td>\n",
       "      <td>0</td>\n",
       "      <td>6</td>\n",
       "      <td>10</td>\n",
       "      <td>3</td>\n",
       "      <td>3</td>\n",
       "      <td>11</td>\n",
       "      <td>13</td>\n",
       "      <td>13</td>\n",
       "      <td>19</td>\n",
       "      <td>16</td>\n",
       "      <td>11</td>\n",
       "      <td>2</td>\n",
       "      <td>107</td>\n",
       "    </tr>\n",
       "    <tr>\n",
       "      <th>7</th>\n",
       "      <td>400085</td>\n",
       "      <td>0</td>\n",
       "      <td>7</td>\n",
       "      <td>11</td>\n",
       "      <td>8</td>\n",
       "      <td>8</td>\n",
       "      <td>18</td>\n",
       "      <td>19</td>\n",
       "      <td>20</td>\n",
       "      <td>23</td>\n",
       "      <td>13</td>\n",
       "      <td>5</td>\n",
       "      <td>0</td>\n",
       "      <td>132</td>\n",
       "    </tr>\n",
       "    <tr>\n",
       "      <th>8</th>\n",
       "      <td>400098</td>\n",
       "      <td>0</td>\n",
       "      <td>6</td>\n",
       "      <td>8</td>\n",
       "      <td>9</td>\n",
       "      <td>5</td>\n",
       "      <td>12</td>\n",
       "      <td>17</td>\n",
       "      <td>11</td>\n",
       "      <td>18</td>\n",
       "      <td>11</td>\n",
       "      <td>24</td>\n",
       "      <td>2</td>\n",
       "      <td>123</td>\n",
       "    </tr>\n",
       "    <tr>\n",
       "      <th>9</th>\n",
       "      <td>400099</td>\n",
       "      <td>0</td>\n",
       "      <td>4</td>\n",
       "      <td>11</td>\n",
       "      <td>10</td>\n",
       "      <td>6</td>\n",
       "      <td>10</td>\n",
       "      <td>6</td>\n",
       "      <td>23</td>\n",
       "      <td>11</td>\n",
       "      <td>15</td>\n",
       "      <td>15</td>\n",
       "      <td>2</td>\n",
       "      <td>113</td>\n",
       "    </tr>\n",
       "    <tr>\n",
       "      <th>10</th>\n",
       "      <td>400100</td>\n",
       "      <td>0</td>\n",
       "      <td>2</td>\n",
       "      <td>10</td>\n",
       "      <td>10</td>\n",
       "      <td>4</td>\n",
       "      <td>6</td>\n",
       "      <td>17</td>\n",
       "      <td>12</td>\n",
       "      <td>15</td>\n",
       "      <td>7</td>\n",
       "      <td>19</td>\n",
       "      <td>3</td>\n",
       "      <td>105</td>\n",
       "    </tr>\n",
       "    <tr>\n",
       "      <th>11</th>\n",
       "      <td>400101</td>\n",
       "      <td>1</td>\n",
       "      <td>3</td>\n",
       "      <td>12</td>\n",
       "      <td>12</td>\n",
       "      <td>4</td>\n",
       "      <td>14</td>\n",
       "      <td>9</td>\n",
       "      <td>22</td>\n",
       "      <td>19</td>\n",
       "      <td>7</td>\n",
       "      <td>10</td>\n",
       "      <td>2</td>\n",
       "      <td>115</td>\n",
       "    </tr>\n",
       "    <tr>\n",
       "      <th>12</th>\n",
       "      <td>400108</td>\n",
       "      <td>0</td>\n",
       "      <td>1</td>\n",
       "      <td>5</td>\n",
       "      <td>2</td>\n",
       "      <td>5</td>\n",
       "      <td>9</td>\n",
       "      <td>9</td>\n",
       "      <td>11</td>\n",
       "      <td>10</td>\n",
       "      <td>2</td>\n",
       "      <td>3</td>\n",
       "      <td>0</td>\n",
       "      <td>57</td>\n",
       "    </tr>\n",
       "    <tr>\n",
       "      <th>13</th>\n",
       "      <td>400109</td>\n",
       "      <td>0</td>\n",
       "      <td>3</td>\n",
       "      <td>5</td>\n",
       "      <td>2</td>\n",
       "      <td>1</td>\n",
       "      <td>14</td>\n",
       "      <td>11</td>\n",
       "      <td>11</td>\n",
       "      <td>17</td>\n",
       "      <td>11</td>\n",
       "      <td>3</td>\n",
       "      <td>1</td>\n",
       "      <td>79</td>\n",
       "    </tr>\n",
       "    <tr>\n",
       "      <th>14</th>\n",
       "      <td>400110</td>\n",
       "      <td>0</td>\n",
       "      <td>8</td>\n",
       "      <td>5</td>\n",
       "      <td>1</td>\n",
       "      <td>1</td>\n",
       "      <td>6</td>\n",
       "      <td>5</td>\n",
       "      <td>11</td>\n",
       "      <td>14</td>\n",
       "      <td>5</td>\n",
       "      <td>8</td>\n",
       "      <td>1</td>\n",
       "      <td>65</td>\n",
       "    </tr>\n",
       "    <tr>\n",
       "      <th>15</th>\n",
       "      <td>400111</td>\n",
       "      <td>0</td>\n",
       "      <td>4</td>\n",
       "      <td>5</td>\n",
       "      <td>5</td>\n",
       "      <td>3</td>\n",
       "      <td>10</td>\n",
       "      <td>7</td>\n",
       "      <td>6</td>\n",
       "      <td>11</td>\n",
       "      <td>10</td>\n",
       "      <td>11</td>\n",
       "      <td>2</td>\n",
       "      <td>74</td>\n",
       "    </tr>\n",
       "    <tr>\n",
       "      <th>16</th>\n",
       "      <td>400112</td>\n",
       "      <td>0</td>\n",
       "      <td>2</td>\n",
       "      <td>6</td>\n",
       "      <td>3</td>\n",
       "      <td>5</td>\n",
       "      <td>8</td>\n",
       "      <td>6</td>\n",
       "      <td>19</td>\n",
       "      <td>12</td>\n",
       "      <td>7</td>\n",
       "      <td>7</td>\n",
       "      <td>1</td>\n",
       "      <td>76</td>\n",
       "    </tr>\n",
       "    <tr>\n",
       "      <th>17</th>\n",
       "      <td>400113</td>\n",
       "      <td>0</td>\n",
       "      <td>3</td>\n",
       "      <td>4</td>\n",
       "      <td>8</td>\n",
       "      <td>4</td>\n",
       "      <td>17</td>\n",
       "      <td>11</td>\n",
       "      <td>17</td>\n",
       "      <td>17</td>\n",
       "      <td>6</td>\n",
       "      <td>8</td>\n",
       "      <td>0</td>\n",
       "      <td>95</td>\n",
       "    </tr>\n",
       "    <tr>\n",
       "      <th>18</th>\n",
       "      <td>400114</td>\n",
       "      <td>0</td>\n",
       "      <td>3</td>\n",
       "      <td>4</td>\n",
       "      <td>5</td>\n",
       "      <td>1</td>\n",
       "      <td>13</td>\n",
       "      <td>16</td>\n",
       "      <td>18</td>\n",
       "      <td>16</td>\n",
       "      <td>10</td>\n",
       "      <td>8</td>\n",
       "      <td>2</td>\n",
       "      <td>96</td>\n",
       "    </tr>\n",
       "    <tr>\n",
       "      <th>19</th>\n",
       "      <td>400115</td>\n",
       "      <td>0</td>\n",
       "      <td>8</td>\n",
       "      <td>10</td>\n",
       "      <td>7</td>\n",
       "      <td>4</td>\n",
       "      <td>6</td>\n",
       "      <td>11</td>\n",
       "      <td>17</td>\n",
       "      <td>11</td>\n",
       "      <td>7</td>\n",
       "      <td>4</td>\n",
       "      <td>2</td>\n",
       "      <td>87</td>\n",
       "    </tr>\n",
       "    <tr>\n",
       "      <th>20</th>\n",
       "      <td>400116</td>\n",
       "      <td>0</td>\n",
       "      <td>3</td>\n",
       "      <td>8</td>\n",
       "      <td>10</td>\n",
       "      <td>3</td>\n",
       "      <td>18</td>\n",
       "      <td>10</td>\n",
       "      <td>14</td>\n",
       "      <td>20</td>\n",
       "      <td>6</td>\n",
       "      <td>3</td>\n",
       "      <td>4</td>\n",
       "      <td>99</td>\n",
       "    </tr>\n",
       "    <tr>\n",
       "      <th>21</th>\n",
       "      <td>400117</td>\n",
       "      <td>0</td>\n",
       "      <td>4</td>\n",
       "      <td>5</td>\n",
       "      <td>7</td>\n",
       "      <td>3</td>\n",
       "      <td>10</td>\n",
       "      <td>13</td>\n",
       "      <td>12</td>\n",
       "      <td>14</td>\n",
       "      <td>13</td>\n",
       "      <td>6</td>\n",
       "      <td>1</td>\n",
       "      <td>88</td>\n",
       "    </tr>\n",
       "    <tr>\n",
       "      <th>22</th>\n",
       "      <td>400118</td>\n",
       "      <td>0</td>\n",
       "      <td>6</td>\n",
       "      <td>12</td>\n",
       "      <td>12</td>\n",
       "      <td>5</td>\n",
       "      <td>10</td>\n",
       "      <td>12</td>\n",
       "      <td>12</td>\n",
       "      <td>14</td>\n",
       "      <td>4</td>\n",
       "      <td>7</td>\n",
       "      <td>3</td>\n",
       "      <td>97</td>\n",
       "    </tr>\n",
       "    <tr>\n",
       "      <th>23</th>\n",
       "      <td>All</td>\n",
       "      <td>2</td>\n",
       "      <td>103</td>\n",
       "      <td>189</td>\n",
       "      <td>187</td>\n",
       "      <td>99</td>\n",
       "      <td>296</td>\n",
       "      <td>254</td>\n",
       "      <td>331</td>\n",
       "      <td>342</td>\n",
       "      <td>208</td>\n",
       "      <td>215</td>\n",
       "      <td>45</td>\n",
       "      <td>2271</td>\n",
       "    </tr>\n",
       "  </tbody>\n",
       "</table>\n",
       "</div>"
      ],
      "text/plain": [
       "DATA_NOTA_MES     EQP  1    2    3    4   5    6    7    8    9   10   11  12  \\\n",
       "0              400067  0    4   12    7   2   26    1   21   24   10   13   2   \n",
       "1              400068  0    5    9   13   5   17   20   13   18    9    9   1   \n",
       "2              400069  1    0    9   15   6   17    0    0    0    0    6   3   \n",
       "3              400070  0    7    9   13   9   11   17   19   10   15   15   6   \n",
       "4              400082  0    7    9   14   4   16   14   14    0    7    4   0   \n",
       "5              400083  0    7   10   11   8   17   10   15   29   17   16   5   \n",
       "6              400084  0    6   10    3   3   11   13   13   19   16   11   2   \n",
       "7              400085  0    7   11    8   8   18   19   20   23   13    5   0   \n",
       "8              400098  0    6    8    9   5   12   17   11   18   11   24   2   \n",
       "9              400099  0    4   11   10   6   10    6   23   11   15   15   2   \n",
       "10             400100  0    2   10   10   4    6   17   12   15    7   19   3   \n",
       "11             400101  1    3   12   12   4   14    9   22   19    7   10   2   \n",
       "12             400108  0    1    5    2   5    9    9   11   10    2    3   0   \n",
       "13             400109  0    3    5    2   1   14   11   11   17   11    3   1   \n",
       "14             400110  0    8    5    1   1    6    5   11   14    5    8   1   \n",
       "15             400111  0    4    5    5   3   10    7    6   11   10   11   2   \n",
       "16             400112  0    2    6    3   5    8    6   19   12    7    7   1   \n",
       "17             400113  0    3    4    8   4   17   11   17   17    6    8   0   \n",
       "18             400114  0    3    4    5   1   13   16   18   16   10    8   2   \n",
       "19             400115  0    8   10    7   4    6   11   17   11    7    4   2   \n",
       "20             400116  0    3    8   10   3   18   10   14   20    6    3   4   \n",
       "21             400117  0    4    5    7   3   10   13   12   14   13    6   1   \n",
       "22             400118  0    6   12   12   5   10   12   12   14    4    7   3   \n",
       "23                All  2  103  189  187  99  296  254  331  342  208  215  45   \n",
       "\n",
       "DATA_NOTA_MES   All  \n",
       "0               122  \n",
       "1               119  \n",
       "2                57  \n",
       "3               131  \n",
       "4                89  \n",
       "5               145  \n",
       "6               107  \n",
       "7               132  \n",
       "8               123  \n",
       "9               113  \n",
       "10              105  \n",
       "11              115  \n",
       "12               57  \n",
       "13               79  \n",
       "14               65  \n",
       "15               74  \n",
       "16               76  \n",
       "17               95  \n",
       "18               96  \n",
       "19               87  \n",
       "20               99  \n",
       "21               88  \n",
       "22               97  \n",
       "23             2271  "
      ]
     },
     "execution_count": 27,
     "metadata": {},
     "output_type": "execute_result"
    }
   ],
   "source": [
    "df_ano_mes_matriz = df_colh_mec[df_colh_mec['PERIODO']=='SF 21/22']\n",
    "df_ano_mes_matriz = df_ano_mes_matriz.groupby(['DATA_NOTA_MES',\n",
    "                                               'EQP'\n",
    "                                 ]).count()[['NOTA']]\n",
    "df_ano_mes_matriz.reset_index(inplace=True)\n",
    "df_qtd_quebras = pd.pivot_table(df_ano_mes_matriz,index='EQP',values='NOTA',columns='DATA_NOTA_MES', aggfunc='sum', fill_value=0,margins=True,margins_name='All')\n",
    "df_qtd_quebras.reset_index(inplace=True)\n",
    "df_qtd_quebras.sort_values('All',ascending=False)\n",
    "df_qtd_quebras"
   ]
  },
  {
   "cell_type": "markdown",
   "metadata": {},
   "source": [
    "<H2> Análise da representatividade por Tempo de parada"
   ]
  },
  {
   "cell_type": "code",
   "execution_count": 28,
   "metadata": {},
   "outputs": [
    {
     "name": "stderr",
     "output_type": "stream",
     "text": [
      "C:\\Users\\kairo.oliveira\\AppData\\Local\\Temp\\6\\ipykernel_1232\\2385124403.py:1: FutureWarning:\n",
      "\n",
      "The default value of numeric_only in DataFrameGroupBy.sum is deprecated. In a future version, numeric_only will default to False. Either specify numeric_only or select only columns which should be valid for the function.\n",
      "\n"
     ]
    },
    {
     "data": {
      "text/plain": [
       "<AxesSubplot: xlabel='TIPO_EQP', ylabel='PERCENTUAL_DURACAO_PARADA'>"
      ]
     },
     "execution_count": 28,
     "metadata": {},
     "output_type": "execute_result"
    },
    {
     "data": {
      "image/png": "[encoded data removed]",
      "text/plain": [
       "<Figure size 640x480 with 1 Axes>"
      ]
     },
     "metadata": {},
     "output_type": "display_data"
    }
   ],
   "source": [
    "df_per_parada_tipoeqp = df.groupby('TIPO_EQP').sum()['DURACAO_PARADA'].to_frame()\n",
    "df_per_parada_tipoeqp.reset_index(inplace=True)\n",
    "df_per_parada_tipoeqp = df_per_parada_tipoeqp.set_axis(['TIPO_EQP','PERCENTUAL_DURACAO_PARADA'], axis=1)\n",
    "df_per_parada_tipoeqp['PERCENTUAL_DURACAO_PARADA'] = (df_per_parada_tipoeqp['PERCENTUAL_DURACAO_PARADA'] / df['DURACAO_PARADA'].sum())*100\n",
    "\n",
    "sns.barplot(df_per_parada_tipoeqp, x='TIPO_EQP', y='PERCENTUAL_DURACAO_PARADA')"
   ]
  }
 ],
 "metadata": {
  "colab": {
   "collapsed_sections": [],
   "provenance": []
  },
  "kernelspec": {
   "display_name": "colhedoras",
   "language": "python",
   "name": "colhedoras"
  },
  "language_info": {
   "codemirror_mode": {
    "name": "ipython",
    "version": 3
   },
   "file_extension": ".py",
   "mimetype": "text/x-python",
   "name": "python",
   "nbconvert_exporter": "python",
   "pygments_lexer": "ipython3",
   "version": "3.10.7"
  }
 },
 "nbformat": 4,
 "nbformat_minor": 4
}
