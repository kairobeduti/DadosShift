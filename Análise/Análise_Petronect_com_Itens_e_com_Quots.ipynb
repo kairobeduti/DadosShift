{
  "cells": [
    {
      "cell_type": "code",
      "execution_count": 1,
      "metadata": {
        "id": "No4xXGbDVgNO"
      },
      "outputs": [],
      "source": [
        "import requests as rq\n",
        "import pandas as pd\n",
        "from io import BytesIO\n",
        "import matplotlib.pyplot as plt\n",
        "import seaborn as sns\n",
        "import numpy as np"
      ]
    },
    {
      "cell_type": "code",
      "execution_count": 2,
      "metadata": {
        "id": "lCziN0G_nBp1"
      },
      "outputs": [],
      "source": [
        "url = \"https://github.com/kairobeduti/DadosShift/blob/master/GERAL%20COM%20QUOTS.xlsx?raw=true\"\n",
        "data = rq.get(url).content\n",
        "df = pd.read_excel(BytesIO(data))\n",
        "df.rename({'DESCRIPTION_y':'DESCRIPTION_ITEM','DESCRIPTION_x':'DESCRIPTION_OPPORT','MEPP_y':'MEPP_QUOT','MEPP_x':'MEPP_OPPORT','QUANTITY_y':'QUANTITY_QUOT','QUANTITY_x':'QUANTITY_OPPORT'}, axis='columns',inplace=True)\n",
        "df.drop(['Unnamed: 0','Unnamed: 0.1'],axis='columns',inplace=True)\n"
      ]
    },
    {
      "cell_type": "code",
      "execution_count": 3,
      "metadata": {
        "colab": {
          "base_uri": "https://localhost:8080/"
        },
        "id": "Bp_pi1Tdfl3e",
        "outputId": "32e66990-9aab-4bf0-ee86-ad7247f2a6d1"
      },
      "outputs": [
        {
          "name": "stdout",
          "output_type": "stream",
          "text": [
            "<class 'pandas.core.frame.DataFrame'>\n",
            "RangeIndex: 297620 entries, 0 to 297619\n",
            "Data columns (total 58 columns):\n",
            " #   Column                       Non-Null Count   Dtype         \n",
            "---  ------                       --------------   -----         \n",
            " 0   OPPORT_NUM                   297620 non-null  int64         \n",
            " 1   STATUS                       297620 non-null  object        \n",
            " 2   OPPORT_TYPE                  297620 non-null  object        \n",
            " 3   OPPORT_DESCR                 297620 non-null  object        \n",
            " 4   DOU_PUBL_DATE                297620 non-null  object        \n",
            " 5   SUB_STATUS                   297620 non-null  int64         \n",
            " 6   DISPUTE_MODE_D               297620 non-null  object        \n",
            " 7   SUB_STATUS_D                 297620 non-null  object        \n",
            " 8   HISTORY                      297620 non-null  object        \n",
            " 9   HISTORY_DYN_NAME             297620 non-null  object        \n",
            " 10  MESSAGES                     297620 non-null  object        \n",
            " 11  DESCRIPTION_OPPORT           297620 non-null  object        \n",
            " 12  STAT                         297620 non-null  object        \n",
            " 13  TXT30                        297620 non-null  object        \n",
            " 14  TZONE                        297620 non-null  object        \n",
            " 15  CURRENCY                     297620 non-null  object        \n",
            " 16  YPCON_MODALITY               297620 non-null  int64         \n",
            " 17  YPCON_MODALITY_NAME          297620 non-null  object        \n",
            " 18  YPCON_QUOTE_REQUEST          297620 non-null  int64         \n",
            " 19  DISPLAY_PROP_LANCE           297620 non-null  object        \n",
            " 20  PUBL_DOU_DATE                297620 non-null  object        \n",
            " 21  MEPP_OPPORT                  297620 non-null  object        \n",
            " 22  YPCON_OBJ_CONT_DESC          297620 non-null  object        \n",
            " 23  RECURSAL_PERIOD              297620 non-null  object        \n",
            " 24  DISPUTE_MODE                 297620 non-null  int64         \n",
            " 25  DIVULG_DATE_YPCON_DATE_H     267079 non-null  datetime64[ns]\n",
            " 26  START_DATE_H                 297620 non-null  datetime64[ns]\n",
            " 27  QUOT_DEAD_H                  297620 non-null  datetime64[ns]\n",
            " 28  CREATED_AT_DATE_H            297620 non-null  datetime64[ns]\n",
            " 29  END_DATE_H                   297620 non-null  datetime64[ns]\n",
            " 30  AUC_START_DATE_H             297620 non-null  object        \n",
            " 31  COMMERCIAL_PROP_OPEN_DATE_H  297620 non-null  datetime64[ns]\n",
            " 32  END_DATE_H_MES               297620 non-null  object        \n",
            " 33  DURACAO                      297620 non-null  int64         \n",
            " 34  SRC_GUID                     297620 non-null  object        \n",
            " 35  NUMBER_INT                   297620 non-null  object        \n",
            " 36  DESCRIPTION_UC               297620 non-null  object        \n",
            " 37  ORDERED_PROD                 297620 non-null  object        \n",
            " 38  YPFAMITEM                    297620 non-null  object        \n",
            " 39  QUANTITY_OPPORT              297620 non-null  float64       \n",
            " 40  UNIT                         297620 non-null  object        \n",
            " 41  UNIT_TEXT                    297620 non-null  object        \n",
            " 42  DELIV_DATE                   297620 non-null  object        \n",
            " 43  EXLIN                        297620 non-null  object        \n",
            " 44  GROUPING_LEVEL               297620 non-null  object        \n",
            " 45  ITEM_PROCESS_TYP             297620 non-null  object        \n",
            " 46  LOTE                         297620 non-null  object        \n",
            " 47  TOTAL                        297620 non-null  object        \n",
            " 48  DESCRIPTION_ITEM             297620 non-null  object        \n",
            " 49  TAXNUM                       297619 non-null  object        \n",
            " 50  SUPPLIER_NAME                297612 non-null  object        \n",
            " 51  MEPP_QUOT                    78058 non-null   object        \n",
            " 52  QUANTITY_QUOT                297620 non-null  float64       \n",
            " 53  UNIT_VALUE                   122959 non-null  object        \n",
            " 54  TOTAL_VALUE                  286269 non-null  object        \n",
            " 55  CREATED_AT_DATE              297620 non-null  object        \n",
            " 56  CREATED_AT_TIME              297620 non-null  object        \n",
            " 57  CHARACTERISTIC               297620 non-null  object        \n",
            "dtypes: datetime64[ns](6), float64(2), int64(6), object(44)\n",
            "memory usage: 131.7+ MB\n"
          ]
        }
      ],
      "source": [
        "df.info()"
      ]
    },
    {
      "cell_type": "code",
      "execution_count": 55,
      "metadata": {
        "id": "U6YZgKCpyekx"
      },
      "outputs": [],
      "source": [
        "df_itens = df[['OPPORT_NUM','TAXNUM','SUPPLIER_NAME','MEPP_QUOT','NUMBER_INT','DESCRIPTION_UC','DESCRIPTION_ITEM','QUANTITY_QUOT','UNIT_VALUE','TOTAL_VALUE','CHARACTERISTIC']]"
      ]
    },
    {
      "cell_type": "code",
      "execution_count": 62,
      "metadata": {},
      "outputs": [],
      "source": [
        "df_itens[df_itens['TOTAL_VALUE']!='Decline'][['TOTAL_VALUE','OPPORT_NUM']].to_excel('xxxxx.xlsx')"
      ]
    },
    {
      "cell_type": "code",
      "execution_count": 39,
      "metadata": {},
      "outputs": [
        {
          "name": "stderr",
          "output_type": "stream",
          "text": [
            "C:\\Users\\kairo\\AppData\\Local\\Temp\\ipykernel_15584\\2210958978.py:2: SettingWithCopyWarning: \n",
            "A value is trying to be set on a copy of a slice from a DataFrame.\n",
            "Try using .loc[row_indexer,col_indexer] = value instead\n",
            "\n",
            "See the caveats in the documentation: https://pandas.pydata.org/pandas-docs/stable/user_guide/indexing.html#returning-a-view-versus-a-copy\n",
            "  df_itens['TOTAL_VALUE'] = df_itens['TOTAL_VALUE'].str.strip()\n",
            "C:\\Users\\kairo\\AppData\\Local\\Temp\\ipykernel_15584\\2210958978.py:3: SettingWithCopyWarning: \n",
            "A value is trying to be set on a copy of a slice from a DataFrame.\n",
            "Try using .loc[row_indexer,col_indexer] = value instead\n",
            "\n",
            "See the caveats in the documentation: https://pandas.pydata.org/pandas-docs/stable/user_guide/indexing.html#returning-a-view-versus-a-copy\n",
            "  df_itens['DECLINE'] = df_itens['TOTAL_VALUE'].apply(lambda x: x if x=='Decline' else 'Não')\n",
            "C:\\Users\\kairo\\AppData\\Local\\Temp\\ipykernel_15584\\2210958978.py:4: SettingWithCopyWarning: \n",
            "A value is trying to be set on a copy of a slice from a DataFrame.\n",
            "Try using .loc[row_indexer,col_indexer] = value instead\n",
            "\n",
            "See the caveats in the documentation: https://pandas.pydata.org/pandas-docs/stable/user_guide/indexing.html#returning-a-view-versus-a-copy\n",
            "  df_itens['TOTAL_VALUE'] = df_itens['TOTAL_VALUE'].apply(lambda x: x if x!='Decline' and x!='' else 0)\n"
          ]
        }
      ],
      "source": [
        "df_itens['TOTAL_VALUE'].fillna('0')\n",
        "df_itens['TOTAL_VALUE'] = df_itens['TOTAL_VALUE'].str.strip()\n",
        "df_itens['DECLINE'] = df_itens['TOTAL_VALUE'].apply(lambda x: x if x=='Decline' else 'Não')\n",
        "df_itens['TOTAL_VALUE'] = df_itens['TOTAL_VALUE'].apply(lambda x: x if x!='Decline' and x!='' else 0)\n",
        "df_itens['TOTAL_VALUE'].to_frame().to_excel('XPTO.xlsx')"
      ]
    },
    {
      "cell_type": "code",
      "execution_count": 25,
      "metadata": {
        "colab": {
          "base_uri": "https://localhost:8080/"
        },
        "id": "fP7jMTOYg-1n",
        "outputId": "7499df05-a2e1-47f3-a7c7-b8c344ae46f9"
      },
      "outputs": [
        {
          "name": "stderr",
          "output_type": "stream",
          "text": [
            "C:\\Users\\kairo\\AppData\\Local\\Temp\\ipykernel_15584\\2069361473.py:1: SettingWithCopyWarning: \n",
            "A value is trying to be set on a copy of a slice from a DataFrame.\n",
            "Try using .loc[row_indexer,col_indexer] = value instead\n",
            "\n",
            "See the caveats in the documentation: https://pandas.pydata.org/pandas-docs/stable/user_guide/indexing.html#returning-a-view-versus-a-copy\n",
            "  df_itens['DECLINE'] = df_itens['TOTAL_VALUE'].apply(lambda x: x if x=='Decline' else 'Não')\n",
            "C:\\Users\\kairo\\AppData\\Local\\Temp\\ipykernel_15584\\2069361473.py:2: SettingWithCopyWarning: \n",
            "A value is trying to be set on a copy of a slice from a DataFrame.\n",
            "Try using .loc[row_indexer,col_indexer] = value instead\n",
            "\n",
            "See the caveats in the documentation: https://pandas.pydata.org/pandas-docs/stable/user_guide/indexing.html#returning-a-view-versus-a-copy\n",
            "  df_itens['TOTAL_VALUE'] = df_itens['TOTAL_VALUE'].apply(lambda x: x if x!='Decline' and x!='' else 0)\n"
          ]
        }
      ],
      "source": []
    },
    {
      "cell_type": "code",
      "execution_count": 27,
      "metadata": {},
      "outputs": [],
      "source": [
        "#df_itens['TOTAL_VALUE'] = df_itens['TOTAL_VALUE'].str.replace(',','')\n",
        "#df_itens['TOTAL_VALUE'] = df_itens['TOTAL_VALUE'].str.strip().astype(float, errors = 'raise')\n",
        "#df_itens[['TOTAL_VALUE']] = pd.to_numeric(df_itens['TOTAL_VALUE'].str.strip())\n",
        "\n",
        "df_itens['TOTAL_VALUE'].to_frame().to_excel('asdasd.xlsx')"
      ]
    }
  ],
  "metadata": {
    "colab": {
      "collapsed_sections": [],
      "name": "Análise Petronect com Itens e com Quots.ipynb",
      "provenance": []
    },
    "kernelspec": {
      "display_name": "Python 3.9.12 ('AmbienteKairo')",
      "language": "python",
      "name": "python3"
    },
    "language_info": {
      "codemirror_mode": {
        "name": "ipython",
        "version": 3
      },
      "file_extension": ".py",
      "mimetype": "text/x-python",
      "name": "python",
      "nbconvert_exporter": "python",
      "pygments_lexer": "ipython3",
      "version": "3.9.12"
    },
    "vscode": {
      "interpreter": {
        "hash": "79740ffaacb56e1539062e61e77e25c88ddc6da0a4a17e3380b598f3d2f23e15"
      }
    }
  },
  "nbformat": 4,
  "nbformat_minor": 0
}
