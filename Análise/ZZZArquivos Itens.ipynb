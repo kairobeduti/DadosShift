import requests as rq
import pandas as pd

pd.set_option('display.max_columns', None)  # or 1000
pd.set_option('display.max_rows', None)  # or 1000
pd.set_option('display.max_colwidth', -1)  # or 199

from io import BytesIO
import matplotlib.pyplot as plt
plt.style.use('ggplot')
import seaborn as sns
import numpy as np
<h2>Criando o dataframe das planilhas hospedadas no github
df = pd.read_pickle('Principal.pkl')
url = "https://github.com/kairobeduti/DadosShift/blob/master/Itens/Api_Itens.xlsx?raw=true"
data = rq.get(url).content
df_itens = pd.read_excel(BytesIO(data))
df_itens.drop(['Unnamed: 0','YPCOMT_LINE','ATTACHMENTS'],axis='columns',inplace=True)
#dropar colunas que tem somente 1 registro para todo o dataset
lista_colunas_itens = df_itens.columns.to_list()
lista_valor_unico_remover_itens = []
for row in lista_colunas_itens:
  if len(df_itens[row].unique()) == 1:
    lista_valor_unico_remover_itens.append(row)
print(lista_valor_unico_remover_itens)
df_itens.drop(columns=lista_valor_unico_remover_itens,inplace=True)
for lst_cols in lista_colunas_itens:
    if df_itens[lst_cols].value_counts().sum() != df_itens.shape[0]:
        df_itens[lst_cols].fillna('SEM '+lst_cols,inplace=True)
print(df_itens)